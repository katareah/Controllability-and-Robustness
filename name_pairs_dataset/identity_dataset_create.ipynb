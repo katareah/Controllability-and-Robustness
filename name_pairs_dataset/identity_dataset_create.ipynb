{
 "cells": [
  {
   "cell_type": "code",
   "execution_count": 1,
   "metadata": {},
   "outputs": [],
   "source": [
    "import numpy as np"
   ]
  },
  {
   "cell_type": "code",
   "execution_count": 7,
   "metadata": {},
   "outputs": [
    {
     "name": "stdout",
     "output_type": "stream",
     "text": [
      "True\n",
      "Number of unique first names 4945\n"
     ]
    }
   ],
   "source": [
    "# read in first-names.txt as a list of strings\n",
    "with open('first-names.txt', 'r') as file:\n",
    "    first_names = file.read().splitlines()\n",
    "\n",
    "# Make sure there are no duplicate first names\n",
    "print(len(np.unique(first_names)) == len(first_names))\n",
    "print(\"Number of unique first names\",len(first_names))\n"
   ]
  },
  {
   "cell_type": "code",
   "execution_count": 8,
   "metadata": {},
   "outputs": [
    {
     "name": "stdout",
     "output_type": "stream",
     "text": [
      "True\n",
      "Number of unique last names 88799\n"
     ]
    }
   ],
   "source": [
    "# read in last-names.txt as a list of strings\n",
    "with open('last-names.txt', 'r') as file:\n",
    "    last_names = file.read().splitlines()\n",
    "\n",
    "# Make sure there are no duplicate last names\n",
    "print(len(np.unique(last_names)) == len(last_names))\n",
    "print(\"Number of unique last names\",len(last_names))\n"
   ]
  },
  {
   "cell_type": "code",
   "execution_count": null,
   "metadata": {},
   "outputs": [],
   "source": []
  }
 ],
 "metadata": {
  "kernelspec": {
   "display_name": "casestudy_env",
   "language": "python",
   "name": "python3"
  },
  "language_info": {
   "codemirror_mode": {
    "name": "ipython",
    "version": 3
   },
   "file_extension": ".py",
   "mimetype": "text/x-python",
   "name": "python",
   "nbconvert_exporter": "python",
   "pygments_lexer": "ipython3",
   "version": "3.11.6"
  }
 },
 "nbformat": 4,
 "nbformat_minor": 2
}
