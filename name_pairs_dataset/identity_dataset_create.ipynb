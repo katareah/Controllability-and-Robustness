{
 "cells": [
  {
   "cell_type": "code",
   "execution_count": 1,
   "metadata": {},
   "outputs": [],
   "source": [
    "import numpy as np"
   ]
  },
  {
   "cell_type": "code",
   "execution_count": 2,
   "metadata": {},
   "outputs": [
    {
     "name": "stdout",
     "output_type": "stream",
     "text": [
      "True\n",
      "Number of unique first names 4945\n"
     ]
    }
   ],
   "source": [
    "# read in first-names.txt as a list of strings\n",
    "with open('first-names.txt', 'r') as file:\n",
    "    first_names = file.read().splitlines()\n",
    "\n",
    "# Make sure there are no duplicate first names\n",
    "print(len(np.unique(first_names)) == len(first_names))\n",
    "print(\"Number of unique first names\",len(first_names))\n"
   ]
  },
  {
   "cell_type": "code",
   "execution_count": 4,
   "metadata": {},
   "outputs": [
    {
     "name": "stdout",
     "output_type": "stream",
     "text": [
      "True\n",
      "Number of unique last names 88799\n"
     ]
    }
   ],
   "source": [
    "# read in last-names.txt as a list of strings\n",
    "with open('last-names.txt', 'r') as file:\n",
    "    last_names = file.read().splitlines()\n",
    "\n",
    "# Make sure there are no duplicate last names\n",
    "print(len(np.unique(last_names)) == len(last_names))\n",
    "print(\"Number of unique last names\",len(last_names))\n"
   ]
  },
  {
   "cell_type": "code",
   "execution_count": 6,
   "metadata": {},
   "outputs": [
    {
     "name": "stdout",
     "output_type": "stream",
     "text": [
      "Number of names 4945\n",
      "Number of unique names 4945\n"
     ]
    }
   ],
   "source": [
    "num_first_names = len(first_names)\n",
    "# pair each first name with a unique random last name, then pop the last name from the list\n",
    "names =[]\n",
    "for i in range(num_first_names):\n",
    "    last_name = np.random.choice(last_names)\n",
    "    names.append(first_names[i] + \" \" + last_name.upper())\n",
    "    last_names.remove(last_name)\n",
    "\n",
    "print(\"Number of names\",len(names))\n",
    "print(\"Number of unique names\",len(np.unique(names)))\n",
    "\n",
    "# import the names into a text file\n",
    "with open('full-names.txt', 'w') as file:\n",
    "    for name in names:\n",
    "        file.write(name + '\\n')\n",
    "\n"
   ]
  },
  {
   "cell_type": "code",
   "execution_count": 7,
   "metadata": {},
   "outputs": [],
   "source": [
    "with open('full-names.txt', 'r') as file:\n",
    "    full_names = file.read().splitlines() \n",
    "    \n",
    "# make a list of the first names and last names from the full names\n",
    "first_names = []\n",
    "last_names = []\n",
    "for name in full_names:\n",
    "    first_names.append(name.split()[0])\n",
    "    last_names.append(name.split()[1])\n",
    "    \n",
    "\n",
    "def concatenate_names_to_sentence(first_names, last_names): \n",
    "    return np.core.defchararray.add(np.core.defchararray.add(np.array(first_names), \" has last name \"), np.array(last_names))\n",
    "\n",
    "concatenate_names_to_sentence(first_names, last_names)\n",
    "# export the sentences to a text file\n",
    "with open('full-sentences.txt', 'w') as file:\n",
    "    for sentence in concatenate_names_to_sentence(first_names, last_names):\n",
    "        file.write(sentence + '\\n')\n"
   ]
  },
  {
   "cell_type": "code",
   "execution_count": null,
   "metadata": {},
   "outputs": [],
   "source": []
  }
 ],
 "metadata": {
  "kernelspec": {
   "display_name": "casestudy_env",
   "language": "python",
   "name": "python3"
  },
  "language_info": {
   "codemirror_mode": {
    "name": "ipython",
    "version": 3
   },
   "file_extension": ".py",
   "mimetype": "text/x-python",
   "name": "python",
   "nbconvert_exporter": "python",
   "pygments_lexer": "ipython3",
   "version": "3.11.6"
  }
 },
 "nbformat": 4,
 "nbformat_minor": 2
}
