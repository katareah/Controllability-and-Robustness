{
 "cells": [
  {
   "cell_type": "markdown",
   "metadata": {},
   "source": [
    "# Test on Controllability and Robustness on Name Pair Task; Prediction on Last Name only; Train w/ Counterfactual"
   ]
  },
  {
   "cell_type": "markdown",
   "metadata": {},
   "source": [
    "**input seq**: first_name_ctx has last name_ctx last_name [SEP] first_name has last name\n",
    "\n",
    "**target seq**: last_name\n",
    "\n",
    "- Training and Validation: first_name_ctx == first_name, last_name_ctx == last_name1  \n",
    "\n",
    "- Counterfactual Testing: first_name_ctx == first_name, last_name_ctx != last_name \n",
    "\n",
    "- Counterfactual Irrelevant Testing: first_name_ctx != first_name, last_name_ctx != last_name \n",
    "\n",
    "- Counterfactual Irrelevant First Name Change Only Testing: first_name_ctx != first_name, last_name_ctx == last_name \n",
    "\n",
    "- Empty Context Testing: input  [SEP] first_name has last name, target last_name"
   ]
  },
  {
   "cell_type": "code",
   "execution_count": 1,
   "metadata": {},
   "outputs": [],
   "source": [
    "import os\n",
    "os.environ['CUDA_LAUNCH_BLOCKING'] = \"1\"\n",
    "# os.environ['TORCH_USE_CUDA_DSA'] = '1'"
   ]
  },
  {
   "cell_type": "code",
   "execution_count": 2,
   "metadata": {},
   "outputs": [],
   "source": [
    "import torch\n",
    "import torchtext\n",
    "from lightning.pytorch.loggers.wandb import WandbLogger\n",
    "import torchmetrics\n",
    "\n",
    "import numpy as np\n",
    "import wandb\n",
    "import torchinfo\n",
    "from contextlib import nullcontext\n",
    "from  tqdm import tqdm, trange\n",
    "import argparse\n",
    "\n",
    "\n",
    "import sys; sys.path += ['..']\n",
    "from language_models import TransformerLM, configure_optimizers\n",
    "from seq2seq_models import Seq2SeqTransformer"
   ]
  },
  {
   "cell_type": "markdown",
   "metadata": {},
   "source": [
    "## Config"
   ]
  },
  {
   "cell_type": "code",
   "execution_count": 3,
   "metadata": {},
   "outputs": [],
   "source": [
    "args = argparse.Namespace(\n",
    "    batch_size=32, n_epochs=40, log_on_step=True,\n",
    "    wandb_project=\"controllability-robustness-test\", run_name='hello', \n",
    "    n_layers=2, n_heads=4, d_model=128, dff=128*4)"
   ]
  },
  {
   "cell_type": "code",
   "execution_count": 5,
   "metadata": {},
   "outputs": [],
   "source": [
    "# region some configuration\n",
    "device = 'cuada'\n",
    "device_type = 'cuda' if 'cuda' in device else 'cpu' # for later use in torch.autocast\n",
    "dtype = 'bfloat16' if torch.cuda.is_available() and torch.cuda.is_bf16_supported() else 'float16'\n",
    "# dtype = 'float32'\n",
    "ptdtype = {'float32': torch.float32, 'bfloat16': torch.bfloat16, 'float16': torch.float16}[dtype]\n",
    "\n",
    "ctx = nullcontext() if device_type == 'cpu' else torch.amp.autocast(device_type=device_type, dtype=ptdtype)\n",
    "# wandb logging\n",
    "wandb_log = False\n",
    "wandb_project = args.wandb_project\n",
    "# endregion\n"
   ]
  },
  {
   "cell_type": "markdown",
   "metadata": {},
   "source": [
    "## Data"
   ]
  },
  {
   "cell_type": "code",
   "execution_count": 33,
   "metadata": {},
   "outputs": [
    {
     "name": "stdout",
     "output_type": "stream",
     "text": [
      "vocab size:  404\n",
      "['Abra has last name MENGSTEAB [SEP] Aaren has last name DURLAND', 'Aleta has last name MASSON [SEP] Aarika has last name ROBITAILLE', 'Alta has last name MORONTA [SEP] Abagael has last name SJOGREN', 'Agnes has last name GIBBLE [SEP] Abagail has last name MENGSTEAB', 'Aleta has last name COLABELLA [SEP] Abbe has last name OEHLENSCHLAGE']\n",
      "['Aaren has last name WIGGLESWORTH [SEP] Aaren has last name WIGGLESWORTH', 'Aarika has last name HURRINGTON [SEP] Aarika has last name HURRINGTON', 'Abagael has last name BRICKETT [SEP] Abagael has last name BRICKETT', 'Abagail has last name WAHLSTROM [SEP] Abagail has last name WAHLSTROM', 'Abbe has last name PEINE [SEP] Abbe has last name PEINE']\n",
      "['Allsun has last name DURLAND [SEP] Aaren has last name DURLAND', 'Abigael has last name ROBITAILLE [SEP] Aarika has last name ROBITAILLE', 'Alisa has last name SJOGREN [SEP] Abagael has last name SJOGREN', 'Aimee has last name MENGSTEAB [SEP] Abagail has last name MENGSTEAB', 'Alyson has last name OEHLENSCHLAGE [SEP] Abbe has last name OEHLENSCHLAGE']\n"
     ]
    },
    {
     "name": "stderr",
     "output_type": "stream",
     "text": [
      "100%|██████████| 300/300 [00:00<00:00, 755730.45it/s]\n",
      "100%|██████████| 200/200 [00:00<00:00, 1025502.20it/s]\n",
      "100%|██████████| 200/200 [00:00<00:00, 1219274.42it/s]\n",
      "100%|██████████| 200/200 [00:00<00:00, 1304604.67it/s]\n"
     ]
    },
    {
     "name": "stderr",
     "output_type": "stream",
     "text": [
      "100%|██████████| 300/300 [00:00<00:00, 58117.00it/s]\n",
      "100%|██████████| 200/200 [00:00<00:00, 51546.07it/s]\n",
      "100%|██████████| 200/200 [00:00<00:00, 106279.08it/s]\n",
      "100%|██████████| 200/200 [00:00<00:00, 139276.24it/s]"
     ]
    },
    {
     "name": "stdout",
     "output_type": "stream",
     "text": [
      "Number of batches:  5\n",
      "4 4 4\n",
      "torch.Size([32, 10]) torch.Size([32, 1])\n"
     ]
    },
    {
     "name": "stderr",
     "output_type": "stream",
     "text": [
      "\n"
     ]
    }
   ],
   "source": [
    "# get data and vocab for the first 200 samples\n",
    "data_path = '../name_pairs_dataset/full-sentences.txt'\n",
    "with open(data_path) as f:\n",
    "    data = f.read().splitlines()[:200]\n",
    "    last_names = [x.split(' ')[-1] for x in data]\n",
    "\n",
    "with open('../name_pairs_dataset/first-names.txt') as f:\n",
    "    first_names = f.read().splitlines()[:200]\n",
    "\n",
    "\n",
    "# create vocab map\n",
    "vocab = first_names + last_names\n",
    "vocab = [x.lower() for x in vocab]\n",
    "vocab += ['has', 'last', 'name', '[UNK]', '[sep]']\n",
    "vocab = list(set(vocab))\n",
    "vocab_map = {vocab: i for i, vocab in enumerate(vocab)}\n",
    "vocab_size = len(vocab)\n",
    "print('vocab size: ', vocab_size) # vocab size is very large; especially for a task this simple\n",
    "\n",
    "\n",
    "\n",
    "# keep the same first name in ctx, sample different last names\n",
    "test_data_counterfactual = [f'{\" \".join(sentence.split(\" \")[:-1])} {last_names[np.random.randint(len(last_names))]}' for sentence in data]\n",
    "test_data_counterfactual = [f'{sentence} [SEP] {sentence}' for sentence in test_data_counterfactual]\n",
    "\n",
    "# sample different first and last names in ctx\n",
    "test_data_counterfactual_irrelevant = [f'{first_names[np.random.randint(len(first_names))]} {\" \".join(sentence.split(\" \")[1:])}' for sentence in data]\n",
    "test_data_counterfactual_irrelevant = [f'{\" \".join(sentence.split(\" \")[:-1])} {last_names[np.random.randint(len(last_names))]}' for sentence in test_data_counterfactual_irrelevant]\n",
    "test_data_counterfactual_irrelevant = [f'{test_data_counterfactual_irrelevant[i]} [SEP] {data[i]}' for i in range(len(data))]\n",
    "\n",
    "test_data_counterfactual_irrelevant_first_name_change = [f'{first_names[np.random.randint(len(first_names))]} {\" \".join(sentence.split(\" \")[1:])}' for sentence in data]\n",
    "test_data_counterfactual_irrelevant_first_name_change = [f'{test_data_counterfactual_irrelevant_first_name_change[i]} [SEP] {data[i]}' for i in range(len(data))]\n",
    "print(test_data_counterfactual_irrelevant[:5])\n",
    "print(test_data_counterfactual[:5])\n",
    "print(test_data_counterfactual_irrelevant_first_name_change[:5])\n",
    "# modify original sentences to include [SEP] token\n",
    "data = [f'{sentence} [SEP] {sentence}' for sentence in data]\n",
    "\n",
    "# pick the last 1/2 of counterfactuals and add them to the training data\n",
    "data += test_data_counterfactual[100:]\n",
    "\n",
    "\n",
    "tokenized_data = [sentence.strip().lower().split(' ') for sentence in tqdm(data)]\n",
    "test_tokenized_data_counterfactual = [sentence.strip().lower().split(' ') for sentence in tqdm(test_data_counterfactual)]\n",
    "test_tokenized_data_counterfactual_irrelevant = [sentence.strip().lower().split(' ') for sentence in tqdm(test_data_counterfactual_irrelevant)]\n",
    "test_tokenized_data_counterfactual_irrelevant_first_name_change = [sentence.strip().lower().split(' ') for sentence in tqdm(test_data_counterfactual_irrelevant_first_name_change)]\n",
    "\n",
    "integer_ids = [torch.tensor([vocab_map.get(token, vocab_map['[UNK]']) for token in tokens]) for tokens in tqdm(tokenized_data)]\n",
    "integer_ids = torch.tensor(np.array(integer_ids))\n",
    "integer_test_ids_counterfactual = [torch.tensor([vocab_map.get(token, vocab_map['[UNK]']) for token in tokens]) for tokens in tqdm(test_tokenized_data_counterfactual)]\n",
    "integer_test_ids_counterfactual = torch.tensor(np.array(integer_test_ids_counterfactual))\n",
    "integer_test_ids_counterfactul_irrelevant = [torch.tensor([vocab_map.get(token, vocab_map['[UNK]']) for token in tokens]) for tokens in tqdm(test_tokenized_data_counterfactual_irrelevant)]\n",
    "integer_test_ids_counterfactul_irrelevant = torch.tensor(np.array(integer_test_ids_counterfactul_irrelevant))\n",
    "integer_test_ids_counterfactual_irrelevant_first_name_change = [torch.tensor([vocab_map.get(token, vocab_map['[UNK]']) for token in tokens]) for tokens in tqdm(test_tokenized_data_counterfactual_irrelevant_first_name_change)]\n",
    "integer_test_ids_counterfactual_irrelevant_first_name_change = torch.tensor(np.array(integer_test_ids_counterfactual_irrelevant_first_name_change))\n",
    "\n",
    "# create dataset and dataloader\n",
    "x = integer_ids[:, :-1]\n",
    "y = integer_ids[:, -1:]\n",
    "x_test_counterfactual = integer_test_ids_counterfactual[:, :-1]\n",
    "y_test_counterfactual = integer_test_ids_counterfactual[:, -1:]\n",
    "x_test_counterfactual_irrelevant = integer_test_ids_counterfactul_irrelevant[:, :-1]\n",
    "y_test_counterfactual_irrelevant = integer_test_ids_counterfactul_irrelevant[:, -1:]\n",
    "x_test_counterfactual_irrelevant_first_name_change = integer_test_ids_counterfactual_irrelevant_first_name_change[:, :-1]\n",
    "y_test_counterfactual_irrelevant_first_name_change = integer_test_ids_counterfactual_irrelevant_first_name_change[:, -1:]\n",
    "\n",
    "x_train, y_train, x_val, y_val = x[:150], y[:150], x[150:200], y[150:200]\n",
    "train_dataset = torch.utils.data.TensorDataset(x_train, y_train)\n",
    "val_dataset = torch.utils.data.TensorDataset(x_val, y_val)\n",
    "\n",
    "\n",
    "test_dataset_counterfactual = torch.utils.data.TensorDataset(x_test_counterfactual, y_test_counterfactual)\n",
    "test_dataset_counterfactual_irrelevant = torch.utils.data.TensorDataset(x_test_counterfactual_irrelevant, y_test_counterfactual_irrelevant)\n",
    "test_dataset_counterfactual_irrelevant_first_name_change = torch.utils.data.TensorDataset(x_test_counterfactual_irrelevant_first_name_change, y_test_counterfactual_irrelevant_first_name_change)\n",
    "\n",
    "# take first 100 samples for testing\n",
    "test_dataset_counterfactual = torch.utils.data.TensorDataset(*test_dataset_counterfactual[:100])\n",
    "test_dataset_counterfactual_irrelevant = torch.utils.data.TensorDataset(*test_dataset_counterfactual_irrelevant[:100])\n",
    "test_dataset_counterfactual_irrelevant_first_name_change = torch.utils.data.TensorDataset(*test_dataset_counterfactual_irrelevant_first_name_change[:100])\n",
    "\n",
    "# dataloader\n",
    "train_dl = torch.utils.data.DataLoader(train_dataset, batch_size=args.batch_size, shuffle=True)\n",
    "print(\"Number of batches: \", len(train_dl))\n",
    "val_dl = torch.utils.data.DataLoader(val_dataset, batch_size=args.batch_size, shuffle=False)\n",
    "test_dl_counterfactual = torch.utils.data.DataLoader(test_dataset_counterfactual, batch_size=args.batch_size, shuffle=False)\n",
    "test_dl_counterfactual_irrelevant = torch.utils.data.DataLoader(test_dataset_counterfactual_irrelevant, batch_size=args.batch_size, shuffle=False)\n",
    "test_dl_counterfactual_irrelevant_first_name_change = torch.utils.data.DataLoader(test_dataset_counterfactual_irrelevant_first_name_change, batch_size=args.batch_size, shuffle=False)\n",
    "seq_len = x.shape[1]\n",
    "output_seq_len = y.shape[1]\n",
    "print(len(test_dl_counterfactual), len(test_dl_counterfactual_irrelevant), len(test_dl_counterfactual_irrelevant_first_name_change))\n",
    "for x, y in val_dl:\n",
    "    print(x.shape, y.shape)\n",
    "    break\n",
    "    "
   ]
  },
  {
   "cell_type": "markdown",
   "metadata": {},
   "source": [
    "## Model"
   ]
  },
  {
   "cell_type": "code",
   "execution_count": 22,
   "metadata": {},
   "outputs": [],
   "source": [
    "import lightning as L\n",
    "import matplotlib.pyplot as plt\n",
    "\n",
    "class LitLanguageModel(L.LightningModule):\n",
    "    def __init__(self, model):\n",
    "        super().__init__()\n",
    "        self.model = model\n",
    "        self.mismatched_sequences = []\n",
    "        self.all_seq_acc = []\n",
    "        self.all_per_pos_acc = []\n",
    "\n",
    "    def training_step(self, batch, batch_idx):\n",
    "        x, y = batch\n",
    "        # with ctx:\n",
    "        logits, loss = self.model(x, y, y)\n",
    "        self.log('train_loss', loss, prog_bar=True, logger=True, on_step=args.log_on_step, on_epoch=True)\n",
    "\n",
    "        return loss\n",
    "\n",
    "    def validation_step(self, batch, batch_idx):\n",
    "        x, y = batch\n",
    "        # with ctx:\n",
    "        logits, loss = self.model(x, y, y)\n",
    "        \n",
    "\n",
    "        perplexity = torchmetrics.functional.text.perplexity(logits, y)\n",
    "        self.log(f\"val_loss\", loss, prog_bar=True, logger=True, add_dataloader_idx=False)\n",
    "        self.log(f'val_perplexity', perplexity, prog_bar=True, logger=True, add_dataloader_idx=False)\n",
    "\n",
    "    def test_step(self, batch, batch_idx):\n",
    "        x, y = batch\n",
    "        # with ctx:\n",
    "        logits, loss = self.model(x, y, y)\n",
    "\n",
    "        perplexity = torchmetrics.functional.text.perplexity(logits, y)\n",
    "\n",
    "        self.log(f\"test_loss\", loss, prog_bar=True, logger=True, add_dataloader_idx=False)\n",
    "        self.log(f'test_perplexity', perplexity, prog_bar=True, logger=True, add_dataloader_idx=False)\n",
    "        \n",
    "        # Calculate per position accuracy\n",
    "        per_pos_acc = self.per_position_accuracy(logits, y)  \n",
    "        \n",
    "        # Calculate whole sequence accuracy\n",
    "        seq_acc = self.sequence_accuracy(logits, y)\n",
    "        \n",
    "        # Store metrics for later averaging\n",
    "        self.all_seq_acc.append(seq_acc)\n",
    "        self.all_per_pos_acc.append(per_pos_acc)\n",
    "        \n",
    "        self.capture_mismatches(logits, y, x)\n",
    "        \n",
    "    def sequence_accuracy(self, preds, targets):\n",
    "        # Convert logits to predictions\n",
    "        preds = torch.argmax(preds, dim=-1)\n",
    "        # Check if entire sequences match\n",
    "        correct = torch.all(preds == targets, dim=1)\n",
    "        accuracy = torch.mean(correct.float())\n",
    "        return accuracy\n",
    "    \n",
    "    def per_position_accuracy(self, logits, targets):\n",
    "        preds = torch.argmax(logits, dim=-1)\n",
    "        correct = preds == targets\n",
    "        per_position_acc = correct.float().mean(dim=0)\n",
    "        return per_position_acc\n",
    "    \n",
    "    def capture_mismatches(self, preds, targets, inputs, max_examples=1000):\n",
    "        \"\"\"\n",
    "        Store examples of sequences where the predictions do not match the targets.\n",
    "        \n",
    "        Args:\n",
    "            preds (torch.Tensor): The model's predicted sequences.\n",
    "            targets (torch.Tensor): The actual sequences.\n",
    "            inputs (torch.Tensor): The input sequences to the model.\n",
    "            max_examples (int): Maximum number of mismatched sequences to store.\n",
    "        \"\"\"\n",
    "        # Convert predictions to class indices\n",
    "        preds = torch.argmax(preds, dim=-1)\n",
    "        mismatches = preds != targets\n",
    "        \n",
    "        # Iterate over the batch to find mismatches\n",
    "        for i in range(mismatches.size(0)):\n",
    "            if torch.any(mismatches[i]) and len(self.mismatched_sequences) < max_examples:\n",
    "                mismatch_data = {\n",
    "                    'input': inputs[i].cpu().numpy(),\n",
    "                    'predicted': preds[i].cpu().numpy(),\n",
    "                    'target': targets[i].cpu().numpy()\n",
    "                }\n",
    "                self.mismatched_sequences.append(mismatch_data)\n",
    "                \n",
    "    def on_test_epoch_end(self):\n",
    "        # Calculate overall metrics from all batches\n",
    "        if self.all_seq_acc and self.all_per_pos_acc:\n",
    "\n",
    "            overall_seq_acc = torch.mean(torch.stack(self.all_seq_acc))\n",
    "            overall_per_pos_acc = torch.mean(torch.stack(self.all_per_pos_acc), dim=0)\n",
    "            # Log overall metrics\n",
    "            self.log('test_overall_seq_acc', overall_seq_acc, on_step=False, on_epoch=True)\n",
    "            self.log('test_overall_per_pos_acc_mean', overall_per_pos_acc.mean(), on_step=False, on_epoch=True)\n",
    "\n",
    "            # Plot overall per position accuracy\n",
    "            plt.figure(figsize=(10, 6))\n",
    "            plt.plot(overall_per_pos_acc.cpu().numpy(), marker='o', linestyle='-')\n",
    "            plt.title('Overall Per Position Accuracy')\n",
    "            plt.xlabel('Position')\n",
    "            plt.ylabel('Accuracy')\n",
    "            plt.grid(True)\n",
    "            plt.show()\n",
    "\n",
    "            # Clear the accumulators for the next epoch\n",
    "            self.all_seq_acc = []\n",
    "            self.all_per_pos_acc = []        \n",
    "        \n",
    "\n",
    "\n",
    "    def configure_optimizers(self):\n",
    "        # NOTE: i chose these arbitrarily; may need to be tuned\n",
    "        optimizer = configure_optimizers(self.model, weight_decay=0.0, learning_rate=1e-3, betas=(0.9, 0.999), device_type=\"cuda\" if torch.cuda.is_available() else \"cpu\")\n",
    "        return optimizer"
   ]
  },
  {
   "cell_type": "code",
   "execution_count": 23,
   "metadata": {},
   "outputs": [
    {
     "data": {
      "text/plain": [
       "=======================================================================================================================================\n",
       "Layer (type (var_name):depth-idx)                                           Param #              Param %              Trainable\n",
       "=======================================================================================================================================\n",
       "Seq2SeqTransformer (Seq2SeqTransformer)                                     --                        --              True\n",
       "├─ModuleDict (layers): 1-1                                                  --                        --              True\n",
       "│    └─Embedding (source_embedder): 2-1                                     51,712                 4.78%              True\n",
       "│    └─Embedding (target_embedder): 2-2                                     51,712                 4.78%              True\n",
       "│    │    └─Linear (weights): 3-1                                           52,116                 4.82%              True\n",
       "│    └─SinusoidalPositionalEncoding (source_pos_embedder): 2-3              --                        --              --\n",
       "│    │    └─Dropout (dropout): 3-2                                          --                        --              --\n",
       "│    └─SinusoidalPositionalEncoding (target_pos_embedder): 2-4              --                        --              --\n",
       "│    │    └─Dropout (dropout): 3-3                                          --                        --              --\n",
       "│    └─ModuleList (encoder_blocks): 2-5                                     --                        --              True\n",
       "│    │    └─EncoderBlock (0): 3-4                                           198,272               18.34%              True\n",
       "│    │    └─EncoderBlock (1): 3-5                                           198,272               18.34%              True\n",
       "│    └─ModuleList (decoder_blocks): 2-6                                     --                        --              True\n",
       "│    │    └─DecoderBlock (0): 3-6                                           264,576               24.47%              True\n",
       "│    │    └─DecoderBlock (1): 3-7                                           264,576               24.47%              True\n",
       "│    └─Linear (final_out): 2-7                                              (recursive)          (recursive)          True\n",
       "=======================================================================================================================================\n",
       "Total params: 1,081,236\n",
       "Trainable params: 1,081,236\n",
       "Non-trainable params: 0\n",
       "======================================================================================================================================="
      ]
     },
     "execution_count": 23,
     "metadata": {},
     "output_type": "execute_result"
    }
   ],
   "source": [
    "d_model = args.d_model # 128\n",
    "dff = args.dff # 256\n",
    "n_layers_enc = args.n_layers\n",
    "n_layers_dec = args.n_layers\n",
    "n_heads = args.n_heads\n",
    "dropout_rate = 0.1\n",
    "activation = 'gelu'\n",
    "norm_first = True\n",
    "out_dim = vocab_size  # This might be your target vocabulary size for token output_spec\n",
    "in_block_size = seq_len\n",
    "out_block_size = output_seq_len # Define this in your args if not already\n",
    "input_spec = {'type': 'token', 'vocab_size': vocab_size}\n",
    "output_spec = {'type': 'token', 'vocab_size': vocab_size}\n",
    "\n",
    "model_args = {\n",
    "    'input_spec': input_spec,\n",
    "    'output_spec': output_spec,\n",
    "    'd_model': d_model,\n",
    "    'out_dim': vocab_size,  # Assuming token type output\n",
    "    'n_layers_enc': n_layers_enc,\n",
    "    'n_layers_dec': n_layers_dec,\n",
    "    'encoder_kwargs': {\n",
    "        'n_heads': n_heads,\n",
    "        'dff': dff,\n",
    "        'dropout_rate': dropout_rate,\n",
    "        'activation': activation,\n",
    "        'norm_first': norm_first,\n",
    "        'bias': True,  # Assuming you want biases in your layers\n",
    "        'causal': False,  # Assuming encoder is not causal\n",
    "    },\n",
    "    'decoder_kwargs': {\n",
    "        'n_heads': n_heads,\n",
    "        'dff': dff,\n",
    "        'dropout_rate': dropout_rate,\n",
    "        'activation': activation,\n",
    "        'norm_first': norm_first,\n",
    "        'bias': True,\n",
    "        'causal': True,  # Decoders are typically causal\n",
    "    },\n",
    "    'in_block_size': seq_len,  # Sequence length for input\n",
    "    'out_block_size': output_seq_len,  # Sequence length for output\n",
    "}\n",
    "\n",
    "model = Seq2SeqTransformer(**model_args)\n",
    "\n",
    "model = Seq2SeqTransformer(**model_args)#.to(device)  # Make sure `device` is defined (e.g., 'cuda' or 'cpu')\n",
    "torchinfo.summary(model, row_settings=[\"depth\", \"var_names\"], col_names=[\"num_params\", \"params_percent\", \"trainable\"], depth=3, col_width=20)\n"
   ]
  },
  {
   "cell_type": "code",
   "execution_count": 24,
   "metadata": {},
   "outputs": [],
   "source": [
    "lit_model = LitLanguageModel(model)"
   ]
  },
  {
   "cell_type": "code",
   "execution_count": 25,
   "metadata": {},
   "outputs": [
    {
     "name": "stderr",
     "output_type": "stream",
     "text": [
      "GPU available: False, used: False\n",
      "TPU available: False, using: 0 TPU cores\n",
      "IPU available: False, using: 0 IPUs\n",
      "HPU available: False, using: 0 HPUs\n",
      "\n",
      "  | Name  | Type               | Params\n",
      "---------------------------------------------\n",
      "0 | model | Seq2SeqTransformer | 1.1 M \n",
      "---------------------------------------------\n",
      "1.1 M     Trainable params\n",
      "0         Non-trainable params\n",
      "1.1 M     Total params\n",
      "4.325     Total estimated model params size (MB)\n"
     ]
    },
    {
     "name": "stdout",
     "output_type": "stream",
     "text": [
      "num decayed parameter tensors: 23, with 1,072,640 parameters\n",
      "num non-decayed parameter tensors: 41, with 8,596 parameters\n",
      "using fused AdamW: False\n"
     ]
    },
    {
     "data": {
      "application/vnd.jupyter.widget-view+json": {
       "model_id": "d50393f0ca724e4ca53e17525e143f39",
       "version_major": 2,
       "version_minor": 0
      },
      "text/plain": [
       "Sanity Checking: |          | 0/? [00:00<?, ?it/s]"
      ]
     },
     "metadata": {},
     "output_type": "display_data"
    },
    {
     "data": {
      "application/vnd.jupyter.widget-view+json": {
       "model_id": "90010a4070b84e7c8a4e9b31fab345a8",
       "version_major": 2,
       "version_minor": 0
      },
      "text/plain": [
       "Training: |          | 0/? [00:00<?, ?it/s]"
      ]
     },
     "metadata": {},
     "output_type": "display_data"
    },
    {
     "data": {
      "application/vnd.jupyter.widget-view+json": {
       "model_id": "6c7faec908b74b5098aa38d3895c25f8",
       "version_major": 2,
       "version_minor": 0
      },
      "text/plain": [
       "Validation: |          | 0/? [00:00<?, ?it/s]"
      ]
     },
     "metadata": {},
     "output_type": "display_data"
    },
    {
     "data": {
      "application/vnd.jupyter.widget-view+json": {
       "model_id": "2063e619009244f39943b242bccbde9a",
       "version_major": 2,
       "version_minor": 0
      },
      "text/plain": [
       "Validation: |          | 0/? [00:00<?, ?it/s]"
      ]
     },
     "metadata": {},
     "output_type": "display_data"
    },
    {
     "data": {
      "application/vnd.jupyter.widget-view+json": {
       "model_id": "40d18d7dfb5348ea80f2fef226f00b62",
       "version_major": 2,
       "version_minor": 0
      },
      "text/plain": [
       "Validation: |          | 0/? [00:00<?, ?it/s]"
      ]
     },
     "metadata": {},
     "output_type": "display_data"
    },
    {
     "data": {
      "application/vnd.jupyter.widget-view+json": {
       "model_id": "a92a0df44fb64e4db7a3d99da8b9a3cd",
       "version_major": 2,
       "version_minor": 0
      },
      "text/plain": [
       "Validation: |          | 0/? [00:00<?, ?it/s]"
      ]
     },
     "metadata": {},
     "output_type": "display_data"
    },
    {
     "data": {
      "application/vnd.jupyter.widget-view+json": {
       "model_id": "2a4d59e3741340c097ab6aee070416a8",
       "version_major": 2,
       "version_minor": 0
      },
      "text/plain": [
       "Validation: |          | 0/? [00:00<?, ?it/s]"
      ]
     },
     "metadata": {},
     "output_type": "display_data"
    },
    {
     "data": {
      "application/vnd.jupyter.widget-view+json": {
       "model_id": "b68b70ebf82d4735a15a237c6ae673b2",
       "version_major": 2,
       "version_minor": 0
      },
      "text/plain": [
       "Validation: |          | 0/? [00:00<?, ?it/s]"
      ]
     },
     "metadata": {},
     "output_type": "display_data"
    },
    {
     "data": {
      "application/vnd.jupyter.widget-view+json": {
       "model_id": "6d54af0f782e49fbb036a37134e227ef",
       "version_major": 2,
       "version_minor": 0
      },
      "text/plain": [
       "Validation: |          | 0/? [00:00<?, ?it/s]"
      ]
     },
     "metadata": {},
     "output_type": "display_data"
    },
    {
     "data": {
      "application/vnd.jupyter.widget-view+json": {
       "model_id": "3db6950c8b1b4fce962481c05574d8e1",
       "version_major": 2,
       "version_minor": 0
      },
      "text/plain": [
       "Validation: |          | 0/? [00:00<?, ?it/s]"
      ]
     },
     "metadata": {},
     "output_type": "display_data"
    },
    {
     "data": {
      "application/vnd.jupyter.widget-view+json": {
       "model_id": "1108af5f44054eb39f9a6bd46b0997dc",
       "version_major": 2,
       "version_minor": 0
      },
      "text/plain": [
       "Validation: |          | 0/? [00:00<?, ?it/s]"
      ]
     },
     "metadata": {},
     "output_type": "display_data"
    },
    {
     "data": {
      "application/vnd.jupyter.widget-view+json": {
       "model_id": "03c90f758344418fac736a67bb75ac79",
       "version_major": 2,
       "version_minor": 0
      },
      "text/plain": [
       "Validation: |          | 0/? [00:00<?, ?it/s]"
      ]
     },
     "metadata": {},
     "output_type": "display_data"
    },
    {
     "data": {
      "application/vnd.jupyter.widget-view+json": {
       "model_id": "27dae0562fca4fd198fa4d8c6eb895cc",
       "version_major": 2,
       "version_minor": 0
      },
      "text/plain": [
       "Validation: |          | 0/? [00:00<?, ?it/s]"
      ]
     },
     "metadata": {},
     "output_type": "display_data"
    },
    {
     "data": {
      "application/vnd.jupyter.widget-view+json": {
       "model_id": "26d983f4720c40d59a0fb7c70fd09471",
       "version_major": 2,
       "version_minor": 0
      },
      "text/plain": [
       "Validation: |          | 0/? [00:00<?, ?it/s]"
      ]
     },
     "metadata": {},
     "output_type": "display_data"
    },
    {
     "data": {
      "application/vnd.jupyter.widget-view+json": {
       "model_id": "c70969eb35be4e7b8219a7becbbd80f8",
       "version_major": 2,
       "version_minor": 0
      },
      "text/plain": [
       "Validation: |          | 0/? [00:00<?, ?it/s]"
      ]
     },
     "metadata": {},
     "output_type": "display_data"
    },
    {
     "data": {
      "application/vnd.jupyter.widget-view+json": {
       "model_id": "cca5b5d1c781495283be57d6816b1c4d",
       "version_major": 2,
       "version_minor": 0
      },
      "text/plain": [
       "Validation: |          | 0/? [00:00<?, ?it/s]"
      ]
     },
     "metadata": {},
     "output_type": "display_data"
    },
    {
     "data": {
      "application/vnd.jupyter.widget-view+json": {
       "model_id": "7e8489ea29044ee4b119fa15805d26e6",
       "version_major": 2,
       "version_minor": 0
      },
      "text/plain": [
       "Validation: |          | 0/? [00:00<?, ?it/s]"
      ]
     },
     "metadata": {},
     "output_type": "display_data"
    },
    {
     "data": {
      "application/vnd.jupyter.widget-view+json": {
       "model_id": "db97429346a94a61ac45647d47e6c29e",
       "version_major": 2,
       "version_minor": 0
      },
      "text/plain": [
       "Validation: |          | 0/? [00:00<?, ?it/s]"
      ]
     },
     "metadata": {},
     "output_type": "display_data"
    },
    {
     "data": {
      "application/vnd.jupyter.widget-view+json": {
       "model_id": "a0edc5d575da4fbebb503871e95e7746",
       "version_major": 2,
       "version_minor": 0
      },
      "text/plain": [
       "Validation: |          | 0/? [00:00<?, ?it/s]"
      ]
     },
     "metadata": {},
     "output_type": "display_data"
    },
    {
     "data": {
      "application/vnd.jupyter.widget-view+json": {
       "model_id": "2f4483f0666c4c0780181d445c335f3d",
       "version_major": 2,
       "version_minor": 0
      },
      "text/plain": [
       "Validation: |          | 0/? [00:00<?, ?it/s]"
      ]
     },
     "metadata": {},
     "output_type": "display_data"
    },
    {
     "data": {
      "application/vnd.jupyter.widget-view+json": {
       "model_id": "69896338ca3a4b76b139e76ed0604d96",
       "version_major": 2,
       "version_minor": 0
      },
      "text/plain": [
       "Validation: |          | 0/? [00:00<?, ?it/s]"
      ]
     },
     "metadata": {},
     "output_type": "display_data"
    },
    {
     "data": {
      "application/vnd.jupyter.widget-view+json": {
       "model_id": "51235e5bf9294deea767032d43ea83b5",
       "version_major": 2,
       "version_minor": 0
      },
      "text/plain": [
       "Validation: |          | 0/? [00:00<?, ?it/s]"
      ]
     },
     "metadata": {},
     "output_type": "display_data"
    },
    {
     "data": {
      "application/vnd.jupyter.widget-view+json": {
       "model_id": "1d1e8b8a581b4f02a594e46974ae336a",
       "version_major": 2,
       "version_minor": 0
      },
      "text/plain": [
       "Validation: |          | 0/? [00:00<?, ?it/s]"
      ]
     },
     "metadata": {},
     "output_type": "display_data"
    },
    {
     "data": {
      "application/vnd.jupyter.widget-view+json": {
       "model_id": "65d3a16a15314979a95f68f73ea8c2f2",
       "version_major": 2,
       "version_minor": 0
      },
      "text/plain": [
       "Validation: |          | 0/? [00:00<?, ?it/s]"
      ]
     },
     "metadata": {},
     "output_type": "display_data"
    },
    {
     "data": {
      "application/vnd.jupyter.widget-view+json": {
       "model_id": "401fbc6c5cb441108a1d611e547eaee2",
       "version_major": 2,
       "version_minor": 0
      },
      "text/plain": [
       "Validation: |          | 0/? [00:00<?, ?it/s]"
      ]
     },
     "metadata": {},
     "output_type": "display_data"
    },
    {
     "data": {
      "application/vnd.jupyter.widget-view+json": {
       "model_id": "9ea44b7380cc4e569b51f56aac8e1bdd",
       "version_major": 2,
       "version_minor": 0
      },
      "text/plain": [
       "Validation: |          | 0/? [00:00<?, ?it/s]"
      ]
     },
     "metadata": {},
     "output_type": "display_data"
    },
    {
     "data": {
      "application/vnd.jupyter.widget-view+json": {
       "model_id": "6bac69f1639148e8acb2313df9c717b2",
       "version_major": 2,
       "version_minor": 0
      },
      "text/plain": [
       "Validation: |          | 0/? [00:00<?, ?it/s]"
      ]
     },
     "metadata": {},
     "output_type": "display_data"
    },
    {
     "data": {
      "application/vnd.jupyter.widget-view+json": {
       "model_id": "ae6a344b7bf44d21bf27b9e63303df41",
       "version_major": 2,
       "version_minor": 0
      },
      "text/plain": [
       "Validation: |          | 0/? [00:00<?, ?it/s]"
      ]
     },
     "metadata": {},
     "output_type": "display_data"
    },
    {
     "data": {
      "application/vnd.jupyter.widget-view+json": {
       "model_id": "cc4148e413834805b6650057109c0562",
       "version_major": 2,
       "version_minor": 0
      },
      "text/plain": [
       "Validation: |          | 0/? [00:00<?, ?it/s]"
      ]
     },
     "metadata": {},
     "output_type": "display_data"
    },
    {
     "data": {
      "application/vnd.jupyter.widget-view+json": {
       "model_id": "f4999271fd9745bf837fc03364866a32",
       "version_major": 2,
       "version_minor": 0
      },
      "text/plain": [
       "Validation: |          | 0/? [00:00<?, ?it/s]"
      ]
     },
     "metadata": {},
     "output_type": "display_data"
    },
    {
     "data": {
      "application/vnd.jupyter.widget-view+json": {
       "model_id": "c4e842840a8244d38b7e94f32381402d",
       "version_major": 2,
       "version_minor": 0
      },
      "text/plain": [
       "Validation: |          | 0/? [00:00<?, ?it/s]"
      ]
     },
     "metadata": {},
     "output_type": "display_data"
    },
    {
     "data": {
      "application/vnd.jupyter.widget-view+json": {
       "model_id": "38de7628ce4c48c583bae518b822571e",
       "version_major": 2,
       "version_minor": 0
      },
      "text/plain": [
       "Validation: |          | 0/? [00:00<?, ?it/s]"
      ]
     },
     "metadata": {},
     "output_type": "display_data"
    },
    {
     "data": {
      "application/vnd.jupyter.widget-view+json": {
       "model_id": "ddf8e320da544e3c88b5cd81f99c4ff7",
       "version_major": 2,
       "version_minor": 0
      },
      "text/plain": [
       "Validation: |          | 0/? [00:00<?, ?it/s]"
      ]
     },
     "metadata": {},
     "output_type": "display_data"
    },
    {
     "data": {
      "application/vnd.jupyter.widget-view+json": {
       "model_id": "d7525f39a35047db963d83d28ce318e3",
       "version_major": 2,
       "version_minor": 0
      },
      "text/plain": [
       "Validation: |          | 0/? [00:00<?, ?it/s]"
      ]
     },
     "metadata": {},
     "output_type": "display_data"
    },
    {
     "data": {
      "application/vnd.jupyter.widget-view+json": {
       "model_id": "c9d6a94265cd4e458536a4e7e6884113",
       "version_major": 2,
       "version_minor": 0
      },
      "text/plain": [
       "Validation: |          | 0/? [00:00<?, ?it/s]"
      ]
     },
     "metadata": {},
     "output_type": "display_data"
    },
    {
     "data": {
      "application/vnd.jupyter.widget-view+json": {
       "model_id": "1b9a9c7e7c4547d7900b3824d2e5d774",
       "version_major": 2,
       "version_minor": 0
      },
      "text/plain": [
       "Validation: |          | 0/? [00:00<?, ?it/s]"
      ]
     },
     "metadata": {},
     "output_type": "display_data"
    },
    {
     "data": {
      "application/vnd.jupyter.widget-view+json": {
       "model_id": "730b4ec384664a9f938bd1003fadd44f",
       "version_major": 2,
       "version_minor": 0
      },
      "text/plain": [
       "Validation: |          | 0/? [00:00<?, ?it/s]"
      ]
     },
     "metadata": {},
     "output_type": "display_data"
    },
    {
     "data": {
      "application/vnd.jupyter.widget-view+json": {
       "model_id": "e13a31a13c334ca887c833afdbf6b4a1",
       "version_major": 2,
       "version_minor": 0
      },
      "text/plain": [
       "Validation: |          | 0/? [00:00<?, ?it/s]"
      ]
     },
     "metadata": {},
     "output_type": "display_data"
    },
    {
     "data": {
      "application/vnd.jupyter.widget-view+json": {
       "model_id": "0c2c515df3434060b4f63716a28fc473",
       "version_major": 2,
       "version_minor": 0
      },
      "text/plain": [
       "Validation: |          | 0/? [00:00<?, ?it/s]"
      ]
     },
     "metadata": {},
     "output_type": "display_data"
    },
    {
     "data": {
      "application/vnd.jupyter.widget-view+json": {
       "model_id": "1142d3d7f8e54dd9abd56f9be9c24703",
       "version_major": 2,
       "version_minor": 0
      },
      "text/plain": [
       "Validation: |          | 0/? [00:00<?, ?it/s]"
      ]
     },
     "metadata": {},
     "output_type": "display_data"
    },
    {
     "data": {
      "application/vnd.jupyter.widget-view+json": {
       "model_id": "096f0a23cd5e4c2cb509907dca5e223c",
       "version_major": 2,
       "version_minor": 0
      },
      "text/plain": [
       "Validation: |          | 0/? [00:00<?, ?it/s]"
      ]
     },
     "metadata": {},
     "output_type": "display_data"
    },
    {
     "data": {
      "application/vnd.jupyter.widget-view+json": {
       "model_id": "783db5f8968b4dbfa301beb4da457558",
       "version_major": 2,
       "version_minor": 0
      },
      "text/plain": [
       "Validation: |          | 0/? [00:00<?, ?it/s]"
      ]
     },
     "metadata": {},
     "output_type": "display_data"
    },
    {
     "name": "stderr",
     "output_type": "stream",
     "text": [
      "`Trainer.fit` stopped: `max_epochs=40` reached.\n"
     ]
    }
   ],
   "source": [
    "n_epochs = args.n_epochs\n",
    "\n",
    "# run = wandb.init(project=wandb_project, group=group_name, name=run_name,\n",
    "    # config={'group': group_name, **model_args})\n",
    "\n",
    "# wandb_logger = WandbLogger(experiment=run, log_model=False) # name=run_name, project=wandb_project,\n",
    "# wandb_logger.watch(model, log_graph=False)\n",
    "wandb_logger = None\n",
    "callbacks = [\n",
    "    L.pytorch.callbacks.TQDMProgressBar(refresh_rate=50)\n",
    "    # L.pytorch.callbacks.RichProgressBar()\n",
    "]\n",
    "trainer = L.Trainer(\n",
    "    max_epochs=n_epochs, enable_checkpointing=False, enable_model_summary=True, #precision='64-true',\n",
    "    callbacks=callbacks, enable_progress_bar=True, check_val_every_n_epoch=1, # limit_train_batches=200, limit_val_batches=200,\n",
    "    logger=False\n",
    "    )\n",
    "trainer.fit(model=lit_model, train_dataloaders=train_dl, val_dataloaders=val_dl)"
   ]
  },
  {
   "cell_type": "code",
   "execution_count": 26,
   "metadata": {},
   "outputs": [],
   "source": [
    "def decode_sequence(sequence, reverse_vocab_map):\n",
    "    \"\"\"Decode a sequence of IDs back to words using the reverse vocabulary map.\"\"\"\n",
    "    return ' '.join([reverse_vocab_map.get(token_id, '[UNK]') for token_id in sequence])\n",
    "\n",
    "\n",
    "\n",
    "def mismatch_seq_print(mismatch, reverse_vocab_map):\n",
    "    \n",
    "    for mismatch in lit_model.mismatched_sequences[:5]:\n",
    "        input_seq = decode_sequence(mismatch['input'], reverse_vocab_map)\n",
    "        predicted_seq = decode_sequence(mismatch['predicted'], reverse_vocab_map)\n",
    "        target_seq = decode_sequence(mismatch['target'], reverse_vocab_map)\n",
    "        first_name_ctx = input_seq.split(' ')[0]\n",
    "        last_name_ctx = input_seq.split(\" [sep] \")[0].split(' ')[-1]\n",
    "        last_name_pred = predicted_seq.split(\" \")[-1]\n",
    "        # find last name of first name in training data\n",
    "        # Capitalize the first character of the first name\n",
    "        trained_last_name = last_names[first_names.index(first_name_ctx.capitalize())]\n",
    "        context_last_to_first_name = first_names[last_names.index(last_name_ctx.upper())]\n",
    "        not_last_name = False\n",
    "        if last_name_pred.upper() not in last_names:\n",
    "            not_last_name = True\n",
    "            trained_last_name_pred = last_names[first_names.index(last_name_pred.capitalize())]\n",
    "        else:\n",
    "            trained_last_name_pred = first_names[last_names.index(last_name_pred.upper())]\n",
    "\n",
    "        print(f\"Input: {input_seq}\")\n",
    "        print(f\"Predicted: {predicted_seq}\")\n",
    "        print(f\"Target: {target_seq}\")\n",
    "        print(\"Pretrained Knowledge:\")\n",
    "        print(f\"{first_name_ctx} has last name {trained_last_name.lower()}\")\n",
    "        print(f\"{last_name_ctx} has first name {context_last_to_first_name.lower()}\")\n",
    "        if not not_last_name:\n",
    "            print(f\"{trained_last_name_pred} has last name {last_name_pred.lower()} \\n\")\n",
    "        else:\n",
    "            print(f\"{last_name_pred.lower()} has last name {trained_last_name_pred.lower()} \\n\")\n",
    "\n"
   ]
  },
  {
   "cell_type": "code",
   "execution_count": 27,
   "metadata": {},
   "outputs": [
    {
     "data": {
      "application/vnd.jupyter.widget-view+json": {
       "model_id": "c2d79419e4e241b8b14f55d7f6c5ed4b",
       "version_major": 2,
       "version_minor": 0
      },
      "text/plain": [
       "Testing: |          | 0/? [00:00<?, ?it/s]"
      ]
     },
     "metadata": {},
     "output_type": "display_data"
    },
    {
     "data": {
      "image/png": "[encoded data removed]",
      "text/plain": [
       "<Figure size 1000x600 with 1 Axes>"
      ]
     },
     "metadata": {},
     "output_type": "display_data"
    },
    {
     "data": {
      "text/html": [
       "<pre style=\"white-space:pre;overflow-x:auto;line-height:normal;font-family:Menlo,'DejaVu Sans Mono',consolas,'Courier New',monospace\">┏━━━━━━━━━━━━━━━━━━━━━━━━━━━━━━━┳━━━━━━━━━━━━━━━━━━━━━━━━━━━━━━━┓\n",
       "┃<span style=\"font-weight: bold\">          Test metric          </span>┃<span style=\"font-weight: bold\">         DataLoader 0          </span>┃\n",
       "┡━━━━━━━━━━━━━━━━━━━━━━━━━━━━━━━╇━━━━━━━━━━━━━━━━━━━━━━━━━━━━━━━┩\n",
       "│<span style=\"color: #008080; text-decoration-color: #008080\">           test_loss           </span>│<span style=\"color: #800080; text-decoration-color: #800080\">    1.5139731658564415e-05     </span>│\n",
       "│<span style=\"color: #008080; text-decoration-color: #008080\"> test_overall_per_pos_acc_mean </span>│<span style=\"color: #800080; text-decoration-color: #800080\">              1.0              </span>│\n",
       "│<span style=\"color: #008080; text-decoration-color: #008080\">     test_overall_seq_acc      </span>│<span style=\"color: #800080; text-decoration-color: #800080\">              1.0              </span>│\n",
       "│<span style=\"color: #008080; text-decoration-color: #008080\">        test_perplexity        </span>│<span style=\"color: #800080; text-decoration-color: #800080\">       1.000015139579773       </span>│\n",
       "└───────────────────────────────┴───────────────────────────────┘\n",
       "</pre>\n"
      ],
      "text/plain": [
       "┏━━━━━━━━━━━━━━━━━━━━━━━━━━━━━━━┳━━━━━━━━━━━━━━━━━━━━━━━━━━━━━━━┓\n",
       "┃\u001b[1m \u001b[0m\u001b[1m         Test metric         \u001b[0m\u001b[1m \u001b[0m┃\u001b[1m \u001b[0m\u001b[1m        DataLoader 0         \u001b[0m\u001b[1m \u001b[0m┃\n",
       "┡━━━━━━━━━━━━━━━━━━━━━━━━━━━━━━━╇━━━━━━━━━━━━━━━━━━━━━━━━━━━━━━━┩\n",
       "│\u001b[36m \u001b[0m\u001b[36m          test_loss          \u001b[0m\u001b[36m \u001b[0m│\u001b[35m \u001b[0m\u001b[35m   1.5139731658564415e-05    \u001b[0m\u001b[35m \u001b[0m│\n",
       "│\u001b[36m \u001b[0m\u001b[36mtest_overall_per_pos_acc_mean\u001b[0m\u001b[36m \u001b[0m│\u001b[35m \u001b[0m\u001b[35m             1.0             \u001b[0m\u001b[35m \u001b[0m│\n",
       "│\u001b[36m \u001b[0m\u001b[36m    test_overall_seq_acc     \u001b[0m\u001b[36m \u001b[0m│\u001b[35m \u001b[0m\u001b[35m             1.0             \u001b[0m\u001b[35m \u001b[0m│\n",
       "│\u001b[36m \u001b[0m\u001b[36m       test_perplexity       \u001b[0m\u001b[36m \u001b[0m│\u001b[35m \u001b[0m\u001b[35m      1.000015139579773      \u001b[0m\u001b[35m \u001b[0m│\n",
       "└───────────────────────────────┴───────────────────────────────┘\n"
      ]
     },
     "metadata": {},
     "output_type": "display_data"
    },
    {
     "data": {
      "application/vnd.jupyter.widget-view+json": {
       "model_id": "690844b8e8b849cb87ff6ae2bccdfd01",
       "version_major": 2,
       "version_minor": 0
      },
      "text/plain": [
       "Testing: |          | 0/? [00:00<?, ?it/s]"
      ]
     },
     "metadata": {},
     "output_type": "display_data"
    },
    {
     "data": {
      "image/png": "[encoded data removed]",
      "text/plain": [
       "<Figure size 1000x600 with 1 Axes>"
      ]
     },
     "metadata": {},
     "output_type": "display_data"
    },
    {
     "data": {
      "text/html": [
       "<pre style=\"white-space:pre;overflow-x:auto;line-height:normal;font-family:Menlo,'DejaVu Sans Mono',consolas,'Courier New',monospace\">┏━━━━━━━━━━━━━━━━━━━━━━━━━━━━━━━┳━━━━━━━━━━━━━━━━━━━━━━━━━━━━━━━┓\n",
       "┃<span style=\"font-weight: bold\">          Test metric          </span>┃<span style=\"font-weight: bold\">         DataLoader 0          </span>┃\n",
       "┡━━━━━━━━━━━━━━━━━━━━━━━━━━━━━━━╇━━━━━━━━━━━━━━━━━━━━━━━━━━━━━━━┩\n",
       "│<span style=\"color: #008080; text-decoration-color: #008080\">           test_loss           </span>│<span style=\"color: #800080; text-decoration-color: #800080\">      22.128589630126953       </span>│\n",
       "│<span style=\"color: #008080; text-decoration-color: #008080\"> test_overall_per_pos_acc_mean </span>│<span style=\"color: #800080; text-decoration-color: #800080\">              0.0              </span>│\n",
       "│<span style=\"color: #008080; text-decoration-color: #008080\">     test_overall_seq_acc      </span>│<span style=\"color: #800080; text-decoration-color: #800080\">              0.0              </span>│\n",
       "│<span style=\"color: #008080; text-decoration-color: #008080\">        test_perplexity        </span>│<span style=\"color: #800080; text-decoration-color: #800080\">         12309789696.0         </span>│\n",
       "└───────────────────────────────┴───────────────────────────────┘\n",
       "</pre>\n"
      ],
      "text/plain": [
       "┏━━━━━━━━━━━━━━━━━━━━━━━━━━━━━━━┳━━━━━━━━━━━━━━━━━━━━━━━━━━━━━━━┓\n",
       "┃\u001b[1m \u001b[0m\u001b[1m         Test metric         \u001b[0m\u001b[1m \u001b[0m┃\u001b[1m \u001b[0m\u001b[1m        DataLoader 0         \u001b[0m\u001b[1m \u001b[0m┃\n",
       "┡━━━━━━━━━━━━━━━━━━━━━━━━━━━━━━━╇━━━━━━━━━━━━━━━━━━━━━━━━━━━━━━━┩\n",
       "│\u001b[36m \u001b[0m\u001b[36m          test_loss          \u001b[0m\u001b[36m \u001b[0m│\u001b[35m \u001b[0m\u001b[35m     22.128589630126953      \u001b[0m\u001b[35m \u001b[0m│\n",
       "│\u001b[36m \u001b[0m\u001b[36mtest_overall_per_pos_acc_mean\u001b[0m\u001b[36m \u001b[0m│\u001b[35m \u001b[0m\u001b[35m             0.0             \u001b[0m\u001b[35m \u001b[0m│\n",
       "│\u001b[36m \u001b[0m\u001b[36m    test_overall_seq_acc     \u001b[0m\u001b[36m \u001b[0m│\u001b[35m \u001b[0m\u001b[35m             0.0             \u001b[0m\u001b[35m \u001b[0m│\n",
       "│\u001b[36m \u001b[0m\u001b[36m       test_perplexity       \u001b[0m\u001b[36m \u001b[0m│\u001b[35m \u001b[0m\u001b[35m        12309789696.0        \u001b[0m\u001b[35m \u001b[0m│\n",
       "└───────────────────────────────┴───────────────────────────────┘\n"
      ]
     },
     "metadata": {},
     "output_type": "display_data"
    },
    {
     "name": "stdout",
     "output_type": "stream",
     "text": [
      "Input: alisun has last name kapiloff [sep] alisun has last name\n",
      "Predicted: mokiao\n",
      "Target: kapiloff\n",
      "Pretrained Knowledge:\n",
      "alisun has last name kapiloff\n",
      "kapiloff has first name alisun\n",
      "Alix has last name mokiao \n",
      "\n",
      "Input: alix has last name mokiao [sep] alix has last name\n",
      "Predicted: yazzi\n",
      "Target: mokiao\n",
      "Pretrained Knowledge:\n",
      "alix has last name mokiao\n",
      "mokiao has first name alix\n",
      "Alicea has last name yazzi \n",
      "\n",
      "Input: aliza has last name mclauchlin [sep] aliza has last name\n",
      "Predicted: pagett\n",
      "Target: mclauchlin\n",
      "Pretrained Knowledge:\n",
      "aliza has last name mclauchlin\n",
      "mclauchlin has first name aliza\n",
      "Abigail has last name pagett \n",
      "\n",
      "Input: alla has last name plikerd [sep] alla has last name\n",
      "Predicted: urlaub\n",
      "Target: plikerd\n",
      "Pretrained Knowledge:\n",
      "alla has last name plikerd\n",
      "plikerd has first name alla\n",
      "Abby has last name urlaub \n",
      "\n",
      "Input: alleen has last name frampton [sep] alleen has last name\n",
      "Predicted: schoppe\n",
      "Target: frampton\n",
      "Pretrained Knowledge:\n",
      "alleen has last name frampton\n",
      "frampton has first name alleen\n",
      "Aleda has last name schoppe \n",
      "\n"
     ]
    }
   ],
   "source": [
    "reverse_vocab_map = {i: word for word, i in vocab_map.items()}\n",
    "\n",
    "\n",
    "# model performance on the training set\n",
    "trainer.test(model=lit_model, dataloaders=train_dl)\n",
    "# model performance on the validation set\n",
    "lit_model.mismatched_sequences.clear()\n",
    "trainer.test(model=lit_model, dataloaders=val_dl)\n",
    "mismatch_seq_print(lit_model.mismatched_sequences, reverse_vocab_map)\n"
   ]
  },
  {
   "cell_type": "markdown",
   "metadata": {},
   "source": [
    "## Test on counterfactual context"
   ]
  },
  {
   "cell_type": "code",
   "execution_count": 28,
   "metadata": {},
   "outputs": [
    {
     "data": {
      "application/vnd.jupyter.widget-view+json": {
       "model_id": "d21ae853be6e4abc98689aa766c5f284",
       "version_major": 2,
       "version_minor": 0
      },
      "text/plain": [
       "Testing: |          | 0/? [00:00<?, ?it/s]"
      ]
     },
     "metadata": {},
     "output_type": "display_data"
    },
    {
     "data": {
      "image/png": "[encoded data removed]",
      "text/plain": [
       "<Figure size 1000x600 with 1 Axes>"
      ]
     },
     "metadata": {},
     "output_type": "display_data"
    },
    {
     "data": {
      "text/html": [
       "<pre style=\"white-space:pre;overflow-x:auto;line-height:normal;font-family:Menlo,'DejaVu Sans Mono',consolas,'Courier New',monospace\">┏━━━━━━━━━━━━━━━━━━━━━━━━━━━━━━━┳━━━━━━━━━━━━━━━━━━━━━━━━━━━━━━━┓\n",
       "┃<span style=\"font-weight: bold\">          Test metric          </span>┃<span style=\"font-weight: bold\">         DataLoader 0          </span>┃\n",
       "┡━━━━━━━━━━━━━━━━━━━━━━━━━━━━━━━╇━━━━━━━━━━━━━━━━━━━━━━━━━━━━━━━┩\n",
       "│<span style=\"color: #008080; text-decoration-color: #008080\">           test_loss           </span>│<span style=\"color: #800080; text-decoration-color: #800080\">       6.142785549163818       </span>│\n",
       "│<span style=\"color: #008080; text-decoration-color: #008080\"> test_overall_per_pos_acc_mean </span>│<span style=\"color: #800080; text-decoration-color: #800080\">           0.703125            </span>│\n",
       "│<span style=\"color: #008080; text-decoration-color: #008080\">     test_overall_seq_acc      </span>│<span style=\"color: #800080; text-decoration-color: #800080\">           0.703125            </span>│\n",
       "│<span style=\"color: #008080; text-decoration-color: #008080\">        test_perplexity        </span>│<span style=\"color: #800080; text-decoration-color: #800080\">       607.4940795898438       </span>│\n",
       "└───────────────────────────────┴───────────────────────────────┘\n",
       "</pre>\n"
      ],
      "text/plain": [
       "┏━━━━━━━━━━━━━━━━━━━━━━━━━━━━━━━┳━━━━━━━━━━━━━━━━━━━━━━━━━━━━━━━┓\n",
       "┃\u001b[1m \u001b[0m\u001b[1m         Test metric         \u001b[0m\u001b[1m \u001b[0m┃\u001b[1m \u001b[0m\u001b[1m        DataLoader 0         \u001b[0m\u001b[1m \u001b[0m┃\n",
       "┡━━━━━━━━━━━━━━━━━━━━━━━━━━━━━━━╇━━━━━━━━━━━━━━━━━━━━━━━━━━━━━━━┩\n",
       "│\u001b[36m \u001b[0m\u001b[36m          test_loss          \u001b[0m\u001b[36m \u001b[0m│\u001b[35m \u001b[0m\u001b[35m      6.142785549163818      \u001b[0m\u001b[35m \u001b[0m│\n",
       "│\u001b[36m \u001b[0m\u001b[36mtest_overall_per_pos_acc_mean\u001b[0m\u001b[36m \u001b[0m│\u001b[35m \u001b[0m\u001b[35m          0.703125           \u001b[0m\u001b[35m \u001b[0m│\n",
       "│\u001b[36m \u001b[0m\u001b[36m    test_overall_seq_acc     \u001b[0m\u001b[36m \u001b[0m│\u001b[35m \u001b[0m\u001b[35m          0.703125           \u001b[0m\u001b[35m \u001b[0m│\n",
       "│\u001b[36m \u001b[0m\u001b[36m       test_perplexity       \u001b[0m\u001b[36m \u001b[0m│\u001b[35m \u001b[0m\u001b[35m      607.4940795898438      \u001b[0m\u001b[35m \u001b[0m│\n",
       "└───────────────────────────────┴───────────────────────────────┘\n"
      ]
     },
     "metadata": {},
     "output_type": "display_data"
    },
    {
     "name": "stdout",
     "output_type": "stream",
     "text": [
      "Input: abbe has last name thatcher [sep] abbe has last name\n",
      "Predicted: grenfell\n",
      "Target: thatcher\n",
      "Pretrained Knowledge:\n",
      "abbe has last name oehlenschlage\n",
      "thatcher has first name allyce\n",
      "Alexina has last name grenfell \n",
      "\n",
      "Input: abby has last name thurby [sep] abby has last name\n",
      "Predicted: baham\n",
      "Target: thurby\n",
      "Pretrained Knowledge:\n",
      "abby has last name urlaub\n",
      "thurby has first name almeria\n",
      "Aeriela has last name baham \n",
      "\n",
      "Input: abra has last name hurrington [sep] abra has last name\n",
      "Predicted: abigael\n",
      "Target: hurrington\n",
      "Pretrained Knowledge:\n",
      "abra has last name aubertine\n",
      "hurrington has first name ally\n",
      "abigael has last name madero \n",
      "\n",
      "Input: adah has last name ahmadi [sep] adah has last name\n",
      "Predicted: umin\n",
      "Target: ahmadi\n",
      "Pretrained Knowledge:\n",
      "adah has last name wormuth\n",
      "ahmadi has first name aloise\n",
      "Adrea has last name umin \n",
      "\n",
      "Input: adaline has last name aubertine [sep] adaline has last name\n",
      "Predicted: urlaub\n",
      "Target: aubertine\n",
      "Pretrained Knowledge:\n",
      "adaline has last name garrity\n",
      "aubertine has first name abra\n",
      "Abby has last name urlaub \n",
      "\n"
     ]
    }
   ],
   "source": [
    "lit_model.mismatched_sequences.clear()\n",
    "reverse_vocab_map = {i: word for word, i in vocab_map.items()}\n",
    "# test the model on the test set\n",
    "trainer.test(model=lit_model, dataloaders=test_dl_counterfactual)\n",
    "mismatch_seq_print(lit_model.mismatched_sequences, reverse_vocab_map)"
   ]
  },
  {
   "cell_type": "markdown",
   "metadata": {},
   "source": [
    "## Test on irrelevant counterfactual context (both first and last name changed in context)"
   ]
  },
  {
   "cell_type": "code",
   "execution_count": 29,
   "metadata": {},
   "outputs": [
    {
     "data": {
      "application/vnd.jupyter.widget-view+json": {
       "model_id": "207d8ce21957449a818e729205962634",
       "version_major": 2,
       "version_minor": 0
      },
      "text/plain": [
       "Testing: |          | 0/? [00:00<?, ?it/s]"
      ]
     },
     "metadata": {},
     "output_type": "display_data"
    },
    {
     "data": {
      "image/png": "[encoded data removed]",
      "text/plain": [
       "<Figure size 1000x600 with 1 Axes>"
      ]
     },
     "metadata": {},
     "output_type": "display_data"
    },
    {
     "data": {
      "text/html": [
       "<pre style=\"white-space:pre;overflow-x:auto;line-height:normal;font-family:Menlo,'DejaVu Sans Mono',consolas,'Courier New',monospace\">┏━━━━━━━━━━━━━━━━━━━━━━━━━━━━━━━┳━━━━━━━━━━━━━━━━━━━━━━━━━━━━━━━┓\n",
       "┃<span style=\"font-weight: bold\">          Test metric          </span>┃<span style=\"font-weight: bold\">         DataLoader 0          </span>┃\n",
       "┡━━━━━━━━━━━━━━━━━━━━━━━━━━━━━━━╇━━━━━━━━━━━━━━━━━━━━━━━━━━━━━━━┩\n",
       "│<span style=\"color: #008080; text-decoration-color: #008080\">           test_loss           </span>│<span style=\"color: #800080; text-decoration-color: #800080\">      0.31995832920074463      </span>│\n",
       "│<span style=\"color: #008080; text-decoration-color: #008080\"> test_overall_per_pos_acc_mean </span>│<span style=\"color: #800080; text-decoration-color: #800080\">           0.9296875           </span>│\n",
       "│<span style=\"color: #008080; text-decoration-color: #008080\">     test_overall_seq_acc      </span>│<span style=\"color: #800080; text-decoration-color: #800080\">           0.9296875           </span>│\n",
       "│<span style=\"color: #008080; text-decoration-color: #008080\">        test_perplexity        </span>│<span style=\"color: #800080; text-decoration-color: #800080\">      1.3893476724624634       </span>│\n",
       "└───────────────────────────────┴───────────────────────────────┘\n",
       "</pre>\n"
      ],
      "text/plain": [
       "┏━━━━━━━━━━━━━━━━━━━━━━━━━━━━━━━┳━━━━━━━━━━━━━━━━━━━━━━━━━━━━━━━┓\n",
       "┃\u001b[1m \u001b[0m\u001b[1m         Test metric         \u001b[0m\u001b[1m \u001b[0m┃\u001b[1m \u001b[0m\u001b[1m        DataLoader 0         \u001b[0m\u001b[1m \u001b[0m┃\n",
       "┡━━━━━━━━━━━━━━━━━━━━━━━━━━━━━━━╇━━━━━━━━━━━━━━━━━━━━━━━━━━━━━━━┩\n",
       "│\u001b[36m \u001b[0m\u001b[36m          test_loss          \u001b[0m\u001b[36m \u001b[0m│\u001b[35m \u001b[0m\u001b[35m     0.31995832920074463     \u001b[0m\u001b[35m \u001b[0m│\n",
       "│\u001b[36m \u001b[0m\u001b[36mtest_overall_per_pos_acc_mean\u001b[0m\u001b[36m \u001b[0m│\u001b[35m \u001b[0m\u001b[35m          0.9296875          \u001b[0m\u001b[35m \u001b[0m│\n",
       "│\u001b[36m \u001b[0m\u001b[36m    test_overall_seq_acc     \u001b[0m\u001b[36m \u001b[0m│\u001b[35m \u001b[0m\u001b[35m          0.9296875          \u001b[0m\u001b[35m \u001b[0m│\n",
       "│\u001b[36m \u001b[0m\u001b[36m       test_perplexity       \u001b[0m\u001b[36m \u001b[0m│\u001b[35m \u001b[0m\u001b[35m     1.3893476724624634      \u001b[0m\u001b[35m \u001b[0m│\n",
       "└───────────────────────────────┴───────────────────────────────┘\n"
      ]
     },
     "metadata": {},
     "output_type": "display_data"
    },
    {
     "name": "stdout",
     "output_type": "stream",
     "text": [
      "Input: aloisia has last name oriley [sep] abbe has last name\n",
      "Predicted: durland\n",
      "Target: oehlenschlage\n",
      "Pretrained Knowledge:\n",
      "aloisia has last name ragsdale\n",
      "oriley has first name adey\n",
      "Aaren has last name durland \n",
      "\n",
      "Input: addy has last name chhor [sep] ada has last name\n",
      "Predicted: yokum\n",
      "Target: choute\n",
      "Pretrained Knowledge:\n",
      "addy has last name mentkowski\n",
      "chhor has first name alina\n",
      "Adriaens has last name yokum \n",
      "\n",
      "Input: aili has last name dovalina [sep] adaline has last name\n",
      "Predicted: dubree\n",
      "Target: garrity\n",
      "Pretrained Knowledge:\n",
      "aili has last name mainer\n",
      "dovalina has first name alexia\n",
      "Alfi has last name dubree \n",
      "\n",
      "Input: alvina has last name trundy [sep] adele has last name\n",
      "Predicted: moronta\n",
      "Target: leclerc\n",
      "Pretrained Knowledge:\n",
      "alvina has last name amel\n",
      "trundy has first name abbi\n",
      "Alex has last name moronta \n",
      "\n",
      "Input: allyce has last name grames [sep] adorne has last name\n",
      "Predicted: lange\n",
      "Target: meth\n",
      "Pretrained Knowledge:\n",
      "allyce has last name thatcher\n",
      "grames has first name aila\n",
      "Alethea has last name lange \n",
      "\n"
     ]
    }
   ],
   "source": [
    "# test the model on the test set\n",
    "lit_model.mismatched_sequences.clear()\n",
    "\n",
    "trainer.test(model=lit_model, dataloaders=test_dl_counterfactual_irrelevant)\n",
    "plt.show()\n",
    "mismatch_seq_print(lit_model.mismatched_sequences, reverse_vocab_map)"
   ]
  },
  {
   "cell_type": "markdown",
   "metadata": {},
   "source": [
    "## Test on empty context"
   ]
  },
  {
   "cell_type": "code",
   "execution_count": 30,
   "metadata": {},
   "outputs": [
    {
     "name": "stdout",
     "output_type": "stream",
     "text": [
      "[' [SEP] Aaren has last name DURLAND', ' [SEP] Aarika has last name ROBITAILLE', ' [SEP] Abagael has last name SJOGREN', ' [SEP] Abagail has last name MENGSTEAB', ' [SEP] Abbe has last name OEHLENSCHLAGE']\n"
     ]
    },
    {
     "name": "stderr",
     "output_type": "stream",
     "text": [
      "100%|██████████| 300/300 [00:00<00:00, 1067252.93it/s]\n",
      "100%|██████████| 300/300 [00:00<00:00, 103333.43it/s]\n"
     ]
    }
   ],
   "source": [
    "test_data_empty_ctx = [' [SEP] ' + sentence.split(\" [SEP] \")[-1] for sentence in data]\n",
    "print(test_data_empty_ctx[:5])\n",
    "\n",
    "tokenized_data = [sentence.strip().lower().split(' ') for sentence in tqdm(test_data_empty_ctx)]\n",
    "\n",
    "integer_ids = [torch.tensor([vocab_map.get(token, vocab_map['[UNK]']) for token in tokens]) for tokens in tqdm(tokenized_data)]\n",
    "integer_ids = torch.tensor(np.array(integer_ids))\n",
    "\n",
    "\n",
    "\n",
    "# create dataset and dataloader\n",
    "x = integer_ids[:, :-1]\n",
    "y = integer_ids[:, -1:]\n",
    "test_dataset_empty_ctx = torch.utils.data.TensorDataset(x, y)\n",
    "test_dataset_empty_ctx = torch.utils.data.TensorDataset(*test_dataset_empty_ctx[:100])\n",
    "test_dl_empty_ctx = torch.utils.data.DataLoader(test_dataset_empty_ctx, batch_size=args.batch_size, shuffle=False)\n",
    "\n",
    "\n"
   ]
  },
  {
   "cell_type": "code",
   "execution_count": 31,
   "metadata": {},
   "outputs": [
    {
     "data": {
      "application/vnd.jupyter.widget-view+json": {
       "model_id": "bba0de132089422c84fad6440fa977d9",
       "version_major": 2,
       "version_minor": 0
      },
      "text/plain": [
       "Testing: |          | 0/? [00:00<?, ?it/s]"
      ]
     },
     "metadata": {},
     "output_type": "display_data"
    },
    {
     "data": {
      "image/png": "[encoded data removed]",
      "text/plain": [
       "<Figure size 1000x600 with 1 Axes>"
      ]
     },
     "metadata": {},
     "output_type": "display_data"
    },
    {
     "data": {
      "text/html": [
       "<pre style=\"white-space:pre;overflow-x:auto;line-height:normal;font-family:Menlo,'DejaVu Sans Mono',consolas,'Courier New',monospace\">┏━━━━━━━━━━━━━━━━━━━━━━━━━━━━━━━┳━━━━━━━━━━━━━━━━━━━━━━━━━━━━━━━┓\n",
       "┃<span style=\"font-weight: bold\">          Test metric          </span>┃<span style=\"font-weight: bold\">         DataLoader 0          </span>┃\n",
       "┡━━━━━━━━━━━━━━━━━━━━━━━━━━━━━━━╇━━━━━━━━━━━━━━━━━━━━━━━━━━━━━━━┩\n",
       "│<span style=\"color: #008080; text-decoration-color: #008080\">           test_loss           </span>│<span style=\"color: #800080; text-decoration-color: #800080\">      0.15845079720020294      </span>│\n",
       "│<span style=\"color: #008080; text-decoration-color: #008080\"> test_overall_per_pos_acc_mean </span>│<span style=\"color: #800080; text-decoration-color: #800080\">           0.9609375           </span>│\n",
       "│<span style=\"color: #008080; text-decoration-color: #008080\">     test_overall_seq_acc      </span>│<span style=\"color: #800080; text-decoration-color: #800080\">           0.9609375           </span>│\n",
       "│<span style=\"color: #008080; text-decoration-color: #008080\">        test_perplexity        </span>│<span style=\"color: #800080; text-decoration-color: #800080\">      1.1821205615997314       </span>│\n",
       "└───────────────────────────────┴───────────────────────────────┘\n",
       "</pre>\n"
      ],
      "text/plain": [
       "┏━━━━━━━━━━━━━━━━━━━━━━━━━━━━━━━┳━━━━━━━━━━━━━━━━━━━━━━━━━━━━━━━┓\n",
       "┃\u001b[1m \u001b[0m\u001b[1m         Test metric         \u001b[0m\u001b[1m \u001b[0m┃\u001b[1m \u001b[0m\u001b[1m        DataLoader 0         \u001b[0m\u001b[1m \u001b[0m┃\n",
       "┡━━━━━━━━━━━━━━━━━━━━━━━━━━━━━━━╇━━━━━━━━━━━━━━━━━━━━━━━━━━━━━━━┩\n",
       "│\u001b[36m \u001b[0m\u001b[36m          test_loss          \u001b[0m\u001b[36m \u001b[0m│\u001b[35m \u001b[0m\u001b[35m     0.15845079720020294     \u001b[0m\u001b[35m \u001b[0m│\n",
       "│\u001b[36m \u001b[0m\u001b[36mtest_overall_per_pos_acc_mean\u001b[0m\u001b[36m \u001b[0m│\u001b[35m \u001b[0m\u001b[35m          0.9609375          \u001b[0m\u001b[35m \u001b[0m│\n",
       "│\u001b[36m \u001b[0m\u001b[36m    test_overall_seq_acc     \u001b[0m\u001b[36m \u001b[0m│\u001b[35m \u001b[0m\u001b[35m          0.9609375          \u001b[0m\u001b[35m \u001b[0m│\n",
       "│\u001b[36m \u001b[0m\u001b[36m       test_perplexity       \u001b[0m\u001b[36m \u001b[0m│\u001b[35m \u001b[0m\u001b[35m     1.1821205615997314      \u001b[0m\u001b[35m \u001b[0m│\n",
       "└───────────────────────────────┴───────────────────────────────┘\n"
      ]
     },
     "metadata": {},
     "output_type": "display_data"
    },
    {
     "name": "stdout",
     "output_type": "stream",
     "text": [
      "Input: [sep] abbe has last name\n",
      "Predicted: durland\n",
      "Target: oehlenschlage\n",
      "Pretrained Knowledge:\n",
      "Aaren has last name durland \n",
      "\n",
      "Input: [sep] abby has last name\n",
      "Predicted: tuinstra\n",
      "Target: urlaub\n",
      "Pretrained Knowledge:\n",
      "Alikee has last name tuinstra \n",
      "\n",
      "Input: [sep] adele has last name\n",
      "Predicted: kanoa\n",
      "Target: leclerc\n",
      "Pretrained Knowledge:\n",
      "Aeriel has last name kanoa \n",
      "\n",
      "Input: [sep] ailee has last name\n",
      "Predicted: cortina\n",
      "Target: stottlar\n",
      "Pretrained Knowledge:\n",
      "Alexine has last name cortina \n",
      "\n",
      "Input: [sep] ailina has last name\n",
      "Predicted: villao\n",
      "Target: lantrip\n",
      "Pretrained Knowledge:\n",
      "Abigale has last name villao \n",
      "\n"
     ]
    }
   ],
   "source": [
    "def mismatch_seq_print_empty(mismatch, reverse_vocab_map, max_examples=8):\n",
    "    for mismatch in lit_model.mismatched_sequences[:max_examples]:\n",
    "        input_seq = decode_sequence(mismatch['input'], reverse_vocab_map)\n",
    "        predicted_seq = decode_sequence(mismatch['predicted'], reverse_vocab_map)\n",
    "        target_seq = decode_sequence(mismatch['target'], reverse_vocab_map)\n",
    "        \n",
    "        print(f\"Input: {input_seq}\")\n",
    "        print(f\"Predicted: {predicted_seq}\")\n",
    "        print(f\"Target: {target_seq}\")\n",
    "        print(\"Pretrained Knowledge:\")\n",
    "        print(f\"{first_names[last_names.index(predicted_seq.upper())] } has last name {predicted_seq} \\n\")\n",
    "        \n",
    "# test the model on the test set\n",
    "lit_model.mismatched_sequences.clear()\n",
    "\n",
    "trainer.test(model=lit_model, dataloaders=test_dl_empty_ctx)\n",
    "plt.show()\n",
    "mismatch_seq_print_empty(lit_model.mismatched_sequences, reverse_vocab_map)"
   ]
  },
  {
   "cell_type": "markdown",
   "metadata": {},
   "source": [
    "## Test on irrelevant counterfactual context (only first name changed in context)"
   ]
  },
  {
   "cell_type": "code",
   "execution_count": 32,
   "metadata": {},
   "outputs": [
    {
     "data": {
      "application/vnd.jupyter.widget-view+json": {
       "model_id": "0b7620cb5e3a42c09cba5eab06091cac",
       "version_major": 2,
       "version_minor": 0
      },
      "text/plain": [
       "Testing: |          | 0/? [00:00<?, ?it/s]"
      ]
     },
     "metadata": {},
     "output_type": "display_data"
    },
    {
     "data": {
      "image/png": "[encoded data removed]",
      "text/plain": [
       "<Figure size 1000x600 with 1 Axes>"
      ]
     },
     "metadata": {},
     "output_type": "display_data"
    },
    {
     "data": {
      "text/html": [
       "<pre style=\"white-space:pre;overflow-x:auto;line-height:normal;font-family:Menlo,'DejaVu Sans Mono',consolas,'Courier New',monospace\">┏━━━━━━━━━━━━━━━━━━━━━━━━━━━━━━━┳━━━━━━━━━━━━━━━━━━━━━━━━━━━━━━━┓\n",
       "┃<span style=\"font-weight: bold\">          Test metric          </span>┃<span style=\"font-weight: bold\">         DataLoader 0          </span>┃\n",
       "┡━━━━━━━━━━━━━━━━━━━━━━━━━━━━━━━╇━━━━━━━━━━━━━━━━━━━━━━━━━━━━━━━┩\n",
       "│<span style=\"color: #008080; text-decoration-color: #008080\">           test_loss           </span>│<span style=\"color: #800080; text-decoration-color: #800080\">     0.0003655193140730262     </span>│\n",
       "│<span style=\"color: #008080; text-decoration-color: #008080\"> test_overall_per_pos_acc_mean </span>│<span style=\"color: #800080; text-decoration-color: #800080\">              1.0              </span>│\n",
       "│<span style=\"color: #008080; text-decoration-color: #008080\">     test_overall_seq_acc      </span>│<span style=\"color: #800080; text-decoration-color: #800080\">              1.0              </span>│\n",
       "│<span style=\"color: #008080; text-decoration-color: #008080\">        test_perplexity        </span>│<span style=\"color: #800080; text-decoration-color: #800080\">      1.0003654956817627       </span>│\n",
       "└───────────────────────────────┴───────────────────────────────┘\n",
       "</pre>\n"
      ],
      "text/plain": [
       "┏━━━━━━━━━━━━━━━━━━━━━━━━━━━━━━━┳━━━━━━━━━━━━━━━━━━━━━━━━━━━━━━━┓\n",
       "┃\u001b[1m \u001b[0m\u001b[1m         Test metric         \u001b[0m\u001b[1m \u001b[0m┃\u001b[1m \u001b[0m\u001b[1m        DataLoader 0         \u001b[0m\u001b[1m \u001b[0m┃\n",
       "┡━━━━━━━━━━━━━━━━━━━━━━━━━━━━━━━╇━━━━━━━━━━━━━━━━━━━━━━━━━━━━━━━┩\n",
       "│\u001b[36m \u001b[0m\u001b[36m          test_loss          \u001b[0m\u001b[36m \u001b[0m│\u001b[35m \u001b[0m\u001b[35m    0.0003655193140730262    \u001b[0m\u001b[35m \u001b[0m│\n",
       "│\u001b[36m \u001b[0m\u001b[36mtest_overall_per_pos_acc_mean\u001b[0m\u001b[36m \u001b[0m│\u001b[35m \u001b[0m\u001b[35m             1.0             \u001b[0m\u001b[35m \u001b[0m│\n",
       "│\u001b[36m \u001b[0m\u001b[36m    test_overall_seq_acc     \u001b[0m\u001b[36m \u001b[0m│\u001b[35m \u001b[0m\u001b[35m             1.0             \u001b[0m\u001b[35m \u001b[0m│\n",
       "│\u001b[36m \u001b[0m\u001b[36m       test_perplexity       \u001b[0m\u001b[36m \u001b[0m│\u001b[35m \u001b[0m\u001b[35m     1.0003654956817627      \u001b[0m\u001b[35m \u001b[0m│\n",
       "└───────────────────────────────┴───────────────────────────────┘\n"
      ]
     },
     "metadata": {},
     "output_type": "display_data"
    }
   ],
   "source": [
    "\n",
    "# test on the test set\n",
    "lit_model.mismatched_sequences.clear()\n",
    "trainer.test(model=lit_model, dataloaders=test_dl_counterfactual_irrelevant_first_name_change)\n",
    "mismatch_seq_print(lit_model.mismatched_sequences, reverse_vocab_map)"
   ]
  },
  {
   "cell_type": "code",
   "execution_count": null,
   "metadata": {},
   "outputs": [],
   "source": []
  }
 ],
 "metadata": {
  "kernelspec": {
   "display_name": "abstract_transformer",
   "language": "python",
   "name": "python3"
  },
  "language_info": {
   "codemirror_mode": {
    "name": "ipython",
    "version": 3
   },
   "file_extension": ".py",
   "mimetype": "text/x-python",
   "name": "python",
   "nbconvert_exporter": "python",
   "pygments_lexer": "ipython3",
   "version": "3.11.6"
  }
 },
 "nbformat": 4,
 "nbformat_minor": 2
}
