{
 "cells": [
  {
   "cell_type": "markdown",
   "metadata": {},
   "source": [
    "# Test on Controllability and Robustness on Name Pair Task; Prediction on Last Name only; Train w/o Counterfactual"
   ]
  },
  {
   "cell_type": "markdown",
   "metadata": {},
   "source": [
    "**input seq**: [SC] first_name_ctx has last name_ctx last_name [SEP] [EC] first_name \n",
    "\n",
    "**target seq**: has last name last_name [EOS]\n",
    "\n",
    "- Training and Validation: first_name_ctx == first_name, last_name_ctx == last_name1  \n",
    "\n",
    "- Counterfactual Testing: first_name_ctx == first_name, last_name_ctx != last_name \n",
    "\n",
    "- Counterfactual Irrelevant Testing: first_name_ctx != first_name, last_name_ctx != last_name \n",
    "\n",
    "- Counterfactual Irrelevant First Name Change Only Testing: first_name_ctx != first_name, last_name_ctx == last_name \n",
    "\n",
    "- Empty Context Testing: input  [SEP] first_name has last name, target last_name"
   ]
  },
  {
   "cell_type": "code",
   "execution_count": 1,
   "metadata": {},
   "outputs": [],
   "source": [
    "import os\n",
    "os.environ['CUDA_LAUNCH_BLOCKING'] = \"1\"\n",
    "# os.environ['TORCH_USE_CUDA_DSA'] = '1'"
   ]
  },
  {
   "cell_type": "code",
   "execution_count": 2,
   "metadata": {},
   "outputs": [],
   "source": [
    "import torch\n",
    "import torchtext\n",
    "from lightning.pytorch.loggers.wandb import WandbLogger\n",
    "import torchmetrics\n",
    "\n",
    "import numpy as np\n",
    "import wandb\n",
    "import torchinfo\n",
    "from contextlib import nullcontext\n",
    "from  tqdm import tqdm, trange\n",
    "import argparse\n",
    "\n",
    "\n",
    "import sys; sys.path += ['..']\n",
    "from language_models import TransformerLM, configure_optimizers\n"
   ]
  },
  {
   "cell_type": "markdown",
   "metadata": {},
   "source": [
    "## Config"
   ]
  },
  {
   "cell_type": "code",
   "execution_count": 3,
   "metadata": {},
   "outputs": [],
   "source": [
    "args = argparse.Namespace(\n",
    "    batch_size=32, n_epochs=100, log_on_step=True,\n",
    "    wandb_project=\"controllability-robustness-test\", run_name='hello', \n",
    "    n_layers=1, n_heads=4, d_model=128, dff=128*4)"
   ]
  },
  {
   "cell_type": "code",
   "execution_count": 4,
   "metadata": {},
   "outputs": [],
   "source": [
    "# region some configuration\n",
    "device = 'cuada'\n",
    "device_type = 'cuda' if 'cuda' in device else 'cpu' # for later use in torch.autocast\n",
    "dtype = 'bfloat16' if torch.cuda.is_available() and torch.cuda.is_bf16_supported() else 'float16'\n",
    "# dtype = 'float32'\n",
    "ptdtype = {'float32': torch.float32, 'bfloat16': torch.bfloat16, 'float16': torch.float16}[dtype]\n",
    "\n",
    "ctx = nullcontext() if device_type == 'cpu' else torch.amp.autocast(device_type=device_type, dtype=ptdtype)\n",
    "# wandb logging\n",
    "wandb_log = False\n",
    "wandb_project = args.wandb_project\n",
    "# endregion\n"
   ]
  },
  {
   "cell_type": "markdown",
   "metadata": {},
   "source": [
    "## Data"
   ]
  },
  {
   "cell_type": "code",
   "execution_count": 5,
   "metadata": {},
   "outputs": [
    {
     "name": "stdout",
     "output_type": "stream",
     "text": [
      "vocab size:  507\n",
      "['[SC] Aliza has last name WESTAD [SEP] [EC] Aaren has last name DURLAND [EOS]', '[SC] Agace has last name GERMAINE [SEP] [EC] Aarika has last name ROBITAILLE [EOS]', '[SC] Alys has last name HOLABAUGH [SEP] [EC] Abagael has last name SJOGREN [EOS]', '[SC] Agnese has last name SCHOPPE [SEP] [EC] Abagail has last name MENGSTEAB [EOS]', '[SC] Alyssa has last name BRICKETT [SEP] [EC] Abbe has last name OEHLENSCHLAGE [EOS]']\n",
      "['[SC] Aaren has last name DHONDT [SEP] [EC] Aaren has last name DHONDT [EOS]', '[SC] Aarika has last name GUZI [SEP] [EC] Aarika has last name GUZI [EOS]', '[SC] Abagael has last name AHMADI [SEP] [EC] Abagael has last name AHMADI [EOS]', '[SC] Abagail has last name YOKUM [SEP] [EC] Abagail has last name YOKUM [EOS]', '[SC] Abbe has last name KOJIMA [SEP] [EC] Abbe has last name KOJIMA [EOS]']\n",
      "['[SC] Adelice has last name DURLAND [SEP] [EC] Aaren has last name DURLAND [EOS]', '[SC] Aliza has last name ROBITAILLE [SEP] [EC] Aarika has last name ROBITAILLE [EOS]', '[SC] Aline has last name SJOGREN [SEP] [EC] Abagael has last name SJOGREN [EOS]', '[SC] Agata has last name MENGSTEAB [SEP] [EC] Abagail has last name MENGSTEAB [EOS]', '[SC] Aloysia has last name OEHLENSCHLAGE [SEP] [EC] Abbe has last name OEHLENSCHLAGE [EOS]']\n",
      "data_val:  ['[SC] Amalee has last name CASADOS [SEP] [EC] Amalee has last name CASADOS [EOS]', '[SC] Amaleta has last name NASH [SEP] [EC] Amaleta has last name NASH [EOS]', '[SC] Amalia has last name DEGRACIA [SEP] [EC] Amalia has last name DEGRACIA [EOS]', '[SC] Amalie has last name FECHTIG [SEP] [EC] Amalie has last name FECHTIG [EOS]', '[SC] Amalita has last name WAHLMAN [SEP] [EC] Amalita has last name WAHLMAN [EOS]']\n"
     ]
    },
    {
     "name": "stderr",
     "output_type": "stream",
     "text": [
      "100%|██████████| 200/200 [00:00<00:00, 180283.86it/s]\n",
      "100%|██████████| 50/50 [00:00<00:00, 327168.80it/s]\n",
      "100%|██████████| 200/200 [00:00<00:00, 762600.73it/s]\n",
      "100%|██████████| 200/200 [00:00<00:00, 416721.71it/s]\n",
      "100%|██████████| 200/200 [00:00<00:00, 476084.45it/s]\n",
      "100%|██████████| 200/200 [00:00<00:00, 76657.30it/s]\n",
      "100%|██████████| 50/50 [00:00<00:00, 55730.85it/s]\n",
      "100%|██████████| 200/200 [00:00<00:00, 97655.51it/s]\n",
      "100%|██████████| 200/200 [00:00<00:00, 33144.76it/s]\n",
      "100%|██████████| 200/200 [00:00<00:00, 34916.16it/s]"
     ]
    },
    {
     "name": "stdout",
     "output_type": "stream",
     "text": [
      "Number of batches:  7\n",
      "4 4 4\n",
      "torch.Size([32, 13]) torch.Size([32, 13])\n"
     ]
    },
    {
     "name": "stderr",
     "output_type": "stream",
     "text": [
      "\n"
     ]
    }
   ],
   "source": [
    "# get data and vocab for the first 200 samples\n",
    "data_path = '../name_pairs_dataset/full-sentences.txt'\n",
    "with open(data_path) as f:\n",
    "    full_data = f.read().splitlines()[:250]\n",
    "    data = full_data[:200]\n",
    "    data_val = full_data[200:250]\n",
    "    last_names = [x.split(' ')[-1] for x in full_data]\n",
    "\n",
    "with open('../name_pairs_dataset/first-names.txt') as f:\n",
    "    first_names = f.read().splitlines()[:250]\n",
    "\n",
    "\n",
    "# create vocab map\n",
    "vocab = first_names + last_names\n",
    "vocab = [x.lower() for x in vocab]\n",
    "vocab += ['has', 'last', 'name', '[UNK]', '[sep]', '[sc]', '[ec]','[eos]']\n",
    "vocab = list(set(vocab))\n",
    "vocab_map = {vocab: i for i, vocab in enumerate(vocab)}\n",
    "vocab_size = len(vocab)\n",
    "print('vocab size: ', vocab_size) # vocab size is very large; especially for a task this simple\n",
    "\n",
    "first_names = first_names[:200]\n",
    "last_names = last_names[:200]\n",
    "# keep the same first name in ctx, sample different last names\n",
    "test_data_counterfactual = [f'{\" \".join(sentence.split(\" \")[:-1])} {last_names[np.random.randint(len(last_names))]}' for sentence in data]\n",
    "test_data_counterfactual = [f'[SC] {sentence} [SEP] [EC] {sentence} [EOS]' for sentence in test_data_counterfactual]\n",
    "\n",
    "# sample different first and last names in ctx\n",
    "test_data_counterfactual_irrelevant = [f'{first_names[np.random.randint(len(first_names))]} {\" \".join(sentence.split(\" \")[1:])}' for sentence in data]\n",
    "test_data_counterfactual_irrelevant = [f'{\" \".join(sentence.split(\" \")[:-1])} {last_names[np.random.randint(len(last_names))]}' for sentence in test_data_counterfactual_irrelevant]\n",
    "test_data_counterfactual_irrelevant = [f'[SC] {test_data_counterfactual_irrelevant[i]} [SEP] [EC] {data[i]} [EOS]' for i in range(len(data))]\n",
    "\n",
    "test_data_counterfactual_irrelevant_first_name_change = [f'{first_names[np.random.randint(len(first_names))]} {\" \".join(sentence.split(\" \")[1:])}' for sentence in data]\n",
    "test_data_counterfactual_irrelevant_first_name_change = [f'[SC] {test_data_counterfactual_irrelevant_first_name_change[i]} [SEP] [EC] {data[i]} [EOS]' for i in range(len(data))]\n",
    "print(test_data_counterfactual_irrelevant[:5])\n",
    "print(test_data_counterfactual[:5])\n",
    "print(test_data_counterfactual_irrelevant_first_name_change[:5])\n",
    "# modify original sentences to include [SEP] token\n",
    "data = [f'[SC] {sentence} [SEP] [EC] {sentence} [EOS]' for sentence in data]\n",
    "data_val = [f'[SC] {sentence} [SEP] [EC] {sentence} [EOS]' for sentence in data_val]\n",
    "print(\"data_val: \", data_val[:5])\n",
    "# pick the last 1/2 of counterfactuals and add them to the training data\n",
    "#data += test_data_counterfactual[100:]\n",
    "\n",
    "\n",
    "tokenized_data = [sentence.strip().lower().split(' ') for sentence in tqdm(data)]\n",
    "tokenized_data_val = [sentence.strip().lower().split(' ') for sentence in tqdm(data_val)]\n",
    "test_tokenized_data_counterfactual = [sentence.strip().lower().split(' ') for sentence in tqdm(test_data_counterfactual)]\n",
    "test_tokenized_data_counterfactual_irrelevant = [sentence.strip().lower().split(' ') for sentence in tqdm(test_data_counterfactual_irrelevant)]\n",
    "test_tokenized_data_counterfactual_irrelevant_first_name_change = [sentence.strip().lower().split(' ') for sentence in tqdm(test_data_counterfactual_irrelevant_first_name_change)]\n",
    "\n",
    "integer_ids = [torch.tensor([vocab_map.get(token, vocab_map['[UNK]']) for token in tokens]) for tokens in tqdm(tokenized_data)]\n",
    "integer_ids = torch.tensor(np.array(integer_ids))\n",
    "integer_ids_val = [torch.tensor([vocab_map.get(token, vocab_map['[UNK]']) for token in tokens]) for tokens in tqdm(tokenized_data_val)]\n",
    "integer_ids_val = torch.tensor(np.array(integer_ids_val))\n",
    "integer_test_ids_counterfactual = [torch.tensor([vocab_map.get(token, vocab_map['[UNK]']) for token in tokens]) for tokens in tqdm(test_tokenized_data_counterfactual)]\n",
    "integer_test_ids_counterfactual = torch.tensor(np.array(integer_test_ids_counterfactual))\n",
    "integer_test_ids_counterfactul_irrelevant = [torch.tensor([vocab_map.get(token, vocab_map['[UNK]']) for token in tokens]) for tokens in tqdm(test_tokenized_data_counterfactual_irrelevant)]\n",
    "integer_test_ids_counterfactul_irrelevant = torch.tensor(np.array(integer_test_ids_counterfactul_irrelevant))\n",
    "integer_test_ids_counterfactual_irrelevant_first_name_change = [torch.tensor([vocab_map.get(token, vocab_map['[UNK]']) for token in tokens]) for tokens in tqdm(test_tokenized_data_counterfactual_irrelevant_first_name_change)]\n",
    "integer_test_ids_counterfactual_irrelevant_first_name_change = torch.tensor(np.array(integer_test_ids_counterfactual_irrelevant_first_name_change))\n",
    "\n",
    "# create dataset and dataloader\n",
    "x = integer_ids[:, :-1]\n",
    "y = integer_ids[:, -5:]\n",
    "x_out = integer_ids[:, 1:]\n",
    "x_val = integer_ids_val[:, :-1]\n",
    "y_val = integer_ids_val[:, -5:]\n",
    "x_out_val = integer_ids_val[:, 1:]\n",
    "x_test_counterfactual = integer_test_ids_counterfactual[:, :-1]\n",
    "y_test_counterfactual = integer_test_ids_counterfactual[:, -5:]\n",
    "x_out_test_counterfactual = integer_test_ids_counterfactual[:, 1:]\n",
    "x_test_counterfactual_irrelevant = integer_test_ids_counterfactul_irrelevant[:, :-1]\n",
    "y_test_counterfactual_irrelevant = integer_test_ids_counterfactul_irrelevant[:, -5:]\n",
    "x_out_test_counterfactual_irrelevant = integer_test_ids_counterfactul_irrelevant[:, 1:]\n",
    "x_test_counterfactual_irrelevant_first_name_change = integer_test_ids_counterfactual_irrelevant_first_name_change[:, :-1]\n",
    "y_test_counterfactual_irrelevant_first_name_change = integer_test_ids_counterfactual_irrelevant_first_name_change[:, -5:]\n",
    "x_out_test_counterfactual_irrelevant_first_name_change = integer_test_ids_counterfactual_irrelevant_first_name_change[:, 1:]\n",
    "\n",
    "x_train, y_train, x_val, y_val, x_train_test, y_train_test, x_val_test, y_val_test = x, x_out, x_val, x_out_val, x[:,:-4], y, x_val[:,:-4], y_val\n",
    "train_dataset = torch.utils.data.TensorDataset(x_train, y_train)\n",
    "val_dataset = torch.utils.data.TensorDataset(x_val, y_val)\n",
    "train_dataset_test = torch.utils.data.TensorDataset(x_train_test, y_train_test)\n",
    "val_dataset_test = torch.utils.data.TensorDataset(x_val_test, y_val_test)\n",
    "\n",
    "test_dataset_counterfactual = torch.utils.data.TensorDataset(x_test_counterfactual[:,:-4], y_test_counterfactual)\n",
    "test_dataset_counterfactual_irrelevant = torch.utils.data.TensorDataset(x_test_counterfactual_irrelevant[:,:-4], y_test_counterfactual_irrelevant)\n",
    "test_dataset_counterfactual_irrelevant_first_name_change = torch.utils.data.TensorDataset(x_test_counterfactual_irrelevant_first_name_change[:,:-4], y_test_counterfactual_irrelevant_first_name_change)\n",
    "\n",
    "# take first 100 samples for testing\n",
    "test_dataset_counterfactual = torch.utils.data.TensorDataset(*test_dataset_counterfactual[:100])\n",
    "test_dataset_counterfactual_irrelevant = torch.utils.data.TensorDataset(*test_dataset_counterfactual_irrelevant[:100])\n",
    "test_dataset_counterfactual_irrelevant_first_name_change = torch.utils.data.TensorDataset(*test_dataset_counterfactual_irrelevant_first_name_change[:100])\n",
    "\n",
    "# dataloader\n",
    "train_dl = torch.utils.data.DataLoader(train_dataset, batch_size=args.batch_size, shuffle=True)\n",
    "print(\"Number of batches: \", len(train_dl))\n",
    "train_dl_test = torch.utils.data.DataLoader(train_dataset_test, batch_size=args.batch_size, shuffle=True)\n",
    "val_dl = torch.utils.data.DataLoader(val_dataset, batch_size=args.batch_size, shuffle=False)\n",
    "val_dl_test = torch.utils.data.DataLoader(val_dataset_test, batch_size=args.batch_size, shuffle=False)\n",
    "test_dl_counterfactual = torch.utils.data.DataLoader(test_dataset_counterfactual, batch_size=args.batch_size, shuffle=False)\n",
    "test_dl_counterfactual_irrelevant = torch.utils.data.DataLoader(test_dataset_counterfactual_irrelevant, batch_size=args.batch_size, shuffle=False)\n",
    "test_dl_counterfactual_irrelevant_first_name_change = torch.utils.data.DataLoader(test_dataset_counterfactual_irrelevant_first_name_change, batch_size=args.batch_size, shuffle=False)\n",
    "seq_len = x.shape[1]\n",
    "output_seq_len = y.shape[1]\n",
    "print(len(test_dl_counterfactual), len(test_dl_counterfactual_irrelevant), len(test_dl_counterfactual_irrelevant_first_name_change))\n",
    "for x, y in val_dl:\n",
    "    print(x.shape, y.shape)\n",
    "    break\n",
    "    "
   ]
  },
  {
   "cell_type": "markdown",
   "metadata": {},
   "source": [
    "## Model"
   ]
  },
  {
   "cell_type": "code",
   "execution_count": 6,
   "metadata": {},
   "outputs": [],
   "source": [
    "import lightning as L\n",
    "import matplotlib.pyplot as plt\n",
    "\n",
    "class LitLanguageModel(L.LightningModule):\n",
    "    def __init__(self, model):\n",
    "        super().__init__()\n",
    "        self.model = model\n",
    "        self.mismatched_sequences = []\n",
    "        self.all_seq_acc = []\n",
    "        self.all_per_pos_acc = []\n",
    "\n",
    "    def training_step(self, batch, batch_idx):\n",
    "        x, y = batch\n",
    "        # with ctx:\n",
    "        logits, loss = self.model(x, y)\n",
    "        self.log('train_loss', loss, prog_bar=True, logger=True, on_step=args.log_on_step, on_epoch=True)\n",
    "\n",
    "        return loss\n",
    "\n",
    "    def validation_step(self, batch, batch_idx):\n",
    "        x, y = batch\n",
    "        # with ctx:\n",
    "        logits, loss = self.model(x, y)\n",
    "        \n",
    "\n",
    "        perplexity = torchmetrics.functional.text.perplexity(logits, y)\n",
    "        self.log(f\"val_loss\", loss, prog_bar=True, logger=True, add_dataloader_idx=False)\n",
    "        self.log(f'val_perplexity', perplexity, prog_bar=True, logger=True, add_dataloader_idx=False)\n",
    "\n",
    "    def test_step(self, batch, batch_idx):\n",
    "\n",
    "        x, y = batch\n",
    "        # Generate predictions using the generate function, return the entire sequence\n",
    "        predicted_idx = self.model.generate(x, max_new_tokens=y.size(1), top_k=1)\n",
    "        generated_seq = predicted_idx[:, x.size(1):]\n",
    "    \n",
    "        \n",
    "        # Calculate per position accuracy\n",
    "        per_pos_acc = self.per_position_accuracy(generated_seq, y)  \n",
    "        \n",
    "        # Calculate whole sequence accuracy\n",
    "        seq_acc = self.sequence_accuracy(generated_seq, y)\n",
    "        \n",
    "        # Store metrics for later averaging\n",
    "        self.all_seq_acc.append(seq_acc)\n",
    "        self.all_per_pos_acc.append(per_pos_acc)\n",
    "        \n",
    "        self.capture_mismatches(generated_seq,y, x)\n",
    "        \n",
    "    def sequence_accuracy(self, preds, targets):\n",
    "        # Check if entire sequences match\n",
    "        correct = torch.all(preds == targets, dim=1)\n",
    "        accuracy = torch.mean(correct.float())\n",
    "        return accuracy\n",
    "    \n",
    "    def per_position_accuracy(self, preds, targets):\n",
    "        correct = preds == targets\n",
    "        per_position_acc = correct.float().mean(dim=0)\n",
    "        return per_position_acc\n",
    "    \n",
    "    def capture_mismatches(self, preds, targets, inputs, max_examples=1000):\n",
    "        \"\"\"\n",
    "        Store examples of sequences where the predictions do not match the targets.\n",
    "        \n",
    "        Args:\n",
    "            preds (torch.Tensor): The model's predicted sequences.\n",
    "            targets (torch.Tensor): The actual sequences.\n",
    "            inputs (torch.Tensor): The input sequences to the model.\n",
    "            max_examples (int): Maximum number of mismatched sequences to store.\n",
    "        \"\"\"\n",
    "        # Convert predictions to class indices\n",
    "        mismatches = preds != targets\n",
    "        \n",
    "        # Iterate over the batch to find mismatches\n",
    "        for i in range(mismatches.size(0)):\n",
    "            if torch.any(mismatches[i]) and len(self.mismatched_sequences) < max_examples:\n",
    "                mismatch_data = {\n",
    "                    'input': inputs[i].cpu().numpy(),\n",
    "                    'predicted': preds[i].cpu().numpy(),\n",
    "                    'target': targets[i].cpu().numpy()\n",
    "                }\n",
    "                self.mismatched_sequences.append(mismatch_data)\n",
    "                \n",
    "    def on_test_epoch_end(self):\n",
    "        # Calculate overall metrics from all batches\n",
    "        if self.all_seq_acc and self.all_per_pos_acc:\n",
    "\n",
    "            overall_seq_acc = torch.mean(torch.stack(self.all_seq_acc))\n",
    "            overall_per_pos_acc = torch.mean(torch.stack(self.all_per_pos_acc), dim=0)\n",
    "            # Log overall metrics\n",
    "            self.log('test_overall_seq_acc', overall_seq_acc, on_step=False, on_epoch=True)\n",
    "            self.log('test_overall_per_pos_acc_mean', overall_per_pos_acc.mean(), on_step=False, on_epoch=True)\n",
    "\n",
    "            # Plot overall per position accuracy\n",
    "            plt.figure(figsize=(10, 6))\n",
    "            plt.plot(overall_per_pos_acc.cpu().numpy(), marker='o', linestyle='-')\n",
    "            plt.title('Overall Per Position Accuracy')\n",
    "            plt.xlabel('Position')\n",
    "            plt.ylabel('Accuracy')\n",
    "            plt.grid(True)\n",
    "            plt.show()\n",
    "\n",
    "            # Clear the accumulators for the next epoch\n",
    "            self.all_seq_acc = []\n",
    "            self.all_per_pos_acc = []   \n",
    "            \n",
    "             \n",
    "        \n",
    "\n",
    "\n",
    "    def configure_optimizers(self):\n",
    "        # NOTE: i chose these arbitrarily; may need to be tuned\n",
    "        optimizer = configure_optimizers(self.model, weight_decay=0.0, learning_rate=1e-3, betas=(0.9, 0.999), device_type=\"cuda\" if torch.cuda.is_available() else \"cpu\")\n",
    "        return optimizer"
   ]
  },
  {
   "cell_type": "code",
   "execution_count": 7,
   "metadata": {},
   "outputs": [
    {
     "data": {
      "text/plain": [
       "=======================================================================================================================================\n",
       "Layer (type (var_name):depth-idx)                                           Param #              Param %              Trainable\n",
       "=======================================================================================================================================\n",
       "TransformerLM (TransformerLM)                                               --                        --              True\n",
       "├─ModuleDict (layers): 1-1                                                  --                        --              True\n",
       "│    └─Embedding (token_embedder): 2-1                                      64,896                19.65%              True\n",
       "│    │    └─Linear (weights): 3-1                                           65,403                19.80%              True\n",
       "│    └─Embedding (positional_embedder): 2-2                                 1,664                  0.50%              True\n",
       "│    └─Dropout (dropout): 2-3                                               --                        --              --\n",
       "│    └─ModuleList (blocks): 2-4                                             --                        --              True\n",
       "│    │    └─EncoderBlock (0): 3-2                                           198,272               60.04%              True\n",
       "│    └─Linear (final_out): 2-5                                              (recursive)          (recursive)          True\n",
       "=======================================================================================================================================\n",
       "Total params: 330,235\n",
       "Trainable params: 330,235\n",
       "Non-trainable params: 0\n",
       "======================================================================================================================================="
      ]
     },
     "execution_count": 7,
     "metadata": {},
     "output_type": "execute_result"
    }
   ],
   "source": [
    "d_model = args.d_model # 128\n",
    "dff = args.dff # 256\n",
    "n_layers = args.n_layers\n",
    "n_heads = args.n_heads\n",
    "dropout_rate = 0.1\n",
    "activation = 'gelu'\n",
    "norm_first = True\n",
    "\n",
    "\n",
    "model_args = dict(\n",
    "    vocab_size=vocab_size, d_model=d_model, n_layers=n_layers, n_heads=n_heads, dff=dff,\n",
    "    dropout_rate=dropout_rate, activation=activation, norm_first=norm_first, max_block_size=seq_len)\n",
    "model = TransformerLM(**model_args)#.to(device)\n",
    "torchinfo.summary(model, row_settings=[\"depth\", \"var_names\"], col_names=[\"num_params\", \"params_percent\", \"trainable\"], depth=3, col_width=20)"
   ]
  },
  {
   "cell_type": "code",
   "execution_count": 8,
   "metadata": {},
   "outputs": [],
   "source": [
    "lit_model = LitLanguageModel(model)"
   ]
  },
  {
   "cell_type": "code",
   "execution_count": 9,
   "metadata": {},
   "outputs": [
    {
     "name": "stderr",
     "output_type": "stream",
     "text": [
      "GPU available: False, used: False\n",
      "TPU available: False, using: 0 TPU cores\n",
      "IPU available: False, using: 0 IPUs\n",
      "HPU available: False, using: 0 HPUs\n",
      "\n",
      "  | Name  | Type          | Params\n",
      "----------------------------------------\n",
      "0 | model | TransformerLM | 330 K \n",
      "----------------------------------------\n",
      "330 K     Trainable params\n",
      "0         Non-trainable params\n",
      "330 K     Total params\n",
      "1.321     Total estimated model params size (MB)\n"
     ]
    },
    {
     "name": "stdout",
     "output_type": "stream",
     "text": [
      "num decayed parameter tensors: 7, with 328,064 parameters\n",
      "num non-decayed parameter tensors: 9, with 2,171 parameters\n",
      "using fused AdamW: False\n"
     ]
    },
    {
     "data": {
      "application/vnd.jupyter.widget-view+json": {
       "model_id": "fbe992b24e5a4656a8dccb7246dbe78c",
       "version_major": 2,
       "version_minor": 0
      },
      "text/plain": [
       "Sanity Checking: |          | 0/? [00:00<?, ?it/s]"
      ]
     },
     "metadata": {},
     "output_type": "display_data"
    },
    {
     "name": "stdout",
     "output_type": "stream",
     "text": [
      "Intel MKL WARNING: Support of Intel(R) Streaming SIMD Extensions 4.2 (Intel(R) SSE4.2) enabled only processors has been deprecated. Intel oneAPI Math Kernel Library 2025.0 will require Intel(R) Advanced Vector Extensions (Intel(R) AVX) instructions.\n"
     ]
    },
    {
     "name": "stderr",
     "output_type": "stream",
     "text": [
      "/Users/ruixiaowang/miniforge3/envs/casestudy_env/lib/python3.11/site-packages/lightning/pytorch/trainer/connectors/data_connector.py:441: The 'val_dataloader' does not have many workers which may be a bottleneck. Consider increasing the value of the `num_workers` argument` to `num_workers=7` in the `DataLoader` to improve performance.\n",
      "/Users/ruixiaowang/miniforge3/envs/casestudy_env/lib/python3.11/site-packages/lightning/pytorch/core/module.py:507: You called `self.log('val_loss', ..., logger=True)` but have no logger configured. You can enable one by doing `Trainer(logger=ALogger(...))`\n",
      "/Users/ruixiaowang/miniforge3/envs/casestudy_env/lib/python3.11/site-packages/lightning/pytorch/core/module.py:507: You called `self.log('val_perplexity', ..., logger=True)` but have no logger configured. You can enable one by doing `Trainer(logger=ALogger(...))`\n",
      "/Users/ruixiaowang/miniforge3/envs/casestudy_env/lib/python3.11/site-packages/lightning/pytorch/trainer/connectors/data_connector.py:441: The 'train_dataloader' does not have many workers which may be a bottleneck. Consider increasing the value of the `num_workers` argument` to `num_workers=7` in the `DataLoader` to improve performance.\n"
     ]
    },
    {
     "data": {
      "application/vnd.jupyter.widget-view+json": {
       "model_id": "8c99b9a7374d418197669e3baf29def4",
       "version_major": 2,
       "version_minor": 0
      },
      "text/plain": [
       "Training: |          | 0/? [00:00<?, ?it/s]"
      ]
     },
     "metadata": {},
     "output_type": "display_data"
    },
    {
     "name": "stderr",
     "output_type": "stream",
     "text": [
      "/Users/ruixiaowang/miniforge3/envs/casestudy_env/lib/python3.11/site-packages/lightning/pytorch/core/module.py:507: You called `self.log('train_loss', ..., logger=True)` but have no logger configured. You can enable one by doing `Trainer(logger=ALogger(...))`\n"
     ]
    },
    {
     "data": {
      "application/vnd.jupyter.widget-view+json": {
       "model_id": "43bcc4d58b2d4b0ba340590ffc828076",
       "version_major": 2,
       "version_minor": 0
      },
      "text/plain": [
       "Validation: |          | 0/? [00:00<?, ?it/s]"
      ]
     },
     "metadata": {},
     "output_type": "display_data"
    },
    {
     "data": {
      "application/vnd.jupyter.widget-view+json": {
       "model_id": "3b746992a21c4f16b1d8b172cd9b81a6",
       "version_major": 2,
       "version_minor": 0
      },
      "text/plain": [
       "Validation: |          | 0/? [00:00<?, ?it/s]"
      ]
     },
     "metadata": {},
     "output_type": "display_data"
    },
    {
     "data": {
      "application/vnd.jupyter.widget-view+json": {
       "model_id": "9a38bd3d1dad4764bcae685329f086e1",
       "version_major": 2,
       "version_minor": 0
      },
      "text/plain": [
       "Validation: |          | 0/? [00:00<?, ?it/s]"
      ]
     },
     "metadata": {},
     "output_type": "display_data"
    },
    {
     "data": {
      "application/vnd.jupyter.widget-view+json": {
       "model_id": "552486843a1c48d38ac1559db4ec2849",
       "version_major": 2,
       "version_minor": 0
      },
      "text/plain": [
       "Validation: |          | 0/? [00:00<?, ?it/s]"
      ]
     },
     "metadata": {},
     "output_type": "display_data"
    },
    {
     "data": {
      "application/vnd.jupyter.widget-view+json": {
       "model_id": "7b346b24a4b0407fb0a22f512073ebf0",
       "version_major": 2,
       "version_minor": 0
      },
      "text/plain": [
       "Validation: |          | 0/? [00:00<?, ?it/s]"
      ]
     },
     "metadata": {},
     "output_type": "display_data"
    },
    {
     "data": {
      "application/vnd.jupyter.widget-view+json": {
       "model_id": "669fdce94532451ab3bc2f2d91272f3e",
       "version_major": 2,
       "version_minor": 0
      },
      "text/plain": [
       "Validation: |          | 0/? [00:00<?, ?it/s]"
      ]
     },
     "metadata": {},
     "output_type": "display_data"
    },
    {
     "data": {
      "application/vnd.jupyter.widget-view+json": {
       "model_id": "1fa961f1c94b45e8a78e48c7297b06dd",
       "version_major": 2,
       "version_minor": 0
      },
      "text/plain": [
       "Validation: |          | 0/? [00:00<?, ?it/s]"
      ]
     },
     "metadata": {},
     "output_type": "display_data"
    },
    {
     "data": {
      "application/vnd.jupyter.widget-view+json": {
       "model_id": "339eb44c379944c7872303d7d4d9c53c",
       "version_major": 2,
       "version_minor": 0
      },
      "text/plain": [
       "Validation: |          | 0/? [00:00<?, ?it/s]"
      ]
     },
     "metadata": {},
     "output_type": "display_data"
    },
    {
     "data": {
      "application/vnd.jupyter.widget-view+json": {
       "model_id": "4bb60a4d926449da819940f2865b1fb0",
       "version_major": 2,
       "version_minor": 0
      },
      "text/plain": [
       "Validation: |          | 0/? [00:00<?, ?it/s]"
      ]
     },
     "metadata": {},
     "output_type": "display_data"
    },
    {
     "data": {
      "application/vnd.jupyter.widget-view+json": {
       "model_id": "70b9bf5bca6d4b468b9f630e28fe6093",
       "version_major": 2,
       "version_minor": 0
      },
      "text/plain": [
       "Validation: |          | 0/? [00:00<?, ?it/s]"
      ]
     },
     "metadata": {},
     "output_type": "display_data"
    },
    {
     "data": {
      "application/vnd.jupyter.widget-view+json": {
       "model_id": "37f256abac5a4def96fdb04eee7be7c7",
       "version_major": 2,
       "version_minor": 0
      },
      "text/plain": [
       "Validation: |          | 0/? [00:00<?, ?it/s]"
      ]
     },
     "metadata": {},
     "output_type": "display_data"
    },
    {
     "data": {
      "application/vnd.jupyter.widget-view+json": {
       "model_id": "3be2a4bc5a5d4083b2d4fb8d6f4f51d0",
       "version_major": 2,
       "version_minor": 0
      },
      "text/plain": [
       "Validation: |          | 0/? [00:00<?, ?it/s]"
      ]
     },
     "metadata": {},
     "output_type": "display_data"
    },
    {
     "data": {
      "application/vnd.jupyter.widget-view+json": {
       "model_id": "3bd2c10fe45e4aaf83e0374d2e796178",
       "version_major": 2,
       "version_minor": 0
      },
      "text/plain": [
       "Validation: |          | 0/? [00:00<?, ?it/s]"
      ]
     },
     "metadata": {},
     "output_type": "display_data"
    },
    {
     "data": {
      "application/vnd.jupyter.widget-view+json": {
       "model_id": "dbac1317632a45e099330f2be669bebd",
       "version_major": 2,
       "version_minor": 0
      },
      "text/plain": [
       "Validation: |          | 0/? [00:00<?, ?it/s]"
      ]
     },
     "metadata": {},
     "output_type": "display_data"
    },
    {
     "data": {
      "application/vnd.jupyter.widget-view+json": {
       "model_id": "5167b38c0f774ba7a1ef47a872036eef",
       "version_major": 2,
       "version_minor": 0
      },
      "text/plain": [
       "Validation: |          | 0/? [00:00<?, ?it/s]"
      ]
     },
     "metadata": {},
     "output_type": "display_data"
    },
    {
     "data": {
      "application/vnd.jupyter.widget-view+json": {
       "model_id": "8c296cbaab23449aa4bc3d9b6e0a64a6",
       "version_major": 2,
       "version_minor": 0
      },
      "text/plain": [
       "Validation: |          | 0/? [00:00<?, ?it/s]"
      ]
     },
     "metadata": {},
     "output_type": "display_data"
    },
    {
     "data": {
      "application/vnd.jupyter.widget-view+json": {
       "model_id": "36653f8fea33413c9f40874fff50b095",
       "version_major": 2,
       "version_minor": 0
      },
      "text/plain": [
       "Validation: |          | 0/? [00:00<?, ?it/s]"
      ]
     },
     "metadata": {},
     "output_type": "display_data"
    },
    {
     "data": {
      "application/vnd.jupyter.widget-view+json": {
       "model_id": "6ea3941479bb4c75b313809e1b74e589",
       "version_major": 2,
       "version_minor": 0
      },
      "text/plain": [
       "Validation: |          | 0/? [00:00<?, ?it/s]"
      ]
     },
     "metadata": {},
     "output_type": "display_data"
    },
    {
     "data": {
      "application/vnd.jupyter.widget-view+json": {
       "model_id": "957726a0685249c887f5f9a2373423f8",
       "version_major": 2,
       "version_minor": 0
      },
      "text/plain": [
       "Validation: |          | 0/? [00:00<?, ?it/s]"
      ]
     },
     "metadata": {},
     "output_type": "display_data"
    },
    {
     "data": {
      "application/vnd.jupyter.widget-view+json": {
       "model_id": "7e22323aeab340469cfff3e16fa05846",
       "version_major": 2,
       "version_minor": 0
      },
      "text/plain": [
       "Validation: |          | 0/? [00:00<?, ?it/s]"
      ]
     },
     "metadata": {},
     "output_type": "display_data"
    },
    {
     "data": {
      "application/vnd.jupyter.widget-view+json": {
       "model_id": "9c55e970d711487f8b3ca50fd9588e41",
       "version_major": 2,
       "version_minor": 0
      },
      "text/plain": [
       "Validation: |          | 0/? [00:00<?, ?it/s]"
      ]
     },
     "metadata": {},
     "output_type": "display_data"
    },
    {
     "data": {
      "application/vnd.jupyter.widget-view+json": {
       "model_id": "35170fcb23694a16b35ba69fc865c502",
       "version_major": 2,
       "version_minor": 0
      },
      "text/plain": [
       "Validation: |          | 0/? [00:00<?, ?it/s]"
      ]
     },
     "metadata": {},
     "output_type": "display_data"
    },
    {
     "data": {
      "application/vnd.jupyter.widget-view+json": {
       "model_id": "e044a85013b04e62bff8d7c669ed9b03",
       "version_major": 2,
       "version_minor": 0
      },
      "text/plain": [
       "Validation: |          | 0/? [00:00<?, ?it/s]"
      ]
     },
     "metadata": {},
     "output_type": "display_data"
    },
    {
     "data": {
      "application/vnd.jupyter.widget-view+json": {
       "model_id": "45d4fe2353564b4ab01a3def47530b7f",
       "version_major": 2,
       "version_minor": 0
      },
      "text/plain": [
       "Validation: |          | 0/? [00:00<?, ?it/s]"
      ]
     },
     "metadata": {},
     "output_type": "display_data"
    },
    {
     "data": {
      "application/vnd.jupyter.widget-view+json": {
       "model_id": "90e9507c7e914afe90cd9341de17d3b5",
       "version_major": 2,
       "version_minor": 0
      },
      "text/plain": [
       "Validation: |          | 0/? [00:00<?, ?it/s]"
      ]
     },
     "metadata": {},
     "output_type": "display_data"
    },
    {
     "data": {
      "application/vnd.jupyter.widget-view+json": {
       "model_id": "7811247bf82949749b546456eb290db7",
       "version_major": 2,
       "version_minor": 0
      },
      "text/plain": [
       "Validation: |          | 0/? [00:00<?, ?it/s]"
      ]
     },
     "metadata": {},
     "output_type": "display_data"
    },
    {
     "data": {
      "application/vnd.jupyter.widget-view+json": {
       "model_id": "9116f364fbaf4f79a4fda6c9801b51f9",
       "version_major": 2,
       "version_minor": 0
      },
      "text/plain": [
       "Validation: |          | 0/? [00:00<?, ?it/s]"
      ]
     },
     "metadata": {},
     "output_type": "display_data"
    },
    {
     "data": {
      "application/vnd.jupyter.widget-view+json": {
       "model_id": "df23b96f73044ebd8a70fcf456e577c6",
       "version_major": 2,
       "version_minor": 0
      },
      "text/plain": [
       "Validation: |          | 0/? [00:00<?, ?it/s]"
      ]
     },
     "metadata": {},
     "output_type": "display_data"
    },
    {
     "data": {
      "application/vnd.jupyter.widget-view+json": {
       "model_id": "d2b58a24ca1748e2bbc9662573a9d5ab",
       "version_major": 2,
       "version_minor": 0
      },
      "text/plain": [
       "Validation: |          | 0/? [00:00<?, ?it/s]"
      ]
     },
     "metadata": {},
     "output_type": "display_data"
    },
    {
     "data": {
      "application/vnd.jupyter.widget-view+json": {
       "model_id": "f6791b978d454c3d9697e75af3a4d2e0",
       "version_major": 2,
       "version_minor": 0
      },
      "text/plain": [
       "Validation: |          | 0/? [00:00<?, ?it/s]"
      ]
     },
     "metadata": {},
     "output_type": "display_data"
    },
    {
     "data": {
      "application/vnd.jupyter.widget-view+json": {
       "model_id": "e9b72feb49bb4661a23b3fe5fee49353",
       "version_major": 2,
       "version_minor": 0
      },
      "text/plain": [
       "Validation: |          | 0/? [00:00<?, ?it/s]"
      ]
     },
     "metadata": {},
     "output_type": "display_data"
    },
    {
     "data": {
      "application/vnd.jupyter.widget-view+json": {
       "model_id": "0b371bb5ccfc4bd69e68de3b62dc8f5f",
       "version_major": 2,
       "version_minor": 0
      },
      "text/plain": [
       "Validation: |          | 0/? [00:00<?, ?it/s]"
      ]
     },
     "metadata": {},
     "output_type": "display_data"
    },
    {
     "data": {
      "application/vnd.jupyter.widget-view+json": {
       "model_id": "dc3d9111954e43e6b235773b4ff3a96e",
       "version_major": 2,
       "version_minor": 0
      },
      "text/plain": [
       "Validation: |          | 0/? [00:00<?, ?it/s]"
      ]
     },
     "metadata": {},
     "output_type": "display_data"
    },
    {
     "data": {
      "application/vnd.jupyter.widget-view+json": {
       "model_id": "6c426fb2a99b4724a65719f5394cafd9",
       "version_major": 2,
       "version_minor": 0
      },
      "text/plain": [
       "Validation: |          | 0/? [00:00<?, ?it/s]"
      ]
     },
     "metadata": {},
     "output_type": "display_data"
    },
    {
     "data": {
      "application/vnd.jupyter.widget-view+json": {
       "model_id": "1db50dc3112b4c7c9e280778e3906f40",
       "version_major": 2,
       "version_minor": 0
      },
      "text/plain": [
       "Validation: |          | 0/? [00:00<?, ?it/s]"
      ]
     },
     "metadata": {},
     "output_type": "display_data"
    },
    {
     "data": {
      "application/vnd.jupyter.widget-view+json": {
       "model_id": "9f90f23561014c15864bce2bcb98ca76",
       "version_major": 2,
       "version_minor": 0
      },
      "text/plain": [
       "Validation: |          | 0/? [00:00<?, ?it/s]"
      ]
     },
     "metadata": {},
     "output_type": "display_data"
    },
    {
     "data": {
      "application/vnd.jupyter.widget-view+json": {
       "model_id": "669c5f7037fb4450898ba3a4eb8e2cd2",
       "version_major": 2,
       "version_minor": 0
      },
      "text/plain": [
       "Validation: |          | 0/? [00:00<?, ?it/s]"
      ]
     },
     "metadata": {},
     "output_type": "display_data"
    },
    {
     "data": {
      "application/vnd.jupyter.widget-view+json": {
       "model_id": "fdee1e78ca504e6495f99f0b874e4b09",
       "version_major": 2,
       "version_minor": 0
      },
      "text/plain": [
       "Validation: |          | 0/? [00:00<?, ?it/s]"
      ]
     },
     "metadata": {},
     "output_type": "display_data"
    },
    {
     "data": {
      "application/vnd.jupyter.widget-view+json": {
       "model_id": "faa14fc681834ee3a56142e5874593d5",
       "version_major": 2,
       "version_minor": 0
      },
      "text/plain": [
       "Validation: |          | 0/? [00:00<?, ?it/s]"
      ]
     },
     "metadata": {},
     "output_type": "display_data"
    },
    {
     "data": {
      "application/vnd.jupyter.widget-view+json": {
       "model_id": "1cc71a5b3f7542c4a3172c897417816b",
       "version_major": 2,
       "version_minor": 0
      },
      "text/plain": [
       "Validation: |          | 0/? [00:00<?, ?it/s]"
      ]
     },
     "metadata": {},
     "output_type": "display_data"
    },
    {
     "data": {
      "application/vnd.jupyter.widget-view+json": {
       "model_id": "2a2b573e6da0436e8c346a7479e07926",
       "version_major": 2,
       "version_minor": 0
      },
      "text/plain": [
       "Validation: |          | 0/? [00:00<?, ?it/s]"
      ]
     },
     "metadata": {},
     "output_type": "display_data"
    },
    {
     "data": {
      "application/vnd.jupyter.widget-view+json": {
       "model_id": "8f22665825b7405bba07610160008e2a",
       "version_major": 2,
       "version_minor": 0
      },
      "text/plain": [
       "Validation: |          | 0/? [00:00<?, ?it/s]"
      ]
     },
     "metadata": {},
     "output_type": "display_data"
    },
    {
     "data": {
      "application/vnd.jupyter.widget-view+json": {
       "model_id": "09a8a19e17d842f6954b3b04153541dd",
       "version_major": 2,
       "version_minor": 0
      },
      "text/plain": [
       "Validation: |          | 0/? [00:00<?, ?it/s]"
      ]
     },
     "metadata": {},
     "output_type": "display_data"
    },
    {
     "data": {
      "application/vnd.jupyter.widget-view+json": {
       "model_id": "a3ec686ea0bc47d5b4a1c04621a45f7c",
       "version_major": 2,
       "version_minor": 0
      },
      "text/plain": [
       "Validation: |          | 0/? [00:00<?, ?it/s]"
      ]
     },
     "metadata": {},
     "output_type": "display_data"
    },
    {
     "data": {
      "application/vnd.jupyter.widget-view+json": {
       "model_id": "8ce6a1e9f652452791c9c4e2e5cff185",
       "version_major": 2,
       "version_minor": 0
      },
      "text/plain": [
       "Validation: |          | 0/? [00:00<?, ?it/s]"
      ]
     },
     "metadata": {},
     "output_type": "display_data"
    },
    {
     "data": {
      "application/vnd.jupyter.widget-view+json": {
       "model_id": "c2026ee65d5f4e29978c669a66863ece",
       "version_major": 2,
       "version_minor": 0
      },
      "text/plain": [
       "Validation: |          | 0/? [00:00<?, ?it/s]"
      ]
     },
     "metadata": {},
     "output_type": "display_data"
    },
    {
     "data": {
      "application/vnd.jupyter.widget-view+json": {
       "model_id": "3b4aa4fde86045b1b5d713426266abef",
       "version_major": 2,
       "version_minor": 0
      },
      "text/plain": [
       "Validation: |          | 0/? [00:00<?, ?it/s]"
      ]
     },
     "metadata": {},
     "output_type": "display_data"
    },
    {
     "data": {
      "application/vnd.jupyter.widget-view+json": {
       "model_id": "796366b78eb2415ea9171683ddc8ff99",
       "version_major": 2,
       "version_minor": 0
      },
      "text/plain": [
       "Validation: |          | 0/? [00:00<?, ?it/s]"
      ]
     },
     "metadata": {},
     "output_type": "display_data"
    },
    {
     "data": {
      "application/vnd.jupyter.widget-view+json": {
       "model_id": "cc1ec9747879411fa433489f27919d7a",
       "version_major": 2,
       "version_minor": 0
      },
      "text/plain": [
       "Validation: |          | 0/? [00:00<?, ?it/s]"
      ]
     },
     "metadata": {},
     "output_type": "display_data"
    },
    {
     "data": {
      "application/vnd.jupyter.widget-view+json": {
       "model_id": "9d908a6473c44d21a23638a4b3628acd",
       "version_major": 2,
       "version_minor": 0
      },
      "text/plain": [
       "Validation: |          | 0/? [00:00<?, ?it/s]"
      ]
     },
     "metadata": {},
     "output_type": "display_data"
    },
    {
     "data": {
      "application/vnd.jupyter.widget-view+json": {
       "model_id": "c8dadad4bcdf4c7f8e4070168623debc",
       "version_major": 2,
       "version_minor": 0
      },
      "text/plain": [
       "Validation: |          | 0/? [00:00<?, ?it/s]"
      ]
     },
     "metadata": {},
     "output_type": "display_data"
    },
    {
     "data": {
      "application/vnd.jupyter.widget-view+json": {
       "model_id": "f9cb28c7a48140e7ab701517fe48e7a8",
       "version_major": 2,
       "version_minor": 0
      },
      "text/plain": [
       "Validation: |          | 0/? [00:00<?, ?it/s]"
      ]
     },
     "metadata": {},
     "output_type": "display_data"
    },
    {
     "data": {
      "application/vnd.jupyter.widget-view+json": {
       "model_id": "60e344d278e84e758ec43fcdad7a57d9",
       "version_major": 2,
       "version_minor": 0
      },
      "text/plain": [
       "Validation: |          | 0/? [00:00<?, ?it/s]"
      ]
     },
     "metadata": {},
     "output_type": "display_data"
    },
    {
     "data": {
      "application/vnd.jupyter.widget-view+json": {
       "model_id": "03e8898e946147f4a9f9e8efb5a84f57",
       "version_major": 2,
       "version_minor": 0
      },
      "text/plain": [
       "Validation: |          | 0/? [00:00<?, ?it/s]"
      ]
     },
     "metadata": {},
     "output_type": "display_data"
    },
    {
     "data": {
      "application/vnd.jupyter.widget-view+json": {
       "model_id": "ea30958c8dde445292acf2d06ebe09d3",
       "version_major": 2,
       "version_minor": 0
      },
      "text/plain": [
       "Validation: |          | 0/? [00:00<?, ?it/s]"
      ]
     },
     "metadata": {},
     "output_type": "display_data"
    },
    {
     "data": {
      "application/vnd.jupyter.widget-view+json": {
       "model_id": "dfcd00fc1f0648278ed6a3b8a9d43d88",
       "version_major": 2,
       "version_minor": 0
      },
      "text/plain": [
       "Validation: |          | 0/? [00:00<?, ?it/s]"
      ]
     },
     "metadata": {},
     "output_type": "display_data"
    },
    {
     "data": {
      "application/vnd.jupyter.widget-view+json": {
       "model_id": "5309e667833345d69d98a3dffe84cca2",
       "version_major": 2,
       "version_minor": 0
      },
      "text/plain": [
       "Validation: |          | 0/? [00:00<?, ?it/s]"
      ]
     },
     "metadata": {},
     "output_type": "display_data"
    },
    {
     "data": {
      "application/vnd.jupyter.widget-view+json": {
       "model_id": "c7c7ce12f36c47d4962f70b64795df4b",
       "version_major": 2,
       "version_minor": 0
      },
      "text/plain": [
       "Validation: |          | 0/? [00:00<?, ?it/s]"
      ]
     },
     "metadata": {},
     "output_type": "display_data"
    },
    {
     "data": {
      "application/vnd.jupyter.widget-view+json": {
       "model_id": "dad537188a234906b1c51869afcd3568",
       "version_major": 2,
       "version_minor": 0
      },
      "text/plain": [
       "Validation: |          | 0/? [00:00<?, ?it/s]"
      ]
     },
     "metadata": {},
     "output_type": "display_data"
    },
    {
     "data": {
      "application/vnd.jupyter.widget-view+json": {
       "model_id": "68ee8606769f4a6ea4f4a0a6cb924be6",
       "version_major": 2,
       "version_minor": 0
      },
      "text/plain": [
       "Validation: |          | 0/? [00:00<?, ?it/s]"
      ]
     },
     "metadata": {},
     "output_type": "display_data"
    },
    {
     "data": {
      "application/vnd.jupyter.widget-view+json": {
       "model_id": "2b933867433b49fa83b857071892234b",
       "version_major": 2,
       "version_minor": 0
      },
      "text/plain": [
       "Validation: |          | 0/? [00:00<?, ?it/s]"
      ]
     },
     "metadata": {},
     "output_type": "display_data"
    },
    {
     "data": {
      "application/vnd.jupyter.widget-view+json": {
       "model_id": "42742e4bfa4c4821b2e7447cddb10351",
       "version_major": 2,
       "version_minor": 0
      },
      "text/plain": [
       "Validation: |          | 0/? [00:00<?, ?it/s]"
      ]
     },
     "metadata": {},
     "output_type": "display_data"
    },
    {
     "data": {
      "application/vnd.jupyter.widget-view+json": {
       "model_id": "cc8d593b5aa7429cba6a7c98a83a49c8",
       "version_major": 2,
       "version_minor": 0
      },
      "text/plain": [
       "Validation: |          | 0/? [00:00<?, ?it/s]"
      ]
     },
     "metadata": {},
     "output_type": "display_data"
    },
    {
     "data": {
      "application/vnd.jupyter.widget-view+json": {
       "model_id": "90f1238aa9174e96b7218697c5597502",
       "version_major": 2,
       "version_minor": 0
      },
      "text/plain": [
       "Validation: |          | 0/? [00:00<?, ?it/s]"
      ]
     },
     "metadata": {},
     "output_type": "display_data"
    },
    {
     "data": {
      "application/vnd.jupyter.widget-view+json": {
       "model_id": "960ef551e27445f08195d4610eda5693",
       "version_major": 2,
       "version_minor": 0
      },
      "text/plain": [
       "Validation: |          | 0/? [00:00<?, ?it/s]"
      ]
     },
     "metadata": {},
     "output_type": "display_data"
    },
    {
     "data": {
      "application/vnd.jupyter.widget-view+json": {
       "model_id": "b3bade45b9534531bebe4cc3f1c5e6a2",
       "version_major": 2,
       "version_minor": 0
      },
      "text/plain": [
       "Validation: |          | 0/? [00:00<?, ?it/s]"
      ]
     },
     "metadata": {},
     "output_type": "display_data"
    },
    {
     "data": {
      "application/vnd.jupyter.widget-view+json": {
       "model_id": "f672cbe2687a4ec7acd91621c575950c",
       "version_major": 2,
       "version_minor": 0
      },
      "text/plain": [
       "Validation: |          | 0/? [00:00<?, ?it/s]"
      ]
     },
     "metadata": {},
     "output_type": "display_data"
    },
    {
     "data": {
      "application/vnd.jupyter.widget-view+json": {
       "model_id": "f7b59af81e1446f9a284b3eedf0c9dcd",
       "version_major": 2,
       "version_minor": 0
      },
      "text/plain": [
       "Validation: |          | 0/? [00:00<?, ?it/s]"
      ]
     },
     "metadata": {},
     "output_type": "display_data"
    },
    {
     "data": {
      "application/vnd.jupyter.widget-view+json": {
       "model_id": "a67600990ee84d54811bf08cbe19e3b0",
       "version_major": 2,
       "version_minor": 0
      },
      "text/plain": [
       "Validation: |          | 0/? [00:00<?, ?it/s]"
      ]
     },
     "metadata": {},
     "output_type": "display_data"
    },
    {
     "data": {
      "application/vnd.jupyter.widget-view+json": {
       "model_id": "3a99bc3758fa4b3fb129e3b3d571cb94",
       "version_major": 2,
       "version_minor": 0
      },
      "text/plain": [
       "Validation: |          | 0/? [00:00<?, ?it/s]"
      ]
     },
     "metadata": {},
     "output_type": "display_data"
    },
    {
     "data": {
      "application/vnd.jupyter.widget-view+json": {
       "model_id": "0a3bbab2cc5b402891ebafa6b9499464",
       "version_major": 2,
       "version_minor": 0
      },
      "text/plain": [
       "Validation: |          | 0/? [00:00<?, ?it/s]"
      ]
     },
     "metadata": {},
     "output_type": "display_data"
    },
    {
     "data": {
      "application/vnd.jupyter.widget-view+json": {
       "model_id": "bc27be53236e4d70b8204a5bc83ce9b4",
       "version_major": 2,
       "version_minor": 0
      },
      "text/plain": [
       "Validation: |          | 0/? [00:00<?, ?it/s]"
      ]
     },
     "metadata": {},
     "output_type": "display_data"
    },
    {
     "data": {
      "application/vnd.jupyter.widget-view+json": {
       "model_id": "864f97fdea4b44489e2bc958ce5688fb",
       "version_major": 2,
       "version_minor": 0
      },
      "text/plain": [
       "Validation: |          | 0/? [00:00<?, ?it/s]"
      ]
     },
     "metadata": {},
     "output_type": "display_data"
    },
    {
     "data": {
      "application/vnd.jupyter.widget-view+json": {
       "model_id": "7280525b4a56460e85983267501f7359",
       "version_major": 2,
       "version_minor": 0
      },
      "text/plain": [
       "Validation: |          | 0/? [00:00<?, ?it/s]"
      ]
     },
     "metadata": {},
     "output_type": "display_data"
    },
    {
     "data": {
      "application/vnd.jupyter.widget-view+json": {
       "model_id": "ed70599925fd42c29757c018330b01c1",
       "version_major": 2,
       "version_minor": 0
      },
      "text/plain": [
       "Validation: |          | 0/? [00:00<?, ?it/s]"
      ]
     },
     "metadata": {},
     "output_type": "display_data"
    },
    {
     "data": {
      "application/vnd.jupyter.widget-view+json": {
       "model_id": "8eb425b1406643c78c06c29df0bdfb91",
       "version_major": 2,
       "version_minor": 0
      },
      "text/plain": [
       "Validation: |          | 0/? [00:00<?, ?it/s]"
      ]
     },
     "metadata": {},
     "output_type": "display_data"
    },
    {
     "data": {
      "application/vnd.jupyter.widget-view+json": {
       "model_id": "ba5bc667df734346a68daf7b69ff7af1",
       "version_major": 2,
       "version_minor": 0
      },
      "text/plain": [
       "Validation: |          | 0/? [00:00<?, ?it/s]"
      ]
     },
     "metadata": {},
     "output_type": "display_data"
    },
    {
     "data": {
      "application/vnd.jupyter.widget-view+json": {
       "model_id": "531c59e76d56496aafc079bd3cf7c868",
       "version_major": 2,
       "version_minor": 0
      },
      "text/plain": [
       "Validation: |          | 0/? [00:00<?, ?it/s]"
      ]
     },
     "metadata": {},
     "output_type": "display_data"
    },
    {
     "data": {
      "application/vnd.jupyter.widget-view+json": {
       "model_id": "d90d00ebb64947bb9f9ea584dfdf6c52",
       "version_major": 2,
       "version_minor": 0
      },
      "text/plain": [
       "Validation: |          | 0/? [00:00<?, ?it/s]"
      ]
     },
     "metadata": {},
     "output_type": "display_data"
    },
    {
     "data": {
      "application/vnd.jupyter.widget-view+json": {
       "model_id": "7784314c4a6f4c898d50db4877c77062",
       "version_major": 2,
       "version_minor": 0
      },
      "text/plain": [
       "Validation: |          | 0/? [00:00<?, ?it/s]"
      ]
     },
     "metadata": {},
     "output_type": "display_data"
    },
    {
     "data": {
      "application/vnd.jupyter.widget-view+json": {
       "model_id": "27d0c33700ff4ccd8ffdd11a70615c15",
       "version_major": 2,
       "version_minor": 0
      },
      "text/plain": [
       "Validation: |          | 0/? [00:00<?, ?it/s]"
      ]
     },
     "metadata": {},
     "output_type": "display_data"
    },
    {
     "data": {
      "application/vnd.jupyter.widget-view+json": {
       "model_id": "6a18a9763db44b0caa63e1b1c4687d40",
       "version_major": 2,
       "version_minor": 0
      },
      "text/plain": [
       "Validation: |          | 0/? [00:00<?, ?it/s]"
      ]
     },
     "metadata": {},
     "output_type": "display_data"
    },
    {
     "data": {
      "application/vnd.jupyter.widget-view+json": {
       "model_id": "55a33d85e24e443d9b95595639fe3e5e",
       "version_major": 2,
       "version_minor": 0
      },
      "text/plain": [
       "Validation: |          | 0/? [00:00<?, ?it/s]"
      ]
     },
     "metadata": {},
     "output_type": "display_data"
    },
    {
     "data": {
      "application/vnd.jupyter.widget-view+json": {
       "model_id": "2ea62d12468b4b9ba919614b7f360766",
       "version_major": 2,
       "version_minor": 0
      },
      "text/plain": [
       "Validation: |          | 0/? [00:00<?, ?it/s]"
      ]
     },
     "metadata": {},
     "output_type": "display_data"
    },
    {
     "data": {
      "application/vnd.jupyter.widget-view+json": {
       "model_id": "3c2fd0ca66114e1e95108ab3d109c13d",
       "version_major": 2,
       "version_minor": 0
      },
      "text/plain": [
       "Validation: |          | 0/? [00:00<?, ?it/s]"
      ]
     },
     "metadata": {},
     "output_type": "display_data"
    },
    {
     "data": {
      "application/vnd.jupyter.widget-view+json": {
       "model_id": "9a9aabe1695b4d8fa4a6fe9ef2c943fe",
       "version_major": 2,
       "version_minor": 0
      },
      "text/plain": [
       "Validation: |          | 0/? [00:00<?, ?it/s]"
      ]
     },
     "metadata": {},
     "output_type": "display_data"
    },
    {
     "data": {
      "application/vnd.jupyter.widget-view+json": {
       "model_id": "b833c9d8348a4ab9842a480adf944140",
       "version_major": 2,
       "version_minor": 0
      },
      "text/plain": [
       "Validation: |          | 0/? [00:00<?, ?it/s]"
      ]
     },
     "metadata": {},
     "output_type": "display_data"
    },
    {
     "data": {
      "application/vnd.jupyter.widget-view+json": {
       "model_id": "ce5f96efe0be43f2837c0f053f9c1c9d",
       "version_major": 2,
       "version_minor": 0
      },
      "text/plain": [
       "Validation: |          | 0/? [00:00<?, ?it/s]"
      ]
     },
     "metadata": {},
     "output_type": "display_data"
    },
    {
     "data": {
      "application/vnd.jupyter.widget-view+json": {
       "model_id": "035a5f4196cd4fc995413a20993e3978",
       "version_major": 2,
       "version_minor": 0
      },
      "text/plain": [
       "Validation: |          | 0/? [00:00<?, ?it/s]"
      ]
     },
     "metadata": {},
     "output_type": "display_data"
    },
    {
     "data": {
      "application/vnd.jupyter.widget-view+json": {
       "model_id": "5933706134194f81935f46eb8a92fb9b",
       "version_major": 2,
       "version_minor": 0
      },
      "text/plain": [
       "Validation: |          | 0/? [00:00<?, ?it/s]"
      ]
     },
     "metadata": {},
     "output_type": "display_data"
    },
    {
     "data": {
      "application/vnd.jupyter.widget-view+json": {
       "model_id": "91467e6b9b9f4f8e83a346c17fe4c09f",
       "version_major": 2,
       "version_minor": 0
      },
      "text/plain": [
       "Validation: |          | 0/? [00:00<?, ?it/s]"
      ]
     },
     "metadata": {},
     "output_type": "display_data"
    },
    {
     "data": {
      "application/vnd.jupyter.widget-view+json": {
       "model_id": "75613d1437204960ade8fbe08149c68c",
       "version_major": 2,
       "version_minor": 0
      },
      "text/plain": [
       "Validation: |          | 0/? [00:00<?, ?it/s]"
      ]
     },
     "metadata": {},
     "output_type": "display_data"
    },
    {
     "data": {
      "application/vnd.jupyter.widget-view+json": {
       "model_id": "e5d30a1c234a43cd83f0c21b94ccf5ff",
       "version_major": 2,
       "version_minor": 0
      },
      "text/plain": [
       "Validation: |          | 0/? [00:00<?, ?it/s]"
      ]
     },
     "metadata": {},
     "output_type": "display_data"
    },
    {
     "data": {
      "application/vnd.jupyter.widget-view+json": {
       "model_id": "dd2d3dd6da86466aa8dd6cceeaf5786e",
       "version_major": 2,
       "version_minor": 0
      },
      "text/plain": [
       "Validation: |          | 0/? [00:00<?, ?it/s]"
      ]
     },
     "metadata": {},
     "output_type": "display_data"
    },
    {
     "data": {
      "application/vnd.jupyter.widget-view+json": {
       "model_id": "5a369b84c8794e409c64dcc86e0f64e8",
       "version_major": 2,
       "version_minor": 0
      },
      "text/plain": [
       "Validation: |          | 0/? [00:00<?, ?it/s]"
      ]
     },
     "metadata": {},
     "output_type": "display_data"
    },
    {
     "data": {
      "application/vnd.jupyter.widget-view+json": {
       "model_id": "d838e8d5aee943eaba504f690d4f04b9",
       "version_major": 2,
       "version_minor": 0
      },
      "text/plain": [
       "Validation: |          | 0/? [00:00<?, ?it/s]"
      ]
     },
     "metadata": {},
     "output_type": "display_data"
    },
    {
     "data": {
      "application/vnd.jupyter.widget-view+json": {
       "model_id": "269f738473764e47ac2fca61ce28d4f2",
       "version_major": 2,
       "version_minor": 0
      },
      "text/plain": [
       "Validation: |          | 0/? [00:00<?, ?it/s]"
      ]
     },
     "metadata": {},
     "output_type": "display_data"
    },
    {
     "data": {
      "application/vnd.jupyter.widget-view+json": {
       "model_id": "4a6ea8881e0c4c6ba22bc64c6b63a69f",
       "version_major": 2,
       "version_minor": 0
      },
      "text/plain": [
       "Validation: |          | 0/? [00:00<?, ?it/s]"
      ]
     },
     "metadata": {},
     "output_type": "display_data"
    },
    {
     "data": {
      "application/vnd.jupyter.widget-view+json": {
       "model_id": "1ff56d65c1024d63b0a14db406055cb0",
       "version_major": 2,
       "version_minor": 0
      },
      "text/plain": [
       "Validation: |          | 0/? [00:00<?, ?it/s]"
      ]
     },
     "metadata": {},
     "output_type": "display_data"
    },
    {
     "data": {
      "application/vnd.jupyter.widget-view+json": {
       "model_id": "62cf3844e3054e5c8bf0b19c1f95ee93",
       "version_major": 2,
       "version_minor": 0
      },
      "text/plain": [
       "Validation: |          | 0/? [00:00<?, ?it/s]"
      ]
     },
     "metadata": {},
     "output_type": "display_data"
    },
    {
     "name": "stderr",
     "output_type": "stream",
     "text": [
      "`Trainer.fit` stopped: `max_epochs=100` reached.\n"
     ]
    }
   ],
   "source": [
    "n_epochs = args.n_epochs\n",
    "\n",
    "# run = wandb.init(project=wandb_project, group=group_name, name=run_name,\n",
    "    # config={'group': group_name, **model_args})\n",
    "\n",
    "# wandb_logger = WandbLogger(experiment=run, log_model=False) # name=run_name, project=wandb_project,\n",
    "# wandb_logger.watch(model, log_graph=False)\n",
    "wandb_logger = None\n",
    "callbacks = [\n",
    "    L.pytorch.callbacks.TQDMProgressBar(refresh_rate=50)\n",
    "    # L.pytorch.callbacks.RichProgressBar()\n",
    "]\n",
    "trainer = L.Trainer(\n",
    "    max_epochs=n_epochs, enable_checkpointing=False, enable_model_summary=True, #precision='64-true',\n",
    "    callbacks=callbacks, enable_progress_bar=True, check_val_every_n_epoch=1, # limit_train_batches=200, limit_val_batches=200,\n",
    "    logger=False\n",
    "    )\n",
    "trainer.fit(model=lit_model, train_dataloaders=train_dl, val_dataloaders=val_dl)"
   ]
  },
  {
   "cell_type": "code",
   "execution_count": 12,
   "metadata": {},
   "outputs": [],
   "source": [
    "with open(data_path) as f:\n",
    "    full_data = f.read().splitlines()[:250]\n",
    "    data = full_data[:200]\n",
    "    data_val = full_data[200:250]\n",
    "    last_names = [x.split(' ')[-1] for x in full_data]\n",
    "\n",
    "with open('../name_pairs_dataset/first-names.txt') as f:\n",
    "    first_names = f.read().splitlines()[:250]\n",
    "    \n",
    "def decode_sequence(sequence, reverse_vocab_map):\n",
    "    \"\"\"Decode a sequence of IDs back to words using the reverse vocabulary map.\"\"\"\n",
    "    return ' '.join([reverse_vocab_map.get(token_id, '[UNK]') for token_id in sequence])\n",
    "\n",
    "\n",
    "\n",
    "def mismatch_seq_print(mismatch, reverse_vocab_map, max_examples=5):\n",
    "    \n",
    "    for mismatch in lit_model.mismatched_sequences[:max_examples]:\n",
    "        input_seq = decode_sequence(mismatch['input'], reverse_vocab_map)\n",
    "        predicted_seq = decode_sequence(mismatch['predicted'], reverse_vocab_map)\n",
    "        target_seq = decode_sequence(mismatch['target'], reverse_vocab_map)\n",
    "        print(f\"Input: {input_seq}\")\n",
    "        print(f\"Predicted: {predicted_seq}\")\n",
    "        print(f\"Target: {target_seq}\")\n",
    "        first_name_ctx = input_seq.split(' ')[1]\n",
    "        last_name_ctx = input_seq.split(\" [sep] \")[0].split(' ')[-1]\n",
    "        last_name_pred = predicted_seq.split(\" \")[-2]\n",
    "        # find last name of first name in training data\n",
    "        # Capitalize the first character of the first name\n",
    "        trained_last_name = last_names[first_names.index(first_name_ctx.capitalize())]\n",
    "        context_last_to_first_name = first_names[last_names.index(last_name_ctx.upper())]\n",
    "        try:\n",
    "            not_last_name = False\n",
    "            if last_name_pred.upper() not in last_names:\n",
    "                not_last_name = True\n",
    "                trained_last_name_pred = last_names[first_names.index(last_name_pred.capitalize())]\n",
    "            else:\n",
    "                trained_last_name_pred = first_names[last_names.index(last_name_pred.upper())]\n",
    "        except:\n",
    "            pass\n",
    "        \n",
    "        print(\"Pretrained Knowledge:\")\n",
    "        print(f\"{first_name_ctx} has last name {trained_last_name.lower()}\")\n",
    "        print(f\"{last_name_ctx} has first name {context_last_to_first_name.lower()}\")\n",
    "        if not not_last_name:\n",
    "            print(f\"{trained_last_name_pred} has last name {last_name_pred.lower()} \\n\")\n",
    "        else:\n",
    "            print(f\"{last_name_pred.lower()} has last name {trained_last_name_pred.lower()} \\n\")\n",
    "            \n",
    "     \n"
   ]
  },
  {
   "cell_type": "code",
   "execution_count": 13,
   "metadata": {},
   "outputs": [
    {
     "name": "stderr",
     "output_type": "stream",
     "text": [
      "/Users/ruixiaowang/miniforge3/envs/casestudy_env/lib/python3.11/site-packages/lightning/pytorch/trainer/connectors/data_connector.py:492: Your `test_dataloader`'s sampler has shuffling enabled, it is strongly recommended that you turn shuffling off for val/test dataloaders.\n",
      "/Users/ruixiaowang/miniforge3/envs/casestudy_env/lib/python3.11/site-packages/lightning/pytorch/trainer/connectors/data_connector.py:441: The 'test_dataloader' does not have many workers which may be a bottleneck. Consider increasing the value of the `num_workers` argument` to `num_workers=7` in the `DataLoader` to improve performance.\n"
     ]
    },
    {
     "data": {
      "application/vnd.jupyter.widget-view+json": {
       "model_id": "3d9e7417dee44fa693ac7f5624eec59e",
       "version_major": 2,
       "version_minor": 0
      },
      "text/plain": [
       "Testing: |          | 0/? [00:00<?, ?it/s]"
      ]
     },
     "metadata": {},
     "output_type": "display_data"
    },
    {
     "data": {
      "image/png": "[encoded data removed]",
      "text/plain": [
       "<Figure size 1000x600 with 1 Axes>"
      ]
     },
     "metadata": {},
     "output_type": "display_data"
    },
    {
     "data": {
      "text/html": [
       "<pre style=\"white-space:pre;overflow-x:auto;line-height:normal;font-family:Menlo,'DejaVu Sans Mono',consolas,'Courier New',monospace\">┏━━━━━━━━━━━━━━━━━━━━━━━━━━━━━━━┳━━━━━━━━━━━━━━━━━━━━━━━━━━━━━━━┓\n",
       "┃<span style=\"font-weight: bold\">          Test metric          </span>┃<span style=\"font-weight: bold\">         DataLoader 0          </span>┃\n",
       "┡━━━━━━━━━━━━━━━━━━━━━━━━━━━━━━━╇━━━━━━━━━━━━━━━━━━━━━━━━━━━━━━━┩\n",
       "│<span style=\"color: #008080; text-decoration-color: #008080\"> test_overall_per_pos_acc_mean </span>│<span style=\"color: #800080; text-decoration-color: #800080\">              1.0              </span>│\n",
       "│<span style=\"color: #008080; text-decoration-color: #008080\">     test_overall_seq_acc      </span>│<span style=\"color: #800080; text-decoration-color: #800080\">              1.0              </span>│\n",
       "└───────────────────────────────┴───────────────────────────────┘\n",
       "</pre>\n"
      ],
      "text/plain": [
       "┏━━━━━━━━━━━━━━━━━━━━━━━━━━━━━━━┳━━━━━━━━━━━━━━━━━━━━━━━━━━━━━━━┓\n",
       "┃\u001b[1m \u001b[0m\u001b[1m         Test metric         \u001b[0m\u001b[1m \u001b[0m┃\u001b[1m \u001b[0m\u001b[1m        DataLoader 0         \u001b[0m\u001b[1m \u001b[0m┃\n",
       "┡━━━━━━━━━━━━━━━━━━━━━━━━━━━━━━━╇━━━━━━━━━━━━━━━━━━━━━━━━━━━━━━━┩\n",
       "│\u001b[36m \u001b[0m\u001b[36mtest_overall_per_pos_acc_mean\u001b[0m\u001b[36m \u001b[0m│\u001b[35m \u001b[0m\u001b[35m             1.0             \u001b[0m\u001b[35m \u001b[0m│\n",
       "│\u001b[36m \u001b[0m\u001b[36m    test_overall_seq_acc     \u001b[0m\u001b[36m \u001b[0m│\u001b[35m \u001b[0m\u001b[35m             1.0             \u001b[0m\u001b[35m \u001b[0m│\n",
       "└───────────────────────────────┴───────────────────────────────┘\n"
      ]
     },
     "metadata": {},
     "output_type": "display_data"
    },
    {
     "data": {
      "application/vnd.jupyter.widget-view+json": {
       "model_id": "a432fed5c2494a788d60859029d0b5d5",
       "version_major": 2,
       "version_minor": 0
      },
      "text/plain": [
       "Testing: |          | 0/? [00:00<?, ?it/s]"
      ]
     },
     "metadata": {},
     "output_type": "display_data"
    },
    {
     "data": {
      "image/png": "[encoded data removed]",
      "text/plain": [
       "<Figure size 1000x600 with 1 Axes>"
      ]
     },
     "metadata": {},
     "output_type": "display_data"
    },
    {
     "data": {
      "text/html": [
       "<pre style=\"white-space:pre;overflow-x:auto;line-height:normal;font-family:Menlo,'DejaVu Sans Mono',consolas,'Courier New',monospace\">┏━━━━━━━━━━━━━━━━━━━━━━━━━━━━━━━┳━━━━━━━━━━━━━━━━━━━━━━━━━━━━━━━┓\n",
       "┃<span style=\"font-weight: bold\">          Test metric          </span>┃<span style=\"font-weight: bold\">         DataLoader 0          </span>┃\n",
       "┡━━━━━━━━━━━━━━━━━━━━━━━━━━━━━━━╇━━━━━━━━━━━━━━━━━━━━━━━━━━━━━━━┩\n",
       "│<span style=\"color: #008080; text-decoration-color: #008080\"> test_overall_per_pos_acc_mean </span>│<span style=\"color: #800080; text-decoration-color: #800080\">       0.800000011920929       </span>│\n",
       "│<span style=\"color: #008080; text-decoration-color: #008080\">     test_overall_seq_acc      </span>│<span style=\"color: #800080; text-decoration-color: #800080\">              0.0              </span>│\n",
       "└───────────────────────────────┴───────────────────────────────┘\n",
       "</pre>\n"
      ],
      "text/plain": [
       "┏━━━━━━━━━━━━━━━━━━━━━━━━━━━━━━━┳━━━━━━━━━━━━━━━━━━━━━━━━━━━━━━━┓\n",
       "┃\u001b[1m \u001b[0m\u001b[1m         Test metric         \u001b[0m\u001b[1m \u001b[0m┃\u001b[1m \u001b[0m\u001b[1m        DataLoader 0         \u001b[0m\u001b[1m \u001b[0m┃\n",
       "┡━━━━━━━━━━━━━━━━━━━━━━━━━━━━━━━╇━━━━━━━━━━━━━━━━━━━━━━━━━━━━━━━┩\n",
       "│\u001b[36m \u001b[0m\u001b[36mtest_overall_per_pos_acc_mean\u001b[0m\u001b[36m \u001b[0m│\u001b[35m \u001b[0m\u001b[35m      0.800000011920929      \u001b[0m\u001b[35m \u001b[0m│\n",
       "│\u001b[36m \u001b[0m\u001b[36m    test_overall_seq_acc     \u001b[0m\u001b[36m \u001b[0m│\u001b[35m \u001b[0m\u001b[35m             0.0             \u001b[0m\u001b[35m \u001b[0m│\n",
       "└───────────────────────────────┴───────────────────────────────┘\n"
      ]
     },
     "metadata": {},
     "output_type": "display_data"
    },
    {
     "name": "stdout",
     "output_type": "stream",
     "text": [
      "Input: [sc] amalee has last name casados [sep] [ec] amalee\n",
      "Predicted: has last name gonzale [eos]\n",
      "Target: has last name casados [eos]\n",
      "Pretrained Knowledge:\n",
      "amalee has last name casados\n",
      "casados has first name amalee\n",
      "Allene has last name gonzale \n",
      "\n",
      "Input: [sc] amaleta has last name nash [sep] [ec] amaleta\n",
      "Predicted: has last name baniaga [eos]\n",
      "Target: has last name nash [eos]\n",
      "Pretrained Knowledge:\n",
      "amaleta has last name nash\n",
      "nash has first name amaleta\n",
      "Adrian has last name baniaga \n",
      "\n",
      "Input: [sc] amalia has last name degracia [sep] [ec] amalia\n",
      "Predicted: has last name patton [eos]\n",
      "Target: has last name degracia [eos]\n",
      "Pretrained Knowledge:\n",
      "amalia has last name degracia\n",
      "degracia has first name amalia\n",
      "Alena has last name patton \n",
      "\n",
      "Input: [sc] amalie has last name fechtig [sep] [ec] amalie\n",
      "Predicted: has last name whitesel [eos]\n",
      "Target: has last name fechtig [eos]\n",
      "Pretrained Knowledge:\n",
      "amalie has last name fechtig\n",
      "fechtig has first name amalie\n",
      "Aida has last name whitesel \n",
      "\n",
      "Input: [sc] amalita has last name wahlman [sep] [ec] amalita\n",
      "Predicted: has last name name [eos]\n",
      "Target: has last name wahlman [eos]\n",
      "Pretrained Knowledge:\n",
      "amalita has last name wahlman\n",
      "wahlman has first name amalita\n",
      "name has last name aida \n",
      "\n"
     ]
    }
   ],
   "source": [
    "reverse_vocab_map = {i: word for word, i in vocab_map.items()}\n",
    "\n",
    "\n",
    "# model performance on the training set\n",
    "trainer.test(model=lit_model, dataloaders=train_dl_test)\n",
    "# model performance on the validation set\n",
    "lit_model.mismatched_sequences.clear()\n",
    "trainer.test(model=lit_model, dataloaders=val_dl_test)\n",
    "mismatch_seq_print(lit_model.mismatched_sequences, reverse_vocab_map)\n"
   ]
  },
  {
   "cell_type": "markdown",
   "metadata": {},
   "source": [
    "## Test on counterfactual context"
   ]
  },
  {
   "cell_type": "code",
   "execution_count": 14,
   "metadata": {},
   "outputs": [
    {
     "data": {
      "application/vnd.jupyter.widget-view+json": {
       "model_id": "a98555983aa04ef289970a3b2dd9fac2",
       "version_major": 2,
       "version_minor": 0
      },
      "text/plain": [
       "Testing: |          | 0/? [00:00<?, ?it/s]"
      ]
     },
     "metadata": {},
     "output_type": "display_data"
    },
    {
     "data": {
      "image/png": "[encoded data removed]",
      "text/plain": [
       "<Figure size 1000x600 with 1 Axes>"
      ]
     },
     "metadata": {},
     "output_type": "display_data"
    },
    {
     "data": {
      "text/html": [
       "<pre style=\"white-space:pre;overflow-x:auto;line-height:normal;font-family:Menlo,'DejaVu Sans Mono',consolas,'Courier New',monospace\">┏━━━━━━━━━━━━━━━━━━━━━━━━━━━━━━━┳━━━━━━━━━━━━━━━━━━━━━━━━━━━━━━━┓\n",
       "┃<span style=\"font-weight: bold\">          Test metric          </span>┃<span style=\"font-weight: bold\">         DataLoader 0          </span>┃\n",
       "┡━━━━━━━━━━━━━━━━━━━━━━━━━━━━━━━╇━━━━━━━━━━━━━━━━━━━━━━━━━━━━━━━┩\n",
       "│<span style=\"color: #008080; text-decoration-color: #008080\"> test_overall_per_pos_acc_mean </span>│<span style=\"color: #800080; text-decoration-color: #800080\">       0.800000011920929       </span>│\n",
       "│<span style=\"color: #008080; text-decoration-color: #008080\">     test_overall_seq_acc      </span>│<span style=\"color: #800080; text-decoration-color: #800080\">              0.0              </span>│\n",
       "└───────────────────────────────┴───────────────────────────────┘\n",
       "</pre>\n"
      ],
      "text/plain": [
       "┏━━━━━━━━━━━━━━━━━━━━━━━━━━━━━━━┳━━━━━━━━━━━━━━━━━━━━━━━━━━━━━━━┓\n",
       "┃\u001b[1m \u001b[0m\u001b[1m         Test metric         \u001b[0m\u001b[1m \u001b[0m┃\u001b[1m \u001b[0m\u001b[1m        DataLoader 0         \u001b[0m\u001b[1m \u001b[0m┃\n",
       "┡━━━━━━━━━━━━━━━━━━━━━━━━━━━━━━━╇━━━━━━━━━━━━━━━━━━━━━━━━━━━━━━━┩\n",
       "│\u001b[36m \u001b[0m\u001b[36mtest_overall_per_pos_acc_mean\u001b[0m\u001b[36m \u001b[0m│\u001b[35m \u001b[0m\u001b[35m      0.800000011920929      \u001b[0m\u001b[35m \u001b[0m│\n",
       "│\u001b[36m \u001b[0m\u001b[36m    test_overall_seq_acc     \u001b[0m\u001b[36m \u001b[0m│\u001b[35m \u001b[0m\u001b[35m             0.0             \u001b[0m\u001b[35m \u001b[0m│\n",
       "└───────────────────────────────┴───────────────────────────────┘\n"
      ]
     },
     "metadata": {},
     "output_type": "display_data"
    },
    {
     "name": "stdout",
     "output_type": "stream",
     "text": [
      "Input: [sc] aaren has last name dhondt [sep] [ec] aaren\n",
      "Predicted: has last name durland [eos]\n",
      "Target: has last name dhondt [eos]\n",
      "Pretrained Knowledge:\n",
      "aaren has last name durland\n",
      "dhondt has first name alayne\n",
      "Aaren has last name durland \n",
      "\n",
      "Input: [sc] aarika has last name guzi [sep] [ec] aarika\n",
      "Predicted: has last name robitaille [eos]\n",
      "Target: has last name guzi [eos]\n",
      "Pretrained Knowledge:\n",
      "aarika has last name robitaille\n",
      "guzi has first name agnola\n",
      "Aarika has last name robitaille \n",
      "\n",
      "Input: [sc] abagael has last name ahmadi [sep] [ec] abagael\n",
      "Predicted: has last name sjogren [eos]\n",
      "Target: has last name ahmadi [eos]\n",
      "Pretrained Knowledge:\n",
      "abagael has last name sjogren\n",
      "ahmadi has first name aloise\n",
      "Abagael has last name sjogren \n",
      "\n",
      "Input: [sc] abagail has last name yokum [sep] [ec] abagail\n",
      "Predicted: has last name mengsteab [eos]\n",
      "Target: has last name yokum [eos]\n",
      "Pretrained Knowledge:\n",
      "abagail has last name mengsteab\n",
      "yokum has first name adriaens\n",
      "Abagail has last name mengsteab \n",
      "\n",
      "Input: [sc] abbe has last name kojima [sep] [ec] abbe\n",
      "Predicted: has last name oehlenschlage [eos]\n",
      "Target: has last name kojima [eos]\n",
      "Pretrained Knowledge:\n",
      "abbe has last name oehlenschlage\n",
      "kojima has first name adena\n",
      "Abbe has last name oehlenschlage \n",
      "\n",
      "Input: [sc] abbey has last name cavagnaro [sep] [ec] abbey\n",
      "Predicted: has last name armendariz [eos]\n",
      "Target: has last name cavagnaro [eos]\n",
      "Pretrained Knowledge:\n",
      "abbey has last name armendariz\n",
      "cavagnaro has first name addia\n",
      "Abbey has last name armendariz \n",
      "\n",
      "Input: [sc] abbi has last name colebrook [sep] [ec] abbi\n",
      "Predicted: has last name trundy [eos]\n",
      "Target: has last name colebrook [eos]\n",
      "Pretrained Knowledge:\n",
      "abbi has last name trundy\n",
      "colebrook has first name alicia\n",
      "Abbi has last name trundy \n",
      "\n",
      "Input: [sc] abbie has last name ahmadi [sep] [ec] abbie\n",
      "Predicted: has last name romie [eos]\n",
      "Target: has last name ahmadi [eos]\n",
      "Pretrained Knowledge:\n",
      "abbie has last name romie\n",
      "ahmadi has first name aloise\n",
      "Abbie has last name romie \n",
      "\n",
      "Input: [sc] abby has last name orlinsky [sep] [ec] abby\n",
      "Predicted: has last name urlaub [eos]\n",
      "Target: has last name orlinsky [eos]\n",
      "Pretrained Knowledge:\n",
      "abby has last name urlaub\n",
      "orlinsky has first name alida\n",
      "Abby has last name urlaub \n",
      "\n",
      "Input: [sc] abbye has last name heitman [sep] [ec] abbye\n",
      "Predicted: has last name birney [eos]\n",
      "Target: has last name heitman [eos]\n",
      "Pretrained Knowledge:\n",
      "abbye has last name birney\n",
      "heitman has first name adriena\n",
      "Abbye has last name birney \n",
      "\n",
      "Input: [sc] abigael has last name keehan [sep] [ec] abigael\n",
      "Predicted: has last name madero [eos]\n",
      "Target: has last name keehan [eos]\n",
      "Pretrained Knowledge:\n",
      "abigael has last name madero\n",
      "keehan has first name ailsun\n",
      "Abigael has last name madero \n",
      "\n",
      "Input: [sc] abigail has last name manganaro [sep] [ec] abigail\n",
      "Predicted: has last name pagett [eos]\n",
      "Target: has last name manganaro [eos]\n",
      "Pretrained Knowledge:\n",
      "abigail has last name pagett\n",
      "manganaro has first name allianora\n",
      "Abigail has last name pagett \n",
      "\n"
     ]
    }
   ],
   "source": [
    "lit_model.mismatched_sequences.clear()\n",
    "reverse_vocab_map = {i: word for word, i in vocab_map.items()}\n",
    "# test the model on the test set\n",
    "trainer.test(model=lit_model, dataloaders=test_dl_counterfactual)\n",
    "mismatch_seq_print(lit_model.mismatched_sequences, reverse_vocab_map, max_examples=12)"
   ]
  },
  {
   "cell_type": "markdown",
   "metadata": {},
   "source": [
    "## Test on irrelevant counterfactual context (both first and last name changed in context)"
   ]
  },
  {
   "cell_type": "code",
   "execution_count": null,
   "metadata": {},
   "outputs": [
    {
     "data": {
      "application/vnd.jupyter.widget-view+json": {
       "model_id": "39ae06b7c2af46458fa8e053855a268b",
       "version_major": 2,
       "version_minor": 0
      },
      "text/plain": [
       "Testing: |          | 0/? [00:00<?, ?it/s]"
      ]
     },
     "metadata": {},
     "output_type": "display_data"
    },
    {
     "data": {
      "image/png": "[encoded data removed]",
      "text/plain": [
       "<Figure size 1000x600 with 1 Axes>"
      ]
     },
     "metadata": {},
     "output_type": "display_data"
    },
    {
     "data": {
      "text/html": [
       "<pre style=\"white-space:pre;overflow-x:auto;line-height:normal;font-family:Menlo,'DejaVu Sans Mono',consolas,'Courier New',monospace\">┏━━━━━━━━━━━━━━━━━━━━━━━━━━━━━━━┳━━━━━━━━━━━━━━━━━━━━━━━━━━━━━━━┓\n",
       "┃<span style=\"font-weight: bold\">          Test metric          </span>┃<span style=\"font-weight: bold\">         DataLoader 0          </span>┃\n",
       "┡━━━━━━━━━━━━━━━━━━━━━━━━━━━━━━━╇━━━━━━━━━━━━━━━━━━━━━━━━━━━━━━━┩\n",
       "│<span style=\"color: #008080; text-decoration-color: #008080\"> test_overall_per_pos_acc_mean </span>│<span style=\"color: #800080; text-decoration-color: #800080\">       0.839062511920929       </span>│\n",
       "│<span style=\"color: #008080; text-decoration-color: #008080\">     test_overall_seq_acc      </span>│<span style=\"color: #800080; text-decoration-color: #800080\">           0.1953125           </span>│\n",
       "└───────────────────────────────┴───────────────────────────────┘\n",
       "</pre>\n"
      ],
      "text/plain": [
       "┏━━━━━━━━━━━━━━━━━━━━━━━━━━━━━━━┳━━━━━━━━━━━━━━━━━━━━━━━━━━━━━━━┓\n",
       "┃\u001b[1m \u001b[0m\u001b[1m         Test metric         \u001b[0m\u001b[1m \u001b[0m┃\u001b[1m \u001b[0m\u001b[1m        DataLoader 0         \u001b[0m\u001b[1m \u001b[0m┃\n",
       "┡━━━━━━━━━━━━━━━━━━━━━━━━━━━━━━━╇━━━━━━━━━━━━━━━━━━━━━━━━━━━━━━━┩\n",
       "│\u001b[36m \u001b[0m\u001b[36mtest_overall_per_pos_acc_mean\u001b[0m\u001b[36m \u001b[0m│\u001b[35m \u001b[0m\u001b[35m      0.839062511920929      \u001b[0m\u001b[35m \u001b[0m│\n",
       "│\u001b[36m \u001b[0m\u001b[36m    test_overall_seq_acc     \u001b[0m\u001b[36m \u001b[0m│\u001b[35m \u001b[0m\u001b[35m          0.1953125          \u001b[0m\u001b[35m \u001b[0m│\n",
       "└───────────────────────────────┴───────────────────────────────┘\n"
      ]
     },
     "metadata": {},
     "output_type": "display_data"
    },
    {
     "name": "stdout",
     "output_type": "stream",
     "text": [
      "Input: [sc] adey has last name gailes [sep] [ec] aarika\n",
      "Predicted: has last name oriley [eos]\n",
      "Target: has last name robitaille [eos]\n",
      "Pretrained Knowledge:\n",
      "adey has last name oriley\n",
      "gailes has first name alexi\n",
      "Adey has last name oriley \n",
      "\n",
      "Input: [sc] allyce has last name meth [sep] [ec] abagael\n",
      "Predicted: has last name thatcher [eos]\n",
      "Target: has last name sjogren [eos]\n",
      "Pretrained Knowledge:\n",
      "allyce has last name thatcher\n",
      "meth has first name adorne\n",
      "Allyce has last name thatcher \n",
      "\n",
      "Input: [sc] aime has last name berendzen [sep] [ec] abbe\n",
      "Predicted: has last name westad [eos]\n",
      "Target: has last name oehlenschlage [eos]\n",
      "Pretrained Knowledge:\n",
      "aime has last name westad\n",
      "berendzen has first name adi\n",
      "Aime has last name westad \n",
      "\n",
      "Input: [sc] addie has last name sloup [sep] [ec] abbi\n",
      "Predicted: has last name doucett [eos]\n",
      "Target: has last name trundy [eos]\n",
      "Pretrained Knowledge:\n",
      "addie has last name ezekiel\n",
      "sloup has first name adria\n",
      "Aleta has last name doucett \n",
      "\n",
      "Input: [sc] aeriell has last name fanning [sep] [ec] abbie\n",
      "Predicted: has last name coble [eos]\n",
      "Target: has last name romie [eos]\n",
      "Pretrained Knowledge:\n",
      "aeriell has last name coble\n",
      "fanning has first name albertina\n",
      "Aeriell has last name coble \n",
      "\n"
     ]
    }
   ],
   "source": [
    "# test the model on the test set\n",
    "lit_model.mismatched_sequences.clear()\n",
    "\n",
    "trainer.test(model=lit_model, dataloaders=test_dl_counterfactual_irrelevant)\n",
    "plt.show()\n",
    "mismatch_seq_print(lit_model.mismatched_sequences, reverse_vocab_map)"
   ]
  },
  {
   "cell_type": "markdown",
   "metadata": {},
   "source": [
    "## Test on empty context"
   ]
  },
  {
   "cell_type": "code",
   "execution_count": null,
   "metadata": {},
   "outputs": [
    {
     "name": "stdout",
     "output_type": "stream",
     "text": [
      "['[SC] [SEP] [EC]Aaren has last name DURLAND', '[SC] [SEP] [EC]Aarika has last name ROBITAILLE', '[SC] [SEP] [EC]Abagael has last name SJOGREN', '[SC] [SEP] [EC]Abagail has last name MENGSTEAB', '[SC] [SEP] [EC]Abbe has last name OEHLENSCHLAGE']\n"
     ]
    },
    {
     "name": "stderr",
     "output_type": "stream",
     "text": [
      "100%|██████████| 200/200 [00:00<00:00, 960894.39it/s]\n",
      "100%|██████████| 200/200 [00:00<00:00, 52619.55it/s]\n"
     ]
    }
   ],
   "source": [
    "test_data_empty_ctx = [\"[SC] [SEP] [EC]\" + sentence.split(\" [SEP] [EC]\")[-1] for sentence in data]\n",
    "print(test_data_empty_ctx[:5])\n",
    "\n",
    "tokenized_data = [sentence.strip().lower().split(' ') for sentence in tqdm(test_data_empty_ctx)]\n",
    "\n",
    "integer_ids = [torch.tensor([vocab_map.get(token, vocab_map['[UNK]']) for token in tokens]) for tokens in tqdm(tokenized_data)]\n",
    "integer_ids = torch.tensor(np.array(integer_ids))\n",
    "\n",
    "\n",
    "\n",
    "# create dataset and dataloader\n",
    "x = integer_ids[:, :-5]\n",
    "y = integer_ids[:, -5:]\n",
    "test_dataset_empty_ctx = torch.utils.data.TensorDataset(x, y)\n",
    "test_dataset_empty_ctx = torch.utils.data.TensorDataset(*test_dataset_empty_ctx[:100])\n",
    "test_dl_empty_ctx = torch.utils.data.DataLoader(test_dataset_empty_ctx, batch_size=args.batch_size, shuffle=False)\n",
    "\n",
    "\n"
   ]
  },
  {
   "cell_type": "code",
   "execution_count": null,
   "metadata": {},
   "outputs": [
    {
     "data": {
      "application/vnd.jupyter.widget-view+json": {
       "model_id": "891112bc05444edf9a1fdc3201a5109e",
       "version_major": 2,
       "version_minor": 0
      },
      "text/plain": [
       "Testing: |          | 0/? [00:00<?, ?it/s]"
      ]
     },
     "metadata": {},
     "output_type": "display_data"
    },
    {
     "data": {
      "image/png": "[encoded data removed]",
      "text/plain": [
       "<Figure size 1000x600 with 1 Axes>"
      ]
     },
     "metadata": {},
     "output_type": "display_data"
    },
    {
     "data": {
      "text/html": [
       "<pre style=\"white-space:pre;overflow-x:auto;line-height:normal;font-family:Menlo,'DejaVu Sans Mono',consolas,'Courier New',monospace\">┏━━━━━━━━━━━━━━━━━━━━━━━━━━━━━━━┳━━━━━━━━━━━━━━━━━━━━━━━━━━━━━━━┓\n",
       "┃<span style=\"font-weight: bold\">          Test metric          </span>┃<span style=\"font-weight: bold\">         DataLoader 0          </span>┃\n",
       "┡━━━━━━━━━━━━━━━━━━━━━━━━━━━━━━━╇━━━━━━━━━━━━━━━━━━━━━━━━━━━━━━━┩\n",
       "│<span style=\"color: #008080; text-decoration-color: #008080\"> test_overall_per_pos_acc_mean </span>│<span style=\"color: #800080; text-decoration-color: #800080\">              0.0              </span>│\n",
       "│<span style=\"color: #008080; text-decoration-color: #008080\">     test_overall_seq_acc      </span>│<span style=\"color: #800080; text-decoration-color: #800080\">              0.0              </span>│\n",
       "└───────────────────────────────┴───────────────────────────────┘\n",
       "</pre>\n"
      ],
      "text/plain": [
       "┏━━━━━━━━━━━━━━━━━━━━━━━━━━━━━━━┳━━━━━━━━━━━━━━━━━━━━━━━━━━━━━━━┓\n",
       "┃\u001b[1m \u001b[0m\u001b[1m         Test metric         \u001b[0m\u001b[1m \u001b[0m┃\u001b[1m \u001b[0m\u001b[1m        DataLoader 0         \u001b[0m\u001b[1m \u001b[0m┃\n",
       "┡━━━━━━━━━━━━━━━━━━━━━━━━━━━━━━━╇━━━━━━━━━━━━━━━━━━━━━━━━━━━━━━━┩\n",
       "│\u001b[36m \u001b[0m\u001b[36mtest_overall_per_pos_acc_mean\u001b[0m\u001b[36m \u001b[0m│\u001b[35m \u001b[0m\u001b[35m             0.0             \u001b[0m\u001b[35m \u001b[0m│\n",
       "│\u001b[36m \u001b[0m\u001b[36m    test_overall_seq_acc     \u001b[0m\u001b[36m \u001b[0m│\u001b[35m \u001b[0m\u001b[35m             0.0             \u001b[0m\u001b[35m \u001b[0m│\n",
       "└───────────────────────────────┴───────────────────────────────┘\n"
      ]
     },
     "metadata": {},
     "output_type": "display_data"
    },
    {
     "name": "stdout",
     "output_type": "stream",
     "text": [
      "Input: [sc] [sep]\n",
      "Predicted: has last name almeda [sep]\n",
      "Target: [UNK] has last name durland\n",
      "Pretrained Knowledge:\n",
      "Input: [sc] [sep]\n",
      "Predicted: has last name almeda [sep]\n",
      "Target: [UNK] has last name robitaille\n",
      "Pretrained Knowledge:\n",
      "Input: [sc] [sep]\n",
      "Predicted: has last name almeda [sep]\n",
      "Target: [UNK] has last name sjogren\n",
      "Pretrained Knowledge:\n",
      "Input: [sc] [sep]\n",
      "Predicted: has last name almeda [sep]\n",
      "Target: [UNK] has last name mengsteab\n",
      "Pretrained Knowledge:\n",
      "Input: [sc] [sep]\n",
      "Predicted: has last name almeda [sep]\n",
      "Target: [UNK] has last name oehlenschlage\n",
      "Pretrained Knowledge:\n",
      "Input: [sc] [sep]\n",
      "Predicted: has last name almeda [sep]\n",
      "Target: [UNK] has last name armendariz\n",
      "Pretrained Knowledge:\n",
      "Input: [sc] [sep]\n",
      "Predicted: has last name almeda [sep]\n",
      "Target: [UNK] has last name trundy\n",
      "Pretrained Knowledge:\n",
      "Input: [sc] [sep]\n",
      "Predicted: has last name almeda [sep]\n",
      "Target: [UNK] has last name romie\n",
      "Pretrained Knowledge:\n"
     ]
    }
   ],
   "source": [
    "def mismatch_seq_print_empty(mismatch, reverse_vocab_map, max_examples=8):\n",
    "    for mismatch in lit_model.mismatched_sequences[:max_examples]:\n",
    "        input_seq = decode_sequence(mismatch['input'], reverse_vocab_map)\n",
    "        predicted_seq = decode_sequence(mismatch['predicted'], reverse_vocab_map)\n",
    "        target_seq = decode_sequence(mismatch['target'], reverse_vocab_map)\n",
    "        \n",
    "        print(f\"Input: {input_seq}\")\n",
    "        print(f\"Predicted: {predicted_seq}\")\n",
    "        print(f\"Target: {target_seq}\")\n",
    "        print(\"Pretrained Knowledge:\")\n",
    "        try:\n",
    "            print(f\"{first_names[last_names.index(predicted_seq[-2].upper())] } has last name {predicted_seq[-2]} \\n\") if predicted_seq[-2].upper() in last_names \\\n",
    "                else print(f\"{predicted_seq[-2]} has first name {last_names[first_names.index(predicted_seq[-2].capitalize())]} \\n\")\n",
    "        except:\n",
    "            pass\n",
    "# test the model on the test set\n",
    "lit_model.mismatched_sequences.clear()\n",
    "\n",
    "trainer.test(model=lit_model, dataloaders=test_dl_empty_ctx)\n",
    "plt.show()\n",
    "mismatch_seq_print_empty(lit_model.mismatched_sequences, reverse_vocab_map)"
   ]
  },
  {
   "cell_type": "markdown",
   "metadata": {},
   "source": [
    "## Test on irrelevant counterfactual context (only first name changed in context)"
   ]
  },
  {
   "cell_type": "code",
   "execution_count": null,
   "metadata": {},
   "outputs": [
    {
     "data": {
      "application/vnd.jupyter.widget-view+json": {
       "model_id": "315e801eac3e4d10ad4840c7d0217405",
       "version_major": 2,
       "version_minor": 0
      },
      "text/plain": [
       "Testing: |          | 0/? [00:00<?, ?it/s]"
      ]
     },
     "metadata": {},
     "output_type": "display_data"
    },
    {
     "data": {
      "image/png": "[encoded data removed]",
      "text/plain": [
       "<Figure size 1000x600 with 1 Axes>"
      ]
     },
     "metadata": {},
     "output_type": "display_data"
    },
    {
     "data": {
      "text/html": [
       "<pre style=\"white-space:pre;overflow-x:auto;line-height:normal;font-family:Menlo,'DejaVu Sans Mono',consolas,'Courier New',monospace\">┏━━━━━━━━━━━━━━━━━━━━━━━━━━━━━━━┳━━━━━━━━━━━━━━━━━━━━━━━━━━━━━━━┓\n",
       "┃<span style=\"font-weight: bold\">          Test metric          </span>┃<span style=\"font-weight: bold\">         DataLoader 0          </span>┃\n",
       "┡━━━━━━━━━━━━━━━━━━━━━━━━━━━━━━━╇━━━━━━━━━━━━━━━━━━━━━━━━━━━━━━━┩\n",
       "│<span style=\"color: #008080; text-decoration-color: #008080\"> test_overall_per_pos_acc_mean </span>│<span style=\"color: #800080; text-decoration-color: #800080\">           0.8359375           </span>│\n",
       "│<span style=\"color: #008080; text-decoration-color: #008080\">     test_overall_seq_acc      </span>│<span style=\"color: #800080; text-decoration-color: #800080\">           0.1796875           </span>│\n",
       "└───────────────────────────────┴───────────────────────────────┘\n",
       "</pre>\n"
      ],
      "text/plain": [
       "┏━━━━━━━━━━━━━━━━━━━━━━━━━━━━━━━┳━━━━━━━━━━━━━━━━━━━━━━━━━━━━━━━┓\n",
       "┃\u001b[1m \u001b[0m\u001b[1m         Test metric         \u001b[0m\u001b[1m \u001b[0m┃\u001b[1m \u001b[0m\u001b[1m        DataLoader 0         \u001b[0m\u001b[1m \u001b[0m┃\n",
       "┡━━━━━━━━━━━━━━━━━━━━━━━━━━━━━━━╇━━━━━━━━━━━━━━━━━━━━━━━━━━━━━━━┩\n",
       "│\u001b[36m \u001b[0m\u001b[36mtest_overall_per_pos_acc_mean\u001b[0m\u001b[36m \u001b[0m│\u001b[35m \u001b[0m\u001b[35m          0.8359375          \u001b[0m\u001b[35m \u001b[0m│\n",
       "│\u001b[36m \u001b[0m\u001b[36m    test_overall_seq_acc     \u001b[0m\u001b[36m \u001b[0m│\u001b[35m \u001b[0m\u001b[35m          0.1796875          \u001b[0m\u001b[35m \u001b[0m│\n",
       "└───────────────────────────────┴───────────────────────────────┘\n"
      ]
     },
     "metadata": {},
     "output_type": "display_data"
    },
    {
     "name": "stdout",
     "output_type": "stream",
     "text": [
      "Input: [sc] adelice has last name durland [sep] [ec] aaren\n",
      "Predicted: has last name peasant [eos]\n",
      "Target: has last name durland [eos]\n",
      "Pretrained Knowledge:\n",
      "adelice has last name peasant\n",
      "durland has first name aaren\n",
      "Adelice has last name peasant \n",
      "\n",
      "Input: [sc] alyss has last name robitaille [sep] [ec] aarika\n",
      "Predicted: has last name koyama [eos]\n",
      "Target: has last name robitaille [eos]\n",
      "Pretrained Knowledge:\n",
      "alyss has last name koyama\n",
      "robitaille has first name aarika\n",
      "Alyss has last name koyama \n",
      "\n",
      "Input: [sc] addi has last name sjogren [sep] [ec] abagael\n",
      "Predicted: has last name yafai [eos]\n",
      "Target: has last name sjogren [eos]\n",
      "Pretrained Knowledge:\n",
      "addi has last name yafai\n",
      "sjogren has first name abagael\n",
      "Addi has last name yafai \n",
      "\n",
      "Input: [sc] abigail has last name mengsteab [sep] [ec] abagail\n",
      "Predicted: has last name pagett [eos]\n",
      "Target: has last name mengsteab [eos]\n",
      "Pretrained Knowledge:\n",
      "abigail has last name pagett\n",
      "mengsteab has first name abagail\n",
      "Abigail has last name pagett \n",
      "\n",
      "Input: [sc] aigneis has last name oehlenschlage [sep] [ec] abbe\n",
      "Predicted: has last name risatti [eos]\n",
      "Target: has last name oehlenschlage [eos]\n",
      "Pretrained Knowledge:\n",
      "aigneis has last name risatti\n",
      "oehlenschlage has first name abbe\n",
      "Aigneis has last name risatti \n",
      "\n"
     ]
    }
   ],
   "source": [
    "\n",
    "# test on the test set\n",
    "lit_model.mismatched_sequences.clear()\n",
    "trainer.test(model=lit_model, dataloaders=test_dl_counterfactual_irrelevant_first_name_change)\n",
    "mismatch_seq_print(lit_model.mismatched_sequences, reverse_vocab_map)"
   ]
  },
  {
   "cell_type": "code",
   "execution_count": null,
   "metadata": {},
   "outputs": [],
   "source": []
  }
 ],
 "metadata": {
  "kernelspec": {
   "display_name": "abstract_transformer",
   "language": "python",
   "name": "python3"
  },
  "language_info": {
   "codemirror_mode": {
    "name": "ipython",
    "version": 3
   },
   "file_extension": ".py",
   "mimetype": "text/x-python",
   "name": "python",
   "nbconvert_exporter": "python",
   "pygments_lexer": "ipython3",
   "version": "3.11.6"
  }
 },
 "nbformat": 4,
 "nbformat_minor": 2
}
