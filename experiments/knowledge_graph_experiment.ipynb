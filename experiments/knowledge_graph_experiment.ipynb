{
 "cells": [
  {
   "cell_type": "markdown",
   "metadata": {},
   "source": [
    "# Test on Controllability and Robustness in Knowledge Graph"
   ]
  },
  {
   "cell_type": "markdown",
   "metadata": {},
   "source": [
    "- First \"pretrain\" on pure facts (context length/number of context examples 0) \n",
    "- Then \"finetune\" on 1/3 facts, 1/3 counterfactual, 1/3 robustness (context length ranges from 1 to 3 randomly)\n",
    "- Test on counterfactual w/ context length 1,2,3, robustness w/ context length 1,2,3"
   ]
  },
  {
   "cell_type": "code",
   "execution_count": 1,
   "metadata": {},
   "outputs": [],
   "source": [
    "import os\n",
    "os.environ['CUDA_LAUNCH_BLOCKING'] = \"1\"\n",
    "# os.environ['TORCH_USE_CUDA_DSA'] = '1'"
   ]
  },
  {
   "cell_type": "code",
   "execution_count": 2,
   "metadata": {},
   "outputs": [],
   "source": [
    "import torch\n",
    "import torchtext\n",
    "from lightning.pytorch.loggers.wandb import WandbLogger\n",
    "import torchmetrics\n",
    "\n",
    "import numpy as np\n",
    "import wandb\n",
    "import torchinfo\n",
    "from contextlib import nullcontext\n",
    "from  tqdm import tqdm, trange\n",
    "import argparse\n",
    "\n",
    "\n",
    "import sys; sys.path += ['..']\n",
    "from language_models import TransformerLM, configure_optimizers\n"
   ]
  },
  {
   "cell_type": "markdown",
   "metadata": {},
   "source": [
    "## Config"
   ]
  },
  {
   "cell_type": "code",
   "execution_count": 4,
   "metadata": {},
   "outputs": [],
   "source": [
    "args = argparse.Namespace(\n",
    "    batch_size=32, n_epochs=40, log_on_step=True,\n",
    "    wandb_project=\"controllability-robustness-test\", run_name='hello', \n",
    "    n_layers=2, n_heads=4, d_model=128, dff=None)"
   ]
  },
  {
   "cell_type": "code",
   "execution_count": 5,
   "metadata": {},
   "outputs": [],
   "source": [
    "# region some configuration\n",
    "device = 'cuada'\n",
    "device_type = 'cuda' if 'cuda' in device else 'cpu' # for later use in torch.autocast\n",
    "dtype = 'bfloat16' if torch.cuda.is_available() and torch.cuda.is_bf16_supported() else 'float16'\n",
    "# dtype = 'float32'\n",
    "ptdtype = {'float32': torch.float32, 'bfloat16': torch.bfloat16, 'float16': torch.float16}[dtype]\n",
    "\n",
    "ctx = nullcontext() if device_type == 'cpu' else torch.amp.autocast(device_type=device_type, dtype=ptdtype)\n",
    "# wandb logging\n",
    "wandb_log = False\n",
    "wandb_project = args.wandb_project\n",
    "# endregion\n"
   ]
  },
  {
   "cell_type": "markdown",
   "metadata": {},
   "source": [
    "## Load Data"
   ]
  },
  {
   "cell_type": "code",
   "execution_count": 6,
   "metadata": {},
   "outputs": [],
   "source": [
    "# how to load data and createe data loader\n",
    "from data_utils import LanguageModelTensorDataset\n",
    "train_ds_tensor = torch.load('../data/knowledge_graph/knowledge_graph_train_ds.pt')\n",
    "train_ds = LanguageModelTensorDataset(train_ds_tensor)\n",
    "train_dl = torch.utils.data.DataLoader(train_ds, batch_size=1, shuffle=True)\n"
   ]
  },
  {
   "cell_type": "code",
   "execution_count": 8,
   "metadata": {},
   "outputs": [],
   "source": [
    "# create vocab\n",
    "n_nodes = 50\n",
    "n_relations = 5\n",
    "\n",
    "node_vocab = [f'N{i}' for i in range(n_nodes)]\n",
    "relation_vocab = [f'R{i}' for i in range(n_relations)]\n",
    "special_tokens = ['<CTX>', '</CTX>', '<SEP>', '<QUERY>', '</QUERY>', '<EOS>', '<PAD>', '<UNK>']\n",
    "vocab = node_vocab + relation_vocab + special_tokens\n",
    "vocab_map = {word: idx for idx, word in enumerate(vocab)}"
   ]
  },
  {
   "cell_type": "code",
   "execution_count": 26,
   "metadata": {},
   "outputs": [
    {
     "name": "stdout",
     "output_type": "stream",
     "text": [
      "[55, 56, 58, 4, 51, 32, 59, 60, 61, 61, 61, 61, 61, 61, 61, 61, 61, 61, 61, 61]\n",
      "<CTX> </CTX> <QUERY> N4 R1 N32 </QUERY> <EOS> <PAD> <PAD> <PAD> <PAD> <PAD> <PAD> <PAD> <PAD> <PAD> <PAD> <PAD> <PAD>\n"
     ]
    }
   ],
   "source": [
    "# some examples from train__ds_tensor\n",
    "for x in train_ds_tensor:\n",
    "    print(x.tolist())\n",
    "    print(' '.join([vocab[idx] for idx in x]))\n",
    "    break"
   ]
  },
  {
   "cell_type": "code",
   "execution_count": 124,
   "metadata": {},
   "outputs": [
    {
     "name": "stdout",
     "output_type": "stream",
     "text": [
      "INPUT\n",
      "[15, 16, 18, 2, 11, 7, 19, 20, 21, 21, 21, 21, 21, 21, 21, 21, 21, 21, 21]\n",
      "<CTX> </CTX> <QUERY> N2 R1 N7 </QUERY> <EOS> <PAD> <PAD> <PAD> <PAD> <PAD> <PAD> <PAD> <PAD> <PAD> <PAD> <PAD>\n",
      "TARGET\n",
      "[16, 18, 2, 11, 7, 19, 20, 21, 21, 21, 21, 21, 21, 21, 21, 21, 21, 21, 21]\n",
      "</CTX> <QUERY> N2 R1 N7 </QUERY> <EOS> <PAD> <PAD> <PAD> <PAD> <PAD> <PAD> <PAD> <PAD> <PAD> <PAD> <PAD> <PAD>\n",
      "----------------------------------------------------------------------------------------------------\n",
      "\n",
      "INPUT\n",
      "[15, 2, 11, 6, 17, 16, 18, 5, 12, 7, 19, 20, 21, 21, 21, 21, 21, 21, 21]\n",
      "<CTX> N2 R1 N6 <SEP> </CTX> <QUERY> N5 R2 N7 </QUERY> <EOS> <PAD> <PAD> <PAD> <PAD> <PAD> <PAD> <PAD>\n",
      "TARGET\n",
      "[2, 11, 6, 17, 16, 18, 5, 12, 7, 19, 20, 21, 21, 21, 21, 21, 21, 21, 21]\n",
      "N2 R1 N6 <SEP> </CTX> <QUERY> N5 R2 N7 </QUERY> <EOS> <PAD> <PAD> <PAD> <PAD> <PAD> <PAD> <PAD> <PAD>\n",
      "----------------------------------------------------------------------------------------------------\n",
      "\n",
      "INPUT\n",
      "[15, 2, 14, 9, 17, 0, 10, 9, 17, 16, 18, 3, 11, 9, 19, 20, 21, 21, 21]\n",
      "<CTX> N2 R4 N9 <SEP> N0 R0 N9 <SEP> </CTX> <QUERY> N3 R1 N9 </QUERY> <EOS> <PAD> <PAD> <PAD>\n",
      "TARGET\n",
      "[2, 14, 9, 17, 0, 10, 9, 17, 16, 18, 3, 11, 9, 19, 20, 21, 21, 21, 21]\n",
      "N2 R4 N9 <SEP> N0 R0 N9 <SEP> </CTX> <QUERY> N3 R1 N9 </QUERY> <EOS> <PAD> <PAD> <PAD> <PAD>\n",
      "----------------------------------------------------------------------------------------------------\n",
      "\n",
      "INPUT\n",
      "[15, 2, 11, 6, 17, 16, 18, 6, 13, 8, 19, 20, 21, 21, 21, 21, 21, 21, 21]\n",
      "<CTX> N2 R1 N6 <SEP> </CTX> <QUERY> N6 R3 N8 </QUERY> <EOS> <PAD> <PAD> <PAD> <PAD> <PAD> <PAD> <PAD>\n",
      "TARGET\n",
      "[2, 11, 6, 17, 16, 18, 6, 13, 8, 19, 20, 21, 21, 21, 21, 21, 21, 21, 21]\n",
      "N2 R1 N6 <SEP> </CTX> <QUERY> N6 R3 N8 </QUERY> <EOS> <PAD> <PAD> <PAD> <PAD> <PAD> <PAD> <PAD> <PAD>\n",
      "----------------------------------------------------------------------------------------------------\n",
      "\n",
      "INPUT\n",
      "[15, 16, 18, 6, 14, 8, 19, 20, 21, 21, 21, 21, 21, 21, 21, 21, 21, 21, 21]\n",
      "<CTX> </CTX> <QUERY> N6 R4 N8 </QUERY> <EOS> <PAD> <PAD> <PAD> <PAD> <PAD> <PAD> <PAD> <PAD> <PAD> <PAD> <PAD>\n",
      "TARGET\n",
      "[16, 18, 6, 14, 8, 19, 20, 21, 21, 21, 21, 21, 21, 21, 21, 21, 21, 21, 21]\n",
      "</CTX> <QUERY> N6 R4 N8 </QUERY> <EOS> <PAD> <PAD> <PAD> <PAD> <PAD> <PAD> <PAD> <PAD> <PAD> <PAD> <PAD> <PAD>\n",
      "----------------------------------------------------------------------------------------------------\n",
      "\n"
     ]
    }
   ],
   "source": [
    "# some examples from train_dl\n",
    "train_iter = iter(train_dl)\n",
    "for _ in range(5):\n",
    "    # get next from train_dl\n",
    "    x, y = next(train_iter)\n",
    "    x, y = x.squeeze(), y.squeeze()\n",
    "    print('INPUT')\n",
    "    print(x.tolist())\n",
    "    print(' '.join([vocab[idx] for idx in x]))\n",
    "    print('TARGET')\n",
    "    print(y.tolist())\n",
    "    print(' '.join([vocab[idx] for idx in y]))\n",
    "    print('-'*100)\n",
    "    print()"
   ]
  },
  {
   "cell_type": "markdown",
   "metadata": {},
   "source": [
    "### Create Val and Test Dataset & DataLoader"
   ]
  },
  {
   "cell_type": "code",
   "execution_count": 27,
   "metadata": {},
   "outputs": [
    {
     "name": "stdout",
     "output_type": "stream",
     "text": [
      "vocab size:  63\n",
      "seq_len:  20\n",
      "Number of batches:  94\n"
     ]
    }
   ],
   "source": [
    "vocab_map = {vocab: i for i, vocab in enumerate(vocab)}\n",
    "vocab_size = len(vocab)\n",
    "print('vocab size: ', vocab_size) \n",
    "seq_len = len(train_ds_tensor[0])\n",
    "print('seq_len: ', seq_len)\n",
    "\n",
    "# load data and createe data loader\n",
    "\n",
    "# training set\n",
    "from data_utils import LanguageModelTensorDataset\n",
    "train_ds_tensor = torch.load('../data/knowledge_graph/knowledge_graph_train_ds.pt')\n",
    "train_ds = LanguageModelTensorDataset(train_ds_tensor)\n",
    "train_dl = torch.utils.data.DataLoader(train_ds, batch_size=args.batch_size, shuffle=True)\n",
    "\n",
    "\n",
    "# pretraining set\n",
    "train_ds_fact_tensor = torch.load('../data/knowledge_graph/knowledge_graph_train_ds_fact.pt')\n",
    "train_ds_fact = LanguageModelTensorDataset(train_ds_fact_tensor)\n",
    "train_dl_fact = torch.utils.data.DataLoader(train_ds_fact, batch_size=args.batch_size, shuffle=True)\n",
    "train_dl_fact_test_x = train_ds_fact_tensor[:,:5]\n",
    "train_dl_fact_test_y = train_ds_fact_tensor[:,5:]\n",
    "train_ds_fact_test = torch.utils.data.TensorDataset(train_dl_fact_test_x, train_dl_fact_test_y)\n",
    "train_dl_fact_test = torch.utils.data.DataLoader(train_ds_fact_test, batch_size=args.batch_size, shuffle=True)\n",
    "\n",
    "test_ds_tensor_control_1 = torch.load('../data/knowledge_graph/knowledge_graph_val_ds_controllability_1.pt')\n",
    "test_ds_control_1 = LanguageModelTensorDataset(test_ds_tensor_control_1)\n",
    "test_dl_control_1_val = torch.utils.data.DataLoader(test_ds_control_1, batch_size=args.batch_size, shuffle=False)\n",
    "test_ds_control_1_test_x = test_ds_tensor_control_1[:,:9]\n",
    "test_ds_control_1_test_y = test_ds_tensor_control_1[:,9:]\n",
    "test_ds_control_1_test = torch.utils.data.TensorDataset(test_ds_control_1_test_x, test_ds_control_1_test_y)\n",
    "test_dl_control_1 = torch.utils.data.DataLoader(test_ds_control_1_test, batch_size=args.batch_size, shuffle=False)\n",
    "\n",
    "test_ds_tensor_control_2 = torch.load('../data/knowledge_graph/knowledge_graph_val_ds_controllability_2.pt')\n",
    "test_ds_control_2 = LanguageModelTensorDataset(test_ds_tensor_control_2)\n",
    "test_dl_control_2_val = torch.utils.data.DataLoader(test_ds_control_2, batch_size=args.batch_size, shuffle=False)\n",
    "test_ds_control_2_test_x = test_ds_tensor_control_2[:,:13]\n",
    "test_ds_control_2_test_y = test_ds_tensor_control_2[:,13:]\n",
    "test_ds_control_2_test = torch.utils.data.TensorDataset(test_ds_control_2_test_x, test_ds_control_2_test_y)\n",
    "test_dl_control_2 = torch.utils.data.DataLoader(test_ds_control_2_test, batch_size=args.batch_size, shuffle=False)\n",
    "\n",
    "\n",
    "test_ds_tensor_control_3 = torch.load('../data/knowledge_graph/knowledge_graph_val_ds_controllability_3.pt')\n",
    "test_ds_control_3 = LanguageModelTensorDataset(test_ds_tensor_control_3)\n",
    "test_dl_control_3_val = torch.utils.data.DataLoader(test_ds_control_3, batch_size=args.batch_size, shuffle=False)\n",
    "test_ds_control_3_test_x = test_ds_tensor_control_3[:,:17]\n",
    "test_ds_control_3_test_y = test_ds_tensor_control_3[:,17:]\n",
    "test_ds_control_3_test = torch.utils.data.TensorDataset(test_ds_control_3_test_x, test_ds_control_3_test_y)\n",
    "test_dl_control_3 = torch.utils.data.DataLoader(test_ds_control_3_test, batch_size=args.batch_size, shuffle=False)\n",
    "\n",
    "\n",
    "test_ds_tensor_robust_1 = torch.load('../data/knowledge_graph/knowledge_graph_val_ds_robustness_1.pt')\n",
    "test_ds_robust_1 = LanguageModelTensorDataset(test_ds_tensor_robust_1)\n",
    "test_dl_robust_1_val = torch.utils.data.DataLoader(test_ds_robust_1, batch_size=args.batch_size, shuffle=False)\n",
    "test_ds_robust_1_test_x = test_ds_tensor_robust_1[:,:9]\n",
    "test_ds_robust_1_test_y = test_ds_tensor_robust_1[:,9:]\n",
    "test_ds_robust_1_test = torch.utils.data.TensorDataset(test_ds_robust_1_test_x, test_ds_robust_1_test_y)\n",
    "test_dl_robust_1 = torch.utils.data.DataLoader(test_ds_robust_1_test, batch_size=args.batch_size, shuffle=False)\n",
    "\n",
    "\n",
    "test_ds_tensor_robust_2 = torch.load('../data/knowledge_graph/knowledge_graph_val_ds_robustness_2.pt')\n",
    "test_ds_robust_2 = LanguageModelTensorDataset(test_ds_tensor_robust_2)\n",
    "test_dl_robust_2_val = torch.utils.data.DataLoader(test_ds_robust_2, batch_size=args.batch_size, shuffle=False)\n",
    "test_ds_robust_2_test_x = test_ds_tensor_robust_2[:,:13]\n",
    "test_ds_robust_2_test_y = test_ds_tensor_robust_2[:,13:]\n",
    "test_ds_robust_2_test = torch.utils.data.TensorDataset(test_ds_robust_2_test_x, test_ds_robust_2_test_y)\n",
    "test_dl_robust_2 = torch.utils.data.DataLoader(test_ds_robust_2_test, batch_size=args.batch_size, shuffle=False)\n",
    "\n",
    "\n",
    "\n",
    "\n",
    "test_ds_tensor_robust_3 = torch.load('../data/knowledge_graph/knowledge_graph_val_ds_robustness_3.pt')\n",
    "test_ds_robust_3 = LanguageModelTensorDataset(test_ds_tensor_robust_3)\n",
    "test_dl_robust_3_val = torch.utils.data.DataLoader(test_ds_robust_3, batch_size=args.batch_size, shuffle=False)\n",
    "test_ds_robust_3_test_x = test_ds_tensor_robust_3[:,:17]\n",
    "test_ds_robust_3_test_y = test_ds_tensor_robust_3[:,17:]\n",
    "test_ds_robust_3_test = torch.utils.data.TensorDataset(test_ds_robust_3_test_x, test_ds_robust_3_test_y)\n",
    "test_dl_robust_3 = torch.utils.data.DataLoader(test_ds_robust_3_test, batch_size=args.batch_size, shuffle=False)\n",
    "\n",
    "\n",
    "print(\"Number of batches: \", len(train_dl))\n",
    "    "
   ]
  },
  {
   "cell_type": "markdown",
   "metadata": {},
   "source": [
    "## Model"
   ]
  },
  {
   "cell_type": "code",
   "execution_count": 96,
   "metadata": {},
   "outputs": [],
   "source": [
    "import lightning as L\n",
    "import matplotlib.pyplot as plt\n",
    "\n",
    "class LitLanguageModel(L.LightningModule):\n",
    "    def __init__(self, model):\n",
    "        super().__init__()\n",
    "        self.model = model\n",
    "        self.mismatched_sequences = []\n",
    "        self.all_seq_acc = []\n",
    "        self.all_per_pos_acc = []\n",
    "\n",
    "    def training_step(self, batch, batch_idx):\n",
    "        x, y = batch\n",
    "        # with ctx:\n",
    "        logits, loss = self.model(x, y)\n",
    "        pred = torch.argmax(logits, dim=-1)\n",
    "        # accuracy. torch.where(y==<QUERY>) and find relevant pred_idx accordingly (index add 3)\n",
    "        query_idx = vocab_map['<QUERY>']\n",
    "        pred_idx = torch.where(y[0]==query_idx)[0] + 3\n",
    "        acc = torch.mean((pred[:,pred_idx] == y[:,pred_idx]).float())\n",
    "        \n",
    "        \n",
    "        # TODO: compute cross-entropy with ignore_idx=padd_token_idx\n",
    "        # TODO: compute perplexity with ignore_idx=padd_token_idx\n",
    "        self.log('train_loss', loss, prog_bar=True, logger=True, on_step=args.log_on_step, on_epoch=True)\n",
    "        self.log('train_obj_acc', acc, prog_bar=True, logger=True, on_step=args.log_on_step, on_epoch=True)\n",
    "        return loss\n",
    "\n",
    "    def validation_step(self, batch, batch_idx, dataloader_idx=0):\n",
    "        x, y = batch\n",
    "        # with ctx:\n",
    "        logits, loss = self.model(x, y)\n",
    "        \n",
    "\n",
    "        perplexity = torchmetrics.functional.text.perplexity(logits, y)\n",
    "        self.log(f\"val_loss\", loss, prog_bar=True, logger=True, add_dataloader_idx=True)\n",
    "        self.log(f'val_perplexity', perplexity, prog_bar=True, logger=True, add_dataloader_idx=True)\n",
    "\n",
    "    def test_step(self, batch, batch_idx, dataloader_idx=0):\n",
    "\n",
    "        x, y = batch\n",
    "        # Generate predictions using the generate function, return the entire sequence\n",
    "        predicted_idx = self.model.generate(x, max_new_tokens=y.size(1), top_k=1)\n",
    "        generated_seq = predicted_idx[:, x.size(1):]\n",
    "    \n",
    "        \n",
    "        # Calculate per position accuracy\n",
    "        per_pos_acc = self.per_position_accuracy(generated_seq, y)  \n",
    "        \n",
    "        # Calculate whole sequence accuracy\n",
    "        seq_acc = self.sequence_accuracy(generated_seq, y)\n",
    "        \n",
    "        # Store metrics for later averaging\n",
    "        self.all_seq_acc.append(seq_acc)\n",
    "        self.all_per_pos_acc.append(per_pos_acc)\n",
    "        \n",
    "        self.capture_mismatches(generated_seq,y, x)\n",
    "        \n",
    "    def sequence_accuracy(self, preds, targets):\n",
    "        # Check if entire sequences match\n",
    "        correct = torch.all(preds == targets, dim=1)\n",
    "        accuracy = torch.mean(correct.float())\n",
    "        return accuracy\n",
    "    \n",
    "    def per_position_accuracy(self, preds, targets):\n",
    "        correct = preds == targets\n",
    "        per_position_acc = correct.float().mean(dim=0)\n",
    "        return per_position_acc\n",
    "    \n",
    "    def capture_mismatches(self, preds, targets, inputs, max_examples=1000):\n",
    "        \"\"\"\n",
    "        Store examples of sequences where the predictions do not match the targets.\n",
    "        \n",
    "        Args:\n",
    "            preds (torch.Tensor): The model's predicted sequences.\n",
    "            targets (torch.Tensor): The actual sequences.\n",
    "            inputs (torch.Tensor): The input sequences to the model.\n",
    "            max_examples (int): Maximum number of mismatched sequences to store.\n",
    "        \"\"\"\n",
    "        # Convert predictions to class indices\n",
    "        mismatches = preds != targets\n",
    "        \n",
    "        # Iterate over the batch to find mismatches\n",
    "        for i in range(mismatches.size(0)):\n",
    "            if torch.any(mismatches[i]) and len(self.mismatched_sequences) < max_examples:\n",
    "                mismatch_data = {\n",
    "                    'input': inputs[i].cpu().numpy(),\n",
    "                    'predicted': preds[i].cpu().numpy(),\n",
    "                    'target': targets[i].cpu().numpy()\n",
    "                }\n",
    "                self.mismatched_sequences.append(mismatch_data)\n",
    "                \n",
    "                \n",
    "    def on_test_epoch_end(self):\n",
    "        # Calculate overall metrics from all batches\n",
    "        if self.all_seq_acc and self.all_per_pos_acc:\n",
    "\n",
    "            overall_seq_acc = torch.mean(torch.stack(self.all_seq_acc))\n",
    "            overall_per_pos_acc = torch.mean(torch.stack(self.all_per_pos_acc), dim=0)\n",
    "            # Log overall metrics\n",
    "            self.log('test_overall_seq_acc', overall_seq_acc, on_step=False, on_epoch=True)\n",
    "            self.log('test_overall_per_pos_acc_mean', overall_per_pos_acc.mean(), on_step=False, on_epoch=True)\n",
    "\n",
    "            # Plot overall per position accuracy\n",
    "            plt.figure(figsize=(10, 6))\n",
    "            plt.plot(overall_per_pos_acc.cpu().numpy(), marker='o', linestyle='-')\n",
    "            plt.title('Overall Per Position Accuracy')\n",
    "            plt.xlabel('Position')\n",
    "            plt.ylabel('Accuracy')\n",
    "            plt.grid(True)\n",
    "            plt.show()\n",
    "\n",
    "            # Clear the accumulators for the next epoch\n",
    "            self.all_seq_acc = []\n",
    "            self.all_per_pos_acc = []   \n",
    "            \n",
    "             \n",
    "        \n",
    "\n",
    "\n",
    "    def configure_optimizers(self):\n",
    "        # NOTE: i chose these arbitrarily; may need to be tuned\n",
    "        optimizer = configure_optimizers(self.model, weight_decay=0.0, learning_rate=1e-3, betas=(0.9, 0.999), device_type=\"cuda\" if torch.cuda.is_available() else \"cpu\")\n",
    "        return optimizer"
   ]
  },
  {
   "cell_type": "code",
   "execution_count": 97,
   "metadata": {},
   "outputs": [
    {
     "data": {
      "text/plain": [
       "=======================================================================================================================================\n",
       "Layer (type (var_name):depth-idx)                                           Param #              Param %              Trainable\n",
       "=======================================================================================================================================\n",
       "TransformerLM (TransformerLM)                                               --                        --              True\n",
       "├─ModuleDict (layers): 1-1                                                  --                        --              True\n",
       "│    └─Embedding (token_embedder): 2-1                                      8,064                  1.94%              True\n",
       "│    │    └─Linear (weights): 3-1                                           8,127                  1.96%              True\n",
       "│    └─Embedding (positional_embedder): 2-2                                 2,560                  0.62%              True\n",
       "│    └─Dropout (dropout): 2-3                                               --                        --              --\n",
       "│    └─ModuleList (blocks): 2-4                                             --                        --              True\n",
       "│    │    └─EncoderBlock (0): 3-2                                           198,272               47.74%              True\n",
       "│    │    └─EncoderBlock (1): 3-3                                           198,272               47.74%              True\n",
       "│    └─Linear (final_out): 2-5                                              (recursive)          (recursive)          True\n",
       "=======================================================================================================================================\n",
       "Total params: 415,295\n",
       "Trainable params: 415,295\n",
       "Non-trainable params: 0\n",
       "======================================================================================================================================="
      ]
     },
     "execution_count": 97,
     "metadata": {},
     "output_type": "execute_result"
    }
   ],
   "source": [
    "d_model = args.d_model # 128\n",
    "dff = args.dff # 256\n",
    "n_layers = args.n_layers\n",
    "n_heads = args.n_heads\n",
    "dropout_rate = 0.1\n",
    "activation = 'gelu'\n",
    "norm_first = True\n",
    "\n",
    "\n",
    "model_args = dict(\n",
    "    vocab_size=vocab_size, d_model=d_model, n_layers=n_layers, n_heads=n_heads, dff=dff,\n",
    "    dropout_rate=dropout_rate, activation=activation, norm_first=norm_first, max_block_size=seq_len)\n",
    "model = TransformerLM(**model_args)#.to(device)\n",
    "torchinfo.summary(model, row_settings=[\"depth\", \"var_names\"], col_names=[\"num_params\", \"params_percent\", \"trainable\"], depth=3, col_width=20)"
   ]
  },
  {
   "cell_type": "code",
   "execution_count": 98,
   "metadata": {},
   "outputs": [],
   "source": [
    "lit_model = LitLanguageModel(model)"
   ]
  },
  {
   "cell_type": "code",
   "execution_count": 99,
   "metadata": {},
   "outputs": [
    {
     "name": "stderr",
     "output_type": "stream",
     "text": [
      "GPU available: False, used: False\n",
      "TPU available: False, using: 0 TPU cores\n",
      "IPU available: False, using: 0 IPUs\n",
      "HPU available: False, using: 0 HPUs\n",
      "\n",
      "  | Name  | Type          | Params\n",
      "----------------------------------------\n",
      "0 | model | TransformerLM | 415 K \n",
      "----------------------------------------\n",
      "415 K     Trainable params\n",
      "0         Non-trainable params\n",
      "415 K     Total params\n",
      "1.661     Total estimated model params size (MB)\n"
     ]
    },
    {
     "name": "stdout",
     "output_type": "stream",
     "text": [
      "num decayed parameter tensors: 11, with 411,904 parameters\n",
      "num non-decayed parameter tensors: 17, with 3,391 parameters\n",
      "using fused AdamW: False\n"
     ]
    },
    {
     "data": {
      "application/vnd.jupyter.widget-view+json": {
       "model_id": "3cf711c9d43c43f599ec9e8125a1f1bd",
       "version_major": 2,
       "version_minor": 0
      },
      "text/plain": [
       "Training: |          | 0/? [00:00<?, ?it/s]"
      ]
     },
     "metadata": {},
     "output_type": "display_data"
    },
    {
     "name": "stderr",
     "output_type": "stream",
     "text": [
      "`Trainer.fit` stopped: `max_epochs=40` reached.\n"
     ]
    }
   ],
   "source": [
    "n_epochs = args.n_epochs\n",
    "\n",
    "# run = wandb.init(project=wandb_project, group=group_name, name=run_name,\n",
    "    # config={'group': group_name, **model_args})\n",
    "\n",
    "# wandb_logger = WandbLogger(experiment=run, log_model=False) # name=run_name, project=wandb_project,\n",
    "# wandb_logger.watch(model, log_graph=False)\n",
    "wandb_logger = None\n",
    "callbacks = [\n",
    "    L.pytorch.callbacks.TQDMProgressBar(refresh_rate=50)\n",
    "    # L.pytorch.callbacks.RichProgressBar()\n",
    "]\n",
    "trainer = L.Trainer(\n",
    "    max_epochs=n_epochs, enable_checkpointing=True, enable_model_summary=True, #precision='64-true',\n",
    "    callbacks=callbacks, enable_progress_bar=True, check_val_every_n_epoch=1, # limit_train_batches=200, limit_val_batches=200,\n",
    "    logger=False\n",
    "    )\n",
    "# multi validation dataloaders\n",
    "validation_dataloaders = [test_dl_control_1_val, test_dl_control_2_val, test_dl_control_3_val, test_dl_robust_1_val, test_dl_robust_2_val, test_dl_robust_3_val]\n",
    "trainer.fit(model=lit_model, train_dataloaders=train_dl_fact)\n"
   ]
  },
  {
   "cell_type": "code",
   "execution_count": 100,
   "metadata": {},
   "outputs": [
    {
     "name": "stdout",
     "output_type": "stream",
     "text": [
      "tensor([55, 56, 58, 26, 54])\n",
      "tensor(28)\n",
      "tensor(28)\n",
      "tensor([55, 56, 58, 26, 54, 28, 59])\n",
      "tensor(1.)\n"
     ]
    }
   ],
   "source": [
    "for (x,y) in train_dl_fact:\n",
    "    query = x[:, :5]\n",
    "    ans = x[:, 5]\n",
    "    pred, _ = model(query)\n",
    "    pred_idx = torch.argmax(pred, dim=-1).squeeze()\n",
    "    print(query[0])\n",
    "    print(ans[0])\n",
    "    print(pred_idx[0])\n",
    "    print(x[0][:8])\n",
    "    acc = torch.mean((ans == pred_idx).float())\n",
    "    print(acc)\n",
    "    break"
   ]
  },
  {
   "cell_type": "code",
   "execution_count": 101,
   "metadata": {},
   "outputs": [
    {
     "name": "stderr",
     "output_type": "stream",
     "text": [
      "/Users/ruixiaowang/miniforge3/envs/casestudy_env/lib/python3.11/site-packages/lightning/pytorch/trainer/connectors/data_connector.py:492: Your `test_dataloader`'s sampler has shuffling enabled, it is strongly recommended that you turn shuffling off for val/test dataloaders.\n",
      "/Users/ruixiaowang/miniforge3/envs/casestudy_env/lib/python3.11/site-packages/lightning/pytorch/trainer/connectors/data_connector.py:441: The 'test_dataloader' does not have many workers which may be a bottleneck. Consider increasing the value of the `num_workers` argument` to `num_workers=7` in the `DataLoader` to improve performance.\n"
     ]
    },
    {
     "data": {
      "application/vnd.jupyter.widget-view+json": {
       "model_id": "f3f8a25d47484744a187de7d4c8bc832",
       "version_major": 2,
       "version_minor": 0
      },
      "text/plain": [
       "Testing: |          | 0/? [00:00<?, ?it/s]"
      ]
     },
     "metadata": {},
     "output_type": "display_data"
    },
    {
     "data": {
      "image/png": "[encoded data removed]",
      "text/plain": [
       "<Figure size 1000x600 with 1 Axes>"
      ]
     },
     "metadata": {},
     "output_type": "display_data"
    },
    {
     "data": {
      "text/html": [
       "<pre style=\"white-space:pre;overflow-x:auto;line-height:normal;font-family:Menlo,'DejaVu Sans Mono',consolas,'Courier New',monospace\">┏━━━━━━━━━━━━━━━━━━━━━━━━━━━━━━━┳━━━━━━━━━━━━━━━━━━━━━━━━━━━━━━━┓\n",
       "┃<span style=\"font-weight: bold\">          Test metric          </span>┃<span style=\"font-weight: bold\">         DataLoader 0          </span>┃\n",
       "┡━━━━━━━━━━━━━━━━━━━━━━━━━━━━━━━╇━━━━━━━━━━━━━━━━━━━━━━━━━━━━━━━┩\n",
       "│<span style=\"color: #008080; text-decoration-color: #008080\"> test_overall_per_pos_acc_mean </span>│<span style=\"color: #800080; text-decoration-color: #800080\">              1.0              </span>│\n",
       "│<span style=\"color: #008080; text-decoration-color: #008080\">     test_overall_seq_acc      </span>│<span style=\"color: #800080; text-decoration-color: #800080\">              1.0              </span>│\n",
       "└───────────────────────────────┴───────────────────────────────┘\n",
       "</pre>\n"
      ],
      "text/plain": [
       "┏━━━━━━━━━━━━━━━━━━━━━━━━━━━━━━━┳━━━━━━━━━━━━━━━━━━━━━━━━━━━━━━━┓\n",
       "┃\u001b[1m \u001b[0m\u001b[1m         Test metric         \u001b[0m\u001b[1m \u001b[0m┃\u001b[1m \u001b[0m\u001b[1m        DataLoader 0         \u001b[0m\u001b[1m \u001b[0m┃\n",
       "┡━━━━━━━━━━━━━━━━━━━━━━━━━━━━━━━╇━━━━━━━━━━━━━━━━━━━━━━━━━━━━━━━┩\n",
       "│\u001b[36m \u001b[0m\u001b[36mtest_overall_per_pos_acc_mean\u001b[0m\u001b[36m \u001b[0m│\u001b[35m \u001b[0m\u001b[35m             1.0             \u001b[0m\u001b[35m \u001b[0m│\n",
       "│\u001b[36m \u001b[0m\u001b[36m    test_overall_seq_acc     \u001b[0m\u001b[36m \u001b[0m│\u001b[35m \u001b[0m\u001b[35m             1.0             \u001b[0m\u001b[35m \u001b[0m│\n",
       "└───────────────────────────────┴───────────────────────────────┘\n"
      ]
     },
     "metadata": {},
     "output_type": "display_data"
    }
   ],
   "source": [
    "# test on pure fact, make sure it acheives 100% accuracy\n",
    "trainer.test(model=lit_model, dataloaders=train_dl_fact_test)\n",
    "reverse_vocab_map = {idx: vocab for vocab, idx in vocab_map.items()}\n",
    "\n"
   ]
  },
  {
   "cell_type": "markdown",
   "metadata": {},
   "source": [
    "### \"finetune\" on mixture dataset: 1/3 fact 1/3 counterfactual 1/3 robustness\n"
   ]
  },
  {
   "cell_type": "code",
   "execution_count": 102,
   "metadata": {},
   "outputs": [
    {
     "name": "stderr",
     "output_type": "stream",
     "text": [
      "Trainer already configured with model summary callbacks: [<class 'lightning.pytorch.callbacks.model_summary.ModelSummary'>]. Skipping setting a default `ModelSummary` callback.\n",
      "GPU available: False, used: False\n",
      "TPU available: False, using: 0 TPU cores\n",
      "IPU available: False, using: 0 IPUs\n",
      "HPU available: False, using: 0 HPUs\n",
      "\n",
      "  | Name  | Type          | Params\n",
      "----------------------------------------\n",
      "0 | model | TransformerLM | 415 K \n",
      "----------------------------------------\n",
      "415 K     Trainable params\n",
      "0         Non-trainable params\n",
      "415 K     Total params\n",
      "1.661     Total estimated model params size (MB)\n"
     ]
    },
    {
     "name": "stdout",
     "output_type": "stream",
     "text": [
      "num decayed parameter tensors: 11, with 411,904 parameters\n",
      "num non-decayed parameter tensors: 17, with 3,391 parameters\n",
      "using fused AdamW: False\n"
     ]
    },
    {
     "data": {
      "application/vnd.jupyter.widget-view+json": {
       "model_id": "5813ce235696421c9f666c3d62f63cc2",
       "version_major": 2,
       "version_minor": 0
      },
      "text/plain": [
       "Sanity Checking: |          | 0/? [00:00<?, ?it/s]"
      ]
     },
     "metadata": {},
     "output_type": "display_data"
    },
    {
     "name": "stderr",
     "output_type": "stream",
     "text": [
      "/Users/ruixiaowang/miniforge3/envs/casestudy_env/lib/python3.11/site-packages/lightning/pytorch/trainer/connectors/data_connector.py:441: The 'val_dataloader' does not have many workers which may be a bottleneck. Consider increasing the value of the `num_workers` argument` to `num_workers=7` in the `DataLoader` to improve performance.\n",
      "/Users/ruixiaowang/miniforge3/envs/casestudy_env/lib/python3.11/site-packages/lightning/pytorch/core/module.py:507: You called `self.log('val_loss', ..., logger=True)` but have no logger configured. You can enable one by doing `Trainer(logger=ALogger(...))`\n",
      "/Users/ruixiaowang/miniforge3/envs/casestudy_env/lib/python3.11/site-packages/lightning/pytorch/core/module.py:507: You called `self.log('val_perplexity', ..., logger=True)` but have no logger configured. You can enable one by doing `Trainer(logger=ALogger(...))`\n"
     ]
    },
    {
     "data": {
      "application/vnd.jupyter.widget-view+json": {
       "model_id": "a49892e974c24258bd56a5109618b899",
       "version_major": 2,
       "version_minor": 0
      },
      "text/plain": [
       "Training: |          | 0/? [00:00<?, ?it/s]"
      ]
     },
     "metadata": {},
     "output_type": "display_data"
    },
    {
     "data": {
      "application/vnd.jupyter.widget-view+json": {
       "model_id": "cf2eaecce79f4c03b157b10a2e3a1512",
       "version_major": 2,
       "version_minor": 0
      },
      "text/plain": [
       "Validation: |          | 0/? [00:00<?, ?it/s]"
      ]
     },
     "metadata": {},
     "output_type": "display_data"
    },
    {
     "data": {
      "application/vnd.jupyter.widget-view+json": {
       "model_id": "190ac94475ce4abab832c830fb48cf57",
       "version_major": 2,
       "version_minor": 0
      },
      "text/plain": [
       "Validation: |          | 0/? [00:00<?, ?it/s]"
      ]
     },
     "metadata": {},
     "output_type": "display_data"
    },
    {
     "data": {
      "application/vnd.jupyter.widget-view+json": {
       "model_id": "eb013853411646099fc201e6b93ca748",
       "version_major": 2,
       "version_minor": 0
      },
      "text/plain": [
       "Validation: |          | 0/? [00:00<?, ?it/s]"
      ]
     },
     "metadata": {},
     "output_type": "display_data"
    },
    {
     "data": {
      "application/vnd.jupyter.widget-view+json": {
       "model_id": "0e2d62c5f9d44e5cadf9bbd0e4f72ef2",
       "version_major": 2,
       "version_minor": 0
      },
      "text/plain": [
       "Validation: |          | 0/? [00:00<?, ?it/s]"
      ]
     },
     "metadata": {},
     "output_type": "display_data"
    },
    {
     "data": {
      "application/vnd.jupyter.widget-view+json": {
       "model_id": "5b9e69bcee0643b997079f904ac79cad",
       "version_major": 2,
       "version_minor": 0
      },
      "text/plain": [
       "Validation: |          | 0/? [00:00<?, ?it/s]"
      ]
     },
     "metadata": {},
     "output_type": "display_data"
    },
    {
     "data": {
      "application/vnd.jupyter.widget-view+json": {
       "model_id": "63ef8df8a2534a31af0735157dbf3410",
       "version_major": 2,
       "version_minor": 0
      },
      "text/plain": [
       "Validation: |          | 0/? [00:00<?, ?it/s]"
      ]
     },
     "metadata": {},
     "output_type": "display_data"
    },
    {
     "data": {
      "application/vnd.jupyter.widget-view+json": {
       "model_id": "3bb4a340636f43c988e0702e36d07be8",
       "version_major": 2,
       "version_minor": 0
      },
      "text/plain": [
       "Validation: |          | 0/? [00:00<?, ?it/s]"
      ]
     },
     "metadata": {},
     "output_type": "display_data"
    },
    {
     "data": {
      "application/vnd.jupyter.widget-view+json": {
       "model_id": "f11cf74e638c49a899246d602362adcc",
       "version_major": 2,
       "version_minor": 0
      },
      "text/plain": [
       "Validation: |          | 0/? [00:00<?, ?it/s]"
      ]
     },
     "metadata": {},
     "output_type": "display_data"
    },
    {
     "data": {
      "application/vnd.jupyter.widget-view+json": {
       "model_id": "bd0b6f1617794dddbb21509d67a8767f",
       "version_major": 2,
       "version_minor": 0
      },
      "text/plain": [
       "Validation: |          | 0/? [00:00<?, ?it/s]"
      ]
     },
     "metadata": {},
     "output_type": "display_data"
    },
    {
     "data": {
      "application/vnd.jupyter.widget-view+json": {
       "model_id": "ed617a715b1d48f3b09656c4444b8fc5",
       "version_major": 2,
       "version_minor": 0
      },
      "text/plain": [
       "Validation: |          | 0/? [00:00<?, ?it/s]"
      ]
     },
     "metadata": {},
     "output_type": "display_data"
    },
    {
     "data": {
      "application/vnd.jupyter.widget-view+json": {
       "model_id": "61b04a5354e842f5912b302fb4a5c395",
       "version_major": 2,
       "version_minor": 0
      },
      "text/plain": [
       "Validation: |          | 0/? [00:00<?, ?it/s]"
      ]
     },
     "metadata": {},
     "output_type": "display_data"
    },
    {
     "data": {
      "application/vnd.jupyter.widget-view+json": {
       "model_id": "57d140a53b7148d5a3d67e6fe8a84828",
       "version_major": 2,
       "version_minor": 0
      },
      "text/plain": [
       "Validation: |          | 0/? [00:00<?, ?it/s]"
      ]
     },
     "metadata": {},
     "output_type": "display_data"
    },
    {
     "data": {
      "application/vnd.jupyter.widget-view+json": {
       "model_id": "72e8efc11a8c4c928053ea4719642982",
       "version_major": 2,
       "version_minor": 0
      },
      "text/plain": [
       "Validation: |          | 0/? [00:00<?, ?it/s]"
      ]
     },
     "metadata": {},
     "output_type": "display_data"
    },
    {
     "data": {
      "application/vnd.jupyter.widget-view+json": {
       "model_id": "e114dbcb93054512b50f0df6bf59af01",
       "version_major": 2,
       "version_minor": 0
      },
      "text/plain": [
       "Validation: |          | 0/? [00:00<?, ?it/s]"
      ]
     },
     "metadata": {},
     "output_type": "display_data"
    },
    {
     "data": {
      "application/vnd.jupyter.widget-view+json": {
       "model_id": "c44d4d9273314612bec6cb367a206490",
       "version_major": 2,
       "version_minor": 0
      },
      "text/plain": [
       "Validation: |          | 0/? [00:00<?, ?it/s]"
      ]
     },
     "metadata": {},
     "output_type": "display_data"
    },
    {
     "data": {
      "application/vnd.jupyter.widget-view+json": {
       "model_id": "f75189cc497844e1a413f8a4f8cb9599",
       "version_major": 2,
       "version_minor": 0
      },
      "text/plain": [
       "Validation: |          | 0/? [00:00<?, ?it/s]"
      ]
     },
     "metadata": {},
     "output_type": "display_data"
    },
    {
     "data": {
      "application/vnd.jupyter.widget-view+json": {
       "model_id": "53fb085138db4cc1b14f287c1ff10876",
       "version_major": 2,
       "version_minor": 0
      },
      "text/plain": [
       "Validation: |          | 0/? [00:00<?, ?it/s]"
      ]
     },
     "metadata": {},
     "output_type": "display_data"
    },
    {
     "data": {
      "application/vnd.jupyter.widget-view+json": {
       "model_id": "68bda1030ca3405f9254d33754fa9979",
       "version_major": 2,
       "version_minor": 0
      },
      "text/plain": [
       "Validation: |          | 0/? [00:00<?, ?it/s]"
      ]
     },
     "metadata": {},
     "output_type": "display_data"
    },
    {
     "data": {
      "application/vnd.jupyter.widget-view+json": {
       "model_id": "86a7267c5b2846ad945f8e86a0e522ab",
       "version_major": 2,
       "version_minor": 0
      },
      "text/plain": [
       "Validation: |          | 0/? [00:00<?, ?it/s]"
      ]
     },
     "metadata": {},
     "output_type": "display_data"
    },
    {
     "data": {
      "application/vnd.jupyter.widget-view+json": {
       "model_id": "5488f1b4476f4d76b416dbf66b9ef289",
       "version_major": 2,
       "version_minor": 0
      },
      "text/plain": [
       "Validation: |          | 0/? [00:00<?, ?it/s]"
      ]
     },
     "metadata": {},
     "output_type": "display_data"
    },
    {
     "data": {
      "application/vnd.jupyter.widget-view+json": {
       "model_id": "4fcbd356698b4686ae34882dc0198f91",
       "version_major": 2,
       "version_minor": 0
      },
      "text/plain": [
       "Validation: |          | 0/? [00:00<?, ?it/s]"
      ]
     },
     "metadata": {},
     "output_type": "display_data"
    },
    {
     "data": {
      "application/vnd.jupyter.widget-view+json": {
       "model_id": "d5180f2dcb5f47c88af41338f9b9c4b0",
       "version_major": 2,
       "version_minor": 0
      },
      "text/plain": [
       "Validation: |          | 0/? [00:00<?, ?it/s]"
      ]
     },
     "metadata": {},
     "output_type": "display_data"
    },
    {
     "data": {
      "application/vnd.jupyter.widget-view+json": {
       "model_id": "6247eed609d14c91801fab90c108e8bf",
       "version_major": 2,
       "version_minor": 0
      },
      "text/plain": [
       "Validation: |          | 0/? [00:00<?, ?it/s]"
      ]
     },
     "metadata": {},
     "output_type": "display_data"
    },
    {
     "data": {
      "application/vnd.jupyter.widget-view+json": {
       "model_id": "4c30fe121fc1455f8c5bb9568b3f8b08",
       "version_major": 2,
       "version_minor": 0
      },
      "text/plain": [
       "Validation: |          | 0/? [00:00<?, ?it/s]"
      ]
     },
     "metadata": {},
     "output_type": "display_data"
    },
    {
     "data": {
      "application/vnd.jupyter.widget-view+json": {
       "model_id": "2d8e2dc1dbf34667bb1b0553a71c8de0",
       "version_major": 2,
       "version_minor": 0
      },
      "text/plain": [
       "Validation: |          | 0/? [00:00<?, ?it/s]"
      ]
     },
     "metadata": {},
     "output_type": "display_data"
    },
    {
     "data": {
      "application/vnd.jupyter.widget-view+json": {
       "model_id": "877ccfb1e20b4075adaebd9f4b490c6e",
       "version_major": 2,
       "version_minor": 0
      },
      "text/plain": [
       "Validation: |          | 0/? [00:00<?, ?it/s]"
      ]
     },
     "metadata": {},
     "output_type": "display_data"
    },
    {
     "data": {
      "application/vnd.jupyter.widget-view+json": {
       "model_id": "94bcc055a16e46fcb7dc02e026beb758",
       "version_major": 2,
       "version_minor": 0
      },
      "text/plain": [
       "Validation: |          | 0/? [00:00<?, ?it/s]"
      ]
     },
     "metadata": {},
     "output_type": "display_data"
    },
    {
     "data": {
      "application/vnd.jupyter.widget-view+json": {
       "model_id": "e962466aef044d2ea1a4395f2e55d984",
       "version_major": 2,
       "version_minor": 0
      },
      "text/plain": [
       "Validation: |          | 0/? [00:00<?, ?it/s]"
      ]
     },
     "metadata": {},
     "output_type": "display_data"
    },
    {
     "data": {
      "application/vnd.jupyter.widget-view+json": {
       "model_id": "1efbcd4fe4a24a92ada457325aea28dd",
       "version_major": 2,
       "version_minor": 0
      },
      "text/plain": [
       "Validation: |          | 0/? [00:00<?, ?it/s]"
      ]
     },
     "metadata": {},
     "output_type": "display_data"
    },
    {
     "data": {
      "application/vnd.jupyter.widget-view+json": {
       "model_id": "5c33bba3d9b648688799daead640e1a6",
       "version_major": 2,
       "version_minor": 0
      },
      "text/plain": [
       "Validation: |          | 0/? [00:00<?, ?it/s]"
      ]
     },
     "metadata": {},
     "output_type": "display_data"
    },
    {
     "data": {
      "application/vnd.jupyter.widget-view+json": {
       "model_id": "cf4ff57c8dac40d294518b3f33612b23",
       "version_major": 2,
       "version_minor": 0
      },
      "text/plain": [
       "Validation: |          | 0/? [00:00<?, ?it/s]"
      ]
     },
     "metadata": {},
     "output_type": "display_data"
    },
    {
     "data": {
      "application/vnd.jupyter.widget-view+json": {
       "model_id": "84d0e218b4004c73ae5f362d278fbb8e",
       "version_major": 2,
       "version_minor": 0
      },
      "text/plain": [
       "Validation: |          | 0/? [00:00<?, ?it/s]"
      ]
     },
     "metadata": {},
     "output_type": "display_data"
    },
    {
     "data": {
      "application/vnd.jupyter.widget-view+json": {
       "model_id": "40a02bd6efe840a484d9db3f68a5bf59",
       "version_major": 2,
       "version_minor": 0
      },
      "text/plain": [
       "Validation: |          | 0/? [00:00<?, ?it/s]"
      ]
     },
     "metadata": {},
     "output_type": "display_data"
    },
    {
     "data": {
      "application/vnd.jupyter.widget-view+json": {
       "model_id": "9b09643504e946f39c2e3a7b64a9003e",
       "version_major": 2,
       "version_minor": 0
      },
      "text/plain": [
       "Validation: |          | 0/? [00:00<?, ?it/s]"
      ]
     },
     "metadata": {},
     "output_type": "display_data"
    },
    {
     "data": {
      "application/vnd.jupyter.widget-view+json": {
       "model_id": "8abc99d8472f4844b2eab5b8c1462a7c",
       "version_major": 2,
       "version_minor": 0
      },
      "text/plain": [
       "Validation: |          | 0/? [00:00<?, ?it/s]"
      ]
     },
     "metadata": {},
     "output_type": "display_data"
    },
    {
     "data": {
      "application/vnd.jupyter.widget-view+json": {
       "model_id": "ebf2cb34007d4c8bb3c4aca4accb3e0b",
       "version_major": 2,
       "version_minor": 0
      },
      "text/plain": [
       "Validation: |          | 0/? [00:00<?, ?it/s]"
      ]
     },
     "metadata": {},
     "output_type": "display_data"
    },
    {
     "data": {
      "application/vnd.jupyter.widget-view+json": {
       "model_id": "1185d1ca0fcf41169f279340eb7c7304",
       "version_major": 2,
       "version_minor": 0
      },
      "text/plain": [
       "Validation: |          | 0/? [00:00<?, ?it/s]"
      ]
     },
     "metadata": {},
     "output_type": "display_data"
    },
    {
     "data": {
      "application/vnd.jupyter.widget-view+json": {
       "model_id": "8b9a960d63be496c807f117b77c21000",
       "version_major": 2,
       "version_minor": 0
      },
      "text/plain": [
       "Validation: |          | 0/? [00:00<?, ?it/s]"
      ]
     },
     "metadata": {},
     "output_type": "display_data"
    },
    {
     "data": {
      "application/vnd.jupyter.widget-view+json": {
       "model_id": "5b1a25d96a854025a307203ad01caaee",
       "version_major": 2,
       "version_minor": 0
      },
      "text/plain": [
       "Validation: |          | 0/? [00:00<?, ?it/s]"
      ]
     },
     "metadata": {},
     "output_type": "display_data"
    },
    {
     "data": {
      "application/vnd.jupyter.widget-view+json": {
       "model_id": "110bba29cf564c3994cc03fa74c98b61",
       "version_major": 2,
       "version_minor": 0
      },
      "text/plain": [
       "Validation: |          | 0/? [00:00<?, ?it/s]"
      ]
     },
     "metadata": {},
     "output_type": "display_data"
    },
    {
     "name": "stderr",
     "output_type": "stream",
     "text": [
      "`Trainer.fit` stopped: `max_epochs=40` reached.\n"
     ]
    }
   ],
   "source": [
    "# finetune on mixture dataset: 1/3 fact 1/3 counterfactual 1/3 robustness\n",
    "\n",
    "trainer = L.Trainer(\n",
    "    max_epochs=n_epochs, enable_checkpointing=True, enable_model_summary=True, #precision='64-true',\n",
    "    callbacks=callbacks, enable_progress_bar=True, check_val_every_n_epoch=1, # limit_train_batches=200, limit_val_batches=200,\n",
    "    logger=False\n",
    "    )\n",
    "trainer.fit(model=lit_model, train_dataloaders=train_dl, val_dataloaders=validation_dataloaders)"
   ]
  },
  {
   "cell_type": "code",
   "execution_count": 103,
   "metadata": {},
   "outputs": [
    {
     "name": "stderr",
     "output_type": "stream",
     "text": [
      "/Users/ruixiaowang/miniforge3/envs/casestudy_env/lib/python3.11/site-packages/lightning/pytorch/trainer/connectors/data_connector.py:492: Your `test_dataloader`'s sampler has shuffling enabled, it is strongly recommended that you turn shuffling off for val/test dataloaders.\n",
      "/Users/ruixiaowang/miniforge3/envs/casestudy_env/lib/python3.11/site-packages/lightning/pytorch/trainer/connectors/data_connector.py:441: The 'test_dataloader' does not have many workers which may be a bottleneck. Consider increasing the value of the `num_workers` argument` to `num_workers=7` in the `DataLoader` to improve performance.\n"
     ]
    },
    {
     "data": {
      "application/vnd.jupyter.widget-view+json": {
       "model_id": "643c19da5dae4020bf3755e703e298af",
       "version_major": 2,
       "version_minor": 0
      },
      "text/plain": [
       "Testing: |          | 0/? [00:00<?, ?it/s]"
      ]
     },
     "metadata": {},
     "output_type": "display_data"
    },
    {
     "data": {
      "image/png": "[encoded data removed]",
      "text/plain": [
       "<Figure size 1000x600 with 1 Axes>"
      ]
     },
     "metadata": {},
     "output_type": "display_data"
    },
    {
     "data": {
      "text/html": [
       "<pre style=\"white-space:pre;overflow-x:auto;line-height:normal;font-family:Menlo,'DejaVu Sans Mono',consolas,'Courier New',monospace\">┏━━━━━━━━━━━━━━━━━━━━━━━━━━━━━━━┳━━━━━━━━━━━━━━━━━━━━━━━━━━━━━━━┓\n",
       "┃<span style=\"font-weight: bold\">          Test metric          </span>┃<span style=\"font-weight: bold\">         DataLoader 0          </span>┃\n",
       "┡━━━━━━━━━━━━━━━━━━━━━━━━━━━━━━━╇━━━━━━━━━━━━━━━━━━━━━━━━━━━━━━━┩\n",
       "│<span style=\"color: #008080; text-decoration-color: #008080\"> test_overall_per_pos_acc_mean </span>│<span style=\"color: #800080; text-decoration-color: #800080\">              1.0              </span>│\n",
       "│<span style=\"color: #008080; text-decoration-color: #008080\">     test_overall_seq_acc      </span>│<span style=\"color: #800080; text-decoration-color: #800080\">              1.0              </span>│\n",
       "└───────────────────────────────┴───────────────────────────────┘\n",
       "</pre>\n"
      ],
      "text/plain": [
       "┏━━━━━━━━━━━━━━━━━━━━━━━━━━━━━━━┳━━━━━━━━━━━━━━━━━━━━━━━━━━━━━━━┓\n",
       "┃\u001b[1m \u001b[0m\u001b[1m         Test metric         \u001b[0m\u001b[1m \u001b[0m┃\u001b[1m \u001b[0m\u001b[1m        DataLoader 0         \u001b[0m\u001b[1m \u001b[0m┃\n",
       "┡━━━━━━━━━━━━━━━━━━━━━━━━━━━━━━━╇━━━━━━━━━━━━━━━━━━━━━━━━━━━━━━━┩\n",
       "│\u001b[36m \u001b[0m\u001b[36mtest_overall_per_pos_acc_mean\u001b[0m\u001b[36m \u001b[0m│\u001b[35m \u001b[0m\u001b[35m             1.0             \u001b[0m\u001b[35m \u001b[0m│\n",
       "│\u001b[36m \u001b[0m\u001b[36m    test_overall_seq_acc     \u001b[0m\u001b[36m \u001b[0m│\u001b[35m \u001b[0m\u001b[35m             1.0             \u001b[0m\u001b[35m \u001b[0m│\n",
       "└───────────────────────────────┴───────────────────────────────┘\n"
      ]
     },
     "metadata": {},
     "output_type": "display_data"
    }
   ],
   "source": [
    "reverse_vocab_map = {i: word for word, i in vocab_map.items()}\n",
    "\n",
    "# model performance on the pure fact pretraining set\n",
    "trainer.test(model=lit_model, dataloaders=train_dl_fact_test)\n",
    "# model performance on the validation set\n",
    "lit_model.mismatched_sequences.clear()\n"
   ]
  },
  {
   "cell_type": "markdown",
   "metadata": {},
   "source": [
    "## Test on counterfactual context"
   ]
  },
  {
   "cell_type": "code",
   "execution_count": 104,
   "metadata": {},
   "outputs": [],
   "source": [
    "def decode_sequence(seq, reverse_vocab_map):\n",
    "    return ' '.join([reverse_vocab_map[idx] for idx in seq])\n",
    "\n",
    "def mismatch_seq_print(mismatch, reverse_vocab_map, max_examples=3):\n",
    "    for mismatch in lit_model.mismatched_sequences[:max_examples]:\n",
    "        input_seq = decode_sequence(mismatch['input'], reverse_vocab_map)\n",
    "        predicted_seq = decode_sequence(mismatch['predicted'], reverse_vocab_map)\n",
    "        target_seq = decode_sequence(mismatch['target'], reverse_vocab_map)\n",
    "        \n",
    "        print(f\"Input: {input_seq}\")\n",
    "        print(f\"Predicted: {predicted_seq}\")\n",
    "        print(f\"Target: {target_seq}\\n\")"
   ]
  },
  {
   "cell_type": "code",
   "execution_count": 105,
   "metadata": {},
   "outputs": [
    {
     "name": "stderr",
     "output_type": "stream",
     "text": [
      "/Users/ruixiaowang/miniforge3/envs/casestudy_env/lib/python3.11/site-packages/lightning/pytorch/trainer/connectors/data_connector.py:441: The 'test_dataloader' does not have many workers which may be a bottleneck. Consider increasing the value of the `num_workers` argument` to `num_workers=7` in the `DataLoader` to improve performance.\n"
     ]
    },
    {
     "data": {
      "application/vnd.jupyter.widget-view+json": {
       "model_id": "56e70e14a2ab4cde9025d524ab480cbe",
       "version_major": 2,
       "version_minor": 0
      },
      "text/plain": [
       "Testing: |          | 0/? [00:00<?, ?it/s]"
      ]
     },
     "metadata": {},
     "output_type": "display_data"
    },
    {
     "data": {
      "image/png": "[encoded data removed]",
      "text/plain": [
       "<Figure size 1000x600 with 1 Axes>"
      ]
     },
     "metadata": {},
     "output_type": "display_data"
    },
    {
     "data": {
      "text/html": [
       "<pre style=\"white-space:pre;overflow-x:auto;line-height:normal;font-family:Menlo,'DejaVu Sans Mono',consolas,'Courier New',monospace\">┏━━━━━━━━━━━━━━━━━━━━━━━━━━━━━━━┳━━━━━━━━━━━━━━━━━━━━━━━━━━━━━━━┓\n",
       "┃<span style=\"font-weight: bold\">          Test metric          </span>┃<span style=\"font-weight: bold\">         DataLoader 0          </span>┃\n",
       "┡━━━━━━━━━━━━━━━━━━━━━━━━━━━━━━━╇━━━━━━━━━━━━━━━━━━━━━━━━━━━━━━━┩\n",
       "│<span style=\"color: #008080; text-decoration-color: #008080\"> test_overall_per_pos_acc_mean </span>│<span style=\"color: #800080; text-decoration-color: #800080\">      0.9738103747367859       </span>│\n",
       "│<span style=\"color: #008080; text-decoration-color: #008080\">     test_overall_seq_acc      </span>│<span style=\"color: #800080; text-decoration-color: #800080\">         0.7119140625          </span>│\n",
       "└───────────────────────────────┴───────────────────────────────┘\n",
       "</pre>\n"
      ],
      "text/plain": [
       "┏━━━━━━━━━━━━━━━━━━━━━━━━━━━━━━━┳━━━━━━━━━━━━━━━━━━━━━━━━━━━━━━━┓\n",
       "┃\u001b[1m \u001b[0m\u001b[1m         Test metric         \u001b[0m\u001b[1m \u001b[0m┃\u001b[1m \u001b[0m\u001b[1m        DataLoader 0         \u001b[0m\u001b[1m \u001b[0m┃\n",
       "┡━━━━━━━━━━━━━━━━━━━━━━━━━━━━━━━╇━━━━━━━━━━━━━━━━━━━━━━━━━━━━━━━┩\n",
       "│\u001b[36m \u001b[0m\u001b[36mtest_overall_per_pos_acc_mean\u001b[0m\u001b[36m \u001b[0m│\u001b[35m \u001b[0m\u001b[35m     0.9738103747367859      \u001b[0m\u001b[35m \u001b[0m│\n",
       "│\u001b[36m \u001b[0m\u001b[36m    test_overall_seq_acc     \u001b[0m\u001b[36m \u001b[0m│\u001b[35m \u001b[0m\u001b[35m        0.7119140625         \u001b[0m\u001b[35m \u001b[0m│\n",
       "└───────────────────────────────┴───────────────────────────────┘\n"
      ]
     },
     "metadata": {},
     "output_type": "display_data"
    },
    {
     "name": "stdout",
     "output_type": "stream",
     "text": [
      "Input: <CTX> N49 R4 N7 <SEP> </CTX> <QUERY> N49 R4\n",
      "Predicted: N12 </QUERY> <EOS> <PAD> <PAD> <PAD> <PAD> <PAD> <PAD> <PAD> <PAD>\n",
      "Target: N7 </QUERY> <EOS> <PAD> <PAD> <PAD> <PAD> <PAD> <PAD> <PAD> <PAD>\n",
      "\n",
      "Input: <CTX> N35 R2 N47 <SEP> </CTX> <QUERY> N35 R2\n",
      "Predicted: N6 </QUERY> <EOS> <PAD> <PAD> <PAD> <PAD> <PAD> <PAD> <PAD> <PAD>\n",
      "Target: N47 </QUERY> <EOS> <PAD> <PAD> <PAD> <PAD> <PAD> <PAD> <PAD> <PAD>\n",
      "\n",
      "Input: <CTX> N25 R1 N3 <SEP> </CTX> <QUERY> N25 R1\n",
      "Predicted: N45 </QUERY> <EOS> <PAD> <PAD> <PAD> <PAD> <PAD> <PAD> <PAD> <PAD>\n",
      "Target: N3 </QUERY> <EOS> <PAD> <PAD> <PAD> <PAD> <PAD> <PAD> <PAD> <PAD>\n",
      "\n"
     ]
    },
    {
     "data": {
      "application/vnd.jupyter.widget-view+json": {
       "model_id": "b9ee90fc72724ecbb67db207f639efe4",
       "version_major": 2,
       "version_minor": 0
      },
      "text/plain": [
       "Testing: |          | 0/? [00:00<?, ?it/s]"
      ]
     },
     "metadata": {},
     "output_type": "display_data"
    },
    {
     "data": {
      "image/png": "[encoded data removed]",
      "text/plain": [
       "<Figure size 1000x600 with 1 Axes>"
      ]
     },
     "metadata": {},
     "output_type": "display_data"
    },
    {
     "data": {
      "text/html": [
       "<pre style=\"white-space:pre;overflow-x:auto;line-height:normal;font-family:Menlo,'DejaVu Sans Mono',consolas,'Courier New',monospace\">┏━━━━━━━━━━━━━━━━━━━━━━━━━━━━━━━┳━━━━━━━━━━━━━━━━━━━━━━━━━━━━━━━┓\n",
       "┃<span style=\"font-weight: bold\">          Test metric          </span>┃<span style=\"font-weight: bold\">         DataLoader 0          </span>┃\n",
       "┡━━━━━━━━━━━━━━━━━━━━━━━━━━━━━━━╇━━━━━━━━━━━━━━━━━━━━━━━━━━━━━━━┩\n",
       "│<span style=\"color: #008080; text-decoration-color: #008080\"> test_overall_per_pos_acc_mean </span>│<span style=\"color: #800080; text-decoration-color: #800080\">      0.9215959906578064       </span>│\n",
       "│<span style=\"color: #008080; text-decoration-color: #008080\">     test_overall_seq_acc      </span>│<span style=\"color: #800080; text-decoration-color: #800080\">          0.451171875          </span>│\n",
       "└───────────────────────────────┴───────────────────────────────┘\n",
       "</pre>\n"
      ],
      "text/plain": [
       "┏━━━━━━━━━━━━━━━━━━━━━━━━━━━━━━━┳━━━━━━━━━━━━━━━━━━━━━━━━━━━━━━━┓\n",
       "┃\u001b[1m \u001b[0m\u001b[1m         Test metric         \u001b[0m\u001b[1m \u001b[0m┃\u001b[1m \u001b[0m\u001b[1m        DataLoader 0         \u001b[0m\u001b[1m \u001b[0m┃\n",
       "┡━━━━━━━━━━━━━━━━━━━━━━━━━━━━━━━╇━━━━━━━━━━━━━━━━━━━━━━━━━━━━━━━┩\n",
       "│\u001b[36m \u001b[0m\u001b[36mtest_overall_per_pos_acc_mean\u001b[0m\u001b[36m \u001b[0m│\u001b[35m \u001b[0m\u001b[35m     0.9215959906578064      \u001b[0m\u001b[35m \u001b[0m│\n",
       "│\u001b[36m \u001b[0m\u001b[36m    test_overall_seq_acc     \u001b[0m\u001b[36m \u001b[0m│\u001b[35m \u001b[0m\u001b[35m         0.451171875         \u001b[0m\u001b[35m \u001b[0m│\n",
       "└───────────────────────────────┴───────────────────────────────┘\n"
      ]
     },
     "metadata": {},
     "output_type": "display_data"
    },
    {
     "name": "stdout",
     "output_type": "stream",
     "text": [
      "Input: <CTX> N0 R1 N18 <SEP> N4 R4 N3 <SEP> </CTX> <QUERY> N4 R4\n",
      "Predicted: N46 </QUERY> <EOS> <PAD> <PAD> <PAD> <PAD>\n",
      "Target: N3 </QUERY> <EOS> <PAD> <PAD> <PAD> <PAD>\n",
      "\n",
      "Input: <CTX> N4 R0 N2 <SEP> N0 R2 N30 <SEP> </CTX> <QUERY> N0 R2\n",
      "Predicted: N47 </QUERY> <EOS> <PAD> <PAD> <PAD> <PAD>\n",
      "Target: N30 </QUERY> <EOS> <PAD> <PAD> <PAD> <PAD>\n",
      "\n",
      "Input: <CTX> N31 R2 N12 <SEP> N29 R3 N23 <SEP> </CTX> <QUERY> N29 R3\n",
      "Predicted: N34 </QUERY> <EOS> <PAD> <PAD> <PAD> <PAD>\n",
      "Target: N23 </QUERY> <EOS> <PAD> <PAD> <PAD> <PAD>\n",
      "\n"
     ]
    },
    {
     "data": {
      "application/vnd.jupyter.widget-view+json": {
       "model_id": "1e0a3e0cb69b47418604c83fc0be14f8",
       "version_major": 2,
       "version_minor": 0
      },
      "text/plain": [
       "Testing: |          | 0/? [00:00<?, ?it/s]"
      ]
     },
     "metadata": {},
     "output_type": "display_data"
    },
    {
     "data": {
      "image/png": "[encoded data removed]",
      "text/plain": [
       "<Figure size 1000x600 with 1 Axes>"
      ]
     },
     "metadata": {},
     "output_type": "display_data"
    },
    {
     "data": {
      "text/html": [
       "<pre style=\"white-space:pre;overflow-x:auto;line-height:normal;font-family:Menlo,'DejaVu Sans Mono',consolas,'Courier New',monospace\">┏━━━━━━━━━━━━━━━━━━━━━━━━━━━━━━━┳━━━━━━━━━━━━━━━━━━━━━━━━━━━━━━━┓\n",
       "┃<span style=\"font-weight: bold\">          Test metric          </span>┃<span style=\"font-weight: bold\">         DataLoader 0          </span>┃\n",
       "┡━━━━━━━━━━━━━━━━━━━━━━━━━━━━━━━╇━━━━━━━━━━━━━━━━━━━━━━━━━━━━━━━┩\n",
       "│<span style=\"color: #008080; text-decoration-color: #008080\"> test_overall_per_pos_acc_mean </span>│<span style=\"color: #800080; text-decoration-color: #800080\">         0.7861328125          </span>│\n",
       "│<span style=\"color: #008080; text-decoration-color: #008080\">     test_overall_seq_acc      </span>│<span style=\"color: #800080; text-decoration-color: #800080\">         0.3603515625          </span>│\n",
       "└───────────────────────────────┴───────────────────────────────┘\n",
       "</pre>\n"
      ],
      "text/plain": [
       "┏━━━━━━━━━━━━━━━━━━━━━━━━━━━━━━━┳━━━━━━━━━━━━━━━━━━━━━━━━━━━━━━━┓\n",
       "┃\u001b[1m \u001b[0m\u001b[1m         Test metric         \u001b[0m\u001b[1m \u001b[0m┃\u001b[1m \u001b[0m\u001b[1m        DataLoader 0         \u001b[0m\u001b[1m \u001b[0m┃\n",
       "┡━━━━━━━━━━━━━━━━━━━━━━━━━━━━━━━╇━━━━━━━━━━━━━━━━━━━━━━━━━━━━━━━┩\n",
       "│\u001b[36m \u001b[0m\u001b[36mtest_overall_per_pos_acc_mean\u001b[0m\u001b[36m \u001b[0m│\u001b[35m \u001b[0m\u001b[35m        0.7861328125         \u001b[0m\u001b[35m \u001b[0m│\n",
       "│\u001b[36m \u001b[0m\u001b[36m    test_overall_seq_acc     \u001b[0m\u001b[36m \u001b[0m│\u001b[35m \u001b[0m\u001b[35m        0.3603515625         \u001b[0m\u001b[35m \u001b[0m│\n",
       "└───────────────────────────────┴───────────────────────────────┘\n"
      ]
     },
     "metadata": {},
     "output_type": "display_data"
    },
    {
     "name": "stdout",
     "output_type": "stream",
     "text": [
      "Input: <CTX> N17 R1 N43 <SEP> N42 R2 N25 <SEP> N26 R4 N28 <SEP> </CTX> <QUERY> N42 R2\n",
      "Predicted: N2 </QUERY> <EOS>\n",
      "Target: N25 </QUERY> <EOS>\n",
      "\n",
      "Input: <CTX> N16 R2 N6 <SEP> N47 R0 N29 <SEP> N24 R3 N23 <SEP> </CTX> <QUERY> N47 R0\n",
      "Predicted: N13 </QUERY> <EOS>\n",
      "Target: N29 </QUERY> <EOS>\n",
      "\n",
      "Input: <CTX> N44 R4 N25 <SEP> N31 R2 N12 <SEP> N21 R2 N13 <SEP> </CTX> <QUERY> N44 R4\n",
      "Predicted: N5 </QUERY> <EOS>\n",
      "Target: N25 </QUERY> <EOS>\n",
      "\n"
     ]
    }
   ],
   "source": [
    "lit_model.mismatched_sequences.clear()\n",
    "trainer.test(model=lit_model, dataloaders=test_dl_control_1)\n",
    "mismatch_seq_print(lit_model.mismatched_sequences, reverse_vocab_map)\n",
    "lit_model.mismatched_sequences.clear()\n",
    "trainer.test(model=lit_model, dataloaders=test_dl_control_2)\n",
    "mismatch_seq_print(lit_model.mismatched_sequences, reverse_vocab_map)\n",
    "lit_model.mismatched_sequences.clear()\n",
    "trainer.test(model=lit_model, dataloaders=test_dl_control_3)\n",
    "mismatch_seq_print(lit_model.mismatched_sequences, reverse_vocab_map)\n",
    "lit_model.mismatched_sequences.clear()\n",
    "\n"
   ]
  },
  {
   "cell_type": "markdown",
   "metadata": {},
   "source": [
    "## Test on Robustness "
   ]
  },
  {
   "cell_type": "code",
   "execution_count": 106,
   "metadata": {},
   "outputs": [
    {
     "data": {
      "application/vnd.jupyter.widget-view+json": {
       "model_id": "ed167d8d338049a698d6ab55483e5f91",
       "version_major": 2,
       "version_minor": 0
      },
      "text/plain": [
       "Testing: |          | 0/? [00:00<?, ?it/s]"
      ]
     },
     "metadata": {},
     "output_type": "display_data"
    },
    {
     "data": {
      "image/png": "[encoded data removed]",
      "text/plain": [
       "<Figure size 1000x600 with 1 Axes>"
      ]
     },
     "metadata": {},
     "output_type": "display_data"
    },
    {
     "data": {
      "text/html": [
       "<pre style=\"white-space:pre;overflow-x:auto;line-height:normal;font-family:Menlo,'DejaVu Sans Mono',consolas,'Courier New',monospace\">┏━━━━━━━━━━━━━━━━━━━━━━━━━━━━━━━┳━━━━━━━━━━━━━━━━━━━━━━━━━━━━━━━┓\n",
       "┃<span style=\"font-weight: bold\">          Test metric          </span>┃<span style=\"font-weight: bold\">         DataLoader 0          </span>┃\n",
       "┡━━━━━━━━━━━━━━━━━━━━━━━━━━━━━━━╇━━━━━━━━━━━━━━━━━━━━━━━━━━━━━━━┩\n",
       "│<span style=\"color: #008080; text-decoration-color: #008080\"> test_overall_per_pos_acc_mean </span>│<span style=\"color: #800080; text-decoration-color: #800080\">      0.9924538135528564       </span>│\n",
       "│<span style=\"color: #008080; text-decoration-color: #008080\">     test_overall_seq_acc      </span>│<span style=\"color: #800080; text-decoration-color: #800080\">         0.9169921875          </span>│\n",
       "└───────────────────────────────┴───────────────────────────────┘\n",
       "</pre>\n"
      ],
      "text/plain": [
       "┏━━━━━━━━━━━━━━━━━━━━━━━━━━━━━━━┳━━━━━━━━━━━━━━━━━━━━━━━━━━━━━━━┓\n",
       "┃\u001b[1m \u001b[0m\u001b[1m         Test metric         \u001b[0m\u001b[1m \u001b[0m┃\u001b[1m \u001b[0m\u001b[1m        DataLoader 0         \u001b[0m\u001b[1m \u001b[0m┃\n",
       "┡━━━━━━━━━━━━━━━━━━━━━━━━━━━━━━━╇━━━━━━━━━━━━━━━━━━━━━━━━━━━━━━━┩\n",
       "│\u001b[36m \u001b[0m\u001b[36mtest_overall_per_pos_acc_mean\u001b[0m\u001b[36m \u001b[0m│\u001b[35m \u001b[0m\u001b[35m     0.9924538135528564      \u001b[0m\u001b[35m \u001b[0m│\n",
       "│\u001b[36m \u001b[0m\u001b[36m    test_overall_seq_acc     \u001b[0m\u001b[36m \u001b[0m│\u001b[35m \u001b[0m\u001b[35m        0.9169921875         \u001b[0m\u001b[35m \u001b[0m│\n",
       "└───────────────────────────────┴───────────────────────────────┘\n"
      ]
     },
     "metadata": {},
     "output_type": "display_data"
    },
    {
     "name": "stdout",
     "output_type": "stream",
     "text": [
      "Input: <CTX> N20 R1 N39 <SEP> </CTX> <QUERY> N15 R1\n",
      "Predicted: N39 </QUERY> <EOS> <PAD> <PAD> <PAD> <PAD> <PAD> <PAD> <PAD> <PAD>\n",
      "Target: N29 </QUERY> <EOS> <PAD> <PAD> <PAD> <PAD> <PAD> <PAD> <PAD> <PAD>\n",
      "\n",
      "Input: <CTX> N10 R4 N18 <SEP> </CTX> <QUERY> N35 R2\n",
      "Predicted: N40 </QUERY> <EOS> <PAD> <PAD> <PAD> <PAD> <PAD> <PAD> <PAD> <PAD>\n",
      "Target: N6 </QUERY> <EOS> <PAD> <PAD> <PAD> <PAD> <PAD> <PAD> <PAD> <PAD>\n",
      "\n",
      "Input: <CTX> N38 R4 N36 <SEP> </CTX> <QUERY> N1 R4\n",
      "Predicted: N36 </QUERY> <EOS> <PAD> <PAD> <PAD> <PAD> <PAD> <PAD> <PAD> <PAD>\n",
      "Target: N22 </QUERY> <EOS> <PAD> <PAD> <PAD> <PAD> <PAD> <PAD> <PAD> <PAD>\n",
      "\n",
      "Input: <CTX> N30 R0 N3 <SEP> </CTX> <QUERY> N10 R0\n",
      "Predicted: N3 </QUERY> <EOS> <PAD> <PAD> <PAD> <PAD> <PAD> <PAD> <PAD> <PAD>\n",
      "Target: N37 </QUERY> <EOS> <PAD> <PAD> <PAD> <PAD> <PAD> <PAD> <PAD> <PAD>\n",
      "\n",
      "Input: <CTX> N2 R4 N42 <SEP> </CTX> <QUERY> N1 R4\n",
      "Predicted: N42 </QUERY> <EOS> <PAD> <PAD> <PAD> <PAD> <PAD> <PAD> <PAD> <PAD>\n",
      "Target: N22 </QUERY> <EOS> <PAD> <PAD> <PAD> <PAD> <PAD> <PAD> <PAD> <PAD>\n",
      "\n",
      "Input: <CTX> N9 R0 N30 <SEP> </CTX> <QUERY> N31 R0\n",
      "Predicted: N30 </QUERY> <EOS> <PAD> <PAD> <PAD> <PAD> <PAD> <PAD> <PAD> <PAD>\n",
      "Target: N25 </QUERY> <EOS> <PAD> <PAD> <PAD> <PAD> <PAD> <PAD> <PAD> <PAD>\n",
      "\n"
     ]
    },
    {
     "data": {
      "application/vnd.jupyter.widget-view+json": {
       "model_id": "2bdad752b927419e8d7ba7b7765124d1",
       "version_major": 2,
       "version_minor": 0
      },
      "text/plain": [
       "Testing: |          | 0/? [00:00<?, ?it/s]"
      ]
     },
     "metadata": {},
     "output_type": "display_data"
    },
    {
     "data": {
      "image/png": "[encoded data removed]",
      "text/plain": [
       "<Figure size 1000x600 with 1 Axes>"
      ]
     },
     "metadata": {},
     "output_type": "display_data"
    },
    {
     "data": {
      "text/html": [
       "<pre style=\"white-space:pre;overflow-x:auto;line-height:normal;font-family:Menlo,'DejaVu Sans Mono',consolas,'Courier New',monospace\">┏━━━━━━━━━━━━━━━━━━━━━━━━━━━━━━━┳━━━━━━━━━━━━━━━━━━━━━━━━━━━━━━━┓\n",
       "┃<span style=\"font-weight: bold\">          Test metric          </span>┃<span style=\"font-weight: bold\">         DataLoader 0          </span>┃\n",
       "┡━━━━━━━━━━━━━━━━━━━━━━━━━━━━━━━╇━━━━━━━━━━━━━━━━━━━━━━━━━━━━━━━┩\n",
       "│<span style=\"color: #008080; text-decoration-color: #008080\"> test_overall_per_pos_acc_mean </span>│<span style=\"color: #800080; text-decoration-color: #800080\">      0.9840959906578064       </span>│\n",
       "│<span style=\"color: #008080; text-decoration-color: #008080\">     test_overall_seq_acc      </span>│<span style=\"color: #800080; text-decoration-color: #800080\">          0.888671875          </span>│\n",
       "└───────────────────────────────┴───────────────────────────────┘\n",
       "</pre>\n"
      ],
      "text/plain": [
       "┏━━━━━━━━━━━━━━━━━━━━━━━━━━━━━━━┳━━━━━━━━━━━━━━━━━━━━━━━━━━━━━━━┓\n",
       "┃\u001b[1m \u001b[0m\u001b[1m         Test metric         \u001b[0m\u001b[1m \u001b[0m┃\u001b[1m \u001b[0m\u001b[1m        DataLoader 0         \u001b[0m\u001b[1m \u001b[0m┃\n",
       "┡━━━━━━━━━━━━━━━━━━━━━━━━━━━━━━━╇━━━━━━━━━━━━━━━━━━━━━━━━━━━━━━━┩\n",
       "│\u001b[36m \u001b[0m\u001b[36mtest_overall_per_pos_acc_mean\u001b[0m\u001b[36m \u001b[0m│\u001b[35m \u001b[0m\u001b[35m     0.9840959906578064      \u001b[0m\u001b[35m \u001b[0m│\n",
       "│\u001b[36m \u001b[0m\u001b[36m    test_overall_seq_acc     \u001b[0m\u001b[36m \u001b[0m│\u001b[35m \u001b[0m\u001b[35m         0.888671875         \u001b[0m\u001b[35m \u001b[0m│\n",
       "└───────────────────────────────┴───────────────────────────────┘\n"
      ]
     },
     "metadata": {},
     "output_type": "display_data"
    },
    {
     "name": "stdout",
     "output_type": "stream",
     "text": [
      "Input: <CTX> N35 R4 N16 <SEP> N33 R1 N49 <SEP> </CTX> <QUERY> N43 R2\n",
      "Predicted: N45 </QUERY> <EOS> <PAD> <PAD> <PAD> <PAD>\n",
      "Target: N1 </QUERY> <EOS> <PAD> <PAD> <PAD> <PAD>\n",
      "\n",
      "Input: <CTX> N17 R1 N43 <SEP> N46 R3 N43 <SEP> </CTX> <QUERY> N43 R1\n",
      "Predicted: N43 </QUERY> <EOS> <PAD> <PAD> <PAD> <PAD>\n",
      "Target: N31 </QUERY> <EOS> <PAD> <PAD> <PAD> <PAD>\n",
      "\n",
      "Input: <CTX> N12 R1 N21 <SEP> N36 R2 N12 <SEP> </CTX> <QUERY> N18 R0\n",
      "Predicted: N19 </QUERY> <EOS> <PAD> <PAD> <PAD> <PAD>\n",
      "Target: N7 </QUERY> <EOS> <PAD> <PAD> <PAD> <PAD>\n",
      "\n",
      "Input: <CTX> N4 R1 N32 <SEP> N41 R4 N19 <SEP> </CTX> <QUERY> N28 R1\n",
      "Predicted: N32 </QUERY> <EOS> <PAD> <PAD> <PAD> <PAD>\n",
      "Target: N9 </QUERY> <EOS> <PAD> <PAD> <PAD> <PAD>\n",
      "\n",
      "Input: <CTX> N15 R1 N29 <SEP> N44 R3 N20 <SEP> </CTX> <QUERY> N13 R3\n",
      "Predicted: N49 </QUERY> <EOS> <PAD> <PAD> <PAD> <PAD>\n",
      "Target: N21 </QUERY> <EOS> <PAD> <PAD> <PAD> <PAD>\n",
      "\n",
      "Input: <CTX> N36 R2 N12 <SEP> N20 R3 N49 <SEP> </CTX> <QUERY> N42 R3\n",
      "Predicted: N49 </QUERY> <EOS> <PAD> <PAD> <PAD> <PAD>\n",
      "Target: N22 </QUERY> <EOS> <PAD> <PAD> <PAD> <PAD>\n",
      "\n"
     ]
    },
    {
     "data": {
      "application/vnd.jupyter.widget-view+json": {
       "model_id": "46cd84da28b44199b8e847a1884d942a",
       "version_major": 2,
       "version_minor": 0
      },
      "text/plain": [
       "Testing: |          | 0/? [00:00<?, ?it/s]"
      ]
     },
     "metadata": {},
     "output_type": "display_data"
    },
    {
     "data": {
      "image/png": "[encoded data removed]",
      "text/plain": [
       "<Figure size 1000x600 with 1 Axes>"
      ]
     },
     "metadata": {},
     "output_type": "display_data"
    },
    {
     "data": {
      "text/html": [
       "<pre style=\"white-space:pre;overflow-x:auto;line-height:normal;font-family:Menlo,'DejaVu Sans Mono',consolas,'Courier New',monospace\">┏━━━━━━━━━━━━━━━━━━━━━━━━━━━━━━━┳━━━━━━━━━━━━━━━━━━━━━━━━━━━━━━━┓\n",
       "┃<span style=\"font-weight: bold\">          Test metric          </span>┃<span style=\"font-weight: bold\">         DataLoader 0          </span>┃\n",
       "┡━━━━━━━━━━━━━━━━━━━━━━━━━━━━━━━╇━━━━━━━━━━━━━━━━━━━━━━━━━━━━━━━┩\n",
       "│<span style=\"color: #008080; text-decoration-color: #008080\"> test_overall_per_pos_acc_mean </span>│<span style=\"color: #800080; text-decoration-color: #800080\">      0.9544270634651184       </span>│\n",
       "│<span style=\"color: #008080; text-decoration-color: #008080\">     test_overall_seq_acc      </span>│<span style=\"color: #800080; text-decoration-color: #800080\">          0.86328125           </span>│\n",
       "└───────────────────────────────┴───────────────────────────────┘\n",
       "</pre>\n"
      ],
      "text/plain": [
       "┏━━━━━━━━━━━━━━━━━━━━━━━━━━━━━━━┳━━━━━━━━━━━━━━━━━━━━━━━━━━━━━━━┓\n",
       "┃\u001b[1m \u001b[0m\u001b[1m         Test metric         \u001b[0m\u001b[1m \u001b[0m┃\u001b[1m \u001b[0m\u001b[1m        DataLoader 0         \u001b[0m\u001b[1m \u001b[0m┃\n",
       "┡━━━━━━━━━━━━━━━━━━━━━━━━━━━━━━━╇━━━━━━━━━━━━━━━━━━━━━━━━━━━━━━━┩\n",
       "│\u001b[36m \u001b[0m\u001b[36mtest_overall_per_pos_acc_mean\u001b[0m\u001b[36m \u001b[0m│\u001b[35m \u001b[0m\u001b[35m     0.9544270634651184      \u001b[0m\u001b[35m \u001b[0m│\n",
       "│\u001b[36m \u001b[0m\u001b[36m    test_overall_seq_acc     \u001b[0m\u001b[36m \u001b[0m│\u001b[35m \u001b[0m\u001b[35m         0.86328125          \u001b[0m\u001b[35m \u001b[0m│\n",
       "└───────────────────────────────┴───────────────────────────────┘\n"
      ]
     },
     "metadata": {},
     "output_type": "display_data"
    },
    {
     "name": "stdout",
     "output_type": "stream",
     "text": [
      "Input: <CTX> N46 R1 N28 <SEP> N46 R1 N28 <SEP> N8 R2 N26 <SEP> </CTX> <QUERY> N20 R1\n",
      "Predicted: N28 </QUERY> <EOS>\n",
      "Target: N39 </QUERY> <EOS>\n",
      "\n",
      "Input: <CTX> N24 R3 N23 <SEP> N34 R4 N17 <SEP> N35 R4 N16 <SEP> </CTX> <QUERY> N37 R1\n",
      "Predicted: N44 </QUERY> <EOS>\n",
      "Target: N40 </QUERY> <EOS>\n",
      "\n",
      "Input: <CTX> N23 R3 N4 <SEP> N20 R1 N39 <SEP> N26 R3 N23 <SEP> </CTX> <QUERY> N1 R1\n",
      "Predicted: N39 </QUERY> <EOS>\n",
      "Target: N38 </QUERY> <EOS>\n",
      "\n",
      "Input: <CTX> N6 R0 N7 <SEP> N21 R2 N13 <SEP> N44 R4 N5 <SEP> </CTX> <QUERY> N11 R3\n",
      "Predicted: N23 </QUERY> <EOS>\n",
      "Target: N2 </QUERY> <EOS>\n",
      "\n",
      "Input: <CTX> N46 R3 N43 <SEP> N47 R4 N3 <SEP> N33 R3 N21 <SEP> </CTX> <QUERY> N2 R3\n",
      "Predicted: N21 </QUERY> <EOS>\n",
      "Target: N42 </QUERY> <EOS>\n",
      "\n",
      "Input: <CTX> N44 R3 N20 <SEP> N1 R4 N22 <SEP> N28 R2 N38 <SEP> </CTX> <QUERY> N11 R2\n",
      "Predicted: N2 </QUERY> <EOS>\n",
      "Target: N31 </QUERY> <EOS>\n",
      "\n"
     ]
    }
   ],
   "source": [
    "lit_model.mismatched_sequences.clear()\n",
    "trainer.test(model=lit_model, dataloaders=test_dl_robust_1)\n",
    "mismatch_seq_print(lit_model.mismatched_sequences, reverse_vocab_map,max_examples=6)\n",
    "\n",
    "lit_model.mismatched_sequences.clear()\n",
    "trainer.test(model=lit_model, dataloaders=test_dl_robust_2)\n",
    "mismatch_seq_print(lit_model.mismatched_sequences, reverse_vocab_map, max_examples=6)\n",
    "\n",
    "lit_model.mismatched_sequences.clear()\n",
    "trainer.test(model=lit_model, dataloaders=test_dl_robust_3)\n",
    "mismatch_seq_print(lit_model.mismatched_sequences, reverse_vocab_map, max_examples=6)\n",
    "\n"
   ]
  },
  {
   "cell_type": "code",
   "execution_count": null,
   "metadata": {},
   "outputs": [],
   "source": []
  }
 ],
 "metadata": {
  "kernelspec": {
   "display_name": "abstract_transformer",
   "language": "python",
   "name": "python3"
  },
  "language_info": {
   "codemirror_mode": {
    "name": "ipython",
    "version": 3
   },
   "file_extension": ".py",
   "mimetype": "text/x-python",
   "name": "python",
   "nbconvert_exporter": "python",
   "pygments_lexer": "ipython3",
   "version": "3.11.6"
  }
 },
 "nbformat": 4,
 "nbformat_minor": 2
}
