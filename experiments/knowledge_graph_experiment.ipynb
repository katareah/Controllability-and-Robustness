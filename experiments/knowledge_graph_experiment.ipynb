{
 "cells": [
  {
   "cell_type": "markdown",
   "metadata": {},
   "source": [
    "# Test on Controllability and Robustness in Knowledge Graph"
   ]
  },
  {
   "cell_type": "markdown",
   "metadata": {},
   "source": [
    "- First \"pretrain\" on pure facts (context length/number of context examples 0) \n",
    "- Then \"finetune\" on 1/3 facts, 1/3 counterfactual, 1/3 robustness (context length ranges from 1 to 3 randomly)\n",
    "- Test on counterfactual w/ context length 1,2,3, robustness w/ context length 1,2,3"
   ]
  },
  {
   "cell_type": "code",
   "execution_count": 1,
   "metadata": {},
   "outputs": [],
   "source": [
    "import os\n",
    "os.environ['CUDA_LAUNCH_BLOCKING'] = \"1\"\n",
    "# os.environ['TORCH_USE_CUDA_DSA'] = '1'"
   ]
  },
  {
   "cell_type": "code",
   "execution_count": 2,
   "metadata": {},
   "outputs": [],
   "source": [
    "import torch\n",
    "import torchtext\n",
    "from lightning.pytorch.loggers.wandb import WandbLogger\n",
    "import torchmetrics\n",
    "\n",
    "import numpy as np\n",
    "import wandb\n",
    "import torchinfo\n",
    "from contextlib import nullcontext\n",
    "from  tqdm import tqdm, trange\n",
    "import argparse\n",
    "from datetime import datetime\n",
    "\n",
    "import sys; sys.path += ['..']\n",
    "from language_models import TransformerLM, configure_optimizers\n"
   ]
  },
  {
   "cell_type": "markdown",
   "metadata": {},
   "source": [
    "## Config"
   ]
  },
  {
   "cell_type": "code",
   "execution_count": 3,
   "metadata": {},
   "outputs": [],
   "source": [
    "args = argparse.Namespace(\n",
    "    batch_size=32, n_epochs=40, log_on_step=True,\n",
    "    wandb_project=\"controllability-robustness-test\", run_name='hello', \n",
    "    n_layers=2, n_heads=4, d_model=128, dff=None)"
   ]
  },
  {
   "cell_type": "code",
   "execution_count": 4,
   "metadata": {},
   "outputs": [
    {
     "name": "stderr",
     "output_type": "stream",
     "text": [
      "Failed to detect the name of this notebook, you can set it manually with the WANDB_NOTEBOOK_NAME environment variable to enable code saving.\n",
      "\u001b[34m\u001b[1mwandb\u001b[0m: Currently logged in as: \u001b[33mkata-reah\u001b[0m (\u001b[33mruixiao\u001b[0m). Use \u001b[1m`wandb login --relogin`\u001b[0m to force relogin\n"
     ]
    },
    {
     "data": {
      "text/html": [
       "wandb version 0.17.4 is available!  To upgrade, please run:\n",
       " $ pip install wandb --upgrade"
      ],
      "text/plain": [
       "<IPython.core.display.HTML object>"
      ]
     },
     "metadata": {},
     "output_type": "display_data"
    },
    {
     "data": {
      "text/html": [
       "Tracking run with wandb version 0.17.0"
      ],
      "text/plain": [
       "<IPython.core.display.HTML object>"
      ]
     },
     "metadata": {},
     "output_type": "display_data"
    },
    {
     "data": {
      "text/html": [
       "Run data is saved locally in <code>/gpfs/radev/project/lafferty/rw686/Controllability-and-Robustness/experiments/wandb/run-20240706_193742-hvzgwe9w</code>"
      ],
      "text/plain": [
       "<IPython.core.display.HTML object>"
      ]
     },
     "metadata": {},
     "output_type": "display_data"
    },
    {
     "data": {
      "text/html": [
       "Syncing run <strong><a href='https://wandb.ai/ruixiao/controllability-robustness-test/runs/hvzgwe9w' target=\"_blank\">hello</a></strong> to <a href='https://wandb.ai/ruixiao/controllability-robustness-test' target=\"_blank\">Weights & Biases</a> (<a href='https://wandb.me/run' target=\"_blank\">docs</a>)<br/>"
      ],
      "text/plain": [
       "<IPython.core.display.HTML object>"
      ]
     },
     "metadata": {},
     "output_type": "display_data"
    },
    {
     "data": {
      "text/html": [
       " View project at <a href='https://wandb.ai/ruixiao/controllability-robustness-test' target=\"_blank\">https://wandb.ai/ruixiao/controllability-robustness-test</a>"
      ],
      "text/plain": [
       "<IPython.core.display.HTML object>"
      ]
     },
     "metadata": {},
     "output_type": "display_data"
    },
    {
     "data": {
      "text/html": [
       " View run at <a href='https://wandb.ai/ruixiao/controllability-robustness-test/runs/hvzgwe9w' target=\"_blank\">https://wandb.ai/ruixiao/controllability-robustness-test/runs/hvzgwe9w</a>"
      ],
      "text/plain": [
       "<IPython.core.display.HTML object>"
      ]
     },
     "metadata": {},
     "output_type": "display_data"
    },
    {
     "data": {
      "text/html": [
       "<button onClick=\"this.nextSibling.style.display='block';this.style.display='none';\">Display W&B run</button><iframe src='https://wandb.ai/ruixiao/controllability-robustness-test/runs/hvzgwe9w?jupyter=true' style='border:none;width:100%;height:420px;display:none;'></iframe>"
      ],
      "text/plain": [
       "<wandb.sdk.wandb_run.Run at 0x14bcc222fd10>"
      ]
     },
     "execution_count": 4,
     "metadata": {},
     "output_type": "execute_result"
    }
   ],
   "source": [
    "# wandb.login()\n",
    "# region some configuration\n",
    "device = 'cuada'\n",
    "device_type = 'cuda' if 'cuda' in device else 'cpu' # for later use in torch.autocast\n",
    "dtype = 'bfloat16' if torch.cuda.is_available() and torch.cuda.is_bf16_supported() else 'float16'\n",
    "# dtype = 'float32'\n",
    "ptdtype = {'float32': torch.float32, 'bfloat16': torch.bfloat16, 'float16': torch.float16}[dtype]\n",
    "\n",
    "ctx = nullcontext() if device_type == 'cpu' else torch.amp.autocast(device_type=device_type, dtype=ptdtype)\n",
    "# wandb logging\n",
    "wandb_log = True\n",
    "wandb_project = args.wandb_project\n",
    "wandb.init(project=args.wandb_project, name=args.run_name)\n"
   ]
  },
  {
   "cell_type": "markdown",
   "metadata": {},
   "source": [
    "## Load Data"
   ]
  },
  {
   "cell_type": "code",
   "execution_count": 5,
   "metadata": {},
   "outputs": [],
   "source": [
    "# how to load data and createe data loader\n",
    "from data_utils import LanguageModelTensorDataset\n",
    "train_ds_tensor = torch.load('../data/knowledge_graph/knowledge_graph_train_ds.pt')\n",
    "train_ds = LanguageModelTensorDataset(train_ds_tensor)\n",
    "train_dl = torch.utils.data.DataLoader(train_ds, batch_size=1, shuffle=True)\n"
   ]
  },
  {
   "cell_type": "code",
   "execution_count": 6,
   "metadata": {},
   "outputs": [],
   "source": [
    "# create vocab\n",
    "n_nodes = 50\n",
    "n_relations = 5\n",
    "\n",
    "node_vocab = [f'N{i}' for i in range(n_nodes)]\n",
    "relation_vocab = [f'R{i}' for i in range(n_relations)]\n",
    "special_tokens = ['<CTX>', '</CTX>', '<SEP>', '<QUERY>', '</QUERY>', '<EOS>', '<PAD>', '<UNK>']\n",
    "vocab = node_vocab + relation_vocab + special_tokens\n",
    "vocab_map = {word: idx for idx, word in enumerate(vocab)}"
   ]
  },
  {
   "cell_type": "code",
   "execution_count": 7,
   "metadata": {},
   "outputs": [
    {
     "name": "stdout",
     "output_type": "stream",
     "text": [
      "[55, 56, 58, 4, 51, 32, 59, 60, 61, 61, 61, 61, 61, 61, 61, 61, 61, 61, 61, 61]\n",
      "<CTX> </CTX> <QUERY> N4 R1 N32 </QUERY> <EOS> <PAD> <PAD> <PAD> <PAD> <PAD> <PAD> <PAD> <PAD> <PAD> <PAD> <PAD> <PAD>\n"
     ]
    }
   ],
   "source": [
    "# some examples from train__ds_tensor\n",
    "for x in train_ds_tensor:\n",
    "    print(x.tolist())\n",
    "    print(' '.join([vocab[idx] for idx in x]))\n",
    "    break"
   ]
  },
  {
   "cell_type": "code",
   "execution_count": 8,
   "metadata": {},
   "outputs": [
    {
     "name": "stdout",
     "output_type": "stream",
     "text": [
      "INPUT\n",
      "[55, 16, 54, 16, 57, 20, 50, 2, 57, 18, 50, 7, 57, 56, 58, 16, 54, 16, 59]\n",
      "<CTX> N16 R4 N16 <SEP> N20 R0 N2 <SEP> N18 R0 N7 <SEP> </CTX> <QUERY> N16 R4 N16 </QUERY>\n",
      "TARGET\n",
      "[16, 54, 16, 57, 20, 50, 2, 57, 18, 50, 7, 57, 56, 58, 16, 54, 16, 59, 60]\n",
      "N16 R4 N16 <SEP> N20 R0 N2 <SEP> N18 R0 N7 <SEP> </CTX> <QUERY> N16 R4 N16 </QUERY> <EOS>\n",
      "----------------------------------------------------------------------------------------------------\n",
      "\n",
      "INPUT\n",
      "[55, 44, 51, 45, 57, 56, 58, 44, 51, 45, 59, 60, 61, 61, 61, 61, 61, 61, 61]\n",
      "<CTX> N44 R1 N45 <SEP> </CTX> <QUERY> N44 R1 N45 </QUERY> <EOS> <PAD> <PAD> <PAD> <PAD> <PAD> <PAD> <PAD>\n",
      "TARGET\n",
      "[44, 51, 45, 57, 56, 58, 44, 51, 45, 59, 60, 61, 61, 61, 61, 61, 61, 61, 61]\n",
      "N44 R1 N45 <SEP> </CTX> <QUERY> N44 R1 N45 </QUERY> <EOS> <PAD> <PAD> <PAD> <PAD> <PAD> <PAD> <PAD> <PAD>\n",
      "----------------------------------------------------------------------------------------------------\n",
      "\n",
      "INPUT\n",
      "[55, 14, 54, 47, 57, 12, 52, 28, 57, 36, 54, 16, 57, 56, 58, 36, 54, 16, 59]\n",
      "<CTX> N14 R4 N47 <SEP> N12 R2 N28 <SEP> N36 R4 N16 <SEP> </CTX> <QUERY> N36 R4 N16 </QUERY>\n",
      "TARGET\n",
      "[14, 54, 47, 57, 12, 52, 28, 57, 36, 54, 16, 57, 56, 58, 36, 54, 16, 59, 60]\n",
      "N14 R4 N47 <SEP> N12 R2 N28 <SEP> N36 R4 N16 <SEP> </CTX> <QUERY> N36 R4 N16 </QUERY> <EOS>\n",
      "----------------------------------------------------------------------------------------------------\n",
      "\n",
      "INPUT\n",
      "[55, 15, 51, 29, 57, 4, 50, 2, 57, 18, 54, 13, 57, 56, 58, 28, 51, 9, 59]\n",
      "<CTX> N15 R1 N29 <SEP> N4 R0 N2 <SEP> N18 R4 N13 <SEP> </CTX> <QUERY> N28 R1 N9 </QUERY>\n",
      "TARGET\n",
      "[15, 51, 29, 57, 4, 50, 2, 57, 18, 54, 13, 57, 56, 58, 28, 51, 9, 59, 60]\n",
      "N15 R1 N29 <SEP> N4 R0 N2 <SEP> N18 R4 N13 <SEP> </CTX> <QUERY> N28 R1 N9 </QUERY> <EOS>\n",
      "----------------------------------------------------------------------------------------------------\n",
      "\n",
      "INPUT\n",
      "[55, 56, 58, 23, 53, 4, 59, 60, 61, 61, 61, 61, 61, 61, 61, 61, 61, 61, 61]\n",
      "<CTX> </CTX> <QUERY> N23 R3 N4 </QUERY> <EOS> <PAD> <PAD> <PAD> <PAD> <PAD> <PAD> <PAD> <PAD> <PAD> <PAD> <PAD>\n",
      "TARGET\n",
      "[56, 58, 23, 53, 4, 59, 60, 61, 61, 61, 61, 61, 61, 61, 61, 61, 61, 61, 61]\n",
      "</CTX> <QUERY> N23 R3 N4 </QUERY> <EOS> <PAD> <PAD> <PAD> <PAD> <PAD> <PAD> <PAD> <PAD> <PAD> <PAD> <PAD> <PAD>\n",
      "----------------------------------------------------------------------------------------------------\n",
      "\n"
     ]
    }
   ],
   "source": [
    "# some examples from train_dl\n",
    "train_iter = iter(train_dl)\n",
    "for _ in range(5):\n",
    "    # get next from train_dl\n",
    "    x, y = next(train_iter)\n",
    "    x, y = x.squeeze(), y.squeeze()\n",
    "    print('INPUT')\n",
    "    print(x.tolist())\n",
    "    print(' '.join([vocab[idx] for idx in x]))\n",
    "    print('TARGET')\n",
    "    print(y.tolist())\n",
    "    print(' '.join([vocab[idx] for idx in y]))\n",
    "    print('-'*100)\n",
    "    print()"
   ]
  },
  {
   "cell_type": "markdown",
   "metadata": {},
   "source": [
    "### Create Val and Test Dataset & DataLoader"
   ]
  },
  {
   "cell_type": "code",
   "execution_count": 9,
   "metadata": {},
   "outputs": [
    {
     "name": "stdout",
     "output_type": "stream",
     "text": [
      "vocab size:  63\n",
      "seq_len:  20\n",
      "Number of batches:  94\n"
     ]
    },
    {
     "name": "stderr",
     "output_type": "stream",
     "text": [
      "/home/rw686/.conda/envs/memory/lib/python3.11/site-packages/torch/utils/data/dataloader.py:558: UserWarning: This DataLoader will create 7 worker processes in total. Our suggested max number of worker in current system is 6, which is smaller than what this DataLoader is going to create. Please be aware that excessive worker creation might get DataLoader running slow or even freeze, lower the worker number to avoid potential slowness/freeze if necessary.\n",
      "  warnings.warn(_create_warning_msg(\n"
     ]
    }
   ],
   "source": [
    "vocab_map = {vocab: i for i, vocab in enumerate(vocab)}\n",
    "vocab_size = len(vocab)\n",
    "print('vocab size: ', vocab_size) \n",
    "seq_len = len(train_ds_tensor[0])\n",
    "print('seq_len: ', seq_len)\n",
    "\n",
    "# load data and createe data loader\n",
    "\n",
    "# training set\n",
    "from data_utils import LanguageModelTensorDataset\n",
    "train_ds_tensor = torch.load('../data/knowledge_graph/knowledge_graph_train_ds.pt')\n",
    "train_ds = LanguageModelTensorDataset(train_ds_tensor)\n",
    "train_dl = torch.utils.data.DataLoader(train_ds, batch_size=args.batch_size, shuffle=True, num_workers=7)\n",
    "\n",
    "\n",
    "# pretraining set\n",
    "train_ds_fact_tensor = torch.load('../data/knowledge_graph/knowledge_graph_train_ds_fact.pt')\n",
    "train_ds_fact = LanguageModelTensorDataset(train_ds_fact_tensor)\n",
    "train_dl_fact = torch.utils.data.DataLoader(train_ds_fact, batch_size=args.batch_size, shuffle=True, num_workers=7)\n",
    "train_dl_fact_test_x = train_ds_fact_tensor[:,:5]\n",
    "train_dl_fact_test_y = train_ds_fact_tensor[:,5:]\n",
    "train_ds_fact_test = torch.utils.data.TensorDataset(train_dl_fact_test_x, train_dl_fact_test_y)\n",
    "train_dl_fact_test = torch.utils.data.DataLoader(train_ds_fact_test, batch_size=args.batch_size, shuffle=True, num_workers=7)\n",
    "\n",
    "test_ds_tensor_control_1 = torch.load('../data/knowledge_graph/knowledge_graph_val_ds_controllability_1.pt')\n",
    "test_ds_control_1 = LanguageModelTensorDataset(test_ds_tensor_control_1)\n",
    "test_dl_control_1_val = torch.utils.data.DataLoader(test_ds_control_1, batch_size=args.batch_size, shuffle=False, num_workers=7)\n",
    "test_ds_control_1_test_x = test_ds_tensor_control_1[:,:9]\n",
    "test_ds_control_1_test_y = test_ds_tensor_control_1[:,9:]\n",
    "test_ds_control_1_test = torch.utils.data.TensorDataset(test_ds_control_1_test_x, test_ds_control_1_test_y)\n",
    "test_dl_control_1 = torch.utils.data.DataLoader(test_ds_control_1_test, batch_size=args.batch_size, shuffle=False, num_workers=7)\n",
    "\n",
    "test_ds_tensor_control_2 = torch.load('../data/knowledge_graph/knowledge_graph_val_ds_controllability_2.pt')\n",
    "test_ds_control_2 = LanguageModelTensorDataset(test_ds_tensor_control_2)\n",
    "test_dl_control_2_val = torch.utils.data.DataLoader(test_ds_control_2, batch_size=args.batch_size, shuffle=False, num_workers=7)\n",
    "test_ds_control_2_test_x = test_ds_tensor_control_2[:,:13]\n",
    "test_ds_control_2_test_y = test_ds_tensor_control_2[:,13:]\n",
    "test_ds_control_2_test = torch.utils.data.TensorDataset(test_ds_control_2_test_x, test_ds_control_2_test_y)\n",
    "test_dl_control_2 = torch.utils.data.DataLoader(test_ds_control_2_test, batch_size=args.batch_size, shuffle=False, num_workers=7)\n",
    "\n",
    "\n",
    "test_ds_tensor_control_3 = torch.load('../data/knowledge_graph/knowledge_graph_val_ds_controllability_3.pt')\n",
    "test_ds_control_3 = LanguageModelTensorDataset(test_ds_tensor_control_3)\n",
    "test_dl_control_3_val = torch.utils.data.DataLoader(test_ds_control_3, batch_size=args.batch_size, shuffle=False, num_workers=7)\n",
    "test_ds_control_3_test_x = test_ds_tensor_control_3[:,:17]\n",
    "test_ds_control_3_test_y = test_ds_tensor_control_3[:,17:]\n",
    "test_ds_control_3_test = torch.utils.data.TensorDataset(test_ds_control_3_test_x, test_ds_control_3_test_y)\n",
    "test_dl_control_3 = torch.utils.data.DataLoader(test_ds_control_3_test, batch_size=args.batch_size, shuffle=False, num_workers=7)\n",
    "\n",
    "\n",
    "test_ds_tensor_robust_1 = torch.load('../data/knowledge_graph/knowledge_graph_val_ds_robustness_1.pt')\n",
    "test_ds_robust_1 = LanguageModelTensorDataset(test_ds_tensor_robust_1)\n",
    "test_dl_robust_1_val = torch.utils.data.DataLoader(test_ds_robust_1, batch_size=args.batch_size, shuffle=False, num_workers=7)\n",
    "test_ds_robust_1_test_x = test_ds_tensor_robust_1[:,:9]\n",
    "test_ds_robust_1_test_y = test_ds_tensor_robust_1[:,9:]\n",
    "test_ds_robust_1_test = torch.utils.data.TensorDataset(test_ds_robust_1_test_x, test_ds_robust_1_test_y)\n",
    "test_dl_robust_1 = torch.utils.data.DataLoader(test_ds_robust_1_test, batch_size=args.batch_size, shuffle=False, num_workers=7)\n",
    "\n",
    "\n",
    "test_ds_tensor_robust_2 = torch.load('../data/knowledge_graph/knowledge_graph_val_ds_robustness_2.pt')\n",
    "test_ds_robust_2 = LanguageModelTensorDataset(test_ds_tensor_robust_2)\n",
    "test_dl_robust_2_val = torch.utils.data.DataLoader(test_ds_robust_2, batch_size=args.batch_size, shuffle=False, num_workers=7)\n",
    "test_ds_robust_2_test_x = test_ds_tensor_robust_2[:,:13]\n",
    "test_ds_robust_2_test_y = test_ds_tensor_robust_2[:,13:]\n",
    "test_ds_robust_2_test = torch.utils.data.TensorDataset(test_ds_robust_2_test_x, test_ds_robust_2_test_y)\n",
    "test_dl_robust_2 = torch.utils.data.DataLoader(test_ds_robust_2_test, batch_size=args.batch_size, shuffle=False, num_workers=7)\n",
    "\n",
    "\n",
    "\n",
    "\n",
    "test_ds_tensor_robust_3 = torch.load('../data/knowledge_graph/knowledge_graph_val_ds_robustness_3.pt')\n",
    "test_ds_robust_3 = LanguageModelTensorDataset(test_ds_tensor_robust_3)\n",
    "test_dl_robust_3_val = torch.utils.data.DataLoader(test_ds_robust_3, batch_size=args.batch_size, shuffle=False)\n",
    "test_ds_robust_3_test_x = test_ds_tensor_robust_3[:,:17]\n",
    "test_ds_robust_3_test_y = test_ds_tensor_robust_3[:,17:]\n",
    "test_ds_robust_3_test = torch.utils.data.TensorDataset(test_ds_robust_3_test_x, test_ds_robust_3_test_y)\n",
    "test_dl_robust_3 = torch.utils.data.DataLoader(test_ds_robust_3_test, batch_size=args.batch_size, shuffle=False)\n",
    "\n",
    "# multi validation dataloaders\n",
    "validation_dataloaders = [test_dl_control_1, test_dl_control_2, test_dl_control_3, test_dl_robust_1, test_dl_robust_2, test_dl_robust_3] # NOTE: put this up here instead\n",
    "validation_dataloaders_labels = ['control_1', 'control_2', 'control_3', 'robust_1', 'robust_2', 'robust_3'] # NOTE: added labels for logging\n",
    "\n",
    "print(\"Number of batches: \", len(train_dl))\n"
   ]
  },
  {
   "cell_type": "markdown",
   "metadata": {},
   "source": [
    "## Model"
   ]
  },
  {
   "cell_type": "code",
   "execution_count": 26,
   "metadata": {},
   "outputs": [],
   "source": [
    "import lightning as L\n",
    "import matplotlib.pyplot as plt\n",
    "from collections import defaultdict\n",
    "\n",
    "class LitLanguageModel(L.LightningModule):\n",
    "    def __init__(self, model):\n",
    "        super().__init__()\n",
    "        self.model = model\n",
    "        self.train_dl = train_dl\n",
    "        self.mismatched_sequences = []\n",
    "        self.all_seq_acc = []\n",
    "        self.all_per_pos_acc = []\n",
    "        self.facts_loader = train_dl_fact_test\n",
    "        self.truth = []\n",
    "        self.val_pred_mistakes_reason_batch = defaultdict(lambda: defaultdict(list))\n",
    "        self.val_pred_mistakes_reason = defaultdict(lambda: defaultdict(list))\n",
    "        # store (sub,rel,obj) tuples from the truth in the training set\n",
    "        self.truth_extract()\n",
    "        self.context_tuples_mixture_train = self.context_extract(self.train_dl)\n",
    "        self.query_tuples_mixture_train = self.query_extract(self.train_dl)\n",
    "        # only consider the interesting mistake reasons \n",
    "        self.reasons = [\"own_context_ro\", \"query_ro\", 'fact']\n",
    "\n",
    "\n",
    "    def training_step(self, batch, batch_idx):\n",
    "        x, y = batch\n",
    "        logits, loss = self.model(x, y)\n",
    "        pred = torch.argmax(logits, dim=-1)\n",
    "        # accuracy. torch.where(y==<QUERY>) and find relevant pred_idx accordingly (index add 3)\n",
    "        query_idx = vocab_map['<QUERY>']\n",
    "        pred_idx = torch.where(y[0]==query_idx)[0] + 3\n",
    "        acc = torch.mean((pred[:,pred_idx] == y[:,pred_idx]).float())\n",
    "\n",
    "        self.log('loss/train', loss, prog_bar=True, logger=True, on_step=args.log_on_step, on_epoch=True)\n",
    "        self.log('obj_acc/train', acc, prog_bar=True, logger=True, on_step=args.log_on_step, on_epoch=True)\n",
    "        return loss\n",
    "\n",
    "    def validation_step(self, batch, batch_idx, dataloader_idx=0):\n",
    "\n",
    "        x, y = batch\n",
    "        # Generate predictions using the generate function, return the entire sequence\n",
    "        predicted_idx = self.model.generate(x, max_new_tokens=y.size(1), top_k=1)\n",
    "        # extract the predicted part\n",
    "        generated_seq = predicted_idx[:, x.size(1):]\n",
    "\n",
    "        seq_acc = self.sequence_accuracy(generated_seq, y)\n",
    "        self.log(f'seq_acc/{validation_dataloaders_labels[dataloader_idx]}', seq_acc) # NOTE\n",
    "            \n",
    "        # prediction pattern analysis\n",
    "        pred_ctx_obj = 0 # predicted object matches context object when rel are the same\n",
    "        pred_other_obj = 0 # predicted object doesn't match context object when rel are the same\n",
    "        for i in range(len(x)):\n",
    "            context_examples = []\n",
    "            for j in range(len(x[i])):\n",
    "                # extract s,r,o examples from context\n",
    "                if x[i][j] == vocab_map['<CTX>']:\n",
    "                    context_examples.append(x[i][j+1:j+4])\n",
    "                elif x[i][j] == vocab_map['<SEP>'] and x[i][j] != vocab_map['</CTX>']:\n",
    "                    context_examples.append(x[i][j+1:j+4])\n",
    "\n",
    "                elif x[i][j] == vocab_map['<QUERY>']:\n",
    "                    sub = x[i][j+1]\n",
    "                    rel = x[i][j+2]\n",
    "                    # obj_target = y_val[i][0]\n",
    "                    obj_pred = generated_seq[i][0]\n",
    "\n",
    "            for ctx_ex in context_examples:\n",
    "                if rel == ctx_ex[1]: # ctx rel matches query rel\n",
    "                    if obj_pred == ctx_ex[2]:\n",
    "                        pred_ctx_obj += 1\n",
    "                        print(\"match: \", ctx_ex, sub, rel, obj_pred)\n",
    "                    else:\n",
    "                        pred_other_obj += 1\n",
    "                        print(\"not match: \", ctx_ex, sub, rel, obj_pred)\n",
    "        self.log(f'prediction_pattern_analysis/{validation_dataloaders_labels[dataloader_idx]}/obj_matches_ctx_obj', pred_ctx_obj/ (pred_ctx_obj + pred_other_obj), add_dataloader_idx=False, prog_bar=True)\n",
    "\n",
    "\n",
    "\n",
    "        # mistake analysis\n",
    "        # self.capture_mismatches(generated_seq,y, x)\n",
    "        # fact_affected_prediction = self.fact_affected_prediction()\n",
    "        # other_reasons = self.context_affected_prediction()\n",
    "        \n",
    "        # if fact_affected_prediction != None:\n",
    "        #     # non empty mismatched seq\n",
    "        #     self.val_pred_mistakes_reason_batch[dataloader_idx]['fact'].append(fact_affected_prediction)\n",
    "        #     self.log(f'mistake_analysis/{validation_dataloaders_labels[dataloader_idx]}/fact', fact_affected_prediction, add_dataloader_idx=False, prog_bar=True) # NOTE\n",
    "        # if other_reasons != None:\n",
    "        #     for i in range(len(other_reasons)):\n",
    "        #         self.val_pred_mistakes_reason_batch[dataloader_idx][self.reasons[i]].append(other_reasons[i])\n",
    "        #         self.log(f'mistake_analysis/{validation_dataloaders_labels[dataloader_idx]}/{self.reasons[i]}', other_reasons[i], add_dataloader_idx=False, prog_bar=True) # NOTE\n",
    "        # self.mismatched_sequences.clear()\n",
    "\n",
    "\n",
    "    def test_step(self, batch, batch_idx, dataloader_idx=0):\n",
    "\n",
    "        x, y = batch\n",
    "        # Generate predictions using the generate function, return the entire sequence\n",
    "        predicted_idx = self.model.generate(x, max_new_tokens=y.size(1), top_k=1)\n",
    "        generated_seq = predicted_idx[:, x.size(1):]\n",
    "\n",
    "\n",
    "        # Calculate per position accuracy\n",
    "        per_pos_acc = self.per_position_accuracy(generated_seq, y)\n",
    "\n",
    "        # Calculate whole sequence accuracy\n",
    "        seq_acc = self.sequence_accuracy(generated_seq, y)\n",
    "\n",
    "        # Store metrics for later averaging\n",
    "        self.all_seq_acc.append(seq_acc)\n",
    "        self.all_per_pos_acc.append(per_pos_acc)\n",
    "\n",
    "        self.capture_mismatches(generated_seq,y, x)\n",
    "\n",
    "    def sequence_accuracy(self, preds, targets):\n",
    "        # Check if entire sequences match\n",
    "        correct = torch.all(preds == targets, dim=1)\n",
    "        accuracy = torch.mean(correct.float())\n",
    "        return accuracy\n",
    "\n",
    "    def per_position_accuracy(self, preds, targets):\n",
    "        correct = preds == targets\n",
    "        per_position_acc = correct.float().mean(dim=0)\n",
    "        return per_position_acc\n",
    "\n",
    "    def capture_mismatches(self, preds, targets, inputs, max_examples=1000):\n",
    "        \"\"\"\n",
    "        Store examples of sequences where the predictions do not match the targets.\n",
    "\n",
    "        Args:\n",
    "            preds (torch.Tensor): The model's predicted sequences.\n",
    "            targets (torch.Tensor): The actual sequences.\n",
    "            inputs (torch.Tensor): The input sequences to the model.\n",
    "            max_examples (int): Maximum number of mismatched sequences to store.\n",
    "        \"\"\"\n",
    "        # Convert predictions to class indices\n",
    "        mismatches = preds != targets\n",
    "\n",
    "        # Iterate over the batch to find mismatches\n",
    "        for i in range(mismatches.size(0)):\n",
    "            if torch.any(mismatches[i]) and len(self.mismatched_sequences) < max_examples:\n",
    "                mismatch_data = {\n",
    "                    'input': inputs[i].cpu().numpy(),\n",
    "                    'predicted': preds[i].cpu().numpy(),\n",
    "                    'target': targets[i].cpu().numpy()\n",
    "                }\n",
    "                self.mismatched_sequences.append(mismatch_data)\n",
    "\n",
    "\n",
    "\n",
    "    def truth_extract(self):\n",
    "        \"\"\"\n",
    "        Extracts the truth values for the given object and relation in testing sets.\n",
    "        \"\"\"\n",
    "\n",
    "        for i, batch_i_data in enumerate(self.facts_loader):\n",
    "            x,y = batch_i_data\n",
    "            for j in range(x.size(0)):\n",
    "                sub = x[j,-2]\n",
    "                rel = x[j,-1]\n",
    "                obj = y[j,0]\n",
    "                self.truth.append((sub, rel, obj))\n",
    "\n",
    "\n",
    "    def fact_affected_prediction(self):\n",
    "        if not self.mismatched_sequences:\n",
    "            return None\n",
    "        counter = 0\n",
    "        for mismatch in self.mismatched_sequences:\n",
    "            input_seq = mismatch['input']\n",
    "            predicted_seq = mismatch['predicted']\n",
    "            target_seq = mismatch['target']\n",
    "\n",
    "            # find the object and relation in the input sequence\n",
    "\n",
    "            for i in range(len(input_seq)):\n",
    "                # print(i, input_seq[i])\n",
    "                if input_seq[i] == vocab_map['<QUERY>']:\n",
    "                    sub = input_seq[i+1]\n",
    "                    rel = input_seq[i+2]\n",
    "                    obj_target = target_seq[0]\n",
    "                    obj_pred = predicted_seq[0]\n",
    "\n",
    "                    if (sub, rel, obj_pred) in self.truth:\n",
    "                        counter += 1\n",
    "                    break\n",
    "\n",
    "        return counter/len(self.mismatched_sequences)\n",
    "\n",
    "    def context_extract(self, dataloader):\n",
    "        context_tuples_mixture_train =[]\n",
    "        for x, y in dataloader:\n",
    "            for i in range(x.size(0)):\n",
    "                for j in range(x.size(1)):\n",
    "                    if x[i,j] == vocab_map['<CTX>']:\n",
    "                        context_tuples_mixture_train.append(x[i,j+1: j+4])\n",
    "                    elif x[i,j] == vocab_map['<SEP>'] and x[i,j+1] != vocab_map['</CTX>']:\n",
    "                        context_tuples_mixture_train.append(x[i,j+1: j+4])\n",
    "                    elif x[i,j] == vocab_map['</CTX>']:\n",
    "                        break\n",
    "        return context_tuples_mixture_train\n",
    "\n",
    "\n",
    "    def query_extract(self, dataloader):\n",
    "        query_tuples_mixture_train =[]\n",
    "        for x, y in dataloader:\n",
    "            for i in range(x.size(0)):\n",
    "                for j in range(x.size(1)):\n",
    "                    if x[i,j] == vocab_map['<QUERY>']:\n",
    "                        query_tuples_mixture_train.append(x[i,j+1: j+4])\n",
    "                        break\n",
    "        return query_tuples_mixture_train\n",
    "\n",
    "\n",
    "\n",
    "    def context_affected_prediction(self):\n",
    "\n",
    "        if not self.mismatched_sequences:\n",
    "            return None\n",
    "        counter_own_context = 0\n",
    "        counter_query_ro = 0\n",
    "        for mismatch in self.mismatched_sequences:\n",
    "            input_seq = mismatch['input']\n",
    "            predicted_seq = mismatch['predicted']\n",
    "            target_seq = mismatch['target']\n",
    "\n",
    "            # find the object and relation in the input sequence\n",
    "            context_examples = []\n",
    "            for i in range(len(input_seq)):\n",
    "                # organize examples from context\n",
    "                if input_seq[i] == vocab_map['<CTX>']:\n",
    "                    context_examples.append(input_seq[i+1:i+4])\n",
    "                elif input_seq[i] == vocab_map['<SEP>'] and input_seq[i] != vocab_map['</CTX>']:\n",
    "                    context_examples.append(input_seq[i+1:i+4])\n",
    "\n",
    "                elif input_seq[i] == vocab_map['<QUERY>']:\n",
    "                    sub = input_seq[i+1]\n",
    "                    rel = input_seq[i+2]\n",
    "                    obj_target = target_seq[0]\n",
    "                    obj_pred = predicted_seq[0]\n",
    "                    if (sub, rel, obj_pred) in self.context_tuples_mixture_train:\n",
    "                        #print(\"affected by some context in mixture training\",sub, rel, obj_pred)\n",
    "                        counter_other_context+=1\n",
    "\n",
    "                    for (s,r,o) in self.query_tuples_mixture_train:\n",
    "                        if (r == rel) and (o == obj_pred):\n",
    "                            counter_query_ro +=1\n",
    "                            break\n",
    "                    break\n",
    "            num_mistakes = len(self.mismatched_sequences)\n",
    "        # return counter_own_context/num_mistakes, counter_other_context/num_mistakes, counter_query/num_mistakes, counter_query_ro/num_mistakes\n",
    "        return counter_own_context/num_mistakes, counter_query_ro/num_mistakes\n",
    "\n",
    "\n",
    "\n",
    "    def on_test_epoch_end(self):\n",
    "        # Calculate overall metrics from all batches\n",
    "        if self.all_seq_acc and self.all_per_pos_acc:\n",
    "\n",
    "            overall_seq_acc = torch.mean(torch.stack(self.all_seq_acc))\n",
    "            overall_per_pos_acc = torch.mean(torch.stack(self.all_per_pos_acc), dim=0)\n",
    "            # Log overall metrics\n",
    "            self.log('test_overall_seq_acc', overall_seq_acc, on_step=False, on_epoch=True)\n",
    "            self.log('test_overall_per_pos_acc_mean', overall_per_pos_acc.mean(), on_step=False, on_epoch=True)\n",
    "\n",
    "            # Plot overall per position accuracy\n",
    "            plt.figure(figsize=(10, 6))\n",
    "            plt.plot(overall_per_pos_acc.cpu().numpy(), marker='o', linestyle='-')\n",
    "            plt.title('Overall Per Position Accuracy')\n",
    "            plt.xlabel('Position')\n",
    "            plt.ylabel('Accuracy')\n",
    "            plt.grid(True)\n",
    "            plt.show()\n",
    "\n",
    "            # Clear the accumulators for the next epoch\n",
    "            self.all_seq_acc = []\n",
    "            self.all_per_pos_acc = []\n",
    "\n",
    "    def on_validation_epoch_end(self):\n",
    "        # Calculate overall metrics from all batches\n",
    "        for dataloader_idx in self.val_pred_mistakes_reason_batch.keys():\n",
    "            for reason in self.reasons:\n",
    "                if self.val_pred_mistakes_reason_batch[dataloader_idx][reason]:\n",
    "                    overall_affected_prediction = torch.mean(torch.tensor(self.val_pred_mistakes_reason_batch[dataloader_idx][reason]))\n",
    "                    self.val_pred_mistakes_reason[dataloader_idx][reason].append(overall_affected_prediction)\n",
    "                    self.val_pred_mistakes_reason_batch[dataloader_idx][reason].clear()\n",
    "\n",
    "\n",
    "\n",
    "\n",
    "    def configure_optimizers(self):\n",
    "        # NOTE: i chose these arbitrarily; may need to be tuned\n",
    "        optimizer = configure_optimizers(self.model, weight_decay=0.0, learning_rate=1e-3, betas=(0.9, 0.999), device_type=\"cuda\" if torch.cuda.is_available() else \"cpu\")\n",
    "        return optimizer"
   ]
  },
  {
   "cell_type": "code",
   "execution_count": 27,
   "metadata": {},
   "outputs": [
    {
     "data": {
      "text/plain": [
       "=======================================================================================================================================\n",
       "Layer (type (var_name):depth-idx)                                           Param #              Param %              Trainable\n",
       "=======================================================================================================================================\n",
       "TransformerLM (TransformerLM)                                               --                        --              True\n",
       "├─ModuleDict (layers): 1-1                                                  --                        --              True\n",
       "│    └─Embedding (token_embedder): 2-1                                      8,064                  1.94%              True\n",
       "│    │    └─Linear (weights): 3-1                                           8,127                  1.96%              True\n",
       "│    └─Embedding (positional_embedder): 2-2                                 2,560                  0.62%              True\n",
       "│    └─Dropout (dropout): 2-3                                               --                        --              --\n",
       "│    └─ModuleList (blocks): 2-4                                             --                        --              True\n",
       "│    │    └─EncoderBlock (0): 3-2                                           198,272               47.74%              True\n",
       "│    │    └─EncoderBlock (1): 3-3                                           198,272               47.74%              True\n",
       "│    └─Linear (final_out): 2-5                                              (recursive)          (recursive)          True\n",
       "=======================================================================================================================================\n",
       "Total params: 415,295\n",
       "Trainable params: 415,295\n",
       "Non-trainable params: 0\n",
       "======================================================================================================================================="
      ]
     },
     "execution_count": 27,
     "metadata": {},
     "output_type": "execute_result"
    }
   ],
   "source": [
    "d_model = args.d_model # 128\n",
    "dff = args.dff # 256\n",
    "n_layers = args.n_layers\n",
    "n_heads = args.n_heads\n",
    "dropout_rate = 0.1\n",
    "activation = 'gelu'\n",
    "norm_first = True\n",
    "\n",
    "\n",
    "model_args = dict(\n",
    "    vocab_size=vocab_size, d_model=d_model, n_layers=n_layers, n_heads=n_heads, dff=dff,\n",
    "    dropout_rate=dropout_rate, activation=activation, norm_first=norm_first, max_block_size=seq_len)\n",
    "model = TransformerLM(**model_args)#.to(device)\n",
    "torchinfo.summary(model, row_settings=[\"depth\", \"var_names\"], col_names=[\"num_params\", \"params_percent\", \"trainable\"], depth=3, col_width=20)"
   ]
  },
  {
   "cell_type": "code",
   "execution_count": 28,
   "metadata": {},
   "outputs": [
    {
     "name": "stderr",
     "output_type": "stream",
     "text": [
      "/home/rw686/.conda/envs/memory/lib/python3.11/site-packages/torch/utils/data/dataloader.py:558: UserWarning: This DataLoader will create 7 worker processes in total. Our suggested max number of worker in current system is 6, which is smaller than what this DataLoader is going to create. Please be aware that excessive worker creation might get DataLoader running slow or even freeze, lower the worker number to avoid potential slowness/freeze if necessary.\n",
      "  warnings.warn(_create_warning_msg(\n"
     ]
    }
   ],
   "source": [
    "lit_model = LitLanguageModel(model)"
   ]
  },
  {
   "cell_type": "code",
   "execution_count": 29,
   "metadata": {},
   "outputs": [
    {
     "name": "stderr",
     "output_type": "stream",
     "text": [
      "/home/rw686/.conda/envs/memory/lib/python3.11/site-packages/lightning/fabric/plugins/environments/slurm.py:204: The `srun` command is available on your system but is not used. HINT: If your intention is to run Lightning on SLURM, prepend your python command with `srun` like so: srun python /home/rw686/.conda/envs/memory/lib/python3.11/site-p ...\n",
      "GPU available: False, used: False\n",
      "TPU available: False, using: 0 TPU cores\n",
      "IPU available: False, using: 0 IPUs\n",
      "HPU available: False, using: 0 HPUs\n",
      "/home/rw686/.conda/envs/memory/lib/python3.11/site-packages/lightning/pytorch/trainer/configuration_validator.py:74: You defined a `validation_step` but have no `val_dataloader`. Skipping val loop.\n",
      "/home/rw686/.conda/envs/memory/lib/python3.11/site-packages/lightning/pytorch/loggers/wandb.py:396: There is a wandb run already in progress and newly created instances of `WandbLogger` will reuse this run. If this is not desired, call `wandb.finish()` before instantiating `WandbLogger`.\n",
      "\n",
      "  | Name  | Type          | Params\n",
      "----------------------------------------\n",
      "0 | model | TransformerLM | 415 K \n",
      "----------------------------------------\n",
      "415 K     Trainable params\n",
      "0         Non-trainable params\n",
      "415 K     Total params\n",
      "1.661     Total estimated model params size (MB)\n"
     ]
    },
    {
     "name": "stdout",
     "output_type": "stream",
     "text": [
      "num decayed parameter tensors: 11, with 411,904 parameters\n",
      "num non-decayed parameter tensors: 17, with 3,391 parameters\n",
      "using fused AdamW: False\n"
     ]
    },
    {
     "name": "stderr",
     "output_type": "stream",
     "text": [
      "/home/rw686/.conda/envs/memory/lib/python3.11/site-packages/lightning/pytorch/loops/fit_loop.py:298: The number of training batches (4) is smaller than the logging interval Trainer(log_every_n_steps=50). Set a lower value for log_every_n_steps if you want to see logs for the training epoch.\n"
     ]
    },
    {
     "data": {
      "application/vnd.jupyter.widget-view+json": {
       "model_id": "60858836a5024459ae9667b21fc51ec4",
       "version_major": 2,
       "version_minor": 0
      },
      "text/plain": [
       "Training: |          | 0/? [00:00<?, ?it/s]"
      ]
     },
     "metadata": {},
     "output_type": "display_data"
    },
    {
     "name": "stderr",
     "output_type": "stream",
     "text": [
      "`Trainer.fit` stopped: `max_epochs=40` reached.\n"
     ]
    }
   ],
   "source": [
    "n_epochs = args.n_epochs\n",
    "\n",
    "wandb_logger = WandbLogger(project=wandb_project, run_name=args.run_name) if wandb_log else None\n",
    "# wandb_logger.watch(model, log='all', log_freq=100)\n",
    "callbacks = [\n",
    "    L.pytorch.callbacks.TQDMProgressBar(refresh_rate=50)\n",
    "    # L.pytorch.callbacks.RichProgressBar()\n",
    "]\n",
    "trainer = L.Trainer(\n",
    "    max_epochs=n_epochs, enable_checkpointing=True, enable_model_summary=True, #precision='64-true',\n",
    "    callbacks=callbacks, enable_progress_bar=True, check_val_every_n_epoch=1, # limit_train_batches=200, limit_val_batches=200,\n",
    "    logger=wandb_logger\n",
    "    )\n",
    "with ctx:\n",
    "    trainer.fit(model=lit_model, train_dataloaders=train_dl_fact)\n"
   ]
  },
  {
   "cell_type": "code",
   "execution_count": 30,
   "metadata": {},
   "outputs": [
    {
     "name": "stdout",
     "output_type": "stream",
     "text": [
      "tensor([55, 56, 58, 48, 54])\n",
      "tensor(34)\n",
      "tensor(34)\n",
      "tensor([55, 56, 58, 48, 54, 34, 59])\n",
      "tensor(1.)\n"
     ]
    }
   ],
   "source": [
    "for (x,y) in train_dl_fact:\n",
    "    query = x[:, :5]\n",
    "    ans = x[:, 5]\n",
    "    pred, _ = model(query)\n",
    "    pred_idx = torch.argmax(pred, dim=-1).squeeze()\n",
    "    print(query[0])\n",
    "    print(ans[0])\n",
    "    print(pred_idx[0])\n",
    "    print(x[0][:8])\n",
    "    acc = torch.mean((ans == pred_idx).float())\n",
    "    print(acc)\n",
    "    break"
   ]
  },
  {
   "cell_type": "code",
   "execution_count": 23,
   "metadata": {},
   "outputs": [
    {
     "name": "stderr",
     "output_type": "stream",
     "text": [
      "/home/rw686/.conda/envs/memory/lib/python3.11/site-packages/lightning/pytorch/trainer/connectors/data_connector.py:492: Your `test_dataloader`'s sampler has shuffling enabled, it is strongly recommended that you turn shuffling off for val/test dataloaders.\n"
     ]
    },
    {
     "data": {
      "application/vnd.jupyter.widget-view+json": {
       "model_id": "45e9612dd279422cb77c27679386d4fa",
       "version_major": 2,
       "version_minor": 0
      },
      "text/plain": [
       "Testing: |          | 0/? [00:00<?, ?it/s]"
      ]
     },
     "metadata": {},
     "output_type": "display_data"
    },
    {
     "data": {
      "image/png": "[encoded data removed]",
      "text/plain": [
       "<Figure size 1000x600 with 1 Axes>"
      ]
     },
     "metadata": {},
     "output_type": "display_data"
    },
    {
     "name": "stdout",
     "output_type": "stream",
     "text": [
      "────────────────────────────────────────────────────────────────────────────────────────────────────────────────────────\n",
      "         Test metric                 DataLoader 0\n",
      "────────────────────────────────────────────────────────────────────────────────────────────────────────────────────────\n",
      "test_overall_per_pos_acc_mean             1.0\n",
      "    test_overall_seq_acc                  1.0\n",
      "────────────────────────────────────────────────────────────────────────────────────────────────────────────────────────\n"
     ]
    }
   ],
   "source": [
    "# test on pure fact, make sure it achieves 100% accuracy\n",
    "trainer.test(model=lit_model, dataloaders=train_dl_fact_test)\n",
    "reverse_vocab_map = {idx: vocab for vocab, idx in vocab_map.items()}"
   ]
  },
  {
   "cell_type": "markdown",
   "metadata": {},
   "source": [
    "### \"finetune\" on mixture dataset: 1/3 fact 1/3 counterfactual 1/3 robustness\n"
   ]
  },
  {
   "cell_type": "code",
   "execution_count": 31,
   "metadata": {},
   "outputs": [
    {
     "data": {
      "text/html": [
       "Finishing last run (ID:k2yupu6o) before initializing another..."
      ],
      "text/plain": [
       "<IPython.core.display.HTML object>"
      ]
     },
     "metadata": {},
     "output_type": "display_data"
    },
    {
     "data": {
      "application/vnd.jupyter.widget-view+json": {
       "model_id": "18f41c42acbd46f493ccfcd6dbbe7843",
       "version_major": 2,
       "version_minor": 0
      },
      "text/plain": [
       "VBox(children=(Label(value='0.005 MB of 0.005 MB uploaded\\r'), FloatProgress(value=1.0, max=1.0)))"
      ]
     },
     "metadata": {},
     "output_type": "display_data"
    },
    {
     "data": {
      "text/html": [
       "<style>\n",
       "    table.wandb td:nth-child(1) { padding: 0 10px; text-align: left ; width: auto;} td:nth-child(2) {text-align: left ; width: 100%}\n",
       "    .wandb-row { display: flex; flex-direction: row; flex-wrap: wrap; justify-content: flex-start; width: 100% }\n",
       "    .wandb-col { display: flex; flex-direction: column; flex-basis: 100%; flex: 1; padding: 10px; }\n",
       "    </style>\n",
       "<div class=\"wandb-row\"><div class=\"wandb-col\"><h3>Run history:</h3><br/><table class=\"wandb\"><tr><td>epoch</td><td>▁▁▂▂▂▂▂▃▃▃▃▄▄▄▄▄▅▅▅▅▆▆▆▆▇▇▇▇▇██▁▂▃▄▄▅▆▇█</td></tr><tr><td>loss/train_epoch</td><td>▃▂▂▂▂▁▁▁▁▁▁▁▁▁▁▁▁▁▁▁█▃▃▃▃▃▂▂▂▂▂▂▂▂▂▂▂▂▂▁</td></tr><tr><td>loss/train_step</td><td>▄▇▆▅▄▆▃▅▄▄▅▃▃▄▃▄▃▃▂▂▃▂▂▂▃▂▃▃▂▂▃▂▁▂▁▂▁▁█▄</td></tr><tr><td>obj_acc/train_epoch</td><td>▆▆▆▆▆▇▇▆▆▆▆▆▇▇▇▇▇▇▇▇▁▁▁▂▂▂▂▃▃▄▄▅▆▆▇▇████</td></tr><tr><td>obj_acc/train_step</td><td>▄▆▅▄▄▆▆▂▇█▃▄█▅▄█▃▃▄▃▆▄██▃▃▇███▇▆███▅█▃▁█</td></tr><tr><td>prediction_pattern_analysis/control_1/obj_matches_ctx_obj</td><td>▁▁▁▂▄▅▅▆▇▇▇▇█▇█▇█▇▇▇▇████▇▇▇███▇▇▇██████</td></tr><tr><td>prediction_pattern_analysis/control_2/obj_matches_ctx_obj</td><td>▁▁▁▂▃▄▅▅▆▇▇▇▇▇▇█▇█▇▇█▇▇▇█▇▇▇▇▇▇▇▇▆▇▇▇▇▇▇</td></tr><tr><td>prediction_pattern_analysis/control_3/obj_matches_ctx_obj</td><td>▁▁▁▂▃▃▄▅▅▆▆▇▇▇▇█▆▇▇▅▇▇▇▆▆▆▇▇▆▇▇▆▇▇▇▇▆▇▆▇</td></tr><tr><td>prediction_pattern_analysis/robust_1/obj_matches_ctx_obj</td><td>▁▁▁▃▆▆▅▇▆▆▆▆▇▇▇▆▇▅▆▅▆▆█▇▇▆▆▆▇█▇▅▇▅▇▇▆▆▇█</td></tr><tr><td>prediction_pattern_analysis/robust_2/obj_matches_ctx_obj</td><td>▁▁▁▂▄▅▅▇▆▇█▇▆▇▇▆▇█▇▆█▇▆▇▆▆▆▇▆▆▇▅▇▅▆▇▆▆▆▆</td></tr><tr><td>prediction_pattern_analysis/robust_3/obj_matches_ctx_obj</td><td>▂▁▁▂▃▃▅▅▆▄▆▆▆▆▆█▅▅▅▄▆▄▅▅▅▅▆▆▄▆▆▄▅▅▄▅▄▇▅▄</td></tr><tr><td>seq_acc/control_1/dataloader_idx_0</td><td>▁▁▁▂▄▅▅▆▇▇▇▇█▇█▇█▇▇▇▇████▇▇▇███▇▇▇██████</td></tr><tr><td>seq_acc/control_2/dataloader_idx_1</td><td>▁▁▁▂▃▄▅▅▆▆▇▇▇▇▇█▇▇▇▇█▇▇▇█▇▇▇▇▇▇▆▇▆▇▇▇▇▇▇</td></tr><tr><td>seq_acc/control_3/dataloader_idx_2</td><td>▁▁▁▁▃▃▄▅▅▆▆▇▇▇▇█▆▇▇▅▇▇▇▆▆▆▇▇▆▇▇▅▆▇▇▇▆▇▇▇</td></tr><tr><td>seq_acc/robust_1/dataloader_idx_3</td><td>▃█▇▅▁▃▃▁▃▃▄▄▃▃▃▄▃▅▄▅▄▄▂▄▄▄▄▅▄▃▄▅▃▅▃▄▄▄▄▃</td></tr><tr><td>seq_acc/robust_2/dataloader_idx_4</td><td>▃▆█▇▃▁▁▁▂▂▃▂▃▃▄▃▃▁▃▄▂▂▄▃▃▃▄▃▄▃▃▃▃▄▃▃▄▄▄▃</td></tr><tr><td>seq_acc/robust_3/dataloader_idx_5</td><td>▄▇█▆▅▇▃▄▂▅▅▄▃▄▅▁▅▄▅▅▄▄▄▄▅▅▃▄▆▅▃▅▅▅▅▅▅▄▅▅</td></tr><tr><td>trainer/global_step</td><td>▁▁▂▂▂▂▃▃▃▃▃▄▄▄▄▅▅▅▅▅▆▆▆▆▇▇▇▇███▁▁▁▁▁▁▁▁▁</td></tr></table><br/></div><div class=\"wandb-col\"><h3>Run summary:</h3><br/><table class=\"wandb\"><tr><td>epoch</td><td>39</td></tr><tr><td>loss/train_epoch</td><td>0.7429</td></tr><tr><td>loss/train_step</td><td>0.74945</td></tr><tr><td>obj_acc/train_epoch</td><td>0.99194</td></tr><tr><td>obj_acc/train_step</td><td>0.96875</td></tr><tr><td>prediction_pattern_analysis/control_1/obj_matches_ctx_obj</td><td>0.77</td></tr><tr><td>prediction_pattern_analysis/control_2/obj_matches_ctx_obj</td><td>0.3555</td></tr><tr><td>prediction_pattern_analysis/control_3/obj_matches_ctx_obj</td><td>0.21434</td></tr><tr><td>prediction_pattern_analysis/robust_1/obj_matches_ctx_obj</td><td>0.46947</td></tr><tr><td>prediction_pattern_analysis/robust_2/obj_matches_ctx_obj</td><td>0.16893</td></tr><tr><td>prediction_pattern_analysis/robust_3/obj_matches_ctx_obj</td><td>0.11031</td></tr><tr><td>seq_acc/control_1/dataloader_idx_0</td><td>0.77</td></tr><tr><td>seq_acc/control_2/dataloader_idx_1</td><td>0.388</td></tr><tr><td>seq_acc/control_3/dataloader_idx_2</td><td>0.26</td></tr><tr><td>seq_acc/robust_1/dataloader_idx_3</td><td>0.811</td></tr><tr><td>seq_acc/robust_2/dataloader_idx_4</td><td>0.869</td></tr><tr><td>seq_acc/robust_3/dataloader_idx_5</td><td>0.908</td></tr><tr><td>trainer/global_step</td><td>159</td></tr></table><br/></div></div>"
      ],
      "text/plain": [
       "<IPython.core.display.HTML object>"
      ]
     },
     "metadata": {},
     "output_type": "display_data"
    },
    {
     "data": {
      "text/html": [
       " View run <strong style=\"color:#cdcd00\">2024-07-06--19:59:07</strong> at: <a href='https://wandb.ai/ruixiao/controllability_robustness/runs/k2yupu6o' target=\"_blank\">https://wandb.ai/ruixiao/controllability_robustness/runs/k2yupu6o</a><br/> View project at: <a href='https://wandb.ai/ruixiao/controllability_robustness' target=\"_blank\">https://wandb.ai/ruixiao/controllability_robustness</a><br/>Synced 6 W&B file(s), 0 media file(s), 0 artifact file(s) and 0 other file(s)"
      ],
      "text/plain": [
       "<IPython.core.display.HTML object>"
      ]
     },
     "metadata": {},
     "output_type": "display_data"
    },
    {
     "data": {
      "text/html": [
       "Find logs at: <code>./wandb/run-20240706_195907-k2yupu6o/logs</code>"
      ],
      "text/plain": [
       "<IPython.core.display.HTML object>"
      ]
     },
     "metadata": {},
     "output_type": "display_data"
    },
    {
     "data": {
      "text/html": [
       "Successfully finished last run (ID:k2yupu6o). Initializing new run:<br/>"
      ],
      "text/plain": [
       "<IPython.core.display.HTML object>"
      ]
     },
     "metadata": {},
     "output_type": "display_data"
    },
    {
     "data": {
      "application/vnd.jupyter.widget-view+json": {
       "model_id": "489ccecb72d84d348531f8cd8a6fe730",
       "version_major": 2,
       "version_minor": 0
      },
      "text/plain": [
       "VBox(children=(Label(value='Waiting for wandb.init()...\\r'), FloatProgress(value=0.011112056662225062, max=1.0…"
      ]
     },
     "metadata": {},
     "output_type": "display_data"
    },
    {
     "data": {
      "text/html": [
       "wandb version 0.17.4 is available!  To upgrade, please run:\n",
       " $ pip install wandb --upgrade"
      ],
      "text/plain": [
       "<IPython.core.display.HTML object>"
      ]
     },
     "metadata": {},
     "output_type": "display_data"
    },
    {
     "data": {
      "text/html": [
       "Tracking run with wandb version 0.17.0"
      ],
      "text/plain": [
       "<IPython.core.display.HTML object>"
      ]
     },
     "metadata": {},
     "output_type": "display_data"
    },
    {
     "data": {
      "text/html": [
       "Run data is saved locally in <code>/gpfs/radev/project/lafferty/rw686/Controllability-and-Robustness/experiments/wandb/run-20240706_202825-w1spb8dc</code>"
      ],
      "text/plain": [
       "<IPython.core.display.HTML object>"
      ]
     },
     "metadata": {},
     "output_type": "display_data"
    },
    {
     "data": {
      "text/html": [
       "Syncing run <strong><a href='https://wandb.ai/ruixiao/controllability_robustness/runs/w1spb8dc' target=\"_blank\">2024-07-06--20:28:25</a></strong> to <a href='https://wandb.ai/ruixiao/controllability_robustness' target=\"_blank\">Weights & Biases</a> (<a href='https://wandb.me/run' target=\"_blank\">docs</a>)<br/>"
      ],
      "text/plain": [
       "<IPython.core.display.HTML object>"
      ]
     },
     "metadata": {},
     "output_type": "display_data"
    },
    {
     "data": {
      "text/html": [
       " View project at <a href='https://wandb.ai/ruixiao/controllability_robustness' target=\"_blank\">https://wandb.ai/ruixiao/controllability_robustness</a>"
      ],
      "text/plain": [
       "<IPython.core.display.HTML object>"
      ]
     },
     "metadata": {},
     "output_type": "display_data"
    },
    {
     "data": {
      "text/html": [
       " View run at <a href='https://wandb.ai/ruixiao/controllability_robustness/runs/w1spb8dc' target=\"_blank\">https://wandb.ai/ruixiao/controllability_robustness/runs/w1spb8dc</a>"
      ],
      "text/plain": [
       "<IPython.core.display.HTML object>"
      ]
     },
     "metadata": {},
     "output_type": "display_data"
    },
    {
     "name": "stderr",
     "output_type": "stream",
     "text": [
      "/home/rw686/.conda/envs/memory/lib/python3.11/site-packages/lightning/fabric/plugins/environments/slurm.py:204: The `srun` command is available on your system but is not used. HINT: If your intention is to run Lightning on SLURM, prepend your python command with `srun` like so: srun python /home/rw686/.conda/envs/memory/lib/python3.11/site-p ...\n",
      "Trainer already configured with model summary callbacks: [<class 'lightning.pytorch.callbacks.model_summary.ModelSummary'>]. Skipping setting a default `ModelSummary` callback.\n",
      "GPU available: False, used: False\n",
      "TPU available: False, using: 0 TPU cores\n",
      "IPU available: False, using: 0 IPUs\n",
      "HPU available: False, using: 0 HPUs\n",
      "/home/rw686/.conda/envs/memory/lib/python3.11/site-packages/lightning/pytorch/trainer/configuration_validator.py:74: You defined a `validation_step` but have no `val_dataloader`. Skipping val loop.\n",
      "/home/rw686/.conda/envs/memory/lib/python3.11/site-packages/lightning/pytorch/callbacks/model_checkpoint.py:653: Checkpoint directory ./controllability_robustness/k2yupu6o/checkpoints exists and is not empty.\n",
      "\n",
      "  | Name  | Type          | Params\n",
      "----------------------------------------\n",
      "0 | model | TransformerLM | 415 K \n",
      "----------------------------------------\n",
      "415 K     Trainable params\n",
      "0         Non-trainable params\n",
      "415 K     Total params\n",
      "1.661     Total estimated model params size (MB)\n"
     ]
    },
    {
     "name": "stdout",
     "output_type": "stream",
     "text": [
      "num decayed parameter tensors: 11, with 411,904 parameters\n",
      "num non-decayed parameter tensors: 17, with 3,391 parameters\n",
      "using fused AdamW: False\n"
     ]
    },
    {
     "name": "stderr",
     "output_type": "stream",
     "text": [
      "/home/rw686/.conda/envs/memory/lib/python3.11/site-packages/torch/utils/data/dataloader.py:558: UserWarning: This DataLoader will create 7 worker processes in total. Our suggested max number of worker in current system is 6, which is smaller than what this DataLoader is going to create. Please be aware that excessive worker creation might get DataLoader running slow or even freeze, lower the worker number to avoid potential slowness/freeze if necessary.\n",
      "  warnings.warn(_create_warning_msg(\n"
     ]
    },
    {
     "data": {
      "application/vnd.jupyter.widget-view+json": {
       "model_id": "df7522d1112d4f378e644b2c8e69f3f2",
       "version_major": 2,
       "version_minor": 0
      },
      "text/plain": [
       "Training: |          | 0/? [00:00<?, ?it/s]"
      ]
     },
     "metadata": {},
     "output_type": "display_data"
    },
    {
     "name": "stderr",
     "output_type": "stream",
     "text": [
      "`Trainer.fit` stopped: `max_epochs=40` reached.\n"
     ]
    }
   ],
   "source": [
    "# finetune on mixture dataset: 1/3 fact 1/3 counterfactual 1/3 robustness\n",
    "\n",
    "\n",
    "wandb_project = 'controllability_robustness' # NOTE\n",
    "group_name = 'No Validation Set' # NOTE\n",
    "run_name =  datetime.now().strftime(\"%Y-%m-%d--%H:%M:%S\")# NOTE\n",
    "run = wandb.init(project=wandb_project, group=group_name, name=run_name,\n",
    "    config={'group': group_name, **model_args}) # NOTE\n",
    "\n",
    "wandb_logger = WandbLogger(experiment=run, log_model=False) # name=run_name, project=wandb_project,\n",
    "# wandb_logger.watch(model, log_graph=False)\n",
    "# wandb_logger = None\n",
    "logger = wandb_logger if wandb_log else None\n",
    "\n",
    "\n",
    "trainer = L.Trainer(\n",
    "    max_epochs=args.n_epochs, enable_checkpointing=True, enable_model_summary=True, #precision='64-true',\n",
    "    callbacks=callbacks, enable_progress_bar=True, check_val_every_n_epoch=1, # limit_train_batches=200, limit_val_batches=200,\n",
    "    logger=logger,\n",
    "    )\n",
    "\n",
    "trainer.fit(model=lit_model, train_dataloaders=train_dl, val_dataloaders=validation_dataloaders)"
   ]
  },
  {
   "cell_type": "code",
   "execution_count": null,
   "metadata": {},
   "outputs": [],
   "source": [
    "reverse_vocab_map = {i: word for word, i in vocab_map.items()}\n",
    "\n",
    "# model performance on the pure fact pretraining set\n",
    "trainer.test(model=lit_model, dataloaders=train_dl_fact_test)\n",
    "# model performance on the validation set\n",
    "lit_model.mismatched_sequences.clear()\n"
   ]
  },
  {
   "cell_type": "code",
   "execution_count": null,
   "metadata": {},
   "outputs": [],
   "source": [
    "# validation set mistake reasons\n",
    "print(lit_model.val_pred_mistakes_reason)\n",
    "pred_mistakes_fact_reason_train_w_mxiture = lit_model.val_pred_mistakes_reason\n",
    "# Plot each series with a different color\n",
    "colors = ['b', 'g', 'r', 'c', 'm', 'y', 'k']  \n",
    "reasons = pred_mistakes_fact_reason_train_w_mxiture[0].keys()\n",
    "for reason in reasons:\n",
    "    plt.figure(figsize=(10, 6))\n",
    "\n",
    "    for idx, (key, values) in enumerate(pred_mistakes_fact_reason_train_w_mxiture.items()):\n",
    "        if key <=2:\n",
    "            dataname = f'Controllability {key+1}'\n",
    "        else:\n",
    "            dataname = f'Robustness {key-2}'\n",
    "        plt.plot(values[reason], label=dataname, color=colors[idx % len(colors)])\n",
    "\n",
    "    plt.xlabel('Epoch')\n",
    "    plt.ylabel('Proportion')\n",
    "    plt.title(f'Proportion of mistakes affected by {reason}')\n",
    "    plt.legend()\n",
    "    plt.show()\n"
   ]
  },
  {
   "cell_type": "markdown",
   "metadata": {},
   "source": [
    "## Test on counterfactual context"
   ]
  },
  {
   "cell_type": "code",
   "execution_count": 32,
   "metadata": {},
   "outputs": [],
   "source": [
    "def decode_sequence(seq, reverse_vocab_map):\n",
    "    return ' '.join([reverse_vocab_map[idx] for idx in seq])\n",
    "\n",
    "def mismatch_seq_print(mismatch, reverse_vocab_map, max_examples=3):\n",
    "    for mismatch in lit_model.mismatched_sequences[:max_examples]:\n",
    "        input_seq = decode_sequence(mismatch['input'], reverse_vocab_map)\n",
    "        predicted_seq = decode_sequence(mismatch['predicted'], reverse_vocab_map)\n",
    "        target_seq = decode_sequence(mismatch['target'], reverse_vocab_map)\n",
    "        \n",
    "        print(f\"Input: {input_seq}\")\n",
    "        print(f\"Predicted: {predicted_seq}\")\n",
    "        print(f\"Target: {target_seq}\\n\")"
   ]
  },
  {
   "cell_type": "code",
   "execution_count": 33,
   "metadata": {},
   "outputs": [
    {
     "data": {
      "application/vnd.jupyter.widget-view+json": {
       "model_id": "f47c4ae0189445c99f892402b7e5ed05",
       "version_major": 2,
       "version_minor": 0
      },
      "text/plain": [
       "Testing: |          | 0/? [00:00<?, ?it/s]"
      ]
     },
     "metadata": {},
     "output_type": "display_data"
    },
    {
     "data": {
      "image/png": "[encoded data removed]",
      "text/plain": [
       "<Figure size 1000x600 with 1 Axes>"
      ]
     },
     "metadata": {},
     "output_type": "display_data"
    },
    {
     "name": "stdout",
     "output_type": "stream",
     "text": [
      "────────────────────────────────────────────────────────────────────────────────────────────────────────────────────────\n",
      "         Test metric                 DataLoader 0\n",
      "────────────────────────────────────────────────────────────────────────────────────────────────────────────────────────\n",
      "test_overall_per_pos_acc_mean     0.9683948755264282\n",
      "    test_overall_seq_acc              0.65234375\n",
      "────────────────────────────────────────────────────────────────────────────────────────────────────────────────────────\n",
      "Input: <CTX> N38 R2 N1 <SEP> </CTX> <QUERY> N38 R2\n",
      "Predicted: N10 </QUERY> <EOS> <PAD> <PAD> <PAD> <PAD> <PAD> <PAD> <PAD> <PAD>\n",
      "Target: N1 </QUERY> <EOS> <PAD> <PAD> <PAD> <PAD> <PAD> <PAD> <PAD> <PAD>\n",
      "\n",
      "Input: <CTX> N35 R2 N47 <SEP> </CTX> <QUERY> N35 R2\n",
      "Predicted: N6 </QUERY> <EOS> <PAD> <PAD> <PAD> <PAD> <PAD> <PAD> <PAD> <PAD>\n",
      "Target: N47 </QUERY> <EOS> <PAD> <PAD> <PAD> <PAD> <PAD> <PAD> <PAD> <PAD>\n",
      "\n",
      "Input: <CTX> N12 R1 N11 <SEP> </CTX> <QUERY> N12 R1\n",
      "Predicted: N21 </QUERY> <EOS> <PAD> <PAD> <PAD> <PAD> <PAD> <PAD> <PAD> <PAD>\n",
      "Target: N11 </QUERY> <EOS> <PAD> <PAD> <PAD> <PAD> <PAD> <PAD> <PAD> <PAD>\n",
      "\n"
     ]
    },
    {
     "data": {
      "application/vnd.jupyter.widget-view+json": {
       "model_id": "2ab2ae61ec1e44178a24fb8f802499c8",
       "version_major": 2,
       "version_minor": 0
      },
      "text/plain": [
       "Testing: |          | 0/? [00:00<?, ?it/s]"
      ]
     },
     "metadata": {},
     "output_type": "display_data"
    },
    {
     "data": {
      "image/png": "[encoded data removed]",
      "text/plain": [
       "<Figure size 1000x600 with 1 Axes>"
      ]
     },
     "metadata": {},
     "output_type": "display_data"
    },
    {
     "name": "stdout",
     "output_type": "stream",
     "text": [
      "────────────────────────────────────────────────────────────────────────────────────────────────────────────────────────\n",
      "         Test metric                 DataLoader 0\n",
      "────────────────────────────────────────────────────────────────────────────────────────────────────────────────────────\n",
      "test_overall_per_pos_acc_mean     0.9225725531578064\n",
      "    test_overall_seq_acc             0.4580078125\n",
      "────────────────────────────────────────────────────────────────────────────────────────────────────────────────────────\n",
      "Input: <CTX> N0 R1 N18 <SEP> N4 R4 N3 <SEP> </CTX> <QUERY> N4 R4\n",
      "Predicted: N46 </QUERY> <EOS> <PAD> <PAD> <PAD> <PAD>\n",
      "Target: N3 </QUERY> <EOS> <PAD> <PAD> <PAD> <PAD>\n",
      "\n",
      "Input: <CTX> N2 R0 N27 <SEP> N49 R3 N28 <SEP> </CTX> <QUERY> N2 R0\n",
      "Predicted: N19 </QUERY> <EOS> <PAD> <PAD> <PAD> <PAD>\n",
      "Target: N27 </QUERY> <EOS> <PAD> <PAD> <PAD> <PAD>\n",
      "\n",
      "Input: <CTX> N4 R0 N2 <SEP> N0 R2 N30 <SEP> </CTX> <QUERY> N0 R2\n",
      "Predicted: N47 </QUERY> <EOS> <PAD> <PAD> <PAD> <PAD>\n",
      "Target: N30 </QUERY> <EOS> <PAD> <PAD> <PAD> <PAD>\n",
      "\n"
     ]
    },
    {
     "data": {
      "application/vnd.jupyter.widget-view+json": {
       "model_id": "b8bac41716ba4e79b8f89c09eb4a3dd1",
       "version_major": 2,
       "version_minor": 0
      },
      "text/plain": [
       "Testing: |          | 0/? [00:00<?, ?it/s]"
      ]
     },
     "metadata": {},
     "output_type": "display_data"
    },
    {
     "data": {
      "image/png": "[encoded data removed]",
      "text/plain": [
       "<Figure size 1000x600 with 1 Axes>"
      ]
     },
     "metadata": {},
     "output_type": "display_data"
    },
    {
     "name": "stdout",
     "output_type": "stream",
     "text": [
      "────────────────────────────────────────────────────────────────────────────────────────────────────────────────────────\n",
      "         Test metric                 DataLoader 0\n",
      "────────────────────────────────────────────────────────────────────────────────────────────────────────────────────────\n",
      "test_overall_per_pos_acc_mean         0.775390625\n",
      "    test_overall_seq_acc             0.3291015625\n",
      "────────────────────────────────────────────────────────────────────────────────────────────────────────────────────────\n",
      "Input: <CTX> N17 R1 N43 <SEP> N42 R2 N25 <SEP> N26 R4 N28 <SEP> </CTX> <QUERY> N42 R2\n",
      "Predicted: N2 </QUERY> <EOS>\n",
      "Target: N25 </QUERY> <EOS>\n",
      "\n",
      "Input: <CTX> N16 R2 N6 <SEP> N47 R0 N29 <SEP> N24 R3 N23 <SEP> </CTX> <QUERY> N47 R0\n",
      "Predicted: N13 </QUERY> <EOS>\n",
      "Target: N29 </QUERY> <EOS>\n",
      "\n",
      "Input: <CTX> N7 R2 N41 <SEP> N22 R4 N32 <SEP> N28 R2 N38 <SEP> </CTX> <QUERY> N22 R4\n",
      "Predicted: N45 </QUERY> <EOS>\n",
      "Target: N32 </QUERY> <EOS>\n",
      "\n"
     ]
    }
   ],
   "source": [
    "lit_model.mismatched_sequences.clear()\n",
    "trainer.test(model=lit_model, dataloaders=test_dl_control_1)\n",
    "mismatch_seq_print(lit_model.mismatched_sequences, reverse_vocab_map)\n",
    "lit_model.mismatched_sequences.clear()\n",
    "trainer.test(model=lit_model, dataloaders=test_dl_control_2)\n",
    "mismatch_seq_print(lit_model.mismatched_sequences, reverse_vocab_map)\n",
    "lit_model.mismatched_sequences.clear()\n",
    "trainer.test(model=lit_model, dataloaders=test_dl_control_3)\n",
    "mismatch_seq_print(lit_model.mismatched_sequences, reverse_vocab_map)\n",
    "\n",
    "\n"
   ]
  },
  {
   "cell_type": "markdown",
   "metadata": {},
   "source": [
    "## Test on Robustness "
   ]
  },
  {
   "cell_type": "code",
   "execution_count": 34,
   "metadata": {},
   "outputs": [
    {
     "data": {
      "application/vnd.jupyter.widget-view+json": {
       "model_id": "f4186f78a5a640c9b7c85e1dc5556979",
       "version_major": 2,
       "version_minor": 0
      },
      "text/plain": [
       "Testing: |          | 0/? [00:00<?, ?it/s]"
      ]
     },
     "metadata": {},
     "output_type": "display_data"
    },
    {
     "data": {
      "image/png": "[encoded data removed]",
      "text/plain": [
       "<Figure size 1000x600 with 1 Axes>"
      ]
     },
     "metadata": {},
     "output_type": "display_data"
    },
    {
     "name": "stdout",
     "output_type": "stream",
     "text": [
      "────────────────────────────────────────────────────────────────────────────────────────────────────────────────────────\n",
      "         Test metric                 DataLoader 0\n",
      "────────────────────────────────────────────────────────────────────────────────────────────────────────────────────────\n",
      "test_overall_per_pos_acc_mean     0.9871271252632141\n",
      "    test_overall_seq_acc             0.8583984375\n",
      "────────────────────────────────────────────────────────────────────────────────────────────────────────────────────────\n",
      "Input: <CTX> N12 R1 N21 <SEP> </CTX> <QUERY> N36 R4\n",
      "Predicted: N36 </QUERY> <EOS> <PAD> <PAD> <PAD> <PAD> <PAD> <PAD> <PAD> <PAD>\n",
      "Target: N31 </QUERY> <EOS> <PAD> <PAD> <PAD> <PAD> <PAD> <PAD> <PAD> <PAD>\n",
      "\n",
      "Input: <CTX> N43 R4 N13 <SEP> </CTX> <QUERY> N48 R2\n",
      "Predicted: N43 </QUERY> <EOS> <PAD> <PAD> <PAD> <PAD> <PAD> <PAD> <PAD> <PAD>\n",
      "Target: N23 </QUERY> <EOS> <PAD> <PAD> <PAD> <PAD> <PAD> <PAD> <PAD> <PAD>\n",
      "\n",
      "Input: <CTX> N36 R4 N31 <SEP> </CTX> <QUERY> N49 R2\n",
      "Predicted: N36 </QUERY> <EOS> <PAD> <PAD> <PAD> <PAD> <PAD> <PAD> <PAD> <PAD>\n",
      "Target: N16 </QUERY> <EOS> <PAD> <PAD> <PAD> <PAD> <PAD> <PAD> <PAD> <PAD>\n",
      "\n",
      "Input: <CTX> N20 R1 N39 <SEP> </CTX> <QUERY> N15 R1\n",
      "Predicted: N39 </QUERY> <EOS> <PAD> <PAD> <PAD> <PAD> <PAD> <PAD> <PAD> <PAD>\n",
      "Target: N29 </QUERY> <EOS> <PAD> <PAD> <PAD> <PAD> <PAD> <PAD> <PAD> <PAD>\n",
      "\n",
      "Input: <CTX> N48 R2 N23 <SEP> </CTX> <QUERY> N32 R2\n",
      "Predicted: N23 </QUERY> <EOS> <PAD> <PAD> <PAD> <PAD> <PAD> <PAD> <PAD> <PAD>\n",
      "Target: N27 </QUERY> <EOS> <PAD> <PAD> <PAD> <PAD> <PAD> <PAD> <PAD> <PAD>\n",
      "\n",
      "Input: <CTX> N15 R3 N24 <SEP> </CTX> <QUERY> N33 R3\n",
      "Predicted: N24 </QUERY> <EOS> <PAD> <PAD> <PAD> <PAD> <PAD> <PAD> <PAD> <PAD>\n",
      "Target: N21 </QUERY> <EOS> <PAD> <PAD> <PAD> <PAD> <PAD> <PAD> <PAD> <PAD>\n",
      "\n"
     ]
    },
    {
     "data": {
      "application/vnd.jupyter.widget-view+json": {
       "model_id": "a0ea2411ce6543988fc3bbff625006ac",
       "version_major": 2,
       "version_minor": 0
      },
      "text/plain": [
       "Testing: |          | 0/? [00:00<?, ?it/s]"
      ]
     },
     "metadata": {},
     "output_type": "display_data"
    },
    {
     "data": {
      "image/png": "[encoded data removed]",
      "text/plain": [
       "<Figure size 1000x600 with 1 Axes>"
      ]
     },
     "metadata": {},
     "output_type": "display_data"
    },
    {
     "name": "stdout",
     "output_type": "stream",
     "text": [
      "────────────────────────────────────────────────────────────────────────────────────────────────────────────────────────\n",
      "         Test metric                 DataLoader 0\n",
      "────────────────────────────────────────────────────────────────────────────────────────────────────────────────────────\n",
      "test_overall_per_pos_acc_mean        0.9853515625\n",
      "    test_overall_seq_acc             0.8974609375\n",
      "────────────────────────────────────────────────────────────────────────────────────────────────────────────────────────\n",
      "Input: <CTX> N4 R1 N32 <SEP> N41 R4 N19 <SEP> </CTX> <QUERY> N28 R1\n",
      "Predicted: N19 </QUERY> <EOS> <PAD> <PAD> <PAD> <PAD>\n",
      "Target: N9 </QUERY> <EOS> <PAD> <PAD> <PAD> <PAD>\n",
      "\n",
      "Input: <CTX> N15 R1 N29 <SEP> N44 R3 N20 <SEP> </CTX> <QUERY> N13 R3\n",
      "Predicted: N20 </QUERY> <EOS> <PAD> <PAD> <PAD> <PAD>\n",
      "Target: N21 </QUERY> <EOS> <PAD> <PAD> <PAD> <PAD>\n",
      "\n",
      "Input: <CTX> N45 R0 N29 <SEP> N40 R4 N8 <SEP> </CTX> <QUERY> N38 R4\n",
      "Predicted: N8 </QUERY> <EOS> <PAD> <PAD> <PAD> <PAD>\n",
      "Target: N36 </QUERY> <EOS> <PAD> <PAD> <PAD> <PAD>\n",
      "\n",
      "Input: <CTX> N36 R2 N12 <SEP> N20 R3 N49 <SEP> </CTX> <QUERY> N42 R3\n",
      "Predicted: N49 </QUERY> <EOS> <PAD> <PAD> <PAD> <PAD>\n",
      "Target: N22 </QUERY> <EOS> <PAD> <PAD> <PAD> <PAD>\n",
      "\n",
      "Input: <CTX> N48 R3 N22 <SEP> N18 R3 N26 <SEP> </CTX> <QUERY> N10 R0\n",
      "Predicted: N10 </QUERY> <EOS> <PAD> <PAD> <PAD> <PAD>\n",
      "Target: N37 </QUERY> <EOS> <PAD> <PAD> <PAD> <PAD>\n",
      "\n",
      "Input: <CTX> N34 R2 N9 <SEP> N24 R3 N23 <SEP> </CTX> <QUERY> N49 R1\n",
      "Predicted: N47 </QUERY> <EOS> <PAD> <PAD> <PAD> <PAD>\n",
      "Target: N44 </QUERY> <EOS> <PAD> <PAD> <PAD> <PAD>\n",
      "\n"
     ]
    },
    {
     "name": "stderr",
     "output_type": "stream",
     "text": [
      "/home/rw686/.conda/envs/memory/lib/python3.11/site-packages/lightning/pytorch/trainer/connectors/data_connector.py:441: The 'test_dataloader' does not have many workers which may be a bottleneck. Consider increasing the value of the `num_workers` argument` to `num_workers=5` in the `DataLoader` to improve performance.\n"
     ]
    },
    {
     "data": {
      "application/vnd.jupyter.widget-view+json": {
       "model_id": "6d0daec77ca64233bccc1cf8c03662e3",
       "version_major": 2,
       "version_minor": 0
      },
      "text/plain": [
       "Testing: |          | 0/? [00:00<?, ?it/s]"
      ]
     },
     "metadata": {},
     "output_type": "display_data"
    },
    {
     "data": {
      "image/png": "[encoded data removed]",
      "text/plain": [
       "<Figure size 1000x600 with 1 Axes>"
      ]
     },
     "metadata": {},
     "output_type": "display_data"
    },
    {
     "name": "stdout",
     "output_type": "stream",
     "text": [
      "────────────────────────────────────────────────────────────────────────────────────────────────────────────────────────\n",
      "         Test metric                 DataLoader 0\n",
      "────────────────────────────────────────────────────────────────────────────────────────────────────────────────────────\n",
      "test_overall_per_pos_acc_mean     0.9680989384651184\n",
      "    test_overall_seq_acc                0.90625\n",
      "────────────────────────────────────────────────────────────────────────────────────────────────────────────────────────\n",
      "Input: <CTX> N4 R4 N46 <SEP> N15 R1 N29 <SEP> N8 R1 N3 <SEP> </CTX> <QUERY> N19 R1\n",
      "Predicted: N22 </QUERY> <EOS>\n",
      "Target: N45 </QUERY> <EOS>\n",
      "\n",
      "Input: <CTX> N23 R3 N4 <SEP> N20 R1 N39 <SEP> N26 R3 N23 <SEP> </CTX> <QUERY> N1 R1\n",
      "Predicted: N39 </QUERY> <EOS>\n",
      "Target: N38 </QUERY> <EOS>\n",
      "\n",
      "Input: <CTX> N29 R3 N34 <SEP> N42 R2 N2 <SEP> N8 R1 N3 <SEP> </CTX> <QUERY> N15 R3\n",
      "Predicted: N29 </QUERY> <EOS>\n",
      "Target: N24 </QUERY> <EOS>\n",
      "\n",
      "Input: <CTX> N49 R4 N12 <SEP> N26 R4 N28 <SEP> N28 R1 N9 <SEP> </CTX> <QUERY> N1 R1\n",
      "Predicted: N9 </QUERY> <EOS>\n",
      "Target: N38 </QUERY> <EOS>\n",
      "\n",
      "Input: <CTX> N37 R2 N30 <SEP> N38 R2 N10 <SEP> N13 R4 N41 <SEP> </CTX> <QUERY> N12 R4\n",
      "Predicted: N41 </QUERY> <EOS>\n",
      "Target: N47 </QUERY> <EOS>\n",
      "\n",
      "Input: <CTX> N45 R2 N49 <SEP> N29 R1 N43 <SEP> N15 R3 N24 <SEP> </CTX> <QUERY> N37 R1\n",
      "Predicted: N44 </QUERY> <EOS>\n",
      "Target: N40 </QUERY> <EOS>\n",
      "\n"
     ]
    }
   ],
   "source": [
    "lit_model.mismatched_sequences.clear()\n",
    "trainer.test(model=lit_model, dataloaders=test_dl_robust_1)\n",
    "mismatch_seq_print(lit_model.mismatched_sequences, reverse_vocab_map,max_examples=6)\n",
    "\n",
    "lit_model.mismatched_sequences.clear()\n",
    "trainer.test(model=lit_model, dataloaders=test_dl_robust_2)\n",
    "mismatch_seq_print(lit_model.mismatched_sequences, reverse_vocab_map, max_examples=6)\n",
    "\n",
    "lit_model.mismatched_sequences.clear()\n",
    "trainer.test(model=lit_model, dataloaders=test_dl_robust_3)\n",
    "mismatch_seq_print(lit_model.mismatched_sequences, reverse_vocab_map, max_examples=6)\n",
    "\n"
   ]
  },
  {
   "cell_type": "code",
   "execution_count": null,
   "metadata": {},
   "outputs": [],
   "source": [
    "def context_extract(dataloader):\n",
    "    context_tuples_mixture_train =[]\n",
    "    for x, y in dataloader:\n",
    "        for i in range(x.size(0)):\n",
    "            for j in range(x.size(1)):\n",
    "                if x[i,j] == vocab_map['<CTX>']:\n",
    "                    context_tuples_mixture_train.append(x[i,j+1: j+4])\n",
    "                elif x[i,j] == vocab_map['<SEP>'] and x[i,j+1] != vocab_map['</CTX>']:    \n",
    "                    context_tuples_mixture_train.append(x[i,j+1: j+4])\n",
    "                elif x[i,j] == vocab_map['</CTX>']:\n",
    "                    break\n",
    "    return context_tuples_mixture_train\n",
    "\n",
    "def query_extract(dataloader):\n",
    "    query_tuples_mixture_train =[]\n",
    "    for x, y in dataloader:\n",
    "        for i in range(x.size(0)):\n",
    "            for j in range(x.size(1)):\n",
    "                if x[i,j] == vocab_map['<QUERY>']:\n",
    "                    query_tuples_mixture_train.append(x[i,j+1: j+4])\n",
    "                    break\n",
    "    return query_tuples_mixture_train\n",
    "\n",
    "    \n",
    "#print(context_extract(train_dl))\n",
    "\n",
    "def context_affected_prediction(lit_model,context_tuples_mixture_train, query_tuples_mixture_train):\n",
    "    \n",
    "    if not lit_model.mismatched_sequences:\n",
    "        return None\n",
    "    counter_own_context = 0\n",
    "    counter_other_context = 0\n",
    "    counter_query = 0\n",
    "    counter_query_ro = 0\n",
    "    for mismatch in lit_model.mismatched_sequences:\n",
    "        input_seq = mismatch['input']\n",
    "        predicted_seq = mismatch['predicted']\n",
    "        target_seq = mismatch['target']\n",
    "        \n",
    "        # find the object and relation in the input sequence\n",
    "        context_examples = []\n",
    "        for i in range(len(input_seq)):\n",
    "            # organize examples from context\n",
    "            if input_seq[i] == vocab_map['<CTX>']:\n",
    "                context_examples.append(input_seq[i+1:i+4])\n",
    "            elif input_seq[i] == vocab_map['<SEP>'] and input_seq[i] != vocab_map['</CTX>']:\n",
    "                context_examples.append(input_seq[i+1:i+4])\n",
    "                \n",
    "\n",
    "\n",
    "            elif input_seq[i] == vocab_map['<QUERY>']:\n",
    "                sub = input_seq[i+1]\n",
    "                rel = input_seq[i+2]\n",
    "                obj_target = target_seq[0]\n",
    "                obj_pred = predicted_seq[0]\n",
    "                if (sub, rel, obj_pred) in context_tuples_mixture_train:\n",
    "                    #print(\"affected by some context in mixture training\",sub, rel, obj_pred)\n",
    "                    counter_other_context+=1\n",
    "                \n",
    "                for (s,r,o) in context_examples:\n",
    "                    if (r == rel) and (o == obj_pred):\n",
    "                    #print(\"affected by its own context\",input_seq)   \n",
    "                        counter_own_context+=1\n",
    "                        break\n",
    "\n",
    "                if (sub, rel, obj_pred) in query_tuples_mixture_train:\n",
    "                    counter_query+=1\n",
    "\n",
    "                for (s,r,o) in query_tuples_mixture_train:\n",
    "                    if (r == rel) and (o == obj_pred):\n",
    "                        counter_query_ro +=1\n",
    "                        break\n",
    "                break\n",
    "        num_mistakes = len(lit_model.mismatched_sequences)\n",
    "    return counter_own_context/num_mistakes, counter_other_context/num_mistakes, counter_query/num_mistakes, counter_query_ro/num_mistakes\n",
    "\n",
    "context_tuples_mixture_train = context_extract(train_dl)\n",
    "query_tuples_mixture_train = query_extract(train_dl)\n"
   ]
  },
  {
   "cell_type": "code",
   "execution_count": null,
   "metadata": {},
   "outputs": [],
   "source": [
    "lit_model.mismatched_sequences.clear()\n",
    "trainer.test(model=lit_model, dataloaders=test_dl_control_1)\n",
    "print(\"own_context_ro\", \"other_context_train_dl_sro\", \"train_dl_query_sro\", \"train_dl_query_ro\", 'fact')\n",
    "print(context_affected_prediction(lit_model, context_tuples_mixture_train, query_tuples_mixture_train))\n",
    "lit_model.mismatched_sequences.clear()\n",
    "trainer.test(model=lit_model, dataloaders=test_dl_control_2)\n",
    "print(\"own_context_ro\", \"other_context_train_dl_sro\", \"train_dl_query_sro\", \"train_dl_query_ro\", 'fact')\n",
    "print(context_affected_prediction(lit_model, context_tuples_mixture_train, query_tuples_mixture_train))\n",
    "lit_model.mismatched_sequences.clear()\n",
    "trainer.test(model=lit_model, dataloaders=test_dl_control_3)\n",
    "print(\"own_context_ro\", \"other_context_train_dl_sro\", \"train_dl_query_sro\", \"train_dl_query_ro\", 'fact')\n",
    "print(context_affected_prediction(lit_model, context_tuples_mixture_train, query_tuples_mixture_train))\n",
    "\n",
    "lit_model.mismatched_sequences.clear()\n",
    "trainer.test(model=lit_model, dataloaders=test_dl_robust_1)\n",
    "print(\"own_context_ro\", \"other_context_train_dl_sro\", \"train_dl_query_sro\", \"train_dl_query_ro\", 'fact')\n",
    "print(context_affected_prediction(lit_model, context_tuples_mixture_train, query_tuples_mixture_train))\n",
    "lit_model.mismatched_sequences.clear()\n",
    "trainer.test(model=lit_model, dataloaders=test_dl_robust_2)\n",
    "print(\"own_context_ro\", \"other_context_train_dl_sro\", \"train_dl_query_sro\", \"train_dl_query_ro\", 'fact')\n",
    "print(context_affected_prediction(lit_model, context_tuples_mixture_train, query_tuples_mixture_train))\n",
    "lit_model.mismatched_sequences.clear()\n",
    "trainer.test(model=lit_model, dataloaders=test_dl_robust_3)\n",
    "print(\"own_context_ro\", \"other_context_train_dl_sro\", \"train_dl_query_sro\", \"train_dl_query_ro\", 'fact')\n",
    "print(context_affected_prediction(lit_model, context_tuples_mixture_train, query_tuples_mixture_train))"
   ]
  },
  {
   "cell_type": "code",
   "execution_count": null,
   "metadata": {},
   "outputs": [],
   "source": []
  }
 ],
 "metadata": {
  "kernelspec": {
   "display_name": "abstract_transformer",
   "language": "python",
   "name": "python3"
  },
  "language_info": {
   "codemirror_mode": {
    "name": "ipython",
    "version": 3
   },
   "file_extension": ".py",
   "mimetype": "text/x-python",
   "name": "python",
   "nbconvert_exporter": "python",
   "pygments_lexer": "ipython3",
   "version": "3.11.7"
  }
 },
 "nbformat": 4,
 "nbformat_minor": 2
}
