{
 "cells": [
  {
   "cell_type": "markdown",
   "metadata": {},
   "source": [
    "# Test on Controllability and Robustness on Name Pair Task"
   ]
  },
  {
   "cell_type": "code",
   "execution_count": 1,
   "metadata": {},
   "outputs": [],
   "source": [
    "import os\n",
    "os.environ['CUDA_LAUNCH_BLOCKING'] = \"1\"\n",
    "# os.environ['TORCH_USE_CUDA_DSA'] = '1'"
   ]
  },
  {
   "cell_type": "code",
   "execution_count": 2,
   "metadata": {},
   "outputs": [],
   "source": [
    "import torch\n",
    "import torchtext\n",
    "from lightning.pytorch.loggers.wandb import WandbLogger\n",
    "import torchmetrics\n",
    "\n",
    "import numpy as np\n",
    "import wandb\n",
    "import torchinfo\n",
    "from contextlib import nullcontext\n",
    "from  tqdm import tqdm, trange\n",
    "import argparse\n",
    "\n",
    "\n",
    "import sys; sys.path += ['..']\n",
    "from language_models import TransformerLM, configure_optimizers"
   ]
  },
  {
   "cell_type": "markdown",
   "metadata": {},
   "source": [
    "## Config"
   ]
  },
  {
   "cell_type": "code",
   "execution_count": 23,
   "metadata": {},
   "outputs": [],
   "source": [
    "args = argparse.Namespace(\n",
    "    batch_size=32, n_epochs=60, log_on_step=True,\n",
    "    wandb_project=\"controllability-robustness-test\", run_name='hello', \n",
    "    n_layers=3, n_heads=4, d_model=128, dff=128*4)"
   ]
  },
  {
   "cell_type": "code",
   "execution_count": 24,
   "metadata": {},
   "outputs": [],
   "source": [
    "# region some configuration\n",
    "device = 'cuada'\n",
    "device_type = 'cuda' if 'cuda' in device else 'cpu' # for later use in torch.autocast\n",
    "dtype = 'bfloat16' if torch.cuda.is_available() and torch.cuda.is_bf16_supported() else 'float16'\n",
    "# dtype = 'float32'\n",
    "ptdtype = {'float32': torch.float32, 'bfloat16': torch.bfloat16, 'float16': torch.float16}[dtype]\n",
    "\n",
    "ctx = nullcontext() if device_type == 'cpu' else torch.amp.autocast(device_type=device_type, dtype=ptdtype)\n",
    "# wandb logging\n",
    "wandb_log = False\n",
    "wandb_project = args.wandb_project\n",
    "# endregion\n"
   ]
  },
  {
   "cell_type": "markdown",
   "metadata": {},
   "source": [
    "## Data"
   ]
  },
  {
   "cell_type": "code",
   "execution_count": 31,
   "metadata": {},
   "outputs": [
    {
     "name": "stdout",
     "output_type": "stream",
     "text": [
      "vocab size:  404\n",
      "['Albertina has last name HEADLAM [SEP] Aaren has last name DURLAND', 'Alane has last name HEITMAN [SEP] Aarika has last name ROBITAILLE', 'Addy has last name WIDMAR [SEP] Abagael has last name SJOGREN', 'Ailey has last name WORMUTH [SEP] Abagail has last name MENGSTEAB', 'Aeriell has last name PESCH [SEP] Abbe has last name OEHLENSCHLAGE']\n",
      "['Alyss has last name WAHLSTROM [SEP] Alyss has last name WAHLSTROM', 'Alyssa has last name QUARTUCCI [SEP] Alyssa has last name QUARTUCCI', 'Amabel has last name DEICHMANN [SEP] Amabel has last name DEICHMANN', 'Amabelle has last name POLACCO [SEP] Amabelle has last name POLACCO', 'Amalea has last name PEINE [SEP] Amalea has last name PEINE']\n"
     ]
    },
    {
     "name": "stderr",
     "output_type": "stream",
     "text": [
      "100%|██████████| 200/200 [00:00<00:00, 170430.88it/s]\n",
      "100%|██████████| 200/200 [00:00<00:00, 379918.84it/s]\n",
      "100%|██████████| 200/200 [00:00<00:00, 427990.20it/s]\n",
      "100%|██████████| 200/200 [00:00<00:00, 14932.73it/s]\n",
      "100%|██████████| 200/200 [00:00<00:00, 28530.74it/s]\n",
      "100%|██████████| 200/200 [00:00<00:00, 24172.57it/s]\n"
     ]
    }
   ],
   "source": [
    "\n",
    "# get data and vocab for the first 1000 samples\n",
    "data_path = '../name_pairs_dataset/full-sentences.txt'\n",
    "with open(data_path) as f:\n",
    "    data = f.read().splitlines()[:200]\n",
    "    last_names = [x.split(' ')[-1] for x in data]\n",
    "\n",
    "with open('../name_pairs_dataset/first-names.txt') as f:\n",
    "    first_names = f.read().splitlines()[:200]\n",
    "\n",
    "\n",
    "# create vocab map\n",
    "vocab = first_names + last_names\n",
    "vocab = [x.lower() for x in vocab]\n",
    "vocab += ['has', 'last', 'name', '[UNK]', '[sep]']\n",
    "vocab = list(set(vocab))\n",
    "\n",
    "vocab_map = {vocab: i for i, vocab in enumerate(vocab)}\n",
    "\n",
    "vocab_size = len(vocab)\n",
    "print('vocab size: ', vocab_size) # vocab size is very large; especially for a task this simple\n",
    "\n",
    "#tokenizer = torchtext.data.utils.get_tokenizer('basic_english')\n",
    "\n",
    "test_data_counterfactual = [f'{\" \".join(sentence.split(\" \")[:-1])} {last_names[np.random.randint(len(last_names))]}' for sentence in data]\n",
    "test_data_counterfactual = [f'{sentence} [SEP] {sentence}' for sentence in test_data_counterfactual]\n",
    "\n",
    "# sample different first and last names\n",
    "test_data_counterfactual_irrelevant = [f'{first_names[np.random.randint(len(first_names))]} {\" \".join(sentence.split(\" \")[1:])}' for sentence in data]\n",
    "test_data_counterfactual_irrelevant = [f'{\" \".join(sentence.split(\" \")[:-1])} {last_names[np.random.randint(len(last_names))]}' for sentence in test_data_counterfactual_irrelevant]\n",
    "test_data_counterfactual_irrelevant = [f'{test_data_counterfactual_irrelevant[i]} [SEP] {data[i]}' for i in range(len(data))]\n",
    "print(test_data_counterfactual_irrelevant[:5])\n",
    "print(test_data_counterfactual[-5:])\n",
    "# modify sentence to include [SEP] token\n",
    "data = [f'{sentence} [SEP] {sentence}' for sentence in data]\n",
    "\n",
    "# create test data, substitute last name with another randomly selected last name\n",
    "\n",
    "\n",
    "tokenized_data = [sentence.strip().lower().split(' ') for sentence in tqdm(data)]\n",
    "test_tokenized_data_counterfactual = [sentence.strip().lower().split(' ') for sentence in tqdm(test_data_counterfactual)]\n",
    "test_tokenized_data_counterfactual_irrelevant = [sentence.strip().lower().split(' ') for sentence in tqdm(test_data_counterfactual_irrelevant)]\n",
    "\n",
    "integer_ids = [torch.tensor([vocab_map.get(token, vocab_map['[UNK]']) for token in tokens]) for tokens in tqdm(tokenized_data)]\n",
    "integer_ids = torch.tensor(np.array(integer_ids))\n",
    "integer_test_ids_counterfactual = [torch.tensor([vocab_map.get(token, vocab_map['[UNK]']) for token in tokens]) for tokens in tqdm(test_tokenized_data_counterfactual)]\n",
    "integer_test_ids_counterfactual = torch.tensor(np.array(integer_test_ids_counterfactual))\n",
    "integer_test_ids_counterfactul_irrelevant = [torch.tensor([vocab_map.get(token, vocab_map['[UNK]']) for token in tokens]) for tokens in tqdm(test_tokenized_data_counterfactual_irrelevant)]\n",
    "integer_test_ids_counterfactul_irrelevant = torch.tensor(np.array(integer_test_ids_counterfactul_irrelevant))\n",
    "\n",
    "\n",
    "# create dataset and dataloader\n",
    "x = integer_ids[:, :-1]\n",
    "y = integer_ids[:, 1:]\n",
    "x_test_counterfactual = integer_test_ids_counterfactual[:, :-1]\n",
    "y_test_counterfactual = integer_test_ids_counterfactual[:, 1:]\n",
    "x_test_counterfactual_irrelevant = integer_test_ids_counterfactul_irrelevant[:, :-1]\n",
    "y_test_counterfactual_irrelevant = integer_test_ids_counterfactul_irrelevant[:, 1:]\n",
    "\n",
    "\n",
    "x_train, y_train, x_val, y_val = x[:100], y[:100], x[100:200], y[100:200]\n",
    "train_dataset = torch.utils.data.TensorDataset(x_train, y_train)\n",
    "val_dataset = torch.utils.data.TensorDataset(x_val, y_val)\n",
    "\n",
    "test_dataset_counterfactual = torch.utils.data.TensorDataset(x_test_counterfactual, y_test_counterfactual)\n",
    "test_dataset_counterfactual_irrelevant = torch.utils.data.TensorDataset(x_test_counterfactual_irrelevant, y_test_counterfactual_irrelevant)\n",
    "\n",
    "test_dataset_counterfactual = torch.utils.data.TensorDataset(*test_dataset_counterfactual[:100])\n",
    "test_dataset_counterfactual_irrelevant = torch.utils.data.TensorDataset(*test_dataset_counterfactual_irrelevant[:100])\n",
    "\n",
    "train_dl = torch.utils.data.DataLoader(train_dataset, batch_size=args.batch_size, shuffle=True)\n",
    "val_dl = torch.utils.data.DataLoader(val_dataset, batch_size=args.batch_size, shuffle=False)\n",
    "test_dl_counterfactual = torch.utils.data.DataLoader(test_dataset_counterfactual, batch_size=args.batch_size, shuffle=False)\n",
    "test_dl_counterfactual_irrelevant = torch.utils.data.DataLoader(test_dataset_counterfactual_irrelevant, batch_size=args.batch_size, shuffle=False)\n",
    "seq_len = x.shape[1]"
   ]
  },
  {
   "cell_type": "markdown",
   "metadata": {},
   "source": [
    "## Model"
   ]
  },
  {
   "cell_type": "code",
   "execution_count": 33,
   "metadata": {},
   "outputs": [],
   "source": [
    "import lightning as L\n",
    "import matplotlib.pyplot as plt\n",
    "\n",
    "class LitLanguageModel(L.LightningModule):\n",
    "    def __init__(self, model):\n",
    "        super().__init__()\n",
    "        self.model = model\n",
    "        self.mismatched_sequences = []\n",
    "\n",
    "    def training_step(self, batch, batch_idx):\n",
    "        x, y = batch\n",
    "        # with ctx:\n",
    "        logits, loss = self.model(x, y)\n",
    "\n",
    "        self.log('train_loss', loss, prog_bar=True, logger=True, on_step=args.log_on_step, on_epoch=True)\n",
    "\n",
    "        return loss\n",
    "\n",
    "    def validation_step(self, batch, batch_idx):\n",
    "        x, y = batch\n",
    "        # with ctx:\n",
    "        logits, loss = self.model(x, y)\n",
    "\n",
    "        perplexity = torchmetrics.functional.text.perplexity(logits, y)\n",
    "\n",
    "        self.log(f\"val_loss\", loss, prog_bar=True, logger=True, add_dataloader_idx=False)\n",
    "        self.log(f'val_perplexity', perplexity, prog_bar=True, logger=True, add_dataloader_idx=False)\n",
    "\n",
    "    def test_step(self, batch, batch_idx):\n",
    "        x, y = batch\n",
    "        # with ctx:\n",
    "        logits, loss = self.model(x, y)\n",
    "\n",
    "        perplexity = torchmetrics.functional.text.perplexity(logits, y)\n",
    "\n",
    "        self.log(f\"test_loss\", loss, prog_bar=True, logger=True, add_dataloader_idx=False)\n",
    "        self.log(f'test_perplexity', perplexity, prog_bar=True, logger=True, add_dataloader_idx=False)\n",
    "        \n",
    "        # Calculate per position accuracy\n",
    "        per_pos_acc = self.per_position_accuracy(logits, y)  \n",
    "        \n",
    "        # Calculate whole sequence accuracy\n",
    "        seq_acc = self.sequence_accuracy(logits, y)\n",
    "        \n",
    "        # Log both metrics\n",
    "        self.log('test_seq_acc', seq_acc, on_step=True, on_epoch=True)\n",
    "        self.log('test_per_pos_acc_mean', per_pos_acc.mean(), on_step=True, on_epoch=True)\n",
    "        \n",
    "        # plot per position accuracy\n",
    "        plt.plot(per_pos_acc.cpu().numpy())\n",
    "        \n",
    "        self.capture_mismatches(logits, y, x)\n",
    "        \n",
    "    def sequence_accuracy(self, preds, targets):\n",
    "        # Convert logits to predictions\n",
    "        preds = torch.argmax(preds, dim=-1)\n",
    "        # Check if entire sequences match\n",
    "        correct = torch.all(preds == targets, dim=1)\n",
    "        accuracy = torch.mean(correct.float())\n",
    "        return accuracy\n",
    "    \n",
    "    def per_position_accuracy(self, logits, targets):\n",
    "        preds = torch.argmax(logits, dim=-1)\n",
    "        correct = preds == targets\n",
    "        per_position_acc = correct.float().mean(dim=0)\n",
    "        return per_position_acc\n",
    "    \n",
    "    def capture_mismatches(self, preds, targets, inputs, max_examples=1000):\n",
    "        \"\"\"\n",
    "        Store examples of sequences where the predictions do not match the targets.\n",
    "        \n",
    "        Args:\n",
    "            preds (torch.Tensor): The model's predicted sequences.\n",
    "            targets (torch.Tensor): The actual sequences.\n",
    "            inputs (torch.Tensor): The input sequences to the model.\n",
    "            max_examples (int): Maximum number of mismatched sequences to store.\n",
    "        \"\"\"\n",
    "        # Convert predictions to class indices\n",
    "        preds = torch.argmax(preds, dim=-1)\n",
    "        mismatches = preds != targets\n",
    "        \n",
    "        # Iterate over the batch to find mismatches\n",
    "        for i in range(mismatches.size(0)):\n",
    "            if torch.any(mismatches[i]) and len(self.mismatched_sequences) < max_examples:\n",
    "                mismatch_data = {\n",
    "                    'input': inputs[i].cpu().numpy(),\n",
    "                    'predicted': preds[i].cpu().numpy(),\n",
    "                    'target': targets[i].cpu().numpy()\n",
    "                }\n",
    "                self.mismatched_sequences.append(mismatch_data)\n",
    "                \n",
    "        \n",
    "                \n",
    "    # def on_test_epoch_end(self):\n",
    "    #     # Already stored mismatched sequences in self.mismatched_sequences\n",
    "    #     if self.mismatched_sequences:\n",
    "    #         print(\"Mismatched Sequences:\")\n",
    "    #         for i, mismatch in enumerate(self.mismatched_sequences, 1):\n",
    "    #             print(f\"\\nMismatch {i}:\")\n",
    "    #             print(f\"Input: {mismatch['input']}\")\n",
    "    #             print(f\"Predicted: {mismatch['predicted']}\")\n",
    "    #             print(f\"Target: {mismatch['target']}\")\n",
    "    #     else:\n",
    "    #         print(\"No mismatches found or mismatches not captured.\")\n",
    "\n",
    "\n",
    "\n",
    "\n",
    "    def configure_optimizers(self):\n",
    "        # NOTE: i chose these arbitrarily; may need to be tuned\n",
    "        optimizer = configure_optimizers(self.model, weight_decay=0.0, learning_rate=1e-3, betas=(0.9, 0.999), device_type=\"cuda\" if torch.cuda.is_available() else \"cpu\")\n",
    "        return optimizer"
   ]
  },
  {
   "cell_type": "code",
   "execution_count": 34,
   "metadata": {},
   "outputs": [
    {
     "data": {
      "text/plain": [
       "=======================================================================================================================================\n",
       "Layer (type (var_name):depth-idx)                                           Param #              Param %              Trainable\n",
       "=======================================================================================================================================\n",
       "TransformerLM (TransformerLM)                                               --                        --              True\n",
       "├─ModuleDict (layers): 1-1                                                  --                        --              True\n",
       "│    └─Embedding (token_embedder): 2-1                                      51,712                 7.39%              True\n",
       "│    │    └─Linear (weights): 3-1                                           52,116                 7.45%              True\n",
       "│    └─Embedding (positional_embedder): 2-2                                 1,280                  0.18%              True\n",
       "│    └─Dropout (dropout): 2-3                                               --                        --              --\n",
       "│    └─ModuleList (blocks): 2-4                                             --                        --              True\n",
       "│    │    └─EncoderBlock (0): 3-2                                           198,272               28.33%              True\n",
       "│    │    └─EncoderBlock (1): 3-3                                           198,272               28.33%              True\n",
       "│    │    └─EncoderBlock (2): 3-4                                           198,272               28.33%              True\n",
       "│    └─Linear (final_out): 2-5                                              (recursive)          (recursive)          True\n",
       "=======================================================================================================================================\n",
       "Total params: 699,924\n",
       "Trainable params: 699,924\n",
       "Non-trainable params: 0\n",
       "======================================================================================================================================="
      ]
     },
     "execution_count": 34,
     "metadata": {},
     "output_type": "execute_result"
    }
   ],
   "source": [
    "d_model = args.d_model # 128\n",
    "dff = args.dff # 256\n",
    "n_layers = args.n_layers\n",
    "n_heads = args.n_heads\n",
    "dropout_rate = 0.1\n",
    "activation = 'gelu'\n",
    "norm_first = True\n",
    "\n",
    "\n",
    "model_args = dict(\n",
    "    vocab_size=vocab_size, d_model=d_model, n_layers=n_layers, n_heads=n_heads, dff=dff,\n",
    "    dropout_rate=dropout_rate, activation=activation, norm_first=norm_first, max_block_size=seq_len)\n",
    "model = TransformerLM(**model_args)#.to(device)\n",
    "torchinfo.summary(model, row_settings=[\"depth\", \"var_names\"], col_names=[\"num_params\", \"params_percent\", \"trainable\"], depth=3, col_width=20)"
   ]
  },
  {
   "cell_type": "code",
   "execution_count": 35,
   "metadata": {},
   "outputs": [],
   "source": [
    "lit_model = LitLanguageModel(model)"
   ]
  },
  {
   "cell_type": "code",
   "execution_count": 36,
   "metadata": {},
   "outputs": [
    {
     "name": "stderr",
     "output_type": "stream",
     "text": [
      "GPU available: True (cuda), used: True\n",
      "TPU available: False, using: 0 TPU cores\n",
      "IPU available: False, using: 0 IPUs\n",
      "HPU available: False, using: 0 HPUs\n",
      "You are using a CUDA device ('NVIDIA GeForce RTX 4070 Laptop GPU') that has Tensor Cores. To properly utilize them, you should set `torch.set_float32_matmul_precision('medium' | 'high')` which will trade-off precision for performance. For more details, read https://pytorch.org/docs/stable/generated/torch.set_float32_matmul_precision.html#torch.set_float32_matmul_precision\n",
      "LOCAL_RANK: 0 - CUDA_VISIBLE_DEVICES: [0]\n",
      "\n",
      "  | Name  | Type          | Params\n",
      "----------------------------------------\n",
      "0 | model | TransformerLM | 699 K \n",
      "----------------------------------------\n",
      "699 K     Trainable params\n",
      "0         Non-trainable params\n",
      "699 K     Total params\n",
      "2.800     Total estimated model params size (MB)\n"
     ]
    },
    {
     "name": "stdout",
     "output_type": "stream",
     "text": [
      "num decayed parameter tensors: 15, with 694,528 parameters\n",
      "num non-decayed parameter tensors: 25, with 5,396 parameters\n",
      "using fused AdamW: True\n"
     ]
    },
    {
     "data": {
      "application/vnd.jupyter.widget-view+json": {
       "model_id": "07afd962fd87448383e3013b4bd15724",
       "version_major": 2,
       "version_minor": 0
      },
      "text/plain": [
       "Sanity Checking: |          | 0/? [00:00<?, ?it/s]"
      ]
     },
     "metadata": {},
     "output_type": "display_data"
    },
    {
     "name": "stderr",
     "output_type": "stream",
     "text": [
      "/home/awni/miniconda3/envs/abstract_transformer/lib/python3.11/site-packages/lightning/pytorch/trainer/connectors/data_connector.py:441: The 'val_dataloader' does not have many workers which may be a bottleneck. Consider increasing the value of the `num_workers` argument` to `num_workers=19` in the `DataLoader` to improve performance.\n",
      "/home/awni/miniconda3/envs/abstract_transformer/lib/python3.11/site-packages/lightning/pytorch/core/module.py:507: You called `self.log('val_loss', ..., logger=True)` but have no logger configured. You can enable one by doing `Trainer(logger=ALogger(...))`\n",
      "/home/awni/miniconda3/envs/abstract_transformer/lib/python3.11/site-packages/lightning/pytorch/core/module.py:507: You called `self.log('val_perplexity', ..., logger=True)` but have no logger configured. You can enable one by doing `Trainer(logger=ALogger(...))`\n",
      "/home/awni/miniconda3/envs/abstract_transformer/lib/python3.11/site-packages/lightning/pytorch/trainer/connectors/data_connector.py:441: The 'train_dataloader' does not have many workers which may be a bottleneck. Consider increasing the value of the `num_workers` argument` to `num_workers=19` in the `DataLoader` to improve performance.\n"
     ]
    },
    {
     "data": {
      "application/vnd.jupyter.widget-view+json": {
       "model_id": "05a29f69c2474e29a861c5d57f23a09b",
       "version_major": 2,
       "version_minor": 0
      },
      "text/plain": [
       "Training: |          | 0/? [00:00<?, ?it/s]"
      ]
     },
     "metadata": {},
     "output_type": "display_data"
    },
    {
     "name": "stderr",
     "output_type": "stream",
     "text": [
      "/home/awni/miniconda3/envs/abstract_transformer/lib/python3.11/site-packages/lightning/pytorch/core/module.py:507: You called `self.log('train_loss', ..., logger=True)` but have no logger configured. You can enable one by doing `Trainer(logger=ALogger(...))`\n"
     ]
    },
    {
     "data": {
      "application/vnd.jupyter.widget-view+json": {
       "model_id": "10d74b8b0d0a41a5b4307e166ca79b2b",
       "version_major": 2,
       "version_minor": 0
      },
      "text/plain": [
       "Validation: |          | 0/? [00:00<?, ?it/s]"
      ]
     },
     "metadata": {},
     "output_type": "display_data"
    },
    {
     "data": {
      "application/vnd.jupyter.widget-view+json": {
       "model_id": "507c0cdba3d04dc3a008a935045b83c7",
       "version_major": 2,
       "version_minor": 0
      },
      "text/plain": [
       "Validation: |          | 0/? [00:00<?, ?it/s]"
      ]
     },
     "metadata": {},
     "output_type": "display_data"
    },
    {
     "data": {
      "application/vnd.jupyter.widget-view+json": {
       "model_id": "83aebb96e45244589d4dd2fc9d2f0777",
       "version_major": 2,
       "version_minor": 0
      },
      "text/plain": [
       "Validation: |          | 0/? [00:00<?, ?it/s]"
      ]
     },
     "metadata": {},
     "output_type": "display_data"
    },
    {
     "data": {
      "application/vnd.jupyter.widget-view+json": {
       "model_id": "9e8658f436d34ce4bd7debfc7732a0b7",
       "version_major": 2,
       "version_minor": 0
      },
      "text/plain": [
       "Validation: |          | 0/? [00:00<?, ?it/s]"
      ]
     },
     "metadata": {},
     "output_type": "display_data"
    },
    {
     "data": {
      "application/vnd.jupyter.widget-view+json": {
       "model_id": "4e94e333ffde422eb6bb380cd0de0f4b",
       "version_major": 2,
       "version_minor": 0
      },
      "text/plain": [
       "Validation: |          | 0/? [00:00<?, ?it/s]"
      ]
     },
     "metadata": {},
     "output_type": "display_data"
    },
    {
     "data": {
      "application/vnd.jupyter.widget-view+json": {
       "model_id": "0a20419c03c54df4b75688f36174652c",
       "version_major": 2,
       "version_minor": 0
      },
      "text/plain": [
       "Validation: |          | 0/? [00:00<?, ?it/s]"
      ]
     },
     "metadata": {},
     "output_type": "display_data"
    },
    {
     "data": {
      "application/vnd.jupyter.widget-view+json": {
       "model_id": "e00149594c1649bc8b8f6c505dadf08c",
       "version_major": 2,
       "version_minor": 0
      },
      "text/plain": [
       "Validation: |          | 0/? [00:00<?, ?it/s]"
      ]
     },
     "metadata": {},
     "output_type": "display_data"
    },
    {
     "data": {
      "application/vnd.jupyter.widget-view+json": {
       "model_id": "afd3bb1a2a594ba7a07c432d21a3c6e3",
       "version_major": 2,
       "version_minor": 0
      },
      "text/plain": [
       "Validation: |          | 0/? [00:00<?, ?it/s]"
      ]
     },
     "metadata": {},
     "output_type": "display_data"
    },
    {
     "data": {
      "application/vnd.jupyter.widget-view+json": {
       "model_id": "c89984897587407d87ba07e42f63f8fa",
       "version_major": 2,
       "version_minor": 0
      },
      "text/plain": [
       "Validation: |          | 0/? [00:00<?, ?it/s]"
      ]
     },
     "metadata": {},
     "output_type": "display_data"
    },
    {
     "data": {
      "application/vnd.jupyter.widget-view+json": {
       "model_id": "bddb84df51e44fe78f06344364a355d0",
       "version_major": 2,
       "version_minor": 0
      },
      "text/plain": [
       "Validation: |          | 0/? [00:00<?, ?it/s]"
      ]
     },
     "metadata": {},
     "output_type": "display_data"
    },
    {
     "data": {
      "application/vnd.jupyter.widget-view+json": {
       "model_id": "1d45309a98ac4a77be2273e6c5ac4605",
       "version_major": 2,
       "version_minor": 0
      },
      "text/plain": [
       "Validation: |          | 0/? [00:00<?, ?it/s]"
      ]
     },
     "metadata": {},
     "output_type": "display_data"
    },
    {
     "data": {
      "application/vnd.jupyter.widget-view+json": {
       "model_id": "adc21523670543ddbfc7e4bb963518af",
       "version_major": 2,
       "version_minor": 0
      },
      "text/plain": [
       "Validation: |          | 0/? [00:00<?, ?it/s]"
      ]
     },
     "metadata": {},
     "output_type": "display_data"
    },
    {
     "data": {
      "application/vnd.jupyter.widget-view+json": {
       "model_id": "0d6521e58f44460f8e3bf83fab64f01b",
       "version_major": 2,
       "version_minor": 0
      },
      "text/plain": [
       "Validation: |          | 0/? [00:00<?, ?it/s]"
      ]
     },
     "metadata": {},
     "output_type": "display_data"
    },
    {
     "data": {
      "application/vnd.jupyter.widget-view+json": {
       "model_id": "dadd42bd8dd84e1c9ccd8f48fdc763dd",
       "version_major": 2,
       "version_minor": 0
      },
      "text/plain": [
       "Validation: |          | 0/? [00:00<?, ?it/s]"
      ]
     },
     "metadata": {},
     "output_type": "display_data"
    },
    {
     "data": {
      "application/vnd.jupyter.widget-view+json": {
       "model_id": "1e39ff67f982468581f467bb2fc7b341",
       "version_major": 2,
       "version_minor": 0
      },
      "text/plain": [
       "Validation: |          | 0/? [00:00<?, ?it/s]"
      ]
     },
     "metadata": {},
     "output_type": "display_data"
    },
    {
     "data": {
      "application/vnd.jupyter.widget-view+json": {
       "model_id": "ea5b57debb254867ab5f9ed9584785a4",
       "version_major": 2,
       "version_minor": 0
      },
      "text/plain": [
       "Validation: |          | 0/? [00:00<?, ?it/s]"
      ]
     },
     "metadata": {},
     "output_type": "display_data"
    },
    {
     "data": {
      "application/vnd.jupyter.widget-view+json": {
       "model_id": "a32bfe186b48433ea896f47028886667",
       "version_major": 2,
       "version_minor": 0
      },
      "text/plain": [
       "Validation: |          | 0/? [00:00<?, ?it/s]"
      ]
     },
     "metadata": {},
     "output_type": "display_data"
    },
    {
     "data": {
      "application/vnd.jupyter.widget-view+json": {
       "model_id": "ae68ba862e3c464d9fbdb77371fc5d5e",
       "version_major": 2,
       "version_minor": 0
      },
      "text/plain": [
       "Validation: |          | 0/? [00:00<?, ?it/s]"
      ]
     },
     "metadata": {},
     "output_type": "display_data"
    },
    {
     "data": {
      "application/vnd.jupyter.widget-view+json": {
       "model_id": "d9e4ef1383fa4ebd96f934fee476cd47",
       "version_major": 2,
       "version_minor": 0
      },
      "text/plain": [
       "Validation: |          | 0/? [00:00<?, ?it/s]"
      ]
     },
     "metadata": {},
     "output_type": "display_data"
    },
    {
     "data": {
      "application/vnd.jupyter.widget-view+json": {
       "model_id": "a631505fde6a4a80b665c9cc8e2eb8ce",
       "version_major": 2,
       "version_minor": 0
      },
      "text/plain": [
       "Validation: |          | 0/? [00:00<?, ?it/s]"
      ]
     },
     "metadata": {},
     "output_type": "display_data"
    },
    {
     "data": {
      "application/vnd.jupyter.widget-view+json": {
       "model_id": "31609e9635d14ec099d72ec75cd27f25",
       "version_major": 2,
       "version_minor": 0
      },
      "text/plain": [
       "Validation: |          | 0/? [00:00<?, ?it/s]"
      ]
     },
     "metadata": {},
     "output_type": "display_data"
    },
    {
     "data": {
      "application/vnd.jupyter.widget-view+json": {
       "model_id": "aa22c341bbec434b98c445a5b821081e",
       "version_major": 2,
       "version_minor": 0
      },
      "text/plain": [
       "Validation: |          | 0/? [00:00<?, ?it/s]"
      ]
     },
     "metadata": {},
     "output_type": "display_data"
    },
    {
     "data": {
      "application/vnd.jupyter.widget-view+json": {
       "model_id": "395119ae35a94c3cb04101829b6800a8",
       "version_major": 2,
       "version_minor": 0
      },
      "text/plain": [
       "Validation: |          | 0/? [00:00<?, ?it/s]"
      ]
     },
     "metadata": {},
     "output_type": "display_data"
    },
    {
     "data": {
      "application/vnd.jupyter.widget-view+json": {
       "model_id": "6d3adab3bed44c5bb5fe7376c63b9f54",
       "version_major": 2,
       "version_minor": 0
      },
      "text/plain": [
       "Validation: |          | 0/? [00:00<?, ?it/s]"
      ]
     },
     "metadata": {},
     "output_type": "display_data"
    },
    {
     "data": {
      "application/vnd.jupyter.widget-view+json": {
       "model_id": "52e49b0b347f44c584051ae9ea6365d6",
       "version_major": 2,
       "version_minor": 0
      },
      "text/plain": [
       "Validation: |          | 0/? [00:00<?, ?it/s]"
      ]
     },
     "metadata": {},
     "output_type": "display_data"
    },
    {
     "data": {
      "application/vnd.jupyter.widget-view+json": {
       "model_id": "8cde88917b784796ac1471522b0663b6",
       "version_major": 2,
       "version_minor": 0
      },
      "text/plain": [
       "Validation: |          | 0/? [00:00<?, ?it/s]"
      ]
     },
     "metadata": {},
     "output_type": "display_data"
    },
    {
     "data": {
      "application/vnd.jupyter.widget-view+json": {
       "model_id": "c601934520c3431481191f7a3ab14479",
       "version_major": 2,
       "version_minor": 0
      },
      "text/plain": [
       "Validation: |          | 0/? [00:00<?, ?it/s]"
      ]
     },
     "metadata": {},
     "output_type": "display_data"
    },
    {
     "data": {
      "application/vnd.jupyter.widget-view+json": {
       "model_id": "a9d3e2f321624463ae0be3f9ed988a87",
       "version_major": 2,
       "version_minor": 0
      },
      "text/plain": [
       "Validation: |          | 0/? [00:00<?, ?it/s]"
      ]
     },
     "metadata": {},
     "output_type": "display_data"
    },
    {
     "data": {
      "application/vnd.jupyter.widget-view+json": {
       "model_id": "ae56bae6650d4ccbaaf303178f0268e1",
       "version_major": 2,
       "version_minor": 0
      },
      "text/plain": [
       "Validation: |          | 0/? [00:00<?, ?it/s]"
      ]
     },
     "metadata": {},
     "output_type": "display_data"
    },
    {
     "data": {
      "application/vnd.jupyter.widget-view+json": {
       "model_id": "b0b07aed110c4de59374303ce0b6a28a",
       "version_major": 2,
       "version_minor": 0
      },
      "text/plain": [
       "Validation: |          | 0/? [00:00<?, ?it/s]"
      ]
     },
     "metadata": {},
     "output_type": "display_data"
    },
    {
     "data": {
      "application/vnd.jupyter.widget-view+json": {
       "model_id": "64226175eee94928ac489cebc271a69b",
       "version_major": 2,
       "version_minor": 0
      },
      "text/plain": [
       "Validation: |          | 0/? [00:00<?, ?it/s]"
      ]
     },
     "metadata": {},
     "output_type": "display_data"
    },
    {
     "data": {
      "application/vnd.jupyter.widget-view+json": {
       "model_id": "f02523203aca476e811177c6b924e59b",
       "version_major": 2,
       "version_minor": 0
      },
      "text/plain": [
       "Validation: |          | 0/? [00:00<?, ?it/s]"
      ]
     },
     "metadata": {},
     "output_type": "display_data"
    },
    {
     "data": {
      "application/vnd.jupyter.widget-view+json": {
       "model_id": "c6964f34e0d94b0091304033d84182e6",
       "version_major": 2,
       "version_minor": 0
      },
      "text/plain": [
       "Validation: |          | 0/? [00:00<?, ?it/s]"
      ]
     },
     "metadata": {},
     "output_type": "display_data"
    },
    {
     "data": {
      "application/vnd.jupyter.widget-view+json": {
       "model_id": "cc9cda49fa314138b587a05539466fe7",
       "version_major": 2,
       "version_minor": 0
      },
      "text/plain": [
       "Validation: |          | 0/? [00:00<?, ?it/s]"
      ]
     },
     "metadata": {},
     "output_type": "display_data"
    },
    {
     "data": {
      "application/vnd.jupyter.widget-view+json": {
       "model_id": "c0930444e80548799f14bb2e923294a4",
       "version_major": 2,
       "version_minor": 0
      },
      "text/plain": [
       "Validation: |          | 0/? [00:00<?, ?it/s]"
      ]
     },
     "metadata": {},
     "output_type": "display_data"
    },
    {
     "data": {
      "application/vnd.jupyter.widget-view+json": {
       "model_id": "2f243aeb2b984ccaa13682b0b3090412",
       "version_major": 2,
       "version_minor": 0
      },
      "text/plain": [
       "Validation: |          | 0/? [00:00<?, ?it/s]"
      ]
     },
     "metadata": {},
     "output_type": "display_data"
    },
    {
     "data": {
      "application/vnd.jupyter.widget-view+json": {
       "model_id": "f9c5f06ec16a4c20b90a5c9b1e8fe2cc",
       "version_major": 2,
       "version_minor": 0
      },
      "text/plain": [
       "Validation: |          | 0/? [00:00<?, ?it/s]"
      ]
     },
     "metadata": {},
     "output_type": "display_data"
    },
    {
     "data": {
      "application/vnd.jupyter.widget-view+json": {
       "model_id": "84718549e565483daa9737c2aa3eb617",
       "version_major": 2,
       "version_minor": 0
      },
      "text/plain": [
       "Validation: |          | 0/? [00:00<?, ?it/s]"
      ]
     },
     "metadata": {},
     "output_type": "display_data"
    },
    {
     "data": {
      "application/vnd.jupyter.widget-view+json": {
       "model_id": "cec8e865379b48879f0ac6e06b1f0f88",
       "version_major": 2,
       "version_minor": 0
      },
      "text/plain": [
       "Validation: |          | 0/? [00:00<?, ?it/s]"
      ]
     },
     "metadata": {},
     "output_type": "display_data"
    },
    {
     "data": {
      "application/vnd.jupyter.widget-view+json": {
       "model_id": "6da86ce5a8734ba88a404b5d3f787a41",
       "version_major": 2,
       "version_minor": 0
      },
      "text/plain": [
       "Validation: |          | 0/? [00:00<?, ?it/s]"
      ]
     },
     "metadata": {},
     "output_type": "display_data"
    },
    {
     "data": {
      "application/vnd.jupyter.widget-view+json": {
       "model_id": "0168ee1a0a484b29bba9e9c1b6e9385f",
       "version_major": 2,
       "version_minor": 0
      },
      "text/plain": [
       "Validation: |          | 0/? [00:00<?, ?it/s]"
      ]
     },
     "metadata": {},
     "output_type": "display_data"
    },
    {
     "data": {
      "application/vnd.jupyter.widget-view+json": {
       "model_id": "2eca365512344a9890348a1b333b9bdd",
       "version_major": 2,
       "version_minor": 0
      },
      "text/plain": [
       "Validation: |          | 0/? [00:00<?, ?it/s]"
      ]
     },
     "metadata": {},
     "output_type": "display_data"
    },
    {
     "data": {
      "application/vnd.jupyter.widget-view+json": {
       "model_id": "044d5c6e199e476ba91faa0a3474049a",
       "version_major": 2,
       "version_minor": 0
      },
      "text/plain": [
       "Validation: |          | 0/? [00:00<?, ?it/s]"
      ]
     },
     "metadata": {},
     "output_type": "display_data"
    },
    {
     "data": {
      "application/vnd.jupyter.widget-view+json": {
       "model_id": "f3e74c0b4e8a43d3869e5446fa819f0a",
       "version_major": 2,
       "version_minor": 0
      },
      "text/plain": [
       "Validation: |          | 0/? [00:00<?, ?it/s]"
      ]
     },
     "metadata": {},
     "output_type": "display_data"
    },
    {
     "data": {
      "application/vnd.jupyter.widget-view+json": {
       "model_id": "6357067bd16047049b49b427869b4a1a",
       "version_major": 2,
       "version_minor": 0
      },
      "text/plain": [
       "Validation: |          | 0/? [00:00<?, ?it/s]"
      ]
     },
     "metadata": {},
     "output_type": "display_data"
    },
    {
     "data": {
      "application/vnd.jupyter.widget-view+json": {
       "model_id": "c651bf3ade094913a428369e18fc5a91",
       "version_major": 2,
       "version_minor": 0
      },
      "text/plain": [
       "Validation: |          | 0/? [00:00<?, ?it/s]"
      ]
     },
     "metadata": {},
     "output_type": "display_data"
    },
    {
     "data": {
      "application/vnd.jupyter.widget-view+json": {
       "model_id": "4819f4654add4e07b7e432c1b1833b10",
       "version_major": 2,
       "version_minor": 0
      },
      "text/plain": [
       "Validation: |          | 0/? [00:00<?, ?it/s]"
      ]
     },
     "metadata": {},
     "output_type": "display_data"
    },
    {
     "data": {
      "application/vnd.jupyter.widget-view+json": {
       "model_id": "f33b9e7133df435fab587295f1c75ecd",
       "version_major": 2,
       "version_minor": 0
      },
      "text/plain": [
       "Validation: |          | 0/? [00:00<?, ?it/s]"
      ]
     },
     "metadata": {},
     "output_type": "display_data"
    },
    {
     "data": {
      "application/vnd.jupyter.widget-view+json": {
       "model_id": "a3b1f0bcccdc4dce9f7e31b4ef59caae",
       "version_major": 2,
       "version_minor": 0
      },
      "text/plain": [
       "Validation: |          | 0/? [00:00<?, ?it/s]"
      ]
     },
     "metadata": {},
     "output_type": "display_data"
    },
    {
     "data": {
      "application/vnd.jupyter.widget-view+json": {
       "model_id": "8055828d89fa41db91697e1bf9aae4a8",
       "version_major": 2,
       "version_minor": 0
      },
      "text/plain": [
       "Validation: |          | 0/? [00:00<?, ?it/s]"
      ]
     },
     "metadata": {},
     "output_type": "display_data"
    },
    {
     "data": {
      "application/vnd.jupyter.widget-view+json": {
       "model_id": "2e7f47283d9e4218a8566c527d1ef846",
       "version_major": 2,
       "version_minor": 0
      },
      "text/plain": [
       "Validation: |          | 0/? [00:00<?, ?it/s]"
      ]
     },
     "metadata": {},
     "output_type": "display_data"
    },
    {
     "data": {
      "application/vnd.jupyter.widget-view+json": {
       "model_id": "9a3ed9b5b84c4b889920157b8d3585c5",
       "version_major": 2,
       "version_minor": 0
      },
      "text/plain": [
       "Validation: |          | 0/? [00:00<?, ?it/s]"
      ]
     },
     "metadata": {},
     "output_type": "display_data"
    },
    {
     "data": {
      "application/vnd.jupyter.widget-view+json": {
       "model_id": "a528124f7eac48fe97cde16c804be4c8",
       "version_major": 2,
       "version_minor": 0
      },
      "text/plain": [
       "Validation: |          | 0/? [00:00<?, ?it/s]"
      ]
     },
     "metadata": {},
     "output_type": "display_data"
    },
    {
     "data": {
      "application/vnd.jupyter.widget-view+json": {
       "model_id": "2a0eb092df494b529ce2fe0e164a233b",
       "version_major": 2,
       "version_minor": 0
      },
      "text/plain": [
       "Validation: |          | 0/? [00:00<?, ?it/s]"
      ]
     },
     "metadata": {},
     "output_type": "display_data"
    },
    {
     "data": {
      "application/vnd.jupyter.widget-view+json": {
       "model_id": "8f5eef586a65452a90b9f660ecf620c7",
       "version_major": 2,
       "version_minor": 0
      },
      "text/plain": [
       "Validation: |          | 0/? [00:00<?, ?it/s]"
      ]
     },
     "metadata": {},
     "output_type": "display_data"
    },
    {
     "data": {
      "application/vnd.jupyter.widget-view+json": {
       "model_id": "3f689dc8ca3648a3a0082dab4a276050",
       "version_major": 2,
       "version_minor": 0
      },
      "text/plain": [
       "Validation: |          | 0/? [00:00<?, ?it/s]"
      ]
     },
     "metadata": {},
     "output_type": "display_data"
    },
    {
     "data": {
      "application/vnd.jupyter.widget-view+json": {
       "model_id": "a72f37898b5644fc84ffb42c4a25345d",
       "version_major": 2,
       "version_minor": 0
      },
      "text/plain": [
       "Validation: |          | 0/? [00:00<?, ?it/s]"
      ]
     },
     "metadata": {},
     "output_type": "display_data"
    },
    {
     "data": {
      "application/vnd.jupyter.widget-view+json": {
       "model_id": "6fca9a491c484dcba49b3791e8f932ba",
       "version_major": 2,
       "version_minor": 0
      },
      "text/plain": [
       "Validation: |          | 0/? [00:00<?, ?it/s]"
      ]
     },
     "metadata": {},
     "output_type": "display_data"
    },
    {
     "data": {
      "application/vnd.jupyter.widget-view+json": {
       "model_id": "6e897c17202240749203264f60e145a1",
       "version_major": 2,
       "version_minor": 0
      },
      "text/plain": [
       "Validation: |          | 0/? [00:00<?, ?it/s]"
      ]
     },
     "metadata": {},
     "output_type": "display_data"
    },
    {
     "data": {
      "application/vnd.jupyter.widget-view+json": {
       "model_id": "b98b0aa0b9ba4c3bb9c001aaaaacc8fd",
       "version_major": 2,
       "version_minor": 0
      },
      "text/plain": [
       "Validation: |          | 0/? [00:00<?, ?it/s]"
      ]
     },
     "metadata": {},
     "output_type": "display_data"
    },
    {
     "name": "stderr",
     "output_type": "stream",
     "text": [
      "`Trainer.fit` stopped: `max_epochs=60` reached.\n"
     ]
    }
   ],
   "source": [
    "n_epochs = args.n_epochs\n",
    "\n",
    "# run = wandb.init(project=wandb_project, group=group_name, name=run_name,\n",
    "    # config={'group': group_name, **model_args})\n",
    "\n",
    "# wandb_logger = WandbLogger(experiment=run, log_model=False) # name=run_name, project=wandb_project,\n",
    "# wandb_logger.watch(model, log_graph=False)\n",
    "wandb_logger = None\n",
    "callbacks = [\n",
    "    L.pytorch.callbacks.TQDMProgressBar(refresh_rate=50)\n",
    "    # L.pytorch.callbacks.RichProgressBar()\n",
    "]\n",
    "trainer = L.Trainer(\n",
    "    max_epochs=n_epochs, enable_checkpointing=False, enable_model_summary=True, #precision='64-true',\n",
    "    callbacks=callbacks, enable_progress_bar=True, check_val_every_n_epoch=1, # limit_train_batches=200, limit_val_batches=200,\n",
    "    logger=False\n",
    "    )\n",
    "trainer.fit(model=lit_model, train_dataloaders=train_dl, val_dataloaders=val_dl)"
   ]
  },
  {
   "cell_type": "code",
   "execution_count": 37,
   "metadata": {},
   "outputs": [
    {
     "name": "stderr",
     "output_type": "stream",
     "text": [
      "LOCAL_RANK: 0 - CUDA_VISIBLE_DEVICES: [0]\n",
      "/home/awni/miniconda3/envs/abstract_transformer/lib/python3.11/site-packages/lightning/pytorch/trainer/connectors/data_connector.py:492: Your `test_dataloader`'s sampler has shuffling enabled, it is strongly recommended that you turn shuffling off for val/test dataloaders.\n",
      "/home/awni/miniconda3/envs/abstract_transformer/lib/python3.11/site-packages/lightning/pytorch/trainer/connectors/data_connector.py:441: The 'test_dataloader' does not have many workers which may be a bottleneck. Consider increasing the value of the `num_workers` argument` to `num_workers=19` in the `DataLoader` to improve performance.\n"
     ]
    },
    {
     "data": {
      "application/vnd.jupyter.widget-view+json": {
       "model_id": "6ba97311e9f04c97a9cdf850e6e855d2",
       "version_major": 2,
       "version_minor": 0
      },
      "text/plain": [
       "Testing: |          | 0/? [00:00<?, ?it/s]"
      ]
     },
     "metadata": {},
     "output_type": "display_data"
    },
    {
     "name": "stderr",
     "output_type": "stream",
     "text": [
      "/home/awni/miniconda3/envs/abstract_transformer/lib/python3.11/site-packages/lightning/pytorch/core/module.py:507: You called `self.log('test_loss', ..., logger=True)` but have no logger configured. You can enable one by doing `Trainer(logger=ALogger(...))`\n",
      "/home/awni/miniconda3/envs/abstract_transformer/lib/python3.11/site-packages/lightning/pytorch/core/module.py:507: You called `self.log('test_perplexity', ..., logger=True)` but have no logger configured. You can enable one by doing `Trainer(logger=ALogger(...))`\n"
     ]
    },
    {
     "data": {
      "text/html": [
       "<pre style=\"white-space:pre;overflow-x:auto;line-height:normal;font-family:Menlo,'DejaVu Sans Mono',consolas,'Courier New',monospace\">┏━━━━━━━━━━━━━━━━━━━━━━━━━━━━━┳━━━━━━━━━━━━━━━━━━━━━━━━━━━━━┓\n",
       "┃<span style=\"font-weight: bold\">         Test metric         </span>┃<span style=\"font-weight: bold\">        DataLoader 0         </span>┃\n",
       "┡━━━━━━━━━━━━━━━━━━━━━━━━━━━━━╇━━━━━━━━━━━━━━━━━━━━━━━━━━━━━┩\n",
       "│<span style=\"color: #008080; text-decoration-color: #008080\">          test_loss          </span>│<span style=\"color: #800080; text-decoration-color: #800080\">    0.0013367368374019861    </span>│\n",
       "│<span style=\"color: #008080; text-decoration-color: #008080\"> test_per_pos_acc_mean_epoch </span>│<span style=\"color: #800080; text-decoration-color: #800080\">             1.0             </span>│\n",
       "│<span style=\"color: #008080; text-decoration-color: #008080\">       test_perplexity       </span>│<span style=\"color: #800080; text-decoration-color: #800080\">     1.0013376474380493      </span>│\n",
       "│<span style=\"color: #008080; text-decoration-color: #008080\">     test_seq_acc_epoch      </span>│<span style=\"color: #800080; text-decoration-color: #800080\">             1.0             </span>│\n",
       "└─────────────────────────────┴─────────────────────────────┘\n",
       "</pre>\n"
      ],
      "text/plain": [
       "┏━━━━━━━━━━━━━━━━━━━━━━━━━━━━━┳━━━━━━━━━━━━━━━━━━━━━━━━━━━━━┓\n",
       "┃\u001b[1m \u001b[0m\u001b[1m        Test metric        \u001b[0m\u001b[1m \u001b[0m┃\u001b[1m \u001b[0m\u001b[1m       DataLoader 0        \u001b[0m\u001b[1m \u001b[0m┃\n",
       "┡━━━━━━━━━━━━━━━━━━━━━━━━━━━━━╇━━━━━━━━━━━━━━━━━━━━━━━━━━━━━┩\n",
       "│\u001b[36m \u001b[0m\u001b[36m         test_loss         \u001b[0m\u001b[36m \u001b[0m│\u001b[35m \u001b[0m\u001b[35m   0.0013367368374019861   \u001b[0m\u001b[35m \u001b[0m│\n",
       "│\u001b[36m \u001b[0m\u001b[36mtest_per_pos_acc_mean_epoch\u001b[0m\u001b[36m \u001b[0m│\u001b[35m \u001b[0m\u001b[35m            1.0            \u001b[0m\u001b[35m \u001b[0m│\n",
       "│\u001b[36m \u001b[0m\u001b[36m      test_perplexity      \u001b[0m\u001b[36m \u001b[0m│\u001b[35m \u001b[0m\u001b[35m    1.0013376474380493     \u001b[0m\u001b[35m \u001b[0m│\n",
       "│\u001b[36m \u001b[0m\u001b[36m    test_seq_acc_epoch     \u001b[0m\u001b[36m \u001b[0m│\u001b[35m \u001b[0m\u001b[35m            1.0            \u001b[0m\u001b[35m \u001b[0m│\n",
       "└─────────────────────────────┴─────────────────────────────┘\n"
      ]
     },
     "metadata": {},
     "output_type": "display_data"
    },
    {
     "data": {
      "image/png": "[encoded data removed]",
      "text/plain": [
       "<Figure size 640x480 with 1 Axes>"
      ]
     },
     "metadata": {},
     "output_type": "display_data"
    },
    {
     "name": "stderr",
     "output_type": "stream",
     "text": [
      "LOCAL_RANK: 0 - CUDA_VISIBLE_DEVICES: [0]\n"
     ]
    },
    {
     "data": {
      "application/vnd.jupyter.widget-view+json": {
       "model_id": "7257dd875b574543b16af3a22acc02ec",
       "version_major": 2,
       "version_minor": 0
      },
      "text/plain": [
       "Testing: |          | 0/? [00:00<?, ?it/s]"
      ]
     },
     "metadata": {},
     "output_type": "display_data"
    },
    {
     "data": {
      "text/html": [
       "<pre style=\"white-space:pre;overflow-x:auto;line-height:normal;font-family:Menlo,'DejaVu Sans Mono',consolas,'Courier New',monospace\">┏━━━━━━━━━━━━━━━━━━━━━━━━━━━━━┳━━━━━━━━━━━━━━━━━━━━━━━━━━━━━┓\n",
       "┃<span style=\"font-weight: bold\">         Test metric         </span>┃<span style=\"font-weight: bold\">        DataLoader 0         </span>┃\n",
       "┡━━━━━━━━━━━━━━━━━━━━━━━━━━━━━╇━━━━━━━━━━━━━━━━━━━━━━━━━━━━━┩\n",
       "│<span style=\"color: #008080; text-decoration-color: #008080\">          test_loss          </span>│<span style=\"color: #800080; text-decoration-color: #800080\">      3.946735382080078      </span>│\n",
       "│<span style=\"color: #008080; text-decoration-color: #008080\"> test_per_pos_acc_mean_epoch </span>│<span style=\"color: #800080; text-decoration-color: #800080\">      0.699999988079071      </span>│\n",
       "│<span style=\"color: #008080; text-decoration-color: #008080\">       test_perplexity       </span>│<span style=\"color: #800080; text-decoration-color: #800080\">     51.793338775634766      </span>│\n",
       "│<span style=\"color: #008080; text-decoration-color: #008080\">     test_seq_acc_epoch      </span>│<span style=\"color: #800080; text-decoration-color: #800080\">             0.0             </span>│\n",
       "└─────────────────────────────┴─────────────────────────────┘\n",
       "</pre>\n"
      ],
      "text/plain": [
       "┏━━━━━━━━━━━━━━━━━━━━━━━━━━━━━┳━━━━━━━━━━━━━━━━━━━━━━━━━━━━━┓\n",
       "┃\u001b[1m \u001b[0m\u001b[1m        Test metric        \u001b[0m\u001b[1m \u001b[0m┃\u001b[1m \u001b[0m\u001b[1m       DataLoader 0        \u001b[0m\u001b[1m \u001b[0m┃\n",
       "┡━━━━━━━━━━━━━━━━━━━━━━━━━━━━━╇━━━━━━━━━━━━━━━━━━━━━━━━━━━━━┩\n",
       "│\u001b[36m \u001b[0m\u001b[36m         test_loss         \u001b[0m\u001b[36m \u001b[0m│\u001b[35m \u001b[0m\u001b[35m     3.946735382080078     \u001b[0m\u001b[35m \u001b[0m│\n",
       "│\u001b[36m \u001b[0m\u001b[36mtest_per_pos_acc_mean_epoch\u001b[0m\u001b[36m \u001b[0m│\u001b[35m \u001b[0m\u001b[35m     0.699999988079071     \u001b[0m\u001b[35m \u001b[0m│\n",
       "│\u001b[36m \u001b[0m\u001b[36m      test_perplexity      \u001b[0m\u001b[36m \u001b[0m│\u001b[35m \u001b[0m\u001b[35m    51.793338775634766     \u001b[0m\u001b[35m \u001b[0m│\n",
       "│\u001b[36m \u001b[0m\u001b[36m    test_seq_acc_epoch     \u001b[0m\u001b[36m \u001b[0m│\u001b[35m \u001b[0m\u001b[35m            0.0            \u001b[0m\u001b[35m \u001b[0m│\n",
       "└─────────────────────────────┴─────────────────────────────┘\n"
      ]
     },
     "metadata": {},
     "output_type": "display_data"
    },
    {
     "data": {
      "image/png": "[encoded data removed]",
      "text/plain": [
       "<Figure size 640x480 with 1 Axes>"
      ]
     },
     "metadata": {},
     "output_type": "display_data"
    }
   ],
   "source": [
    "# model performance on the training set\n",
    "trainer.test(model=lit_model, dataloaders=train_dl)\n",
    "plt.show()\n",
    "# model performance on the validation set\n",
    "trainer.test(model=lit_model, dataloaders=val_dl)\n",
    "plt.show()\n"
   ]
  },
  {
   "cell_type": "markdown",
   "metadata": {},
   "source": [
    "## Test on counterfactual context"
   ]
  },
  {
   "cell_type": "code",
   "execution_count": 454,
   "metadata": {},
   "outputs": [
    {
     "data": {
      "application/vnd.jupyter.widget-view+json": {
       "model_id": "43bba2ccaf9a4b6c935780a9135ada87",
       "version_major": 2,
       "version_minor": 0
      },
      "text/plain": [
       "Testing: |          | 0/? [00:00<?, ?it/s]"
      ]
     },
     "metadata": {},
     "output_type": "display_data"
    },
    {
     "data": {
      "text/html": [
       "<pre style=\"white-space:pre;overflow-x:auto;line-height:normal;font-family:Menlo,'DejaVu Sans Mono',consolas,'Courier New',monospace\">┏━━━━━━━━━━━━━━━━━━━━━━━━━━━━━┳━━━━━━━━━━━━━━━━━━━━━━━━━━━━━┓\n",
       "┃<span style=\"font-weight: bold\">         Test metric         </span>┃<span style=\"font-weight: bold\">        DataLoader 0         </span>┃\n",
       "┡━━━━━━━━━━━━━━━━━━━━━━━━━━━━━╇━━━━━━━━━━━━━━━━━━━━━━━━━━━━━┩\n",
       "│<span style=\"color: #008080; text-decoration-color: #008080\">          test_loss          </span>│<span style=\"color: #800080; text-decoration-color: #800080\">     3.6088643074035645      </span>│\n",
       "│<span style=\"color: #008080; text-decoration-color: #008080\"> test_per_pos_acc_mean_epoch </span>│<span style=\"color: #800080; text-decoration-color: #800080\">     0.7120000123977661      </span>│\n",
       "│<span style=\"color: #008080; text-decoration-color: #008080\">       test_perplexity       </span>│<span style=\"color: #800080; text-decoration-color: #800080\">     36.924102783203125      </span>│\n",
       "│<span style=\"color: #008080; text-decoration-color: #008080\">     test_seq_acc_epoch      </span>│<span style=\"color: #800080; text-decoration-color: #800080\">    0.019999999552965164     </span>│\n",
       "└─────────────────────────────┴─────────────────────────────┘\n",
       "</pre>\n"
      ],
      "text/plain": [
       "┏━━━━━━━━━━━━━━━━━━━━━━━━━━━━━┳━━━━━━━━━━━━━━━━━━━━━━━━━━━━━┓\n",
       "┃\u001b[1m \u001b[0m\u001b[1m        Test metric        \u001b[0m\u001b[1m \u001b[0m┃\u001b[1m \u001b[0m\u001b[1m       DataLoader 0        \u001b[0m\u001b[1m \u001b[0m┃\n",
       "┡━━━━━━━━━━━━━━━━━━━━━━━━━━━━━╇━━━━━━━━━━━━━━━━━━━━━━━━━━━━━┩\n",
       "│\u001b[36m \u001b[0m\u001b[36m         test_loss         \u001b[0m\u001b[36m \u001b[0m│\u001b[35m \u001b[0m\u001b[35m    3.6088643074035645     \u001b[0m\u001b[35m \u001b[0m│\n",
       "│\u001b[36m \u001b[0m\u001b[36mtest_per_pos_acc_mean_epoch\u001b[0m\u001b[36m \u001b[0m│\u001b[35m \u001b[0m\u001b[35m    0.7120000123977661     \u001b[0m\u001b[35m \u001b[0m│\n",
       "│\u001b[36m \u001b[0m\u001b[36m      test_perplexity      \u001b[0m\u001b[36m \u001b[0m│\u001b[35m \u001b[0m\u001b[35m    36.924102783203125     \u001b[0m\u001b[35m \u001b[0m│\n",
       "│\u001b[36m \u001b[0m\u001b[36m    test_seq_acc_epoch     \u001b[0m\u001b[36m \u001b[0m│\u001b[35m \u001b[0m\u001b[35m   0.019999999552965164    \u001b[0m\u001b[35m \u001b[0m│\n",
       "└─────────────────────────────┴─────────────────────────────┘\n"
      ]
     },
     "metadata": {},
     "output_type": "display_data"
    },
    {
     "data": {
      "image/png": "[encoded data removed]",
      "text/plain": [
       "<Figure size 640x480 with 1 Axes>"
      ]
     },
     "metadata": {},
     "output_type": "display_data"
    },
    {
     "name": "stdout",
     "output_type": "stream",
     "text": [
      "Input: aaren has last name fiorella [sep] aaren has last name\n",
      "Predicted: has last name silsbee [sep] alida has last name silsbee\n",
      "Target: has last name fiorella [sep] aaren has last name fiorella\n",
      "Pretrained Knowledge:\n",
      "aaren has last name silsbee\n",
      "alida has last name fiorella \n",
      "\n",
      "Input: aarika has last name kram [sep] aarika has last name\n",
      "Predicted: has last name wemark [sep] abagail has last name wemark\n",
      "Target: has last name kram [sep] aarika has last name kram\n",
      "Pretrained Knowledge:\n",
      "aarika has last name wemark\n",
      "abagail has last name kram \n",
      "\n",
      "Input: abagael has last name barlup [sep] abagael has last name\n",
      "Predicted: has last name hubl [sep] alvina has last name hubl\n",
      "Target: has last name barlup [sep] abagael has last name barlup\n",
      "Pretrained Knowledge:\n",
      "abagael has last name hubl\n",
      "alvina has last name barlup \n",
      "\n",
      "Input: abagail has last name mabery [sep] abagail has last name\n",
      "Predicted: has last name kram [sep] abigail has last name kram\n",
      "Target: has last name mabery [sep] abagail has last name mabery\n",
      "Pretrained Knowledge:\n",
      "abagail has last name kram\n",
      "alta has last name mabery \n",
      "\n",
      "Input: abbe has last name yonek [sep] abbe has last name\n",
      "Predicted: has last name hoffpavir [sep] aile has last name hoffpavir\n",
      "Target: has last name yonek [sep] abbe has last name yonek\n",
      "Pretrained Knowledge:\n",
      "abbe has last name hoffpavir\n",
      "aile has last name yonek \n",
      "\n"
     ]
    }
   ],
   "source": [
    "def decode_sequence(sequence, reverse_vocab_map):\n",
    "    \"\"\"Decode a sequence of IDs back to words using the reverse vocabulary map.\"\"\"\n",
    "    return ' '.join([reverse_vocab_map.get(token_id, '[UNK]') for token_id in sequence])\n",
    "\n",
    "\n",
    "def mismatch_seq_print(mismatch, reverse_vocab_map):\n",
    "    for mismatch in lit_model.mismatched_sequences[:5]:\n",
    "        input_seq = decode_sequence(mismatch['input'], reverse_vocab_map)\n",
    "        predicted_seq = decode_sequence(mismatch['predicted'], reverse_vocab_map)\n",
    "        target_seq = decode_sequence(mismatch['target'], reverse_vocab_map)\n",
    "        first_name = input_seq.split(' ')[0]\n",
    "        last_name = target_seq.split(' ')[-1]\n",
    "        # find last name of first name in training data\n",
    "        # Capitalize the first character of the first name\n",
    "        trained_last_name = last_names[first_names.index(first_name.capitalize())]\n",
    "        trained_first_name = first_names[last_names.index(last_name.upper())]\n",
    "        \n",
    "        print(f\"Input: {input_seq}\")\n",
    "        print(f\"Predicted: {predicted_seq}\")\n",
    "        print(f\"Target: {target_seq}\")\n",
    "        print(\"Pretrained Knowledge:\")\n",
    "        print(f\"{first_name} has last name {trained_last_name.lower()}\")\n",
    "        print(f\"{trained_first_name.lower()} has last name {last_name} \\n\")\n",
    "\n",
    "lit_model.mismatched_sequences.clear()\n",
    "reverse_vocab_map = {i: word for word, i in vocab_map.items()}\n",
    "# test the model on the test set\n",
    "trainer.test(model=lit_model, dataloaders=test_dl_counterfactual)\n",
    "plt.show()\n",
    "mismatch_seq_print(lit_model.mismatched_sequences, reverse_vocab_map)"
   ]
  },
  {
   "cell_type": "markdown",
   "metadata": {},
   "source": [
    "## Test on irrelevant counterfactual context (both first and last name changed in context)"
   ]
  },
  {
   "cell_type": "code",
   "execution_count": 457,
   "metadata": {},
   "outputs": [
    {
     "data": {
      "application/vnd.jupyter.widget-view+json": {
       "model_id": "71accd549dde47ecbcb24d005674cbb3",
       "version_major": 2,
       "version_minor": 0
      },
      "text/plain": [
       "Testing: |          | 0/? [00:00<?, ?it/s]"
      ]
     },
     "metadata": {},
     "output_type": "display_data"
    },
    {
     "data": {
      "text/html": [
       "<pre style=\"white-space:pre;overflow-x:auto;line-height:normal;font-family:Menlo,'DejaVu Sans Mono',consolas,'Courier New',monospace\">┏━━━━━━━━━━━━━━━━━━━━━━━━━━━━━┳━━━━━━━━━━━━━━━━━━━━━━━━━━━━━┓\n",
       "┃<span style=\"font-weight: bold\">         Test metric         </span>┃<span style=\"font-weight: bold\">        DataLoader 0         </span>┃\n",
       "┡━━━━━━━━━━━━━━━━━━━━━━━━━━━━━╇━━━━━━━━━━━━━━━━━━━━━━━━━━━━━┩\n",
       "│<span style=\"color: #008080; text-decoration-color: #008080\">          test_loss          </span>│<span style=\"color: #800080; text-decoration-color: #800080\">     3.7548627853393555      </span>│\n",
       "│<span style=\"color: #008080; text-decoration-color: #008080\"> test_per_pos_acc_mean_epoch </span>│<span style=\"color: #800080; text-decoration-color: #800080\">      0.699999988079071      </span>│\n",
       "│<span style=\"color: #008080; text-decoration-color: #008080\">       test_perplexity       </span>│<span style=\"color: #800080; text-decoration-color: #800080\">      42.72834777832031      </span>│\n",
       "│<span style=\"color: #008080; text-decoration-color: #008080\">     test_seq_acc_epoch      </span>│<span style=\"color: #800080; text-decoration-color: #800080\">             0.0             </span>│\n",
       "└─────────────────────────────┴─────────────────────────────┘\n",
       "</pre>\n"
      ],
      "text/plain": [
       "┏━━━━━━━━━━━━━━━━━━━━━━━━━━━━━┳━━━━━━━━━━━━━━━━━━━━━━━━━━━━━┓\n",
       "┃\u001b[1m \u001b[0m\u001b[1m        Test metric        \u001b[0m\u001b[1m \u001b[0m┃\u001b[1m \u001b[0m\u001b[1m       DataLoader 0        \u001b[0m\u001b[1m \u001b[0m┃\n",
       "┡━━━━━━━━━━━━━━━━━━━━━━━━━━━━━╇━━━━━━━━━━━━━━━━━━━━━━━━━━━━━┩\n",
       "│\u001b[36m \u001b[0m\u001b[36m         test_loss         \u001b[0m\u001b[36m \u001b[0m│\u001b[35m \u001b[0m\u001b[35m    3.7548627853393555     \u001b[0m\u001b[35m \u001b[0m│\n",
       "│\u001b[36m \u001b[0m\u001b[36mtest_per_pos_acc_mean_epoch\u001b[0m\u001b[36m \u001b[0m│\u001b[35m \u001b[0m\u001b[35m     0.699999988079071     \u001b[0m\u001b[35m \u001b[0m│\n",
       "│\u001b[36m \u001b[0m\u001b[36m      test_perplexity      \u001b[0m\u001b[36m \u001b[0m│\u001b[35m \u001b[0m\u001b[35m     42.72834777832031     \u001b[0m\u001b[35m \u001b[0m│\n",
       "│\u001b[36m \u001b[0m\u001b[36m    test_seq_acc_epoch     \u001b[0m\u001b[36m \u001b[0m│\u001b[35m \u001b[0m\u001b[35m            0.0            \u001b[0m\u001b[35m \u001b[0m│\n",
       "└─────────────────────────────┴─────────────────────────────┘\n"
      ]
     },
     "metadata": {},
     "output_type": "display_data"
    },
    {
     "data": {
      "image/png": "[encoded data removed]",
      "text/plain": [
       "<Figure size 640x480 with 1 Axes>"
      ]
     },
     "metadata": {},
     "output_type": "display_data"
    },
    {
     "name": "stdout",
     "output_type": "stream",
     "text": [
      "Input: ailsun has last name fenniwald [sep] aaren has last name\n",
      "Predicted: has last name gnatek [sep] allix has last name gnatek\n",
      "Target: has last name fenniwald [sep] aaren has last name silsbee\n",
      "Pretrained Knowledge:\n",
      "ailsun has last name gnatek\n",
      "fenniwald has first name allix\n",
      "allix has last name fenniwald \n",
      "\n",
      "Input: adel has last name piche [sep] aarika has last name\n",
      "Predicted: has last name castillio [sep] adria has last name castillio\n",
      "Target: has last name piche [sep] aarika has last name wemark\n",
      "Pretrained Knowledge:\n",
      "adel has last name castillio\n",
      "piche has first name adelind\n",
      "adria has last name veitenheimer \n",
      "\n",
      "Input: adelaide has last name sostre [sep] abagael has last name\n",
      "Predicted: has last name alldredge [sep] aime has last name alldredge\n",
      "Target: has last name sostre [sep] abagael has last name hubl\n",
      "Pretrained Knowledge:\n",
      "adelaide has last name alldredge\n",
      "sostre has first name aime\n",
      "aime has last name sostre \n",
      "\n",
      "Input: adey has last name raiche [sep] abagail has last name\n",
      "Predicted: has last name vidulich [sep] agnesse has last name vidulich\n",
      "Target: has last name raiche [sep] abagail has last name kram\n",
      "Pretrained Knowledge:\n",
      "adey has last name vidulich\n",
      "raiche has first name agnesse\n",
      "agnesse has last name raiche \n",
      "\n",
      "Input: agatha has last name dacquel [sep] abbe has last name\n",
      "Predicted: has last name smaldone [sep] allene has last name smaldone\n",
      "Target: has last name dacquel [sep] abbe has last name hoffpavir\n",
      "Pretrained Knowledge:\n",
      "agatha has last name smaldone\n",
      "dacquel has first name allene\n",
      "allene has last name dacquel \n",
      "\n"
     ]
    }
   ],
   "source": [
    "\n",
    "def mismatch_seq_print_irrelevant(mismatch, reverse_vocab_map):\n",
    "    \n",
    "    for mismatch in lit_model.mismatched_sequences[:5]:\n",
    "        input_seq = decode_sequence(mismatch['input'], reverse_vocab_map)\n",
    "        predicted_seq = decode_sequence(mismatch['predicted'], reverse_vocab_map)\n",
    "        target_seq = decode_sequence(mismatch['target'], reverse_vocab_map)\n",
    "        first_name_ctx = input_seq.split(' ')[0]\n",
    "        last_name_ctx = input_seq.split(\" [sep] \")[0].split(' ')[-1]\n",
    "        first_name_pred = predicted_seq.split(' [sep] ')[1].split(' ')[0]\n",
    "        # find last name of first name in training data\n",
    "        # Capitalize the first character of the first name\n",
    "        trained_last_name = last_names[first_names.index(first_name_ctx.capitalize())]\n",
    "        context_last_to_first_name = first_names[last_names.index(last_name_ctx.upper())]\n",
    "        first_name_pred_last_name = last_names[first_names.index(first_name_pred.capitalize())]\n",
    "        print(f\"Input: {input_seq}\")\n",
    "        print(f\"Predicted: {predicted_seq}\")\n",
    "        print(f\"Target: {target_seq}\")\n",
    "        print(\"Pretrained Knowledge:\")\n",
    "        print(f\"{first_name_ctx} has last name {trained_last_name.lower()}\")\n",
    "        print(f\"{last_name_ctx} has first name {context_last_to_first_name.lower()}\")\n",
    "        print(f\"{first_name_pred} has last name {first_name_pred_last_name.lower()} \\n\")\n",
    "\n",
    "\n",
    "# test the model on the test set\n",
    "lit_model.mismatched_sequences.clear()\n",
    "\n",
    "trainer.test(model=lit_model, dataloaders=test_dl_counterfactual_irrelevant)\n",
    "plt.show()\n",
    "mismatch_seq_print_irrelevant(lit_model.mismatched_sequences, reverse_vocab_map)"
   ]
  },
  {
   "cell_type": "markdown",
   "metadata": {},
   "source": [
    "## Test on empty context"
   ]
  },
  {
   "cell_type": "code",
   "execution_count": 462,
   "metadata": {},
   "outputs": [
    {
     "name": "stdout",
     "output_type": "stream",
     "text": [
      "[' [SEP] Aaren has last name SILSBEE', ' [SEP] Aarika has last name WEMARK', ' [SEP] Abagael has last name HUBL', ' [SEP] Abagail has last name KRAM', ' [SEP] Abbe has last name HOFFPAVIR']\n"
     ]
    },
    {
     "name": "stderr",
     "output_type": "stream",
     "text": [
      "100%|██████████| 200/200 [00:00<00:00, 438505.38it/s]\n",
      "100%|██████████| 200/200 [00:00<00:00, 58004.48it/s]\n"
     ]
    }
   ],
   "source": [
    "test_data_empty_ctx = [f' [SEP] {sentence}' for sentence in data]\n",
    "print(test_data_empty_ctx[:5])\n",
    "\n",
    "tokenized_data = [sentence.strip().lower().split(' ') for sentence in tqdm(test_data_empty_ctx)]\n",
    "\n",
    "integer_ids = [torch.tensor([vocab_map.get(token, vocab_map['[UNK]']) for token in tokens]) for tokens in tqdm(tokenized_data)]\n",
    "integer_ids = torch.tensor(np.array(integer_ids))\n",
    "\n",
    "\n",
    "# create dataset and dataloader\n",
    "x = integer_ids[:, :-1]\n",
    "y = integer_ids[:, 1:]\n",
    "test_dataset_empty_ctx = torch.utils.data.TensorDataset(x, y)\n",
    "test_dataset_empty_ctx = test_dataset_empty_ctx[:100] # NOTE: smaller dataset for testing\n",
    "test_dl_empty_ctx = torch.utils.data.DataLoader(test_dataset_empty_ctx, batch_size=args.batch_size, shuffle=False)\n",
    "\n",
    "\n"
   ]
  },
  {
   "cell_type": "code",
   "execution_count": 459,
   "metadata": {},
   "outputs": [
    {
     "data": {
      "application/vnd.jupyter.widget-view+json": {
       "model_id": "995da8ce1b834ac3a577ab3d30f19a6f",
       "version_major": 2,
       "version_minor": 0
      },
      "text/plain": [
       "Testing: |          | 0/? [00:00<?, ?it/s]"
      ]
     },
     "metadata": {},
     "output_type": "display_data"
    },
    {
     "data": {
      "text/html": [
       "<pre style=\"white-space:pre;overflow-x:auto;line-height:normal;font-family:Menlo,'DejaVu Sans Mono',consolas,'Courier New',monospace\">┏━━━━━━━━━━━━━━━━━━━━━━━━━━━━━┳━━━━━━━━━━━━━━━━━━━━━━━━━━━━━┓\n",
       "┃<span style=\"font-weight: bold\">         Test metric         </span>┃<span style=\"font-weight: bold\">        DataLoader 0         </span>┃\n",
       "┡━━━━━━━━━━━━━━━━━━━━━━━━━━━━━╇━━━━━━━━━━━━━━━━━━━━━━━━━━━━━┩\n",
       "│<span style=\"color: #008080; text-decoration-color: #008080\">          test_loss          </span>│<span style=\"color: #800080; text-decoration-color: #800080\">    0.002110459841787815     </span>│\n",
       "│<span style=\"color: #008080; text-decoration-color: #008080\"> test_per_pos_acc_mean_epoch </span>│<span style=\"color: #800080; text-decoration-color: #800080\">             1.0             </span>│\n",
       "│<span style=\"color: #008080; text-decoration-color: #008080\">       test_perplexity       </span>│<span style=\"color: #800080; text-decoration-color: #800080\">     1.0021127462387085      </span>│\n",
       "│<span style=\"color: #008080; text-decoration-color: #008080\">     test_seq_acc_epoch      </span>│<span style=\"color: #800080; text-decoration-color: #800080\">             1.0             </span>│\n",
       "└─────────────────────────────┴─────────────────────────────┘\n",
       "</pre>\n"
      ],
      "text/plain": [
       "┏━━━━━━━━━━━━━━━━━━━━━━━━━━━━━┳━━━━━━━━━━━━━━━━━━━━━━━━━━━━━┓\n",
       "┃\u001b[1m \u001b[0m\u001b[1m        Test metric        \u001b[0m\u001b[1m \u001b[0m┃\u001b[1m \u001b[0m\u001b[1m       DataLoader 0        \u001b[0m\u001b[1m \u001b[0m┃\n",
       "┡━━━━━━━━━━━━━━━━━━━━━━━━━━━━━╇━━━━━━━━━━━━━━━━━━━━━━━━━━━━━┩\n",
       "│\u001b[36m \u001b[0m\u001b[36m         test_loss         \u001b[0m\u001b[36m \u001b[0m│\u001b[35m \u001b[0m\u001b[35m   0.002110459841787815    \u001b[0m\u001b[35m \u001b[0m│\n",
       "│\u001b[36m \u001b[0m\u001b[36mtest_per_pos_acc_mean_epoch\u001b[0m\u001b[36m \u001b[0m│\u001b[35m \u001b[0m\u001b[35m            1.0            \u001b[0m\u001b[35m \u001b[0m│\n",
       "│\u001b[36m \u001b[0m\u001b[36m      test_perplexity      \u001b[0m\u001b[36m \u001b[0m│\u001b[35m \u001b[0m\u001b[35m    1.0021127462387085     \u001b[0m\u001b[35m \u001b[0m│\n",
       "│\u001b[36m \u001b[0m\u001b[36m    test_seq_acc_epoch     \u001b[0m\u001b[36m \u001b[0m│\u001b[35m \u001b[0m\u001b[35m            1.0            \u001b[0m\u001b[35m \u001b[0m│\n",
       "└─────────────────────────────┴─────────────────────────────┘\n"
      ]
     },
     "metadata": {},
     "output_type": "display_data"
    },
    {
     "data": {
      "image/png": "[encoded data removed]",
      "text/plain": [
       "<Figure size 640x480 with 1 Axes>"
      ]
     },
     "metadata": {},
     "output_type": "display_data"
    }
   ],
   "source": [
    "def mismatch_seq_print_empty(mismatch, reverse_vocab_map):\n",
    "    for mismatch in lit_model.mismatched_sequences:\n",
    "        input_seq = decode_sequence(mismatch['input'], reverse_vocab_map)\n",
    "        predicted_seq = decode_sequence(mismatch['predicted'], reverse_vocab_map)\n",
    "        target_seq = decode_sequence(mismatch['target'], reverse_vocab_map)\n",
    "        \n",
    "        print(f\"Input: {input_seq}\")\n",
    "        print(f\"Predicted: {predicted_seq}\")\n",
    "        print(f\"Target: {target_seq}\")\n",
    "        \n",
    "# test the model on the test set\n",
    "lit_model.mismatched_sequences.clear()\n",
    "\n",
    "trainer.test(model=lit_model, dataloaders=test_dl_empty_ctx)\n",
    "plt.show()\n",
    "mismatch_seq_print_empty(lit_model.mismatched_sequences, reverse_vocab_map)"
   ]
  },
  {
   "cell_type": "markdown",
   "metadata": {},
   "source": [
    "## Test on irrelevant counterfactual context (only first name changed in context)"
   ]
  },
  {
   "cell_type": "code",
   "execution_count": null,
   "metadata": {},
   "outputs": [],
   "source": [
    "def mismatch_seq_print_irrelevant_first_name(mismatch, reverse_vocab_map):\n",
    "    \n",
    "    for mismatch in lit_model.mismatched_sequences[:5]:\n",
    "        input_seq = decode_sequence(mismatch['input'], reverse_vocab_map)\n",
    "        predicted_seq = decode_sequence(mismatch['predicted'], reverse_vocab_map)\n",
    "        target_seq = decode_sequence(mismatch['target'], reverse_vocab_map)\n",
    "        first_name_ctx = input_seq.split(' ')[0]\n",
    "        last_name_ctx = input_seq.split(\" [sep] \")[0].split(' ')[-1]\n",
    "        first_name_pred = predicted_seq.split(' [sep] ')[1].split(' ')[0]\n",
    "        # find last name of first name in training data\n",
    "        # Capitalize the first character of the first name\n",
    "        trained_last_name = last_names[first_names.index(first_name_ctx.capitalize())]\n",
    "        context_last_to_first_name = first_names[last_names.index(last_name_ctx.upper())]\n",
    "        first_name_pred_last_name = last_names[first_names.index(first_name_pred.capitalize())]\n",
    "        print(f\"Input: {input_seq}\")\n",
    "        print(f\"Predicted: {predicted_seq}\")\n",
    "        print(f\"Target: {target_seq}\")\n",
    "        print(\"Pretrained Knowledge:\")\n",
    "        print(f\"{first_name_ctx} has last name {trained_last_name.lower()}\")\n",
    "        print(f\"{last_name_ctx} has first name {context_last_to_first_name.lower()}\")\n",
    "        print(f\"{first_name_pred} has last name {first_name_pred_last_name.lower()} \\n\")"
   ]
  },
  {
   "cell_type": "code",
   "execution_count": 469,
   "metadata": {},
   "outputs": [
    {
     "name": "stderr",
     "output_type": "stream",
     "text": [
      "100%|██████████| 200/200 [00:00<00:00, 839700.50it/s]\n"
     ]
    },
    {
     "name": "stdout",
     "output_type": "stream",
     "text": [
      "['Althea has last name SILSBEE [SEP] Aaren has last name SILSBEE', 'Adella has last name WEMARK [SEP] Aarika has last name WEMARK', 'Aida has last name HUBL [SEP] Abagael has last name HUBL', 'Alanna has last name KRAM [SEP] Abagail has last name KRAM', 'Allyce has last name HOFFPAVIR [SEP] Abbe has last name HOFFPAVIR']\n"
     ]
    },
    {
     "name": "stderr",
     "output_type": "stream",
     "text": [
      "100%|██████████| 200/200 [00:00<00:00, 94572.81it/s]\n"
     ]
    },
    {
     "data": {
      "application/vnd.jupyter.widget-view+json": {
       "model_id": "7bc9be05d02e44499f67bb8b1c9c0d14",
       "version_major": 2,
       "version_minor": 0
      },
      "text/plain": [
       "Testing: |          | 0/? [00:00<?, ?it/s]"
      ]
     },
     "metadata": {},
     "output_type": "display_data"
    },
    {
     "data": {
      "text/html": [
       "<pre style=\"white-space:pre;overflow-x:auto;line-height:normal;font-family:Menlo,'DejaVu Sans Mono',consolas,'Courier New',monospace\">┏━━━━━━━━━━━━━━━━━━━━━━━━━━━━━┳━━━━━━━━━━━━━━━━━━━━━━━━━━━━━┓\n",
       "┃<span style=\"font-weight: bold\">         Test metric         </span>┃<span style=\"font-weight: bold\">        DataLoader 0         </span>┃\n",
       "┡━━━━━━━━━━━━━━━━━━━━━━━━━━━━━╇━━━━━━━━━━━━━━━━━━━━━━━━━━━━━┩\n",
       "│<span style=\"color: #008080; text-decoration-color: #008080\">          test_loss          </span>│<span style=\"color: #800080; text-decoration-color: #800080\">      2.821565866470337      </span>│\n",
       "│<span style=\"color: #008080; text-decoration-color: #008080\"> test_per_pos_acc_mean_epoch </span>│<span style=\"color: #800080; text-decoration-color: #800080\">     0.7780000567436218      </span>│\n",
       "│<span style=\"color: #008080; text-decoration-color: #008080\">       test_perplexity       </span>│<span style=\"color: #800080; text-decoration-color: #800080\">     16.803136825561523      </span>│\n",
       "│<span style=\"color: #008080; text-decoration-color: #008080\">     test_seq_acc_epoch      </span>│<span style=\"color: #800080; text-decoration-color: #800080\">    0.009999999776482582     </span>│\n",
       "└─────────────────────────────┴─────────────────────────────┘\n",
       "</pre>\n"
      ],
      "text/plain": [
       "┏━━━━━━━━━━━━━━━━━━━━━━━━━━━━━┳━━━━━━━━━━━━━━━━━━━━━━━━━━━━━┓\n",
       "┃\u001b[1m \u001b[0m\u001b[1m        Test metric        \u001b[0m\u001b[1m \u001b[0m┃\u001b[1m \u001b[0m\u001b[1m       DataLoader 0        \u001b[0m\u001b[1m \u001b[0m┃\n",
       "┡━━━━━━━━━━━━━━━━━━━━━━━━━━━━━╇━━━━━━━━━━━━━━━━━━━━━━━━━━━━━┩\n",
       "│\u001b[36m \u001b[0m\u001b[36m         test_loss         \u001b[0m\u001b[36m \u001b[0m│\u001b[35m \u001b[0m\u001b[35m     2.821565866470337     \u001b[0m\u001b[35m \u001b[0m│\n",
       "│\u001b[36m \u001b[0m\u001b[36mtest_per_pos_acc_mean_epoch\u001b[0m\u001b[36m \u001b[0m│\u001b[35m \u001b[0m\u001b[35m    0.7780000567436218     \u001b[0m\u001b[35m \u001b[0m│\n",
       "│\u001b[36m \u001b[0m\u001b[36m      test_perplexity      \u001b[0m\u001b[36m \u001b[0m│\u001b[35m \u001b[0m\u001b[35m    16.803136825561523     \u001b[0m\u001b[35m \u001b[0m│\n",
       "│\u001b[36m \u001b[0m\u001b[36m    test_seq_acc_epoch     \u001b[0m\u001b[36m \u001b[0m│\u001b[35m \u001b[0m\u001b[35m   0.009999999776482582    \u001b[0m\u001b[35m \u001b[0m│\n",
       "└─────────────────────────────┴─────────────────────────────┘\n"
      ]
     },
     "metadata": {},
     "output_type": "display_data"
    },
    {
     "data": {
      "image/png": "[encoded data removed]",
      "text/plain": [
       "<Figure size 640x480 with 1 Axes>"
      ]
     },
     "metadata": {},
     "output_type": "display_data"
    },
    {
     "name": "stdout",
     "output_type": "stream",
     "text": [
      "Input: althea has last name silsbee [sep] aaren has last name\n",
      "Predicted: has last name stollings [sep] aleta has last name stollings\n",
      "Target: has last name silsbee [sep] aaren has last name silsbee\n",
      "Pretrained Knowledge:\n",
      "althea has last name stollings\n",
      "aaren has last name silsbee \n",
      "\n",
      "Input: adella has last name wemark [sep] aarika has last name\n",
      "Predicted: has last name formella [sep] aarika has last name formella\n",
      "Target: has last name wemark [sep] aarika has last name wemark\n",
      "Pretrained Knowledge:\n",
      "adella has last name formella\n",
      "aarika has last name wemark \n",
      "\n",
      "Input: aida has last name hubl [sep] abagael has last name\n",
      "Predicted: has last name delorey [sep] abagael has last name delorey\n",
      "Target: has last name hubl [sep] abagael has last name hubl\n",
      "Pretrained Knowledge:\n",
      "aida has last name delorey\n",
      "abagael has last name hubl \n",
      "\n",
      "Input: alanna has last name kram [sep] abagail has last name\n",
      "Predicted: has last name kwasny [sep] abagail has last name kwasny\n",
      "Target: has last name kram [sep] abagail has last name kram\n",
      "Pretrained Knowledge:\n",
      "alanna has last name kwasny\n",
      "abagail has last name kram \n",
      "\n",
      "Input: allyce has last name hoffpavir [sep] abbe has last name\n",
      "Predicted: has last name youkanaa [sep] abbe has last name youkanaa\n",
      "Target: has last name hoffpavir [sep] abbe has last name hoffpavir\n",
      "Pretrained Knowledge:\n",
      "allyce has last name youkanaa\n",
      "abbe has last name hoffpavir \n",
      "\n"
     ]
    }
   ],
   "source": [
    "test_data_counterfactual_irrelevant_first_name_change = [f'{first_names[np.random.randint(len(first_names))]} {\" \".join(sentence.split(\" \")[1:])}' for sentence in data]\n",
    "test_data_counterfactual_irrelevant_first_name_change = [f'{test_data_counterfactual_irrelevant_first_name_change[i]} [SEP] {data[i]}' for i in range(len(data))]\n",
    "tokenized_data = [sentence.strip().lower().split(' ') for sentence in tqdm(test_data_counterfactual_irrelevant_first_name_change)]\n",
    "print(test_data_counterfactual_irrelevant_first_name_change[:5])\n",
    "integer_ids = [torch.tensor([vocab_map.get(token, vocab_map['[UNK]']) for token in tokens]) for tokens in tqdm(tokenized_data)]\n",
    "integer_ids = torch.tensor(np.array(integer_ids))\n",
    "\n",
    "\n",
    "# create dataset and dataloader\n",
    "x = integer_ids[:, :-1]\n",
    "y = integer_ids[:, 1:]\n",
    "test_data_counterfactual_irrelevant_first_name_change = torch.utils.data.TensorDataset(x, y)\n",
    "test_data_counterfactual_irrelevant_first_name_change = test_data_counterfactual_irrelevant_first_name_change[:100] # NOTE: smaller dataset for testing\n",
    "test_data_counterfactual_irrelevant_first_name_change = torch.utils.data.DataLoader(test_data_counterfactual_irrelevant_first_name_change, batch_size=args.batch_size, shuffle=False)\n",
    "\n",
    "# test on the test set\n",
    "lit_model.mismatched_sequences.clear()\n",
    "trainer.test(model=lit_model, dataloaders=test_data_counterfactual_irrelevant_first_name_change)\n",
    "plt.show()\n",
    "mismatch_seq_print(lit_model.mismatched_sequences, reverse_vocab_map)"
   ]
  },
  {
   "cell_type": "code",
   "execution_count": null,
   "metadata": {},
   "outputs": [],
   "source": []
  }
 ],
 "metadata": {
  "kernelspec": {
   "display_name": "abstract_transformer",
   "language": "python",
   "name": "python3"
  },
  "language_info": {
   "codemirror_mode": {
    "name": "ipython",
    "version": 3
   },
   "file_extension": ".py",
   "mimetype": "text/x-python",
   "name": "python",
   "nbconvert_exporter": "python",
   "pygments_lexer": "ipython3",
   "version": "3.11.7"
  }
 },
 "nbformat": 4,
 "nbformat_minor": 2
}
